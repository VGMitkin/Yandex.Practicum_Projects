{
 "cells": [
  {
   "cell_type": "markdown",
   "metadata": {},
   "source": [
    "# Защита персональных данных клиентов"
   ]
  },
  {
   "cell_type": "markdown",
   "metadata": {},
   "source": [
    "Нужно защитить данные клиентов страховой компании «Хоть потоп». Разработаем такой метод преобразования данных, чтобы по ним было сложно восстановить персональную информацию и обоснуем корректность его работы.\n",
    "\n",
    "Нужно защитить данные, чтобы при преобразовании качество моделей машинного обучения не ухудшилось. Подбирать наилучшую модель не требуется.\n",
    "\n",
    "**Описание данных**\n",
    "\n",
    "Набор данных находится в файле **/datasets/insurance.csv.**\n",
    "\n",
    "**Признаки:** пол, возраст и зарплата застрахованного, количество членов его семьи.\n",
    "\n",
    "**Целевой признак:** количество страховых выплат клиенту за последние 5 лет.\n",
    "\n"
   ]
  },
  {
   "cell_type": "markdown",
   "metadata": {},
   "source": [
    "## Загрузка данных"
   ]
  },
  {
   "cell_type": "markdown",
   "metadata": {},
   "source": [
    "Для начала, подготовим необходимые нам далее инструменты"
   ]
  },
  {
   "cell_type": "code",
   "execution_count": 1,
   "metadata": {},
   "outputs": [],
   "source": [
    "import pandas as pd\n",
    "import numpy as np\n",
    "import matplotlib.pyplot as plt\n",
    "import seaborn as sns\n",
    "from sklearn.metrics import r2_score\n",
    "from sklearn.linear_model import LinearRegression"
   ]
  },
  {
   "cell_type": "markdown",
   "metadata": {},
   "source": [
    "Взглянем на имеющиеся данные"
   ]
  },
  {
   "cell_type": "code",
   "execution_count": 2,
   "metadata": {},
   "outputs": [
    {
     "data": {
      "text/html": [
       "<div>\n",
       "<style scoped>\n",
       "    .dataframe tbody tr th:only-of-type {\n",
       "        vertical-align: middle;\n",
       "    }\n",
       "\n",
       "    .dataframe tbody tr th {\n",
       "        vertical-align: top;\n",
       "    }\n",
       "\n",
       "    .dataframe thead th {\n",
       "        text-align: right;\n",
       "    }\n",
       "</style>\n",
       "<table border=\"1\" class=\"dataframe\">\n",
       "  <thead>\n",
       "    <tr style=\"text-align: right;\">\n",
       "      <th></th>\n",
       "      <th>Пол</th>\n",
       "      <th>Возраст</th>\n",
       "      <th>Зарплата</th>\n",
       "      <th>Члены семьи</th>\n",
       "      <th>Страховые выплаты</th>\n",
       "    </tr>\n",
       "  </thead>\n",
       "  <tbody>\n",
       "    <tr>\n",
       "      <td>714</td>\n",
       "      <td>1</td>\n",
       "      <td>22.0</td>\n",
       "      <td>46400.0</td>\n",
       "      <td>1</td>\n",
       "      <td>0</td>\n",
       "    </tr>\n",
       "    <tr>\n",
       "      <td>3752</td>\n",
       "      <td>1</td>\n",
       "      <td>21.0</td>\n",
       "      <td>15100.0</td>\n",
       "      <td>1</td>\n",
       "      <td>0</td>\n",
       "    </tr>\n",
       "    <tr>\n",
       "      <td>4802</td>\n",
       "      <td>1</td>\n",
       "      <td>27.0</td>\n",
       "      <td>48400.0</td>\n",
       "      <td>1</td>\n",
       "      <td>0</td>\n",
       "    </tr>\n",
       "    <tr>\n",
       "      <td>3490</td>\n",
       "      <td>0</td>\n",
       "      <td>35.0</td>\n",
       "      <td>34400.0</td>\n",
       "      <td>1</td>\n",
       "      <td>0</td>\n",
       "    </tr>\n",
       "    <tr>\n",
       "      <td>942</td>\n",
       "      <td>0</td>\n",
       "      <td>35.0</td>\n",
       "      <td>26500.0</td>\n",
       "      <td>0</td>\n",
       "      <td>0</td>\n",
       "    </tr>\n",
       "    <tr>\n",
       "      <td>3284</td>\n",
       "      <td>0</td>\n",
       "      <td>18.0</td>\n",
       "      <td>29000.0</td>\n",
       "      <td>0</td>\n",
       "      <td>0</td>\n",
       "    </tr>\n",
       "    <tr>\n",
       "      <td>2619</td>\n",
       "      <td>0</td>\n",
       "      <td>32.0</td>\n",
       "      <td>39300.0</td>\n",
       "      <td>1</td>\n",
       "      <td>0</td>\n",
       "    </tr>\n",
       "    <tr>\n",
       "      <td>2838</td>\n",
       "      <td>0</td>\n",
       "      <td>27.0</td>\n",
       "      <td>18600.0</td>\n",
       "      <td>0</td>\n",
       "      <td>0</td>\n",
       "    </tr>\n",
       "    <tr>\n",
       "      <td>708</td>\n",
       "      <td>0</td>\n",
       "      <td>35.0</td>\n",
       "      <td>28500.0</td>\n",
       "      <td>0</td>\n",
       "      <td>0</td>\n",
       "    </tr>\n",
       "    <tr>\n",
       "      <td>1055</td>\n",
       "      <td>1</td>\n",
       "      <td>30.0</td>\n",
       "      <td>37300.0</td>\n",
       "      <td>2</td>\n",
       "      <td>0</td>\n",
       "    </tr>\n",
       "  </tbody>\n",
       "</table>\n",
       "</div>"
      ],
      "text/plain": [
       "      Пол  Возраст  Зарплата  Члены семьи  Страховые выплаты\n",
       "714     1     22.0   46400.0            1                  0\n",
       "3752    1     21.0   15100.0            1                  0\n",
       "4802    1     27.0   48400.0            1                  0\n",
       "3490    0     35.0   34400.0            1                  0\n",
       "942     0     35.0   26500.0            0                  0\n",
       "3284    0     18.0   29000.0            0                  0\n",
       "2619    0     32.0   39300.0            1                  0\n",
       "2838    0     27.0   18600.0            0                  0\n",
       "708     0     35.0   28500.0            0                  0\n",
       "1055    1     30.0   37300.0            2                  0"
      ]
     },
     "execution_count": 2,
     "metadata": {},
     "output_type": "execute_result"
    }
   ],
   "source": [
    "df = pd.read_csv('/datasets/insurance.csv')\n",
    "df.sample(10)"
   ]
  },
  {
   "cell_type": "markdown",
   "metadata": {},
   "source": [
    "Проверим на наличие дубликатов"
   ]
  },
  {
   "cell_type": "code",
   "execution_count": 3,
   "metadata": {},
   "outputs": [
    {
     "data": {
      "text/plain": [
       "153"
      ]
     },
     "execution_count": 3,
     "metadata": {},
     "output_type": "execute_result"
    }
   ],
   "source": [
    "df.duplicated().sum()"
   ]
  },
  {
   "cell_type": "markdown",
   "metadata": {},
   "source": [
    "В таблице присутствует 153 дубликата. Однако, ввиду задачи защитить персональные данные и малого числа признаков, удалять эти дубликаты из набора данных мы не будем"
   ]
  },
  {
   "cell_type": "markdown",
   "metadata": {},
   "source": [
    "Посмотрим, как распределены признаки в нашем наборе. Напомню, что признаки в данной задаче столбцы \"Пол\", \"Возраст\", \"Зарплата\" и \"Члены семьи\". Столбец \"Страховые выплаты\" - целевой признак"
   ]
  },
  {
   "cell_type": "code",
   "execution_count": 4,
   "metadata": {},
   "outputs": [
    {
     "data": {
      "image/png": "[encoded data removed]",
      "text/plain": [
       "<Figure size 864x360 with 1 Axes>"
      ]
     },
     "metadata": {},
     "output_type": "display_data"
    }
   ],
   "source": [
    "sns.set()\n",
    "fig, ax = plt.subplots(figsize=(12, 5))\n",
    "sns.countplot(y='Пол', data=df)\n",
    "ax.set_title('Распределение по полу')\n",
    "plt.xlabel('Количество');"
   ]
  },
  {
   "cell_type": "markdown",
   "metadata": {},
   "source": [
    "Мужчин и женщин примерно одинаковое количество."
   ]
  },
  {
   "cell_type": "code",
   "execution_count": 5,
   "metadata": {},
   "outputs": [
    {
     "data": {
      "image/png": "[encoded data removed]",
      "text/plain": [
       "<Figure size 864x360 with 1 Axes>"
      ]
     },
     "metadata": {},
     "output_type": "display_data"
    }
   ],
   "source": [
    "fig, ax = plt.subplots(figsize=(12, 5))\n",
    "sns.distplot(df['Возраст'], bins=len(df['Возраст'].unique()))\n",
    "ax.set_title('Распределение по возрасту')\n",
    "plt.ylabel('Плотность частоты');"
   ]
  },
  {
   "cell_type": "markdown",
   "metadata": {},
   "source": [
    "Есть выбросы в районе 18ти лет, которые можно объяснить двумя способами: в таблитчных данных застрахованные дети отмечены как 18тилетние, либо молодое поколение серьзнее относится к страховке. В любом случае, дополнительных действий здесь не потребуется"
   ]
  },
  {
   "cell_type": "code",
   "execution_count": 6,
   "metadata": {},
   "outputs": [
    {
     "data": {
      "image/png": "[encoded data removed]",
      "text/plain": [
       "<Figure size 864x360 with 1 Axes>"
      ]
     },
     "metadata": {},
     "output_type": "display_data"
    }
   ],
   "source": [
    "fig, ax = plt.subplots(figsize=(12, 5))\n",
    "sns.distplot(df['Зарплата'])\n",
    "ax.set_title('Распределение по зарплате')\n",
    "plt.ylabel('Плотность частоты');"
   ]
  },
  {
   "cell_type": "markdown",
   "metadata": {},
   "source": [
    "Данные по зарплате распределены нормально"
   ]
  },
  {
   "cell_type": "code",
   "execution_count": 7,
   "metadata": {},
   "outputs": [
    {
     "data": {
      "image/png": "[encoded data removed]",
      "text/plain": [
       "<Figure size 864x360 with 1 Axes>"
      ]
     },
     "metadata": {},
     "output_type": "display_data"
    }
   ],
   "source": [
    "fig, ax = plt.subplots(figsize=(12, 5))\n",
    "sns.countplot(y='Члены семьи', data=df)\n",
    "ax.set_title('Количество членов семьи')\n",
    "plt.xlabel('Количество');"
   ]
  },
  {
   "cell_type": "markdown",
   "metadata": {},
   "source": [
    "Аномалии отсутствуют, полученные данные соответствуют действительности. "
   ]
  },
  {
   "cell_type": "markdown",
   "metadata": {},
   "source": [
    "Проанализировав имеющиеся данные можно сделать вывод, что дополнительной работы и подготовки они не трубеют,а значит можно приступать к следующему этапу."
   ]
  },
  {
   "cell_type": "markdown",
   "metadata": {},
   "source": [
    "## Умножение матриц"
   ]
  },
  {
   "cell_type": "markdown",
   "metadata": {},
   "source": [
    "Опишем, как работает линейная регрессия с помощью формул, которые понадобятся нам для программирования последующего алгоритма."
   ]
  },
  {
   "cell_type": "markdown",
   "metadata": {},
   "source": [
    "Обозначения:\n",
    "\n",
    "- $X$ — матрица признаков (нулевой столбец состоит из единиц)\n",
    "\n",
    "- $y$ — вектор целевого признака\n",
    "\n",
    "- $P$ — матрица, на которую умножаются признаки\n",
    "\n",
    "- $w$ — вектор весов линейной регрессии (нулевой элемент равен сдвигу)"
   ]
  },
  {
   "cell_type": "markdown",
   "metadata": {},
   "source": [
    "Предсказания:\n",
    "\n",
    "$$\n",
    "a = Xw\n",
    "$$\n",
    "\n",
    "Задача обучения:\n",
    "\n",
    "$$\n",
    "w = \\arg\\min_w MSE(Xw, y)\n",
    "$$\n",
    "\n",
    "Формула обучения:\n",
    "\n",
    "$$\n",
    "w = (X^T X)^{-1} X^T y\n",
    "$$"
   ]
  },
  {
   "cell_type": "markdown",
   "metadata": {},
   "source": [
    "Поделим нашу выборку на две: первая будет содержать только признаки, вторая целеволй признак."
   ]
  },
  {
   "cell_type": "code",
   "execution_count": 8,
   "metadata": {},
   "outputs": [],
   "source": [
    "features = df.drop('Страховые выплаты', axis=1).copy()\n",
    "target = df['Страховые выплаты'].copy()"
   ]
  },
  {
   "cell_type": "code",
   "execution_count": 9,
   "metadata": {},
   "outputs": [
    {
     "data": {
      "text/plain": [
       "(5000, 4)"
      ]
     },
     "execution_count": 9,
     "metadata": {},
     "output_type": "execute_result"
    }
   ],
   "source": [
    "features.shape"
   ]
  },
  {
   "cell_type": "code",
   "execution_count": 10,
   "metadata": {},
   "outputs": [
    {
     "data": {
      "text/plain": [
       "(5000,)"
      ]
     },
     "execution_count": 10,
     "metadata": {},
     "output_type": "execute_result"
    }
   ],
   "source": [
    "target.shape"
   ]
  },
  {
   "cell_type": "markdown",
   "metadata": {},
   "source": [
    "Данные разделены верно. Далее, создадим класс линейной регрессии, которая будет предсказывать нам, потребуется ли страховая выплата клиенту. Класс будет состоять из двух методов: первый будет вычислять $w$ и $w0$, а второй возвращать предсказания. "
   ]
  },
  {
   "cell_type": "code",
   "execution_count": 11,
   "metadata": {},
   "outputs": [],
   "source": [
    "class UserLinearRegression:\n",
    "    def fit(self, features, target):\n",
    "        X = np.concatenate((np.ones((features.shape[0], 1)), features), axis=1)\n",
    "        y = target\n",
    "        w = np.linalg.inv((X.T @ X)).dot(X.T).dot(y)\n",
    "        self.w = w[1:]\n",
    "        self.w0 = w[0]\n",
    "        \n",
    "    def predict(self, features):\n",
    "        return (features @ self.w) + self.w0"
   ]
  },
  {
   "cell_type": "markdown",
   "metadata": {},
   "source": [
    "Создадим модель и проверим точность её предсказаний"
   ]
  },
  {
   "cell_type": "code",
   "execution_count": 12,
   "metadata": {},
   "outputs": [
    {
     "name": "stdout",
     "output_type": "stream",
     "text": [
      "R2 построенной модели 0.425\n"
     ]
    }
   ],
   "source": [
    "model = UserLinearRegression()\n",
    "model.fit(features, target)\n",
    "predictions = model.predict(features)\n",
    "print('R2 построенной модели {:.3f}'.format(r2_score(target, predictions)))"
   ]
  },
  {
   "cell_type": "markdown",
   "metadata": {},
   "source": [
    "R2 больше нуля, хоть и не так близок к еденице, а значит наша модель работает нормально"
   ]
  },
  {
   "cell_type": "markdown",
   "metadata": {},
   "source": [
    "Для ответа на вопрос \"Признаки умножают на обратимую матрицу. Изменится ли качество линейной регрессии? (Её можно обучить заново.)\" построим произвольную матрицу размера 4х4(по количеству столбцов features)"
   ]
  },
  {
   "cell_type": "code",
   "execution_count": 13,
   "metadata": {},
   "outputs": [
    {
     "data": {
      "text/plain": [
       "array([[0.81482008, 0.76564721, 0.11350658, 0.56906399],\n",
       "       [0.67961419, 0.32679184, 0.67554585, 0.39452473],\n",
       "       [0.11126881, 0.7292629 , 0.5347645 , 0.87572497],\n",
       "       [0.35772892, 0.62064514, 0.82342196, 0.32524289]])"
      ]
     },
     "execution_count": 13,
     "metadata": {},
     "output_type": "execute_result"
    }
   ],
   "source": [
    "random_matrix = np.random.random((features.shape[1], features.shape[1]))\n",
    "random_matrix"
   ]
  },
  {
   "cell_type": "markdown",
   "metadata": {},
   "source": [
    "Построим обратную матрицу полученной"
   ]
  },
  {
   "cell_type": "code",
   "execution_count": 14,
   "metadata": {},
   "outputs": [
    {
     "data": {
      "text/plain": [
       "array([[ 0.63807392,  1.10068866, -0.71489372, -0.52669408],\n",
       "       [ 1.06588649, -2.24171675, -0.41011667,  1.9585501 ],\n",
       "       [-0.91985225,  0.69762823, -0.00279333,  0.77071445],\n",
       "       [-0.40698266,  1.30093553,  1.57597656, -2.03470734]])"
      ]
     },
     "execution_count": 14,
     "metadata": {},
     "output_type": "execute_result"
    }
   ],
   "source": [
    "inverse_random_matrix=np.linalg.inv(random_matrix)\n",
    "inverse_random_matrix"
   ]
  },
  {
   "cell_type": "markdown",
   "metadata": {},
   "source": [
    "Результатом умножения этих матриц должна быть еденичная матрица"
   ]
  },
  {
   "cell_type": "code",
   "execution_count": 15,
   "metadata": {},
   "outputs": [
    {
     "name": "stdout",
     "output_type": "stream",
     "text": [
      "[[ 1.00000000e+00  8.36716512e-18 -5.07929489e-18  1.10533382e-16]\n",
      " [ 2.23303233e-17  1.00000000e+00 -7.74763018e-17  8.39154096e-17]\n",
      " [-1.81836861e-16 -9.79662966e-17  1.00000000e+00 -2.37301300e-16]\n",
      " [ 1.26336449e-16 -1.47025808e-16 -6.02234839e-17  1.00000000e+00]]\n"
     ]
    }
   ],
   "source": [
    "print(random_matrix @ inverse_random_matrix)"
   ]
  },
  {
   "cell_type": "markdown",
   "metadata": {},
   "source": [
    "По диагонали еденицы, в остальных ячейках числа достаточно малые и стремящиеся к нулю, значит всё верно и полученная матрица обратима. "
   ]
  },
  {
   "cell_type": "markdown",
   "metadata": {},
   "source": [
    "Умножим признаки на обратимую матрицу и заново обучим модель"
   ]
  },
  {
   "cell_type": "code",
   "execution_count": 16,
   "metadata": {},
   "outputs": [
    {
     "name": "stdout",
     "output_type": "stream",
     "text": [
      "R2 построенной модели 0.425\n"
     ]
    }
   ],
   "source": [
    "new_features = features @ random_matrix\n",
    "model.fit(new_features, target)\n",
    "predictions = model.predict(new_features)\n",
    "print('R2 построенной модели {:.3f}'.format(r2_score(target, predictions)))"
   ]
  },
  {
   "cell_type": "markdown",
   "metadata": {},
   "source": [
    "**Ответ:** Качество линейной регрессии не меняется\n",
    "\n",
    "**Обоснование:** \n",
    "\n",
    "Предсказания высчитываются по формуле:\n",
    "\n",
    "$$\n",
    "a = Xw\n",
    "$$\n",
    "\n",
    "Новая матрица признаков получается умножением исходной $Х$ на рандомную $RM$:\n",
    "\n",
    "$$\n",
    "a = X RМ w\n",
    "$$\n",
    "\n",
    "Подставим полученные выражения в приведенную выше формулу обучения:\n",
    "\n",
    "$$\n",
    "w = (X^T X)^{-1} X^T y\n",
    "$$\n",
    "\n",
    "Найдем веса $w'$:\n",
    "\n",
    "$$\n",
    "w' = ((XRM)^T XRM)^{-1} (XRM)^T y\n",
    "$$\n",
    "\n",
    "$$\n",
    "w' = ((RM^T X^T XRM)^{-1} RM^T X^T y\n",
    "$$\n",
    "\n",
    "$(RM^T)^{-1} RM^T$ - это единичная матрица $E$:\n",
    "\n",
    "$$\n",
    "w' =  RM^{-1}(X^T X)^{-1} X^T y\n",
    "$$ \n",
    "\n",
    "Таким образом, получаем выражение для новых весов $w'$ через исходные $w$:\n",
    "$$\n",
    "w' =  RM^{-1} w\n",
    "$$ "
   ]
  },
  {
   "cell_type": "markdown",
   "metadata": {},
   "source": [
    "## Алгоритм преобразования"
   ]
  },
  {
   "cell_type": "markdown",
   "metadata": {},
   "source": [
    "**Алгоритм**\n",
    "\n",
    "\n",
    "Напишем функцию для шифрования личных данных пользователей(преобразования наших признаков с помощью произвольной обратимой матрицы)"
   ]
  },
  {
   "cell_type": "code",
   "execution_count": 18,
   "metadata": {},
   "outputs": [],
   "source": [
    "def feature_encoding(features):\n",
    "    random_matrix = np.random.random((features.shape[1], features.shape[1]))\n",
    "    new_features = features @ random_matrix\n",
    "    return new_features"
   ]
  },
  {
   "cell_type": "code",
   "execution_count": 19,
   "metadata": {},
   "outputs": [
    {
     "name": "stdout",
     "output_type": "stream",
     "text": [
      "                 0             1             2             3\n",
      "0     40521.626122  48705.124737  38146.224903  19293.809376\n",
      "1     31052.740359  37319.551466  29225.159574  14786.990999\n",
      "2     17162.506123  20624.981506  16150.503798   8173.086308\n",
      "3     34060.196822  40943.192608  32070.926465  16214.825302\n",
      "4     21326.430060  25631.266314  20072.733508  10155.511026\n",
      "...            ...           ...           ...           ...\n",
      "4995  29165.155117  35055.799968  27456.649760  13885.984902\n",
      "4996  42803.519493  51451.008100  40299.471695  20378.194791\n",
      "4997  27691.005455  33285.975010  26072.265686  13183.152155\n",
      "4998  26713.099198  32109.413263  25149.964546  12718.771262\n",
      "4999  33165.947421  39865.642866  31224.574700  15790.821574\n",
      "\n",
      "[5000 rows x 4 columns]\n"
     ]
    }
   ],
   "source": [
    "encoded_features = feature_encoding(features)\n",
    "print(encoded_features)"
   ]
  },
  {
   "cell_type": "markdown",
   "metadata": {},
   "source": [
    "Чтобы вернуть прежние значения признаков нам потребуется обратная операция, умножение новых признаков на обратную матрицу."
   ]
  },
  {
   "cell_type": "code",
   "execution_count": 20,
   "metadata": {},
   "outputs": [],
   "source": [
    "def feature_decoding(features):\n",
    "    random_matrix = np.random.random((features.shape[1], features.shape[1]))\n",
    "    new_features = features @ np.linalg.inv(random_matrix)\n",
    "    return new_features"
   ]
  },
  {
   "cell_type": "code",
   "execution_count": 21,
   "metadata": {},
   "outputs": [
    {
     "data": {
      "text/html": [
       "<div>\n",
       "<style scoped>\n",
       "    .dataframe tbody tr th:only-of-type {\n",
       "        vertical-align: middle;\n",
       "    }\n",
       "\n",
       "    .dataframe tbody tr th {\n",
       "        vertical-align: top;\n",
       "    }\n",
       "\n",
       "    .dataframe thead th {\n",
       "        text-align: right;\n",
       "    }\n",
       "</style>\n",
       "<table border=\"1\" class=\"dataframe\">\n",
       "  <thead>\n",
       "    <tr style=\"text-align: right;\">\n",
       "      <th></th>\n",
       "      <th>0</th>\n",
       "      <th>1</th>\n",
       "      <th>2</th>\n",
       "      <th>3</th>\n",
       "    </tr>\n",
       "  </thead>\n",
       "  <tbody>\n",
       "    <tr>\n",
       "      <td>0</td>\n",
       "      <td>744170.146934</td>\n",
       "      <td>30953.063413</td>\n",
       "      <td>120040.994406</td>\n",
       "      <td>-808077.536906</td>\n",
       "    </tr>\n",
       "    <tr>\n",
       "      <td>1</td>\n",
       "      <td>570265.242691</td>\n",
       "      <td>23719.199876</td>\n",
       "      <td>91976.207411</td>\n",
       "      <td>-619233.539652</td>\n",
       "    </tr>\n",
       "    <tr>\n",
       "      <td>2</td>\n",
       "      <td>315178.022536</td>\n",
       "      <td>13109.007976</td>\n",
       "      <td>50830.660566</td>\n",
       "      <td>-342240.800546</td>\n",
       "    </tr>\n",
       "    <tr>\n",
       "      <td>3</td>\n",
       "      <td>625532.113071</td>\n",
       "      <td>26018.710458</td>\n",
       "      <td>100916.497145</td>\n",
       "      <td>-679257.008812</td>\n",
       "    </tr>\n",
       "    <tr>\n",
       "      <td>4</td>\n",
       "      <td>391641.811249</td>\n",
       "      <td>16289.883920</td>\n",
       "      <td>63169.014126</td>\n",
       "      <td>-425272.137962</td>\n",
       "    </tr>\n",
       "    <tr>\n",
       "      <td>...</td>\n",
       "      <td>...</td>\n",
       "      <td>...</td>\n",
       "      <td>...</td>\n",
       "      <td>...</td>\n",
       "    </tr>\n",
       "    <tr>\n",
       "      <td>4995</td>\n",
       "      <td>535615.523711</td>\n",
       "      <td>22278.654142</td>\n",
       "      <td>86401.539602</td>\n",
       "      <td>-581614.122221</td>\n",
       "    </tr>\n",
       "    <tr>\n",
       "      <td>4996</td>\n",
       "      <td>786107.221771</td>\n",
       "      <td>32697.022738</td>\n",
       "      <td>126814.645402</td>\n",
       "      <td>-853620.492665</td>\n",
       "    </tr>\n",
       "    <tr>\n",
       "      <td>4997</td>\n",
       "      <td>508551.825525</td>\n",
       "      <td>21153.086036</td>\n",
       "      <td>82041.707992</td>\n",
       "      <td>-552228.619897</td>\n",
       "    </tr>\n",
       "    <tr>\n",
       "      <td>4998</td>\n",
       "      <td>490564.979166</td>\n",
       "      <td>20405.788252</td>\n",
       "      <td>79137.398055</td>\n",
       "      <td>-532695.090107</td>\n",
       "    </tr>\n",
       "    <tr>\n",
       "      <td>4999</td>\n",
       "      <td>609088.831965</td>\n",
       "      <td>25334.716220</td>\n",
       "      <td>98256.123225</td>\n",
       "      <td>-661397.667006</td>\n",
       "    </tr>\n",
       "  </tbody>\n",
       "</table>\n",
       "<p>5000 rows × 4 columns</p>\n",
       "</div>"
      ],
      "text/plain": [
       "                  0             1              2              3\n",
       "0     744170.146934  30953.063413  120040.994406 -808077.536906\n",
       "1     570265.242691  23719.199876   91976.207411 -619233.539652\n",
       "2     315178.022536  13109.007976   50830.660566 -342240.800546\n",
       "3     625532.113071  26018.710458  100916.497145 -679257.008812\n",
       "4     391641.811249  16289.883920   63169.014126 -425272.137962\n",
       "...             ...           ...            ...            ...\n",
       "4995  535615.523711  22278.654142   86401.539602 -581614.122221\n",
       "4996  786107.221771  32697.022738  126814.645402 -853620.492665\n",
       "4997  508551.825525  21153.086036   82041.707992 -552228.619897\n",
       "4998  490564.979166  20405.788252   79137.398055 -532695.090107\n",
       "4999  609088.831965  25334.716220   98256.123225 -661397.667006\n",
       "\n",
       "[5000 rows x 4 columns]"
      ]
     },
     "execution_count": 21,
     "metadata": {},
     "output_type": "execute_result"
    }
   ],
   "source": [
    "feature_decoding(encoded_features)"
   ]
  },
  {
   "cell_type": "markdown",
   "metadata": {},
   "source": [
    "Данные не совпали с начальной таблицей признаков. Это произошло потому, что в каждой функции мы генерируем разные матрицы. Чтобы избежать этой проблемы обернем весь процесс в класс, который будет создавать общую для обеих функций матрицу-ключ"
   ]
  },
  {
   "cell_type": "code",
   "execution_count": 22,
   "metadata": {},
   "outputs": [],
   "source": [
    "class crypting:\n",
    "    def __init__(self, features):\n",
    "        self.key = np.random.random((features.shape[1], features.shape[1]))\n",
    "        self.features = features\n",
    "    \n",
    "    def feature_encoding(self):\n",
    "        features = self.features\n",
    "        new_features = features @ self.key\n",
    "        return new_features\n",
    "\n",
    "    def feature_decoding(self):\n",
    "        old_features = round(abs(self.feature_encoding() @ np.linalg.inv(self.key))).astype(int)\n",
    "        old_features.columns=self.features.columns\n",
    "        return old_features"
   ]
  },
  {
   "cell_type": "code",
   "execution_count": 23,
   "metadata": {},
   "outputs": [],
   "source": [
    "cr = crypting(features)"
   ]
  },
  {
   "cell_type": "code",
   "execution_count": 24,
   "metadata": {},
   "outputs": [
    {
     "data": {
      "text/html": [
       "<div>\n",
       "<style scoped>\n",
       "    .dataframe tbody tr th:only-of-type {\n",
       "        vertical-align: middle;\n",
       "    }\n",
       "\n",
       "    .dataframe tbody tr th {\n",
       "        vertical-align: top;\n",
       "    }\n",
       "\n",
       "    .dataframe thead th {\n",
       "        text-align: right;\n",
       "    }\n",
       "</style>\n",
       "<table border=\"1\" class=\"dataframe\">\n",
       "  <thead>\n",
       "    <tr style=\"text-align: right;\">\n",
       "      <th></th>\n",
       "      <th>0</th>\n",
       "      <th>1</th>\n",
       "      <th>2</th>\n",
       "      <th>3</th>\n",
       "    </tr>\n",
       "  </thead>\n",
       "  <tbody>\n",
       "    <tr>\n",
       "      <td>0</td>\n",
       "      <td>8347.731800</td>\n",
       "      <td>19307.498733</td>\n",
       "      <td>20604.262755</td>\n",
       "      <td>43800.386259</td>\n",
       "    </tr>\n",
       "    <tr>\n",
       "      <td>1</td>\n",
       "      <td>6409.172474</td>\n",
       "      <td>14793.371276</td>\n",
       "      <td>15789.976262</td>\n",
       "      <td>33565.696296</td>\n",
       "    </tr>\n",
       "    <tr>\n",
       "      <td>2</td>\n",
       "      <td>3544.976063</td>\n",
       "      <td>8175.722959</td>\n",
       "      <td>8726.624448</td>\n",
       "      <td>18551.540004</td>\n",
       "    </tr>\n",
       "    <tr>\n",
       "      <td>3</td>\n",
       "      <td>7006.016903</td>\n",
       "      <td>16229.724699</td>\n",
       "      <td>17319.266845</td>\n",
       "      <td>36815.097437</td>\n",
       "    </tr>\n",
       "    <tr>\n",
       "      <td>4</td>\n",
       "      <td>4398.470355</td>\n",
       "      <td>10161.101735</td>\n",
       "      <td>10843.765647</td>\n",
       "      <td>23052.567725</td>\n",
       "    </tr>\n",
       "    <tr>\n",
       "      <td>...</td>\n",
       "      <td>...</td>\n",
       "      <td>...</td>\n",
       "      <td>...</td>\n",
       "      <td>...</td>\n",
       "    </tr>\n",
       "    <tr>\n",
       "      <td>4995</td>\n",
       "      <td>6007.525560</td>\n",
       "      <td>13895.962193</td>\n",
       "      <td>14830.601840</td>\n",
       "      <td>31524.648007</td>\n",
       "    </tr>\n",
       "    <tr>\n",
       "      <td>4996</td>\n",
       "      <td>8810.060678</td>\n",
       "      <td>20395.079049</td>\n",
       "      <td>21764.234429</td>\n",
       "      <td>46265.912155</td>\n",
       "    </tr>\n",
       "    <tr>\n",
       "      <td>4997</td>\n",
       "      <td>5698.490507</td>\n",
       "      <td>13194.407323</td>\n",
       "      <td>14080.925722</td>\n",
       "      <td>29930.911931</td>\n",
       "    </tr>\n",
       "    <tr>\n",
       "      <td>4998</td>\n",
       "      <td>5500.020054</td>\n",
       "      <td>12728.841608</td>\n",
       "      <td>13584.557882</td>\n",
       "      <td>28874.600359</td>\n",
       "    </tr>\n",
       "    <tr>\n",
       "      <td>4999</td>\n",
       "      <td>6827.919561</td>\n",
       "      <td>15803.536779</td>\n",
       "      <td>16864.106783</td>\n",
       "      <td>35849.352778</td>\n",
       "    </tr>\n",
       "  </tbody>\n",
       "</table>\n",
       "<p>5000 rows × 4 columns</p>\n",
       "</div>"
      ],
      "text/plain": [
       "                0             1             2             3\n",
       "0     8347.731800  19307.498733  20604.262755  43800.386259\n",
       "1     6409.172474  14793.371276  15789.976262  33565.696296\n",
       "2     3544.976063   8175.722959   8726.624448  18551.540004\n",
       "3     7006.016903  16229.724699  17319.266845  36815.097437\n",
       "4     4398.470355  10161.101735  10843.765647  23052.567725\n",
       "...           ...           ...           ...           ...\n",
       "4995  6007.525560  13895.962193  14830.601840  31524.648007\n",
       "4996  8810.060678  20395.079049  21764.234429  46265.912155\n",
       "4997  5698.490507  13194.407323  14080.925722  29930.911931\n",
       "4998  5500.020054  12728.841608  13584.557882  28874.600359\n",
       "4999  6827.919561  15803.536779  16864.106783  35849.352778\n",
       "\n",
       "[5000 rows x 4 columns]"
      ]
     },
     "execution_count": 24,
     "metadata": {},
     "output_type": "execute_result"
    }
   ],
   "source": [
    "new_features = cr.feature_encoding()\n",
    "new_features"
   ]
  },
  {
   "cell_type": "code",
   "execution_count": 25,
   "metadata": {},
   "outputs": [
    {
     "data": {
      "text/html": [
       "<div>\n",
       "<style scoped>\n",
       "    .dataframe tbody tr th:only-of-type {\n",
       "        vertical-align: middle;\n",
       "    }\n",
       "\n",
       "    .dataframe tbody tr th {\n",
       "        vertical-align: top;\n",
       "    }\n",
       "\n",
       "    .dataframe thead th {\n",
       "        text-align: right;\n",
       "    }\n",
       "</style>\n",
       "<table border=\"1\" class=\"dataframe\">\n",
       "  <thead>\n",
       "    <tr style=\"text-align: right;\">\n",
       "      <th></th>\n",
       "      <th>Пол</th>\n",
       "      <th>Возраст</th>\n",
       "      <th>Зарплата</th>\n",
       "      <th>Члены семьи</th>\n",
       "    </tr>\n",
       "  </thead>\n",
       "  <tbody>\n",
       "    <tr>\n",
       "      <td>0</td>\n",
       "      <td>1</td>\n",
       "      <td>41</td>\n",
       "      <td>49600</td>\n",
       "      <td>1</td>\n",
       "    </tr>\n",
       "    <tr>\n",
       "      <td>1</td>\n",
       "      <td>0</td>\n",
       "      <td>46</td>\n",
       "      <td>38000</td>\n",
       "      <td>1</td>\n",
       "    </tr>\n",
       "    <tr>\n",
       "      <td>2</td>\n",
       "      <td>0</td>\n",
       "      <td>29</td>\n",
       "      <td>21000</td>\n",
       "      <td>0</td>\n",
       "    </tr>\n",
       "    <tr>\n",
       "      <td>3</td>\n",
       "      <td>0</td>\n",
       "      <td>21</td>\n",
       "      <td>41700</td>\n",
       "      <td>2</td>\n",
       "    </tr>\n",
       "    <tr>\n",
       "      <td>4</td>\n",
       "      <td>1</td>\n",
       "      <td>28</td>\n",
       "      <td>26100</td>\n",
       "      <td>0</td>\n",
       "    </tr>\n",
       "    <tr>\n",
       "      <td>...</td>\n",
       "      <td>...</td>\n",
       "      <td>...</td>\n",
       "      <td>...</td>\n",
       "      <td>...</td>\n",
       "    </tr>\n",
       "    <tr>\n",
       "      <td>4995</td>\n",
       "      <td>0</td>\n",
       "      <td>28</td>\n",
       "      <td>35700</td>\n",
       "      <td>2</td>\n",
       "    </tr>\n",
       "    <tr>\n",
       "      <td>4996</td>\n",
       "      <td>0</td>\n",
       "      <td>34</td>\n",
       "      <td>52400</td>\n",
       "      <td>1</td>\n",
       "    </tr>\n",
       "    <tr>\n",
       "      <td>4997</td>\n",
       "      <td>0</td>\n",
       "      <td>20</td>\n",
       "      <td>33900</td>\n",
       "      <td>2</td>\n",
       "    </tr>\n",
       "    <tr>\n",
       "      <td>4998</td>\n",
       "      <td>1</td>\n",
       "      <td>22</td>\n",
       "      <td>32700</td>\n",
       "      <td>3</td>\n",
       "    </tr>\n",
       "    <tr>\n",
       "      <td>4999</td>\n",
       "      <td>1</td>\n",
       "      <td>28</td>\n",
       "      <td>40600</td>\n",
       "      <td>1</td>\n",
       "    </tr>\n",
       "  </tbody>\n",
       "</table>\n",
       "<p>5000 rows × 4 columns</p>\n",
       "</div>"
      ],
      "text/plain": [
       "      Пол  Возраст  Зарплата  Члены семьи\n",
       "0       1       41     49600            1\n",
       "1       0       46     38000            1\n",
       "2       0       29     21000            0\n",
       "3       0       21     41700            2\n",
       "4       1       28     26100            0\n",
       "...   ...      ...       ...          ...\n",
       "4995    0       28     35700            2\n",
       "4996    0       34     52400            1\n",
       "4997    0       20     33900            2\n",
       "4998    1       22     32700            3\n",
       "4999    1       28     40600            1\n",
       "\n",
       "[5000 rows x 4 columns]"
      ]
     },
     "execution_count": 25,
     "metadata": {},
     "output_type": "execute_result"
    }
   ],
   "source": [
    "cr.feature_decoding()"
   ]
  },
  {
   "cell_type": "code",
   "execution_count": 26,
   "metadata": {},
   "outputs": [
    {
     "data": {
      "text/html": [
       "<div>\n",
       "<style scoped>\n",
       "    .dataframe tbody tr th:only-of-type {\n",
       "        vertical-align: middle;\n",
       "    }\n",
       "\n",
       "    .dataframe tbody tr th {\n",
       "        vertical-align: top;\n",
       "    }\n",
       "\n",
       "    .dataframe thead th {\n",
       "        text-align: right;\n",
       "    }\n",
       "</style>\n",
       "<table border=\"1\" class=\"dataframe\">\n",
       "  <thead>\n",
       "    <tr style=\"text-align: right;\">\n",
       "      <th></th>\n",
       "      <th>Пол</th>\n",
       "      <th>Возраст</th>\n",
       "      <th>Зарплата</th>\n",
       "      <th>Члены семьи</th>\n",
       "    </tr>\n",
       "  </thead>\n",
       "  <tbody>\n",
       "    <tr>\n",
       "      <td>0</td>\n",
       "      <td>1</td>\n",
       "      <td>41.0</td>\n",
       "      <td>49600.0</td>\n",
       "      <td>1</td>\n",
       "    </tr>\n",
       "    <tr>\n",
       "      <td>1</td>\n",
       "      <td>0</td>\n",
       "      <td>46.0</td>\n",
       "      <td>38000.0</td>\n",
       "      <td>1</td>\n",
       "    </tr>\n",
       "    <tr>\n",
       "      <td>2</td>\n",
       "      <td>0</td>\n",
       "      <td>29.0</td>\n",
       "      <td>21000.0</td>\n",
       "      <td>0</td>\n",
       "    </tr>\n",
       "    <tr>\n",
       "      <td>3</td>\n",
       "      <td>0</td>\n",
       "      <td>21.0</td>\n",
       "      <td>41700.0</td>\n",
       "      <td>2</td>\n",
       "    </tr>\n",
       "    <tr>\n",
       "      <td>4</td>\n",
       "      <td>1</td>\n",
       "      <td>28.0</td>\n",
       "      <td>26100.0</td>\n",
       "      <td>0</td>\n",
       "    </tr>\n",
       "    <tr>\n",
       "      <td>...</td>\n",
       "      <td>...</td>\n",
       "      <td>...</td>\n",
       "      <td>...</td>\n",
       "      <td>...</td>\n",
       "    </tr>\n",
       "    <tr>\n",
       "      <td>4995</td>\n",
       "      <td>0</td>\n",
       "      <td>28.0</td>\n",
       "      <td>35700.0</td>\n",
       "      <td>2</td>\n",
       "    </tr>\n",
       "    <tr>\n",
       "      <td>4996</td>\n",
       "      <td>0</td>\n",
       "      <td>34.0</td>\n",
       "      <td>52400.0</td>\n",
       "      <td>1</td>\n",
       "    </tr>\n",
       "    <tr>\n",
       "      <td>4997</td>\n",
       "      <td>0</td>\n",
       "      <td>20.0</td>\n",
       "      <td>33900.0</td>\n",
       "      <td>2</td>\n",
       "    </tr>\n",
       "    <tr>\n",
       "      <td>4998</td>\n",
       "      <td>1</td>\n",
       "      <td>22.0</td>\n",
       "      <td>32700.0</td>\n",
       "      <td>3</td>\n",
       "    </tr>\n",
       "    <tr>\n",
       "      <td>4999</td>\n",
       "      <td>1</td>\n",
       "      <td>28.0</td>\n",
       "      <td>40600.0</td>\n",
       "      <td>1</td>\n",
       "    </tr>\n",
       "  </tbody>\n",
       "</table>\n",
       "<p>5000 rows × 4 columns</p>\n",
       "</div>"
      ],
      "text/plain": [
       "      Пол  Возраст  Зарплата  Члены семьи\n",
       "0       1     41.0   49600.0            1\n",
       "1       0     46.0   38000.0            1\n",
       "2       0     29.0   21000.0            0\n",
       "3       0     21.0   41700.0            2\n",
       "4       1     28.0   26100.0            0\n",
       "...   ...      ...       ...          ...\n",
       "4995    0     28.0   35700.0            2\n",
       "4996    0     34.0   52400.0            1\n",
       "4997    0     20.0   33900.0            2\n",
       "4998    1     22.0   32700.0            3\n",
       "4999    1     28.0   40600.0            1\n",
       "\n",
       "[5000 rows x 4 columns]"
      ]
     },
     "execution_count": 26,
     "metadata": {},
     "output_type": "execute_result"
    }
   ],
   "source": [
    "features"
   ]
  },
  {
   "cell_type": "markdown",
   "metadata": {},
   "source": [
    "Данные послу расшифровки совпадают, значит метод работает как надо и мсожет быть применен для шифрования данных пользователей"
   ]
  },
  {
   "cell_type": "markdown",
   "metadata": {},
   "source": [
    "**Обоснование**\n",
    "\n",
    "\n",
    "Докажем, что качество линейной регрессии не поменяется.\n",
    "Предсказания высчитываются по формуле:\n",
    "\n",
    "$$\n",
    "a = Xw\n",
    "$$\n",
    "\n",
    "Т.к. новая матрица признаков получается умножением исходной $Х$ на рандомную(обозначим $RМ$), то формула будет иметь вид:\n",
    "\n",
    "$$\n",
    "a' = X RМ w'\n",
    "$$\n",
    "\n",
    "Подставив вычисленное значение весов $w' =  RM^{-1} w$ получаем:\n",
    "\n",
    "$$\n",
    "a' = X RМ  RM^{-1} w\n",
    "$$\n",
    "\n",
    "$RМ RM^{-1}$ это еденичная матрица $E$, т.е. можно сократить:\n",
    "\n",
    "$$\n",
    "a' = X w = a\n",
    "$$\n",
    "\n"
   ]
  },
  {
   "cell_type": "markdown",
   "metadata": {},
   "source": [
    "**Вывод:**\n",
    "\n",
    "Полученный нами алгоритм прекрасно справляется с поставленной задачей. Кроме того, нам удалось доказать, что качество линейной регрессии после кодировки данных не изменяется, что позволяет нам использовать такое решение для защиты данных клиентов без потери качества на работающей модели."
   ]
  },
  {
   "cell_type": "markdown",
   "metadata": {},
   "source": [
    "## Проверка алгоритма"
   ]
  },
  {
   "cell_type": "markdown",
   "metadata": {},
   "source": [
    "Проверим наш алгоритм, сравнив результаты библиотечной линейной регрессии до его применения и после"
   ]
  },
  {
   "cell_type": "code",
   "execution_count": 27,
   "metadata": {},
   "outputs": [
    {
     "name": "stdout",
     "output_type": "stream",
     "text": [
      "R2 построенной модели 0.425\n"
     ]
    }
   ],
   "source": [
    "model = LinearRegression()\n",
    "model.fit(features, target)\n",
    "predictions = model.predict(features)\n",
    "print('R2 построенной модели {:.3f}'.format(r2_score(target, predictions)))"
   ]
  },
  {
   "cell_type": "code",
   "execution_count": 28,
   "metadata": {},
   "outputs": [
    {
     "name": "stdout",
     "output_type": "stream",
     "text": [
      "R2 построенной модели 0.425\n"
     ]
    }
   ],
   "source": [
    "model.fit(new_features, target)\n",
    "predictions = model.predict(new_features)\n",
    "print('R2 построенной модели {:.3f}'.format(r2_score(target, predictions)))"
   ]
  },
  {
   "cell_type": "markdown",
   "metadata": {},
   "source": [
    "Таким образом, мы окончательно убедились в правильности работы алгоритма шифрования. Результаты до преобразования и после не отличаются"
   ]
  },
  {
   "cell_type": "markdown",
   "metadata": {},
   "source": [
    "## Вывод"
   ]
  },
  {
   "cell_type": "markdown",
   "metadata": {},
   "source": [
    "- Полученные данные не требуют предподготовки. Имеющиеся выбросы по возрасту, которые объясняются попаданием в категорию 18тилетних лиц младше совершеннолетнего возраста, и дубликаты, которые возникли в следствие малого количества признаков и отсутствия уникального идентификатора клиента.\n",
    "- При умножении признаков на обратимую матрицу качество регрессии не изменяется. Мы доказали это на практике и с помощью теории\n",
    "- Был предложен алгоритм, позволяющий зашифровать и дешифровать личные данные клиентов без потери качества модели\n",
    "- Предложенный алгоритм успешно справился с проверкой с помощью библиотечной линейной регрессии"
   ]
  }
 ],
 "metadata": {
  "ExecuteTimeLog": [
   {
    "duration": 574,
    "start_time": "2021-06-22T15:57:29.285Z"
   },
   {
    "duration": 34,
    "start_time": "2021-06-22T15:57:54.761Z"
   },
   {
    "duration": 354,
    "start_time": "2021-06-23T08:49:51.465Z"
   },
   {
    "duration": 780,
    "start_time": "2021-06-23T08:50:01.687Z"
   },
   {
    "duration": 38,
    "start_time": "2021-06-23T08:50:04.450Z"
   },
   {
    "duration": 10,
    "start_time": "2021-06-23T12:28:23.648Z"
   },
   {
    "duration": 376,
    "start_time": "2021-06-23T12:31:25.657Z"
   },
   {
    "duration": 271,
    "start_time": "2021-06-23T12:33:12.692Z"
   },
   {
    "duration": 507,
    "start_time": "2021-06-23T12:33:18.556Z"
   },
   {
    "duration": 585,
    "start_time": "2021-06-23T12:33:34.925Z"
   },
   {
    "duration": 715,
    "start_time": "2021-06-23T12:34:32.457Z"
   },
   {
    "duration": 665,
    "start_time": "2021-06-23T12:34:54.130Z"
   },
   {
    "duration": 580,
    "start_time": "2021-06-23T12:40:02.364Z"
   },
   {
    "duration": 260,
    "start_time": "2021-06-23T12:40:12.795Z"
   },
   {
    "duration": 695,
    "start_time": "2021-06-23T12:40:23.005Z"
   },
   {
    "duration": 526,
    "start_time": "2021-06-23T12:40:59.761Z"
   },
   {
    "duration": 412,
    "start_time": "2021-06-23T12:42:03.548Z"
   },
   {
    "duration": 374,
    "start_time": "2021-06-23T12:42:20.143Z"
   },
   {
    "duration": 742,
    "start_time": "2021-06-23T12:43:19.535Z"
   },
   {
    "duration": 653,
    "start_time": "2021-06-23T12:43:46.856Z"
   },
   {
    "duration": 611,
    "start_time": "2021-06-23T12:44:24.220Z"
   },
   {
    "duration": 555,
    "start_time": "2021-06-23T12:49:50.491Z"
   },
   {
    "duration": 449,
    "start_time": "2021-06-23T12:49:57.877Z"
   },
   {
    "duration": 281,
    "start_time": "2021-06-23T12:53:13.557Z"
   },
   {
    "duration": 6,
    "start_time": "2021-06-23T12:53:19.038Z"
   },
   {
    "duration": 273,
    "start_time": "2021-06-23T12:53:35.023Z"
   },
   {
    "duration": 5,
    "start_time": "2021-06-23T12:53:42.241Z"
   },
   {
    "duration": 5,
    "start_time": "2021-06-23T12:53:52.669Z"
   },
   {
    "duration": 292,
    "start_time": "2021-06-23T12:58:34.695Z"
   },
   {
    "duration": 6,
    "start_time": "2021-06-23T12:58:39.683Z"
   },
   {
    "duration": 609,
    "start_time": "2021-06-23T12:58:41.591Z"
   },
   {
    "duration": 8,
    "start_time": "2021-06-23T12:59:19.089Z"
   },
   {
    "duration": 142,
    "start_time": "2021-06-23T12:59:21.044Z"
   },
   {
    "duration": 12,
    "start_time": "2021-06-23T12:59:38.742Z"
   },
   {
    "duration": 5,
    "start_time": "2021-06-23T12:59:48.459Z"
   },
   {
    "duration": 12,
    "start_time": "2021-06-23T12:59:50.277Z"
   },
   {
    "duration": 12,
    "start_time": "2021-06-23T13:00:42.352Z"
   },
   {
    "duration": 9,
    "start_time": "2021-06-23T13:00:49.887Z"
   },
   {
    "duration": 297,
    "start_time": "2021-06-23T13:04:00.982Z"
   },
   {
    "duration": 5,
    "start_time": "2021-06-23T13:04:07.431Z"
   },
   {
    "duration": 9,
    "start_time": "2021-06-23T13:04:14.696Z"
   },
   {
    "duration": 7,
    "start_time": "2021-06-23T13:05:31.207Z"
   },
   {
    "duration": 5,
    "start_time": "2021-06-23T13:06:46.734Z"
   },
   {
    "duration": 5,
    "start_time": "2021-06-23T13:08:48.096Z"
   },
   {
    "duration": 6,
    "start_time": "2021-06-23T13:09:22.251Z"
   },
   {
    "duration": 10,
    "start_time": "2021-06-23T13:09:24.115Z"
   },
   {
    "duration": 11,
    "start_time": "2021-06-23T13:09:43.431Z"
   },
   {
    "duration": 21,
    "start_time": "2021-06-23T13:10:11.445Z"
   },
   {
    "duration": 1545,
    "start_time": "2021-06-23T13:15:09.754Z"
   },
   {
    "duration": 45,
    "start_time": "2021-06-23T13:15:11.302Z"
   },
   {
    "duration": 9,
    "start_time": "2021-06-23T13:15:11.350Z"
   },
   {
    "duration": 665,
    "start_time": "2021-06-23T13:15:11.382Z"
   },
   {
    "duration": 1032,
    "start_time": "2021-06-23T13:15:12.051Z"
   },
   {
    "duration": 1033,
    "start_time": "2021-06-23T13:15:13.086Z"
   },
   {
    "duration": 698,
    "start_time": "2021-06-23T13:15:14.123Z"
   },
   {
    "duration": 6,
    "start_time": "2021-06-23T13:15:14.825Z"
   },
   {
    "duration": 8,
    "start_time": "2021-06-23T13:15:14.834Z"
   },
   {
    "duration": 7,
    "start_time": "2021-06-23T13:15:14.846Z"
   },
   {
    "duration": 6,
    "start_time": "2021-06-23T13:15:14.884Z"
   },
   {
    "duration": 97,
    "start_time": "2021-06-23T13:15:14.892Z"
   },
   {
    "duration": 95,
    "start_time": "2021-06-23T13:15:14.992Z"
   },
   {
    "duration": 12,
    "start_time": "2021-06-23T13:15:15.090Z"
   },
   {
    "duration": 223,
    "start_time": "2021-06-23T13:15:15.105Z"
   },
   {
    "duration": 12,
    "start_time": "2021-06-23T13:15:15.331Z"
   },
   {
    "duration": 96,
    "start_time": "2021-06-23T13:19:45.395Z"
   },
   {
    "duration": 6,
    "start_time": "2021-06-23T13:20:09.779Z"
   },
   {
    "duration": 4,
    "start_time": "2021-06-23T13:22:54.148Z"
   },
   {
    "duration": 4,
    "start_time": "2021-06-23T13:24:35.437Z"
   },
   {
    "duration": 5,
    "start_time": "2021-06-23T13:24:37.736Z"
   },
   {
    "duration": 5,
    "start_time": "2021-06-23T13:24:40.115Z"
   },
   {
    "duration": 1628,
    "start_time": "2021-06-23T13:25:03.453Z"
   },
   {
    "duration": 4,
    "start_time": "2021-06-23T13:26:32.076Z"
   },
   {
    "duration": 21,
    "start_time": "2021-06-23T13:26:34.382Z"
   },
   {
    "duration": 5,
    "start_time": "2021-06-23T13:26:40.540Z"
   },
   {
    "duration": 11,
    "start_time": "2021-06-23T13:27:16.436Z"
   },
   {
    "duration": 5,
    "start_time": "2021-06-23T13:28:01.044Z"
   },
   {
    "duration": 4,
    "start_time": "2021-06-23T13:28:02.986Z"
   },
   {
    "duration": 13,
    "start_time": "2021-06-23T13:28:05.336Z"
   },
   {
    "duration": 6,
    "start_time": "2021-06-23T13:28:07.957Z"
   },
   {
    "duration": 16,
    "start_time": "2021-06-23T13:28:16.130Z"
   },
   {
    "duration": 22,
    "start_time": "2021-06-23T13:28:32.070Z"
   },
   {
    "duration": 1939,
    "start_time": "2021-06-23T13:28:42.885Z"
   },
   {
    "duration": 46,
    "start_time": "2021-06-23T13:28:44.828Z"
   },
   {
    "duration": 16,
    "start_time": "2021-06-23T13:28:44.877Z"
   },
   {
    "duration": 437,
    "start_time": "2021-06-23T13:28:44.896Z"
   },
   {
    "duration": 853,
    "start_time": "2021-06-23T13:28:45.336Z"
   },
   {
    "duration": 1020,
    "start_time": "2021-06-23T13:28:46.193Z"
   },
   {
    "duration": 691,
    "start_time": "2021-06-23T13:28:47.216Z"
   },
   {
    "duration": 8,
    "start_time": "2021-06-23T13:28:47.913Z"
   },
   {
    "duration": 9,
    "start_time": "2021-06-23T13:28:47.925Z"
   },
   {
    "duration": 7,
    "start_time": "2021-06-23T13:28:47.937Z"
   },
   {
    "duration": 39,
    "start_time": "2021-06-23T13:28:47.947Z"
   },
   {
    "duration": 103,
    "start_time": "2021-06-23T13:28:47.989Z"
   },
   {
    "duration": 103,
    "start_time": "2021-06-23T13:28:48.095Z"
   },
   {
    "duration": 219,
    "start_time": "2021-06-23T13:28:48.201Z"
   },
   {
    "duration": 9,
    "start_time": "2021-06-23T13:28:48.423Z"
   },
   {
    "duration": 151,
    "start_time": "2021-06-23T13:28:48.434Z"
   },
   {
    "duration": 4,
    "start_time": "2021-06-23T13:28:48.588Z"
   },
   {
    "duration": 6,
    "start_time": "2021-06-23T13:28:48.595Z"
   },
   {
    "duration": 14,
    "start_time": "2021-06-23T13:28:48.604Z"
   },
   {
    "duration": 5,
    "start_time": "2021-06-23T13:28:48.684Z"
   },
   {
    "duration": 22,
    "start_time": "2021-06-23T13:28:48.691Z"
   },
   {
    "duration": 444,
    "start_time": "2021-06-23T13:39:57.862Z"
   },
   {
    "duration": 6,
    "start_time": "2021-06-23T13:40:14.484Z"
   },
   {
    "duration": 399,
    "start_time": "2021-06-23T13:40:59.290Z"
   },
   {
    "duration": 475,
    "start_time": "2021-06-23T13:45:33.845Z"
   },
   {
    "duration": 289,
    "start_time": "2021-06-23T13:48:01.349Z"
   },
   {
    "duration": 5,
    "start_time": "2021-06-23T13:51:24.958Z"
   },
   {
    "duration": 267,
    "start_time": "2021-06-23T13:51:27.216Z"
   },
   {
    "duration": 6,
    "start_time": "2021-06-23T13:52:22.370Z"
   },
   {
    "duration": 285,
    "start_time": "2021-06-23T13:52:24.500Z"
   },
   {
    "duration": 483,
    "start_time": "2021-06-23T13:53:52.759Z"
   },
   {
    "duration": 6,
    "start_time": "2021-06-23T14:02:04.302Z"
   },
   {
    "duration": 553,
    "start_time": "2021-06-23T14:02:10.515Z"
   },
   {
    "duration": 5,
    "start_time": "2021-06-23T14:03:48.093Z"
   },
   {
    "duration": 837,
    "start_time": "2021-06-23T14:03:49.988Z"
   },
   {
    "duration": 5,
    "start_time": "2021-06-23T14:08:07.447Z"
   },
   {
    "duration": 274,
    "start_time": "2021-06-23T14:08:09.569Z"
   },
   {
    "duration": 6,
    "start_time": "2021-06-23T14:08:15.752Z"
   },
   {
    "duration": 627,
    "start_time": "2021-06-23T14:08:17.621Z"
   },
   {
    "duration": 495,
    "start_time": "2021-06-23T14:10:28.994Z"
   },
   {
    "duration": 5,
    "start_time": "2021-06-23T14:10:38.490Z"
   },
   {
    "duration": 559,
    "start_time": "2021-06-23T14:10:41.052Z"
   },
   {
    "duration": 4,
    "start_time": "2021-06-23T14:11:00.023Z"
   },
   {
    "duration": 722,
    "start_time": "2021-06-23T14:11:02.536Z"
   },
   {
    "duration": 5,
    "start_time": "2021-06-23T14:11:09.735Z"
   },
   {
    "duration": 263,
    "start_time": "2021-06-23T14:11:11.669Z"
   },
   {
    "duration": 270,
    "start_time": "2021-06-23T14:11:17.974Z"
   },
   {
    "duration": 5,
    "start_time": "2021-06-23T14:13:41.843Z"
   },
   {
    "duration": 284,
    "start_time": "2021-06-23T14:13:44.740Z"
   },
   {
    "duration": 329,
    "start_time": "2021-06-23T14:13:55.098Z"
   },
   {
    "duration": 274,
    "start_time": "2021-06-23T14:14:23.989Z"
   },
   {
    "duration": 286,
    "start_time": "2021-06-23T14:14:29.282Z"
   },
   {
    "duration": 456,
    "start_time": "2021-06-23T14:15:13.469Z"
   },
   {
    "duration": 6,
    "start_time": "2021-06-23T14:16:09.704Z"
   },
   {
    "duration": 256,
    "start_time": "2021-06-23T14:16:13.224Z"
   },
   {
    "duration": 5,
    "start_time": "2021-06-23T14:18:35.396Z"
   },
   {
    "duration": 281,
    "start_time": "2021-06-23T14:18:37.775Z"
   },
   {
    "duration": 5,
    "start_time": "2021-06-23T14:24:15.385Z"
   },
   {
    "duration": 1224,
    "start_time": "2021-06-23T14:24:17.806Z"
   },
   {
    "duration": 5,
    "start_time": "2021-06-23T14:25:13.845Z"
   },
   {
    "duration": 563,
    "start_time": "2021-06-23T14:25:15.801Z"
   },
   {
    "duration": 5,
    "start_time": "2021-06-23T14:25:26.985Z"
   },
   {
    "duration": 16,
    "start_time": "2021-06-23T14:25:29.392Z"
   },
   {
    "duration": 5,
    "start_time": "2021-06-23T14:25:56.198Z"
   },
   {
    "duration": 265,
    "start_time": "2021-06-23T14:26:11.640Z"
   },
   {
    "duration": 5,
    "start_time": "2021-06-23T14:26:19.406Z"
   },
   {
    "duration": 546,
    "start_time": "2021-06-23T14:26:21.802Z"
   },
   {
    "duration": 6,
    "start_time": "2021-06-23T14:27:52.581Z"
   },
   {
    "duration": 24,
    "start_time": "2021-06-23T14:27:54.801Z"
   },
   {
    "duration": 5,
    "start_time": "2021-06-23T14:27:57.917Z"
   },
   {
    "duration": 15,
    "start_time": "2021-06-23T14:28:00.083Z"
   },
   {
    "duration": 5,
    "start_time": "2021-06-23T14:36:01.982Z"
   },
   {
    "duration": 272,
    "start_time": "2021-06-23T14:36:04.989Z"
   },
   {
    "duration": 3,
    "start_time": "2021-06-23T14:37:37.255Z"
   },
   {
    "duration": 547,
    "start_time": "2021-06-23T14:37:44.382Z"
   },
   {
    "duration": 5,
    "start_time": "2021-06-23T14:37:49.863Z"
   },
   {
    "duration": 563,
    "start_time": "2021-06-23T14:37:52.081Z"
   },
   {
    "duration": 15,
    "start_time": "2021-06-23T14:38:05.409Z"
   },
   {
    "duration": 641,
    "start_time": "2021-06-23T14:38:32.464Z"
   },
   {
    "duration": 6,
    "start_time": "2021-06-23T14:39:15.948Z"
   },
   {
    "duration": 272,
    "start_time": "2021-06-23T14:39:18.163Z"
   },
   {
    "duration": 5,
    "start_time": "2021-06-23T14:39:25.672Z"
   },
   {
    "duration": 532,
    "start_time": "2021-06-23T14:39:28.277Z"
   },
   {
    "duration": 5,
    "start_time": "2021-06-23T14:39:43.990Z"
   },
   {
    "duration": 5,
    "start_time": "2021-06-23T14:40:08.710Z"
   },
   {
    "duration": 3,
    "start_time": "2021-06-23T14:40:10.944Z"
   },
   {
    "duration": 15,
    "start_time": "2021-06-23T14:40:13.812Z"
   },
   {
    "duration": 4,
    "start_time": "2021-06-23T14:40:35.067Z"
   },
   {
    "duration": 4,
    "start_time": "2021-06-23T14:40:46.619Z"
   },
   {
    "duration": 19,
    "start_time": "2021-06-23T14:40:53.068Z"
   },
   {
    "duration": 6,
    "start_time": "2021-06-23T14:46:22.540Z"
   },
   {
    "duration": 5,
    "start_time": "2021-06-23T14:49:11.637Z"
   },
   {
    "duration": 1142,
    "start_time": "2021-06-23T14:49:14.828Z"
   },
   {
    "duration": 4,
    "start_time": "2021-06-23T14:49:23.631Z"
   },
   {
    "duration": 14,
    "start_time": "2021-06-23T14:49:36.119Z"
   },
   {
    "duration": 275,
    "start_time": "2021-06-23T14:49:43.780Z"
   },
   {
    "duration": 6,
    "start_time": "2021-06-23T14:49:54.212Z"
   },
   {
    "duration": 272,
    "start_time": "2021-06-23T14:49:56.369Z"
   },
   {
    "duration": 6,
    "start_time": "2021-06-23T14:50:06.752Z"
   },
   {
    "duration": 264,
    "start_time": "2021-06-23T14:50:11.580Z"
   },
   {
    "duration": 6,
    "start_time": "2021-06-23T14:50:37.035Z"
   },
   {
    "duration": 273,
    "start_time": "2021-06-23T14:50:39.540Z"
   },
   {
    "duration": 6,
    "start_time": "2021-06-23T14:51:21.375Z"
   },
   {
    "duration": 273,
    "start_time": "2021-06-23T14:51:23.673Z"
   },
   {
    "duration": 6,
    "start_time": "2021-06-23T14:56:27.768Z"
   },
   {
    "duration": 278,
    "start_time": "2021-06-23T14:56:30.227Z"
   },
   {
    "duration": 1459,
    "start_time": "2021-06-23T14:56:38.533Z"
   },
   {
    "duration": 35,
    "start_time": "2021-06-23T14:56:39.995Z"
   },
   {
    "duration": 8,
    "start_time": "2021-06-23T14:56:40.034Z"
   },
   {
    "duration": 395,
    "start_time": "2021-06-23T14:56:40.045Z"
   },
   {
    "duration": 580,
    "start_time": "2021-06-23T14:56:40.442Z"
   },
   {
    "duration": 632,
    "start_time": "2021-06-23T14:56:41.024Z"
   },
   {
    "duration": 447,
    "start_time": "2021-06-23T14:56:41.659Z"
   },
   {
    "duration": 7,
    "start_time": "2021-06-23T14:56:42.109Z"
   },
   {
    "duration": 11,
    "start_time": "2021-06-23T14:56:42.118Z"
   },
   {
    "duration": 7,
    "start_time": "2021-06-23T14:56:42.132Z"
   },
   {
    "duration": 8,
    "start_time": "2021-06-23T14:56:42.142Z"
   },
   {
    "duration": 254,
    "start_time": "2021-06-23T14:56:42.184Z"
   },
   {
    "duration": 7,
    "start_time": "2021-06-23T14:56:42.440Z"
   },
   {
    "duration": 36,
    "start_time": "2021-06-23T14:56:42.449Z"
   },
   {
    "duration": 6,
    "start_time": "2021-06-23T14:56:42.488Z"
   },
   {
    "duration": 193,
    "start_time": "2021-06-23T14:56:42.497Z"
   },
   {
    "duration": 4,
    "start_time": "2021-06-23T14:56:42.782Z"
   },
   {
    "duration": 7,
    "start_time": "2021-06-23T14:56:42.790Z"
   },
   {
    "duration": 15,
    "start_time": "2021-06-23T14:56:42.799Z"
   },
   {
    "duration": 68,
    "start_time": "2021-06-23T14:56:42.817Z"
   },
   {
    "duration": 98,
    "start_time": "2021-06-23T14:56:42.889Z"
   },
   {
    "duration": 96,
    "start_time": "2021-06-23T14:56:42.990Z"
   },
   {
    "duration": 6,
    "start_time": "2021-06-23T14:56:43.090Z"
   },
   {
    "duration": 18,
    "start_time": "2021-06-23T14:56:43.098Z"
   },
   {
    "duration": 75,
    "start_time": "2021-06-23T14:56:43.119Z"
   },
   {
    "duration": 82,
    "start_time": "2021-06-23T14:57:29.303Z"
   },
   {
    "duration": 6,
    "start_time": "2021-06-23T14:57:37.400Z"
   },
   {
    "duration": 30,
    "start_time": "2021-06-23T14:57:39.362Z"
   },
   {
    "duration": 5,
    "start_time": "2021-06-23T14:57:43.077Z"
   },
   {
    "duration": 29,
    "start_time": "2021-06-23T14:57:45.855Z"
   },
   {
    "duration": 1588,
    "start_time": "2021-06-23T14:57:54.200Z"
   },
   {
    "duration": 34,
    "start_time": "2021-06-23T14:57:55.791Z"
   },
   {
    "duration": 8,
    "start_time": "2021-06-23T14:57:55.827Z"
   },
   {
    "duration": 413,
    "start_time": "2021-06-23T14:57:55.838Z"
   },
   {
    "duration": 657,
    "start_time": "2021-06-23T14:57:56.253Z"
   },
   {
    "duration": 597,
    "start_time": "2021-06-23T14:57:56.912Z"
   },
   {
    "duration": 447,
    "start_time": "2021-06-23T14:57:57.512Z"
   },
   {
    "duration": 6,
    "start_time": "2021-06-23T14:57:57.963Z"
   },
   {
    "duration": 14,
    "start_time": "2021-06-23T14:57:57.972Z"
   },
   {
    "duration": 11,
    "start_time": "2021-06-23T14:57:57.988Z"
   },
   {
    "duration": 13,
    "start_time": "2021-06-23T14:57:58.001Z"
   },
   {
    "duration": 226,
    "start_time": "2021-06-23T14:57:58.016Z"
   },
   {
    "duration": 6,
    "start_time": "2021-06-23T14:57:58.244Z"
   },
   {
    "duration": 35,
    "start_time": "2021-06-23T14:57:58.252Z"
   },
   {
    "duration": 6,
    "start_time": "2021-06-23T14:57:58.290Z"
   },
   {
    "duration": 95,
    "start_time": "2021-06-23T14:57:58.299Z"
   },
   {
    "duration": 98,
    "start_time": "2021-06-23T14:57:58.486Z"
   },
   {
    "duration": 10,
    "start_time": "2021-06-23T14:57:58.586Z"
   },
   {
    "duration": 15,
    "start_time": "2021-06-23T14:57:58.598Z"
   },
   {
    "duration": 7,
    "start_time": "2021-06-23T14:57:58.616Z"
   },
   {
    "duration": 59,
    "start_time": "2021-06-23T14:57:58.626Z"
   },
   {
    "duration": 8,
    "start_time": "2021-06-23T14:57:58.689Z"
   },
   {
    "duration": 82,
    "start_time": "2021-06-23T14:57:58.701Z"
   },
   {
    "duration": 21,
    "start_time": "2021-06-23T14:57:58.786Z"
   },
   {
    "duration": 73,
    "start_time": "2021-06-23T14:57:58.810Z"
   },
   {
    "duration": 6,
    "start_time": "2021-06-23T14:58:45.948Z"
   },
   {
    "duration": 20,
    "start_time": "2021-06-23T14:58:47.993Z"
   },
   {
    "duration": 1488,
    "start_time": "2021-06-23T14:58:55.490Z"
   },
   {
    "duration": 33,
    "start_time": "2021-06-23T14:58:56.983Z"
   },
   {
    "duration": 8,
    "start_time": "2021-06-23T14:58:57.020Z"
   },
   {
    "duration": 392,
    "start_time": "2021-06-23T14:58:57.030Z"
   },
   {
    "duration": 598,
    "start_time": "2021-06-23T14:58:57.424Z"
   },
   {
    "duration": 592,
    "start_time": "2021-06-23T14:58:58.025Z"
   },
   {
    "duration": 450,
    "start_time": "2021-06-23T14:58:58.619Z"
   },
   {
    "duration": 14,
    "start_time": "2021-06-23T14:58:59.073Z"
   },
   {
    "duration": 11,
    "start_time": "2021-06-23T14:58:59.090Z"
   },
   {
    "duration": 12,
    "start_time": "2021-06-23T14:58:59.103Z"
   },
   {
    "duration": 8,
    "start_time": "2021-06-23T14:58:59.118Z"
   },
   {
    "duration": 212,
    "start_time": "2021-06-23T14:58:59.129Z"
   },
   {
    "duration": 8,
    "start_time": "2021-06-23T14:58:59.344Z"
   },
   {
    "duration": 34,
    "start_time": "2021-06-23T14:58:59.355Z"
   },
   {
    "duration": 9,
    "start_time": "2021-06-23T14:58:59.392Z"
   },
   {
    "duration": 13,
    "start_time": "2021-06-23T14:58:59.484Z"
   },
   {
    "duration": 4,
    "start_time": "2021-06-23T14:58:59.586Z"
   },
   {
    "duration": 99,
    "start_time": "2021-06-23T14:58:59.593Z"
   },
   {
    "duration": 14,
    "start_time": "2021-06-23T14:58:59.694Z"
   },
   {
    "duration": 4,
    "start_time": "2021-06-23T14:58:59.711Z"
   },
   {
    "duration": 68,
    "start_time": "2021-06-23T14:58:59.717Z"
   },
   {
    "duration": 10,
    "start_time": "2021-06-23T14:58:59.789Z"
   },
   {
    "duration": 83,
    "start_time": "2021-06-23T14:58:59.805Z"
   },
   {
    "duration": 25,
    "start_time": "2021-06-23T14:58:59.891Z"
   },
   {
    "duration": 66,
    "start_time": "2021-06-23T14:58:59.919Z"
   },
   {
    "duration": 17,
    "start_time": "2021-06-23T14:59:10.845Z"
   },
   {
    "duration": 6,
    "start_time": "2021-06-23T14:59:43.264Z"
   },
   {
    "duration": 1538,
    "start_time": "2021-06-23T14:59:49.657Z"
   },
   {
    "duration": 34,
    "start_time": "2021-06-23T14:59:51.198Z"
   },
   {
    "duration": 9,
    "start_time": "2021-06-23T14:59:51.235Z"
   },
   {
    "duration": 407,
    "start_time": "2021-06-23T14:59:51.246Z"
   },
   {
    "duration": 606,
    "start_time": "2021-06-23T14:59:51.656Z"
   },
   {
    "duration": 621,
    "start_time": "2021-06-23T14:59:52.264Z"
   },
   {
    "duration": 440,
    "start_time": "2021-06-23T14:59:52.888Z"
   },
   {
    "duration": 7,
    "start_time": "2021-06-23T14:59:53.331Z"
   },
   {
    "duration": 14,
    "start_time": "2021-06-23T14:59:53.341Z"
   },
   {
    "duration": 28,
    "start_time": "2021-06-23T14:59:53.357Z"
   },
   {
    "duration": 13,
    "start_time": "2021-06-23T14:59:53.388Z"
   },
   {
    "duration": 250,
    "start_time": "2021-06-23T14:59:53.404Z"
   },
   {
    "duration": 7,
    "start_time": "2021-06-23T14:59:53.657Z"
   },
   {
    "duration": 7,
    "start_time": "2021-06-23T14:59:53.683Z"
   },
   {
    "duration": 91,
    "start_time": "2021-06-23T14:59:53.693Z"
   },
   {
    "duration": 199,
    "start_time": "2021-06-23T14:59:53.786Z"
   },
   {
    "duration": 95,
    "start_time": "2021-06-23T14:59:53.989Z"
   },
   {
    "duration": 8,
    "start_time": "2021-06-23T14:59:54.087Z"
   },
   {
    "duration": 15,
    "start_time": "2021-06-23T14:59:54.097Z"
   },
   {
    "duration": 5,
    "start_time": "2021-06-23T14:59:54.115Z"
   },
   {
    "duration": 69,
    "start_time": "2021-06-23T14:59:54.122Z"
   },
   {
    "duration": 9,
    "start_time": "2021-06-23T14:59:54.195Z"
   },
   {
    "duration": 3,
    "start_time": "2021-06-23T14:59:54.286Z"
   },
   {
    "duration": 25,
    "start_time": "2021-06-23T14:59:54.292Z"
   },
   {
    "duration": 81,
    "start_time": "2021-06-23T14:59:54.320Z"
   },
   {
    "duration": 96,
    "start_time": "2021-06-23T14:59:54.403Z"
   },
   {
    "duration": 17,
    "start_time": "2021-06-23T15:13:37.490Z"
   },
   {
    "duration": 12,
    "start_time": "2021-06-23T15:14:13.906Z"
   },
   {
    "duration": 11,
    "start_time": "2021-06-23T15:14:46.616Z"
   },
   {
    "duration": 11,
    "start_time": "2021-06-23T15:15:45.333Z"
   },
   {
    "duration": 1455,
    "start_time": "2021-06-23T15:15:53.630Z"
   },
   {
    "duration": 38,
    "start_time": "2021-06-23T15:15:55.088Z"
   },
   {
    "duration": 10,
    "start_time": "2021-06-23T15:15:55.130Z"
   },
   {
    "duration": 397,
    "start_time": "2021-06-23T15:15:55.143Z"
   },
   {
    "duration": 586,
    "start_time": "2021-06-23T15:15:55.543Z"
   },
   {
    "duration": 605,
    "start_time": "2021-06-23T15:15:56.132Z"
   },
   {
    "duration": 433,
    "start_time": "2021-06-23T15:15:56.740Z"
   },
   {
    "duration": 6,
    "start_time": "2021-06-23T15:15:57.184Z"
   },
   {
    "duration": 9,
    "start_time": "2021-06-23T15:15:57.192Z"
   },
   {
    "duration": 7,
    "start_time": "2021-06-23T15:15:57.204Z"
   },
   {
    "duration": 6,
    "start_time": "2021-06-23T15:15:57.213Z"
   },
   {
    "duration": 223,
    "start_time": "2021-06-23T15:15:57.221Z"
   },
   {
    "duration": 6,
    "start_time": "2021-06-23T15:15:57.446Z"
   },
   {
    "duration": 32,
    "start_time": "2021-06-23T15:15:57.454Z"
   },
   {
    "duration": 10,
    "start_time": "2021-06-23T15:15:57.489Z"
   },
   {
    "duration": 86,
    "start_time": "2021-06-23T15:15:57.502Z"
   },
   {
    "duration": 94,
    "start_time": "2021-06-23T15:15:57.592Z"
   },
   {
    "duration": 94,
    "start_time": "2021-06-23T15:15:57.690Z"
   },
   {
    "duration": 26,
    "start_time": "2021-06-23T15:15:57.787Z"
   },
   {
    "duration": 7,
    "start_time": "2021-06-23T15:15:57.815Z"
   },
   {
    "duration": 62,
    "start_time": "2021-06-23T15:15:57.824Z"
   },
   {
    "duration": 10,
    "start_time": "2021-06-23T15:15:57.889Z"
   },
   {
    "duration": 80,
    "start_time": "2021-06-23T15:15:57.905Z"
   },
   {
    "duration": 20,
    "start_time": "2021-06-23T15:15:57.987Z"
   },
   {
    "duration": 79,
    "start_time": "2021-06-23T15:15:58.010Z"
   },
   {
    "duration": 95,
    "start_time": "2021-06-23T15:15:58.092Z"
   },
   {
    "duration": 406,
    "start_time": "2021-06-23T15:15:58.189Z"
   },
   {
    "duration": -350,
    "start_time": "2021-06-23T15:15:58.948Z"
   },
   {
    "duration": 1513,
    "start_time": "2021-06-23T15:16:19.057Z"
   },
   {
    "duration": 35,
    "start_time": "2021-06-23T15:16:20.573Z"
   },
   {
    "duration": 8,
    "start_time": "2021-06-23T15:16:20.612Z"
   },
   {
    "duration": 390,
    "start_time": "2021-06-23T15:16:20.623Z"
   },
   {
    "duration": 680,
    "start_time": "2021-06-23T15:16:21.015Z"
   },
   {
    "duration": 602,
    "start_time": "2021-06-23T15:16:21.698Z"
   },
   {
    "duration": 436,
    "start_time": "2021-06-23T15:16:22.302Z"
   },
   {
    "duration": 6,
    "start_time": "2021-06-23T15:16:22.741Z"
   },
   {
    "duration": 20,
    "start_time": "2021-06-23T15:16:22.751Z"
   },
   {
    "duration": 14,
    "start_time": "2021-06-23T15:16:22.783Z"
   },
   {
    "duration": 16,
    "start_time": "2021-06-23T15:16:22.799Z"
   },
   {
    "duration": 229,
    "start_time": "2021-06-23T15:16:22.818Z"
   },
   {
    "duration": 7,
    "start_time": "2021-06-23T15:16:23.050Z"
   },
   {
    "duration": 26,
    "start_time": "2021-06-23T15:16:23.059Z"
   },
   {
    "duration": 7,
    "start_time": "2021-06-23T15:16:23.089Z"
   },
   {
    "duration": 188,
    "start_time": "2021-06-23T15:16:23.098Z"
   },
   {
    "duration": 93,
    "start_time": "2021-06-23T15:16:23.290Z"
   },
   {
    "duration": 5,
    "start_time": "2021-06-23T15:16:23.385Z"
   },
   {
    "duration": 19,
    "start_time": "2021-06-23T15:16:23.392Z"
   },
   {
    "duration": 4,
    "start_time": "2021-06-23T15:16:23.414Z"
   },
   {
    "duration": 67,
    "start_time": "2021-06-23T15:16:23.420Z"
   },
   {
    "duration": 10,
    "start_time": "2021-06-23T15:16:23.490Z"
   },
   {
    "duration": 82,
    "start_time": "2021-06-23T15:16:23.503Z"
   },
   {
    "duration": 26,
    "start_time": "2021-06-23T15:16:23.587Z"
   },
   {
    "duration": 71,
    "start_time": "2021-06-23T15:16:23.616Z"
   },
   {
    "duration": 96,
    "start_time": "2021-06-23T15:16:23.689Z"
   },
   {
    "duration": 98,
    "start_time": "2021-06-23T15:16:23.790Z"
   },
   {
    "duration": 99,
    "start_time": "2021-06-23T15:16:23.891Z"
   },
   {
    "duration": 1499,
    "start_time": "2021-06-23T15:29:56.071Z"
   },
   {
    "duration": 40,
    "start_time": "2021-06-23T15:29:57.572Z"
   },
   {
    "duration": 11,
    "start_time": "2021-06-23T15:29:57.616Z"
   },
   {
    "duration": 403,
    "start_time": "2021-06-23T15:29:57.629Z"
   },
   {
    "duration": 691,
    "start_time": "2021-06-23T15:29:58.034Z"
   },
   {
    "duration": 603,
    "start_time": "2021-06-23T15:29:58.728Z"
   },
   {
    "duration": 444,
    "start_time": "2021-06-23T15:29:59.333Z"
   },
   {
    "duration": 6,
    "start_time": "2021-06-23T15:29:59.785Z"
   },
   {
    "duration": 7,
    "start_time": "2021-06-23T15:29:59.795Z"
   },
   {
    "duration": 6,
    "start_time": "2021-06-23T15:29:59.805Z"
   },
   {
    "duration": 8,
    "start_time": "2021-06-23T15:29:59.813Z"
   },
   {
    "duration": 299,
    "start_time": "2021-06-23T15:29:59.823Z"
   },
   {
    "duration": 9,
    "start_time": "2021-06-23T15:30:00.125Z"
   },
   {
    "duration": 48,
    "start_time": "2021-06-23T15:30:00.137Z"
   },
   {
    "duration": 9,
    "start_time": "2021-06-23T15:30:00.188Z"
   },
   {
    "duration": 183,
    "start_time": "2021-06-23T15:30:00.201Z"
   },
   {
    "duration": 5,
    "start_time": "2021-06-23T15:30:00.388Z"
   },
   {
    "duration": 8,
    "start_time": "2021-06-23T15:30:00.484Z"
   },
   {
    "duration": 25,
    "start_time": "2021-06-23T15:30:00.494Z"
   },
   {
    "duration": 20,
    "start_time": "2021-06-23T15:30:00.522Z"
   },
   {
    "duration": 41,
    "start_time": "2021-06-23T15:30:00.545Z"
   },
   {
    "duration": 93,
    "start_time": "2021-06-23T15:30:00.590Z"
   },
   {
    "duration": 8,
    "start_time": "2021-06-23T15:30:00.688Z"
   },
   {
    "duration": 23,
    "start_time": "2021-06-23T15:30:00.699Z"
   },
   {
    "duration": 72,
    "start_time": "2021-06-23T15:30:00.725Z"
   },
   {
    "duration": 94,
    "start_time": "2021-06-23T15:30:00.800Z"
   },
   {
    "duration": 188,
    "start_time": "2021-06-23T15:30:00.898Z"
   },
   {
    "duration": 100,
    "start_time": "2021-06-23T15:30:01.090Z"
   },
   {
    "duration": 1771,
    "start_time": "2021-06-23T21:21:25.872Z"
   },
   {
    "duration": 36,
    "start_time": "2021-06-23T21:21:27.647Z"
   },
   {
    "duration": 9,
    "start_time": "2021-06-23T21:21:27.685Z"
   },
   {
    "duration": 415,
    "start_time": "2021-06-23T21:21:29.051Z"
   },
   {
    "duration": 636,
    "start_time": "2021-06-23T21:21:30.066Z"
   },
   {
    "duration": 743,
    "start_time": "2021-06-23T21:21:30.705Z"
   },
   {
    "duration": 496,
    "start_time": "2021-06-23T21:21:31.451Z"
   },
   {
    "duration": 6,
    "start_time": "2021-06-23T21:24:19.829Z"
   },
   {
    "duration": 7,
    "start_time": "2021-06-23T21:24:20.379Z"
   },
   {
    "duration": 5,
    "start_time": "2021-06-23T21:24:20.563Z"
   },
   {
    "duration": 7,
    "start_time": "2021-06-23T21:24:20.906Z"
   },
   {
    "duration": 112,
    "start_time": "2021-06-23T21:24:21.250Z"
   },
   {
    "duration": 8,
    "start_time": "2021-06-23T21:24:21.938Z"
   },
   {
    "duration": 189,
    "start_time": "2021-06-23T21:24:22.309Z"
   },
   {
    "duration": 5,
    "start_time": "2021-06-23T21:24:22.625Z"
   },
   {
    "duration": 94,
    "start_time": "2021-06-23T21:24:23.170Z"
   },
   {
    "duration": 3,
    "start_time": "2021-06-23T21:24:24.090Z"
   },
   {
    "duration": 6,
    "start_time": "2021-06-23T21:24:24.266Z"
   },
   {
    "duration": 10,
    "start_time": "2021-06-23T21:24:24.418Z"
   },
   {
    "duration": 4,
    "start_time": "2021-06-23T21:24:24.962Z"
   },
   {
    "duration": 24,
    "start_time": "2021-06-23T21:24:25.143Z"
   },
   {
    "duration": 6,
    "start_time": "2021-06-23T21:24:25.650Z"
   },
   {
    "duration": 5,
    "start_time": "2021-06-23T21:24:26.035Z"
   },
   {
    "duration": 18,
    "start_time": "2021-06-23T21:24:26.210Z"
   },
   {
    "duration": 26,
    "start_time": "2021-06-23T21:24:26.538Z"
   },
   {
    "duration": 18,
    "start_time": "2021-06-23T21:24:26.802Z"
   },
   {
    "duration": 110,
    "start_time": "2021-06-23T21:24:28.564Z"
   },
   {
    "duration": 14,
    "start_time": "2021-06-23T21:24:30.170Z"
   }
  ],
  "kernelspec": {
   "display_name": "Python 3",
   "language": "python",
   "name": "python3"
  },
  "language_info": {
   "codemirror_mode": {
    "name": "ipython",
    "version": 3
   },
   "file_extension": ".py",
   "mimetype": "text/x-python",
   "name": "python",
   "nbconvert_exporter": "python",
   "pygments_lexer": "ipython3",
   "version": "3.8.8"
  },
  "toc": {
   "base_numbering": 1,
   "nav_menu": {},
   "number_sections": true,
   "sideBar": true,
   "skip_h1_title": true,
   "title_cell": "Содержание",
   "title_sidebar": "Contents",
   "toc_cell": true,
   "toc_position": {},
   "toc_section_display": true,
   "toc_window_display": true
  }
 },
 "nbformat": 4,
 "nbformat_minor": 2
}
