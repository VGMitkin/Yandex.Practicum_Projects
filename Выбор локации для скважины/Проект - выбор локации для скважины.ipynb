{
 "cells": [
  {
   "cell_type": "markdown",
   "metadata": {},
   "source": [
    "# Выбор локации для скважины"
   ]
  },
  {
   "cell_type": "markdown",
   "metadata": {},
   "source": [
    "Допустим, вы работаете в добывающей компании «ГлавРосГосНефть». Нужно решить, где бурить новую скважину.\n",
    "\n",
    "Вам предоставлены пробы нефти в трёх регионах: в каждом 10 000 месторождений, где измерили качество нефти и объём её запасов. Постройте модель машинного обучения, которая поможет определить регион, где добыча принесёт наибольшую прибыль. Проанализируйте возможную прибыль и риски техникой *Bootstrap.*\n",
    "\n",
    "Шаги для выбора локации:\n",
    "\n",
    "- В избранном регионе ищут месторождения, для каждого определяют значения признаков;\n",
    "- Строят модель и оценивают объём запасов;\n",
    "- Выбирают месторождения с самым высокими оценками значений. Количество месторождений зависит от бюджета компании и стоимости разработки одной скважины;\n",
    "- Прибыль равна суммарной прибыли отобранных месторождений."
   ]
  },
  {
   "cell_type": "markdown",
   "metadata": {},
   "source": [
    "**Описание данных**\n",
    "\n",
    "\n",
    "Данные геологоразведки трёх регионов находятся в файлах:\n",
    "\n",
    "\n",
    "1./datasets/geo_data_0.csv. \n",
    "\n",
    "\n",
    "2./datasets/geo_data_1.csv. \n",
    "\n",
    "\n",
    "3./datasets/geo_data_2.csv.\n",
    "\n",
    "\n",
    "id — уникальный идентификатор скважины;\n",
    "\n",
    "\n",
    "f0, f1, f2 — три признака точек (неважно, что они означают, но сами признаки значимы);\n",
    "\n",
    "\n",
    "product — объём запасов в скважине (тыс. баррелей)."
   ]
  },
  {
   "cell_type": "markdown",
   "metadata": {},
   "source": [
    "## Загрузка и подготовка данных"
   ]
  },
  {
   "cell_type": "markdown",
   "metadata": {},
   "source": [
    "Начнем с импорта необходимых  далее инструментов"
   ]
  },
  {
   "cell_type": "code",
   "execution_count": 1,
   "metadata": {},
   "outputs": [],
   "source": [
    "import pandas as pd\n",
    "import numpy as np\n",
    "import matplotlib.pyplot as plt\n",
    "import seaborn as sns\n",
    "from scipy import stats\n",
    "from sklearn.model_selection import train_test_split\n",
    "from sklearn.linear_model import LinearRegression\n",
    "from sklearn.metrics import mean_squared_error\n",
    "from IPython.display import display\n",
    "import warnings\n",
    "warnings.simplefilter('ignore')"
   ]
  },
  {
   "cell_type": "markdown",
   "metadata": {},
   "source": [
    "Взглянем на наши данные"
   ]
  },
  {
   "cell_type": "code",
   "execution_count": 2,
   "metadata": {},
   "outputs": [],
   "source": [
    "df0=pd.read_csv('/datasets/geo_data_0.csv')\n",
    "df1=pd.read_csv('/datasets/geo_data_1.csv')\n",
    "df2=pd.read_csv('/datasets/geo_data_2.csv')"
   ]
  },
  {
   "cell_type": "code",
   "execution_count": 3,
   "metadata": {},
   "outputs": [
    {
     "data": {
      "text/html": [
       "<div>\n",
       "<style scoped>\n",
       "    .dataframe tbody tr th:only-of-type {\n",
       "        vertical-align: middle;\n",
       "    }\n",
       "\n",
       "    .dataframe tbody tr th {\n",
       "        vertical-align: top;\n",
       "    }\n",
       "\n",
       "    .dataframe thead th {\n",
       "        text-align: right;\n",
       "    }\n",
       "</style>\n",
       "<table border=\"1\" class=\"dataframe\">\n",
       "  <thead>\n",
       "    <tr style=\"text-align: right;\">\n",
       "      <th></th>\n",
       "      <th>id</th>\n",
       "      <th>f0</th>\n",
       "      <th>f1</th>\n",
       "      <th>f2</th>\n",
       "      <th>product</th>\n",
       "    </tr>\n",
       "  </thead>\n",
       "  <tbody>\n",
       "    <tr>\n",
       "      <td>25583</td>\n",
       "      <td>5gId1</td>\n",
       "      <td>-0.617696</td>\n",
       "      <td>0.585473</td>\n",
       "      <td>1.649965</td>\n",
       "      <td>87.621597</td>\n",
       "    </tr>\n",
       "    <tr>\n",
       "      <td>22981</td>\n",
       "      <td>GiLEa</td>\n",
       "      <td>1.410532</td>\n",
       "      <td>-0.216008</td>\n",
       "      <td>8.619650</td>\n",
       "      <td>103.101680</td>\n",
       "    </tr>\n",
       "    <tr>\n",
       "      <td>75266</td>\n",
       "      <td>MfSF0</td>\n",
       "      <td>2.141823</td>\n",
       "      <td>0.058284</td>\n",
       "      <td>7.607081</td>\n",
       "      <td>69.622214</td>\n",
       "    </tr>\n",
       "    <tr>\n",
       "      <td>62893</td>\n",
       "      <td>3vFWW</td>\n",
       "      <td>1.930458</td>\n",
       "      <td>0.178593</td>\n",
       "      <td>-3.391506</td>\n",
       "      <td>52.112651</td>\n",
       "    </tr>\n",
       "    <tr>\n",
       "      <td>22503</td>\n",
       "      <td>RXRyw</td>\n",
       "      <td>0.200801</td>\n",
       "      <td>1.023091</td>\n",
       "      <td>5.932752</td>\n",
       "      <td>162.720124</td>\n",
       "    </tr>\n",
       "    <tr>\n",
       "      <td>46044</td>\n",
       "      <td>COptR</td>\n",
       "      <td>0.660373</td>\n",
       "      <td>0.760111</td>\n",
       "      <td>0.984949</td>\n",
       "      <td>39.683799</td>\n",
       "    </tr>\n",
       "    <tr>\n",
       "      <td>56578</td>\n",
       "      <td>3WIal</td>\n",
       "      <td>0.963981</td>\n",
       "      <td>-0.422071</td>\n",
       "      <td>2.161607</td>\n",
       "      <td>68.497821</td>\n",
       "    </tr>\n",
       "    <tr>\n",
       "      <td>59829</td>\n",
       "      <td>o7LX2</td>\n",
       "      <td>0.784828</td>\n",
       "      <td>-0.414184</td>\n",
       "      <td>-0.728532</td>\n",
       "      <td>54.994745</td>\n",
       "    </tr>\n",
       "    <tr>\n",
       "      <td>94774</td>\n",
       "      <td>1z6lL</td>\n",
       "      <td>-0.126125</td>\n",
       "      <td>0.392554</td>\n",
       "      <td>1.741346</td>\n",
       "      <td>169.861557</td>\n",
       "    </tr>\n",
       "    <tr>\n",
       "      <td>31507</td>\n",
       "      <td>r3qaB</td>\n",
       "      <td>0.227488</td>\n",
       "      <td>0.892798</td>\n",
       "      <td>3.408907</td>\n",
       "      <td>115.854946</td>\n",
       "    </tr>\n",
       "  </tbody>\n",
       "</table>\n",
       "</div>"
      ],
      "text/plain": [
       "          id        f0        f1        f2     product\n",
       "25583  5gId1 -0.617696  0.585473  1.649965   87.621597\n",
       "22981  GiLEa  1.410532 -0.216008  8.619650  103.101680\n",
       "75266  MfSF0  2.141823  0.058284  7.607081   69.622214\n",
       "62893  3vFWW  1.930458  0.178593 -3.391506   52.112651\n",
       "22503  RXRyw  0.200801  1.023091  5.932752  162.720124\n",
       "46044  COptR  0.660373  0.760111  0.984949   39.683799\n",
       "56578  3WIal  0.963981 -0.422071  2.161607   68.497821\n",
       "59829  o7LX2  0.784828 -0.414184 -0.728532   54.994745\n",
       "94774  1z6lL -0.126125  0.392554  1.741346  169.861557\n",
       "31507  r3qaB  0.227488  0.892798  3.408907  115.854946"
      ]
     },
     "execution_count": 3,
     "metadata": {},
     "output_type": "execute_result"
    }
   ],
   "source": [
    "df0.sample(10)"
   ]
  },
  {
   "cell_type": "code",
   "execution_count": 4,
   "metadata": {},
   "outputs": [
    {
     "name": "stdout",
     "output_type": "stream",
     "text": [
      "<class 'pandas.core.frame.DataFrame'>\n",
      "RangeIndex: 100000 entries, 0 to 99999\n",
      "Data columns (total 5 columns):\n",
      "id         100000 non-null object\n",
      "f0         100000 non-null float64\n",
      "f1         100000 non-null float64\n",
      "f2         100000 non-null float64\n",
      "product    100000 non-null float64\n",
      "dtypes: float64(4), object(1)\n",
      "memory usage: 3.8+ MB\n"
     ]
    }
   ],
   "source": [
    "df0.info()"
   ]
  },
  {
   "cell_type": "markdown",
   "metadata": {},
   "source": [
    "Пропущеных значений нет, предобоработка будет значительно проще.\n",
    "\n",
    "Оценим также коэффициенты корреляции между будущими признаками и целевым значением."
   ]
  },
  {
   "cell_type": "code",
   "execution_count": 5,
   "metadata": {},
   "outputs": [
    {
     "data": {
      "text/plain": [
       "<matplotlib.axes._subplots.AxesSubplot at 0x7feaf30f0c10>"
      ]
     },
     "execution_count": 5,
     "metadata": {},
     "output_type": "execute_result"
    },
    {
     "data": {
      "image/png": "[encoded data removed]",
      "text/plain": [
       "<Figure size 864x864 with 2 Axes>"
      ]
     },
     "metadata": {
      "needs_background": "light"
     },
     "output_type": "display_data"
    }
   ],
   "source": [
    "corr = df0.corr()\n",
    "plt.subplots(figsize=(12,12))\n",
    "sns.heatmap(corr, annot=True)"
   ]
  },
  {
   "cell_type": "code",
   "execution_count": 6,
   "metadata": {},
   "outputs": [
    {
     "data": {
      "text/html": [
       "<div>\n",
       "<style scoped>\n",
       "    .dataframe tbody tr th:only-of-type {\n",
       "        vertical-align: middle;\n",
       "    }\n",
       "\n",
       "    .dataframe tbody tr th {\n",
       "        vertical-align: top;\n",
       "    }\n",
       "\n",
       "    .dataframe thead th {\n",
       "        text-align: right;\n",
       "    }\n",
       "</style>\n",
       "<table border=\"1\" class=\"dataframe\">\n",
       "  <thead>\n",
       "    <tr style=\"text-align: right;\">\n",
       "      <th></th>\n",
       "      <th>index</th>\n",
       "      <th>product</th>\n",
       "    </tr>\n",
       "  </thead>\n",
       "  <tbody>\n",
       "    <tr>\n",
       "      <td>0</td>\n",
       "      <td>product</td>\n",
       "      <td>1.000000</td>\n",
       "    </tr>\n",
       "    <tr>\n",
       "      <td>1</td>\n",
       "      <td>f2</td>\n",
       "      <td>0.483663</td>\n",
       "    </tr>\n",
       "    <tr>\n",
       "      <td>2</td>\n",
       "      <td>f0</td>\n",
       "      <td>0.143536</td>\n",
       "    </tr>\n",
       "    <tr>\n",
       "      <td>3</td>\n",
       "      <td>f1</td>\n",
       "      <td>-0.192356</td>\n",
       "    </tr>\n",
       "  </tbody>\n",
       "</table>\n",
       "</div>"
      ],
      "text/plain": [
       "     index   product\n",
       "0  product  1.000000\n",
       "1       f2  0.483663\n",
       "2       f0  0.143536\n",
       "3       f1 -0.192356"
      ]
     },
     "execution_count": 6,
     "metadata": {},
     "output_type": "execute_result"
    }
   ],
   "source": [
    "df0.corr()['product'].reset_index().sort_values(by='product',ascending=False).reset_index(drop=True)"
   ]
  },
  {
   "cell_type": "markdown",
   "metadata": {},
   "source": [
    "Самый большой вес имеет признак f2."
   ]
  },
  {
   "cell_type": "code",
   "execution_count": 7,
   "metadata": {},
   "outputs": [
    {
     "data": {
      "text/html": [
       "<div>\n",
       "<style scoped>\n",
       "    .dataframe tbody tr th:only-of-type {\n",
       "        vertical-align: middle;\n",
       "    }\n",
       "\n",
       "    .dataframe tbody tr th {\n",
       "        vertical-align: top;\n",
       "    }\n",
       "\n",
       "    .dataframe thead th {\n",
       "        text-align: right;\n",
       "    }\n",
       "</style>\n",
       "<table border=\"1\" class=\"dataframe\">\n",
       "  <thead>\n",
       "    <tr style=\"text-align: right;\">\n",
       "      <th></th>\n",
       "      <th>id</th>\n",
       "      <th>f0</th>\n",
       "      <th>f1</th>\n",
       "      <th>f2</th>\n",
       "      <th>product</th>\n",
       "    </tr>\n",
       "  </thead>\n",
       "  <tbody>\n",
       "    <tr>\n",
       "      <td>69991</td>\n",
       "      <td>5p4hn</td>\n",
       "      <td>-0.037392</td>\n",
       "      <td>-9.836442</td>\n",
       "      <td>0.995040</td>\n",
       "      <td>30.132364</td>\n",
       "    </tr>\n",
       "    <tr>\n",
       "      <td>38123</td>\n",
       "      <td>qloMt</td>\n",
       "      <td>8.075835</td>\n",
       "      <td>-1.529117</td>\n",
       "      <td>3.998434</td>\n",
       "      <td>107.813044</td>\n",
       "    </tr>\n",
       "    <tr>\n",
       "      <td>94825</td>\n",
       "      <td>m4x9M</td>\n",
       "      <td>-9.230093</td>\n",
       "      <td>-9.468007</td>\n",
       "      <td>3.007329</td>\n",
       "      <td>84.038886</td>\n",
       "    </tr>\n",
       "    <tr>\n",
       "      <td>9207</td>\n",
       "      <td>yohOi</td>\n",
       "      <td>-6.060217</td>\n",
       "      <td>-13.094070</td>\n",
       "      <td>4.004837</td>\n",
       "      <td>110.992147</td>\n",
       "    </tr>\n",
       "    <tr>\n",
       "      <td>41706</td>\n",
       "      <td>S1TYs</td>\n",
       "      <td>13.175620</td>\n",
       "      <td>-10.757609</td>\n",
       "      <td>-0.004119</td>\n",
       "      <td>0.000000</td>\n",
       "    </tr>\n",
       "    <tr>\n",
       "      <td>29396</td>\n",
       "      <td>zhQzy</td>\n",
       "      <td>1.200676</td>\n",
       "      <td>-0.730021</td>\n",
       "      <td>4.991626</td>\n",
       "      <td>137.945408</td>\n",
       "    </tr>\n",
       "    <tr>\n",
       "      <td>65817</td>\n",
       "      <td>qDERy</td>\n",
       "      <td>-13.448667</td>\n",
       "      <td>-10.665397</td>\n",
       "      <td>0.001296</td>\n",
       "      <td>3.179103</td>\n",
       "    </tr>\n",
       "    <tr>\n",
       "      <td>69055</td>\n",
       "      <td>tae07</td>\n",
       "      <td>1.272586</td>\n",
       "      <td>-6.071984</td>\n",
       "      <td>5.001800</td>\n",
       "      <td>137.945408</td>\n",
       "    </tr>\n",
       "    <tr>\n",
       "      <td>35032</td>\n",
       "      <td>CTI42</td>\n",
       "      <td>2.734302</td>\n",
       "      <td>-8.829775</td>\n",
       "      <td>2.000651</td>\n",
       "      <td>53.906522</td>\n",
       "    </tr>\n",
       "    <tr>\n",
       "      <td>6829</td>\n",
       "      <td>mnxob</td>\n",
       "      <td>-2.338773</td>\n",
       "      <td>-1.219533</td>\n",
       "      <td>4.002040</td>\n",
       "      <td>110.992147</td>\n",
       "    </tr>\n",
       "  </tbody>\n",
       "</table>\n",
       "</div>"
      ],
      "text/plain": [
       "          id         f0         f1        f2     product\n",
       "69991  5p4hn  -0.037392  -9.836442  0.995040   30.132364\n",
       "38123  qloMt   8.075835  -1.529117  3.998434  107.813044\n",
       "94825  m4x9M  -9.230093  -9.468007  3.007329   84.038886\n",
       "9207   yohOi  -6.060217 -13.094070  4.004837  110.992147\n",
       "41706  S1TYs  13.175620 -10.757609 -0.004119    0.000000\n",
       "29396  zhQzy   1.200676  -0.730021  4.991626  137.945408\n",
       "65817  qDERy -13.448667 -10.665397  0.001296    3.179103\n",
       "69055  tae07   1.272586  -6.071984  5.001800  137.945408\n",
       "35032  CTI42   2.734302  -8.829775  2.000651   53.906522\n",
       "6829   mnxob  -2.338773  -1.219533  4.002040  110.992147"
      ]
     },
     "execution_count": 7,
     "metadata": {},
     "output_type": "execute_result"
    }
   ],
   "source": [
    "df1.sample(10)"
   ]
  },
  {
   "cell_type": "code",
   "execution_count": 8,
   "metadata": {},
   "outputs": [
    {
     "name": "stdout",
     "output_type": "stream",
     "text": [
      "<class 'pandas.core.frame.DataFrame'>\n",
      "RangeIndex: 100000 entries, 0 to 99999\n",
      "Data columns (total 5 columns):\n",
      "id         100000 non-null object\n",
      "f0         100000 non-null float64\n",
      "f1         100000 non-null float64\n",
      "f2         100000 non-null float64\n",
      "product    100000 non-null float64\n",
      "dtypes: float64(4), object(1)\n",
      "memory usage: 3.8+ MB\n"
     ]
    }
   ],
   "source": [
    "df1.info()"
   ]
  },
  {
   "cell_type": "code",
   "execution_count": 9,
   "metadata": {},
   "outputs": [
    {
     "data": {
      "text/plain": [
       "<matplotlib.axes._subplots.AxesSubplot at 0x7feaf2f5a7d0>"
      ]
     },
     "execution_count": 9,
     "metadata": {},
     "output_type": "execute_result"
    },
    {
     "data": {
      "image/png": "[encoded data removed]",
      "text/plain": [
       "<Figure size 864x864 with 2 Axes>"
      ]
     },
     "metadata": {
      "needs_background": "light"
     },
     "output_type": "display_data"
    }
   ],
   "source": [
    "corr = df1.corr()\n",
    "plt.subplots(figsize=(12,12))\n",
    "sns.heatmap(corr, annot=True)"
   ]
  },
  {
   "cell_type": "code",
   "execution_count": 10,
   "metadata": {},
   "outputs": [
    {
     "data": {
      "text/html": [
       "<div>\n",
       "<style scoped>\n",
       "    .dataframe tbody tr th:only-of-type {\n",
       "        vertical-align: middle;\n",
       "    }\n",
       "\n",
       "    .dataframe tbody tr th {\n",
       "        vertical-align: top;\n",
       "    }\n",
       "\n",
       "    .dataframe thead th {\n",
       "        text-align: right;\n",
       "    }\n",
       "</style>\n",
       "<table border=\"1\" class=\"dataframe\">\n",
       "  <thead>\n",
       "    <tr style=\"text-align: right;\">\n",
       "      <th></th>\n",
       "      <th>index</th>\n",
       "      <th>product</th>\n",
       "    </tr>\n",
       "  </thead>\n",
       "  <tbody>\n",
       "    <tr>\n",
       "      <td>0</td>\n",
       "      <td>product</td>\n",
       "      <td>1.000000</td>\n",
       "    </tr>\n",
       "    <tr>\n",
       "      <td>1</td>\n",
       "      <td>f2</td>\n",
       "      <td>0.999397</td>\n",
       "    </tr>\n",
       "    <tr>\n",
       "      <td>2</td>\n",
       "      <td>f1</td>\n",
       "      <td>-0.010155</td>\n",
       "    </tr>\n",
       "    <tr>\n",
       "      <td>3</td>\n",
       "      <td>f0</td>\n",
       "      <td>-0.030491</td>\n",
       "    </tr>\n",
       "  </tbody>\n",
       "</table>\n",
       "</div>"
      ],
      "text/plain": [
       "     index   product\n",
       "0  product  1.000000\n",
       "1       f2  0.999397\n",
       "2       f1 -0.010155\n",
       "3       f0 -0.030491"
      ]
     },
     "execution_count": 10,
     "metadata": {},
     "output_type": "execute_result"
    }
   ],
   "source": [
    "df1.corr()['product'].reset_index().sort_values(by='product',ascending=False).reset_index(drop=True)"
   ]
  },
  {
   "cell_type": "markdown",
   "metadata": {},
   "source": [
    "Тенденция в данных по второму участку разработки сохраняется, пропусков нет, корреляция f2 самая сильная. В отличие от первого набора данных, в этом коэффициент корреляции с признаком f2 достигает практически еденицы, что говорит нам об очень сильной зависимости целевого значения от этого признака. Это очень хорошо для будущей модели, так как такая взаимосвязь поможет  делать более точные предсказания и минимизировать ошибку.\n",
    "\n",
    "Проверим, наконец, третий набор данных"
   ]
  },
  {
   "cell_type": "code",
   "execution_count": 11,
   "metadata": {},
   "outputs": [
    {
     "data": {
      "text/html": [
       "<div>\n",
       "<style scoped>\n",
       "    .dataframe tbody tr th:only-of-type {\n",
       "        vertical-align: middle;\n",
       "    }\n",
       "\n",
       "    .dataframe tbody tr th {\n",
       "        vertical-align: top;\n",
       "    }\n",
       "\n",
       "    .dataframe thead th {\n",
       "        text-align: right;\n",
       "    }\n",
       "</style>\n",
       "<table border=\"1\" class=\"dataframe\">\n",
       "  <thead>\n",
       "    <tr style=\"text-align: right;\">\n",
       "      <th></th>\n",
       "      <th>id</th>\n",
       "      <th>f0</th>\n",
       "      <th>f1</th>\n",
       "      <th>f2</th>\n",
       "      <th>product</th>\n",
       "    </tr>\n",
       "  </thead>\n",
       "  <tbody>\n",
       "    <tr>\n",
       "      <td>32070</td>\n",
       "      <td>zrNkc</td>\n",
       "      <td>-1.472374</td>\n",
       "      <td>-2.428712</td>\n",
       "      <td>4.262405</td>\n",
       "      <td>111.773054</td>\n",
       "    </tr>\n",
       "    <tr>\n",
       "      <td>46167</td>\n",
       "      <td>x63YG</td>\n",
       "      <td>1.070984</td>\n",
       "      <td>-1.630796</td>\n",
       "      <td>-2.760530</td>\n",
       "      <td>30.148644</td>\n",
       "    </tr>\n",
       "    <tr>\n",
       "      <td>69233</td>\n",
       "      <td>itBRJ</td>\n",
       "      <td>-0.006453</td>\n",
       "      <td>0.759495</td>\n",
       "      <td>4.677694</td>\n",
       "      <td>152.225770</td>\n",
       "    </tr>\n",
       "    <tr>\n",
       "      <td>51473</td>\n",
       "      <td>ZSpYE</td>\n",
       "      <td>-0.654985</td>\n",
       "      <td>1.453234</td>\n",
       "      <td>1.971594</td>\n",
       "      <td>89.577327</td>\n",
       "    </tr>\n",
       "    <tr>\n",
       "      <td>51569</td>\n",
       "      <td>b6KjA</td>\n",
       "      <td>0.088191</td>\n",
       "      <td>0.264014</td>\n",
       "      <td>-3.580746</td>\n",
       "      <td>62.024390</td>\n",
       "    </tr>\n",
       "    <tr>\n",
       "      <td>20294</td>\n",
       "      <td>vRPkP</td>\n",
       "      <td>1.242063</td>\n",
       "      <td>1.141407</td>\n",
       "      <td>5.775092</td>\n",
       "      <td>75.540303</td>\n",
       "    </tr>\n",
       "    <tr>\n",
       "      <td>49722</td>\n",
       "      <td>Go6hQ</td>\n",
       "      <td>-1.996159</td>\n",
       "      <td>-0.495210</td>\n",
       "      <td>-1.037883</td>\n",
       "      <td>55.592633</td>\n",
       "    </tr>\n",
       "    <tr>\n",
       "      <td>98692</td>\n",
       "      <td>mX69s</td>\n",
       "      <td>0.142501</td>\n",
       "      <td>0.102018</td>\n",
       "      <td>3.592291</td>\n",
       "      <td>119.608566</td>\n",
       "    </tr>\n",
       "    <tr>\n",
       "      <td>70155</td>\n",
       "      <td>uT1xs</td>\n",
       "      <td>-0.309745</td>\n",
       "      <td>-0.350607</td>\n",
       "      <td>0.488368</td>\n",
       "      <td>63.520403</td>\n",
       "    </tr>\n",
       "    <tr>\n",
       "      <td>69009</td>\n",
       "      <td>x91IK</td>\n",
       "      <td>-0.426900</td>\n",
       "      <td>-1.672110</td>\n",
       "      <td>3.105829</td>\n",
       "      <td>93.411546</td>\n",
       "    </tr>\n",
       "  </tbody>\n",
       "</table>\n",
       "</div>"
      ],
      "text/plain": [
       "          id        f0        f1        f2     product\n",
       "32070  zrNkc -1.472374 -2.428712  4.262405  111.773054\n",
       "46167  x63YG  1.070984 -1.630796 -2.760530   30.148644\n",
       "69233  itBRJ -0.006453  0.759495  4.677694  152.225770\n",
       "51473  ZSpYE -0.654985  1.453234  1.971594   89.577327\n",
       "51569  b6KjA  0.088191  0.264014 -3.580746   62.024390\n",
       "20294  vRPkP  1.242063  1.141407  5.775092   75.540303\n",
       "49722  Go6hQ -1.996159 -0.495210 -1.037883   55.592633\n",
       "98692  mX69s  0.142501  0.102018  3.592291  119.608566\n",
       "70155  uT1xs -0.309745 -0.350607  0.488368   63.520403\n",
       "69009  x91IK -0.426900 -1.672110  3.105829   93.411546"
      ]
     },
     "execution_count": 11,
     "metadata": {},
     "output_type": "execute_result"
    }
   ],
   "source": [
    "df2.sample(10)"
   ]
  },
  {
   "cell_type": "code",
   "execution_count": 12,
   "metadata": {},
   "outputs": [
    {
     "name": "stdout",
     "output_type": "stream",
     "text": [
      "<class 'pandas.core.frame.DataFrame'>\n",
      "RangeIndex: 100000 entries, 0 to 99999\n",
      "Data columns (total 5 columns):\n",
      "id         100000 non-null object\n",
      "f0         100000 non-null float64\n",
      "f1         100000 non-null float64\n",
      "f2         100000 non-null float64\n",
      "product    100000 non-null float64\n",
      "dtypes: float64(4), object(1)\n",
      "memory usage: 3.8+ MB\n"
     ]
    }
   ],
   "source": [
    "df2.info()"
   ]
  },
  {
   "cell_type": "code",
   "execution_count": 13,
   "metadata": {},
   "outputs": [
    {
     "data": {
      "text/plain": [
       "<matplotlib.axes._subplots.AxesSubplot at 0x7feaf2eabbd0>"
      ]
     },
     "execution_count": 13,
     "metadata": {},
     "output_type": "execute_result"
    },
    {
     "data": {
      "image/png": "[encoded data removed]",
      "text/plain": [
       "<Figure size 864x864 with 2 Axes>"
      ]
     },
     "metadata": {
      "needs_background": "light"
     },
     "output_type": "display_data"
    }
   ],
   "source": [
    "corr = df2.corr()\n",
    "plt.subplots(figsize=(12,12))\n",
    "sns.heatmap(corr, annot=True)"
   ]
  },
  {
   "cell_type": "code",
   "execution_count": 14,
   "metadata": {},
   "outputs": [
    {
     "data": {
      "text/html": [
       "<div>\n",
       "<style scoped>\n",
       "    .dataframe tbody tr th:only-of-type {\n",
       "        vertical-align: middle;\n",
       "    }\n",
       "\n",
       "    .dataframe tbody tr th {\n",
       "        vertical-align: top;\n",
       "    }\n",
       "\n",
       "    .dataframe thead th {\n",
       "        text-align: right;\n",
       "    }\n",
       "</style>\n",
       "<table border=\"1\" class=\"dataframe\">\n",
       "  <thead>\n",
       "    <tr style=\"text-align: right;\">\n",
       "      <th></th>\n",
       "      <th>index</th>\n",
       "      <th>product</th>\n",
       "    </tr>\n",
       "  </thead>\n",
       "  <tbody>\n",
       "    <tr>\n",
       "      <td>0</td>\n",
       "      <td>product</td>\n",
       "      <td>1.000000</td>\n",
       "    </tr>\n",
       "    <tr>\n",
       "      <td>1</td>\n",
       "      <td>f2</td>\n",
       "      <td>0.445871</td>\n",
       "    </tr>\n",
       "    <tr>\n",
       "      <td>2</td>\n",
       "      <td>f1</td>\n",
       "      <td>-0.001012</td>\n",
       "    </tr>\n",
       "    <tr>\n",
       "      <td>3</td>\n",
       "      <td>f0</td>\n",
       "      <td>-0.001987</td>\n",
       "    </tr>\n",
       "  </tbody>\n",
       "</table>\n",
       "</div>"
      ],
      "text/plain": [
       "     index   product\n",
       "0  product  1.000000\n",
       "1       f2  0.445871\n",
       "2       f1 -0.001012\n",
       "3       f0 -0.001987"
      ]
     },
     "execution_count": 14,
     "metadata": {},
     "output_type": "execute_result"
    }
   ],
   "source": [
    "df2.corr()['product'].reset_index().sort_values(by='product',ascending=False).reset_index(drop=True)"
   ]
  },
  {
   "cell_type": "markdown",
   "metadata": {},
   "source": [
    "Третий набор данных больше похож на первый, нежели на второй. Однако, все данные поступили в удобном для работы с ними виде и не требуют предобработки."
   ]
  },
  {
   "cell_type": "markdown",
   "metadata": {},
   "source": [
    "Проверим наборы данных на наличие дубликатов."
   ]
  },
  {
   "cell_type": "code",
   "execution_count": 15,
   "metadata": {},
   "outputs": [
    {
     "data": {
      "text/plain": [
       "0"
      ]
     },
     "execution_count": 15,
     "metadata": {},
     "output_type": "execute_result"
    }
   ],
   "source": [
    "df0.duplicated().sum()"
   ]
  },
  {
   "cell_type": "code",
   "execution_count": 16,
   "metadata": {},
   "outputs": [
    {
     "data": {
      "text/plain": [
       "0"
      ]
     },
     "execution_count": 16,
     "metadata": {},
     "output_type": "execute_result"
    }
   ],
   "source": [
    "df1.duplicated().sum()"
   ]
  },
  {
   "cell_type": "code",
   "execution_count": 17,
   "metadata": {},
   "outputs": [
    {
     "data": {
      "text/plain": [
       "0"
      ]
     },
     "execution_count": 17,
     "metadata": {},
     "output_type": "execute_result"
    }
   ],
   "source": [
    "df2.duplicated().sum()"
   ]
  },
  {
   "cell_type": "markdown",
   "metadata": {},
   "source": [
    " Для упрощения последующего построения модели графу 'id' во всех наборах отбросим."
   ]
  },
  {
   "cell_type": "code",
   "execution_count": 18,
   "metadata": {},
   "outputs": [],
   "source": [
    "df0=df0.drop(['id'], axis=1)\n",
    "df1=df1.drop(['id'], axis=1)\n",
    "df2=df2.drop(['id'], axis=1)"
   ]
  },
  {
   "cell_type": "markdown",
   "metadata": {},
   "source": [
    "После этого шага можно приступать к построению модели"
   ]
  },
  {
   "cell_type": "markdown",
   "metadata": {},
   "source": [
    "## Обучение и проверка модели"
   ]
  },
  {
   "cell_type": "markdown",
   "metadata": {},
   "source": [
    "Определим признаки и целевое значение для всех трёх наборов данных"
   ]
  },
  {
   "cell_type": "code",
   "execution_count": 19,
   "metadata": {},
   "outputs": [],
   "source": [
    "features_0 = df0.drop(['product'], axis=1)\n",
    "target_0 = df0['product']\n",
    "features_1 = df1.drop(['product'], axis=1)\n",
    "target_1 = df1['product']\n",
    "features_2 = df2.drop(['product'], axis=1)\n",
    "target_2 = df2['product']"
   ]
  },
  {
   "cell_type": "markdown",
   "metadata": {},
   "source": [
    "Теперь разделим полученные выборки на обучающие и валидационные в соотношении 75:25"
   ]
  },
  {
   "cell_type": "code",
   "execution_count": 20,
   "metadata": {},
   "outputs": [],
   "source": [
    "features_train_0,  features_valid_0,target_train_0, target_valid_0 = train_test_split(features_0, target_0,\n",
    "                    test_size=0.25, random_state=42)\n",
    "features_train_1,  features_valid_1,target_train_1, target_valid_1 = train_test_split(features_1, target_1,\n",
    "                    test_size=0.25, random_state=42)\n",
    "features_train_2,  features_valid_2,target_train_2, target_valid_2 = train_test_split(features_2, target_2,\n",
    "                    test_size=0.25, random_state=42)"
   ]
  },
  {
   "cell_type": "markdown",
   "metadata": {},
   "source": [
    "Проверим правильность разбиения"
   ]
  },
  {
   "cell_type": "code",
   "execution_count": 21,
   "metadata": {},
   "outputs": [
    {
     "name": "stdout",
     "output_type": "stream",
     "text": [
      "(75000, 3) (75000,) (25000, 3) (25000,)\n"
     ]
    }
   ],
   "source": [
    "print(features_train_0.shape, target_train_0.shape, features_valid_0.shape, target_valid_0.shape)"
   ]
  },
  {
   "cell_type": "code",
   "execution_count": 22,
   "metadata": {},
   "outputs": [
    {
     "name": "stdout",
     "output_type": "stream",
     "text": [
      "(75000, 3) (75000,) (25000, 3) (25000,)\n"
     ]
    }
   ],
   "source": [
    "print(features_train_1.shape, target_train_1.shape, features_valid_1.shape, target_valid_1.shape)"
   ]
  },
  {
   "cell_type": "code",
   "execution_count": 23,
   "metadata": {
    "scrolled": true
   },
   "outputs": [
    {
     "name": "stdout",
     "output_type": "stream",
     "text": [
      "(75000, 3) (75000,) (25000, 3) (25000,)\n"
     ]
    }
   ],
   "source": [
    "print(features_train_2.shape, target_train_2.shape, features_valid_2.shape, target_valid_2.shape)"
   ]
  },
  {
   "cell_type": "markdown",
   "metadata": {},
   "source": [
    "Для обучения модели подходит только линейная регрессия (остальные — недостаточно предсказуемые). Запускаме модель и прогоняем её по трем наборам данных, получая предсказания объёма разработки. Для наглядности создадим сравнительную таблицу, содержащую в себе истинное и предсказанное значения. Оценим также среднее предсказанное среднеквадратичную ошибку(для упрощения восприятия сразу извлечем квадратный корень)"
   ]
  },
  {
   "cell_type": "code",
   "execution_count": 24,
   "metadata": {},
   "outputs": [],
   "source": [
    "def reg_model(features_train, target_train, features_valid, target_valid):\n",
    "    model = LinearRegression()\n",
    "    model.fit(features_train, target_train)\n",
    "    predictions = model.predict(features_valid)\n",
    "    predictions_sorted=pd.Series(predictions).sort_values(ascending=False).reset_index(drop=True)\n",
    "    target_valid = target_valid.reset_index(drop=True)\n",
    "    result = pd.DataFrame(target_valid).join(pd.DataFrame(predictions), how='inner')\n",
    "    result.columns = ['true_values', 'predicted_values']\n",
    "    display(result.sort_values('predicted_values', ascending=False))\n",
    "    print('Cреднее предсказанное',result['predicted_values'].mean(), \", RSME \", mean_squared_error(target_valid,\n",
    "                                                                        predictions)**0.5)\n",
    "    return result, predictions, target_valid"
   ]
  },
  {
   "cell_type": "code",
   "execution_count": 25,
   "metadata": {},
   "outputs": [
    {
     "data": {
      "text/html": [
       "<div>\n",
       "<style scoped>\n",
       "    .dataframe tbody tr th:only-of-type {\n",
       "        vertical-align: middle;\n",
       "    }\n",
       "\n",
       "    .dataframe tbody tr th {\n",
       "        vertical-align: top;\n",
       "    }\n",
       "\n",
       "    .dataframe thead th {\n",
       "        text-align: right;\n",
       "    }\n",
       "</style>\n",
       "<table border=\"1\" class=\"dataframe\">\n",
       "  <thead>\n",
       "    <tr style=\"text-align: right;\">\n",
       "      <th></th>\n",
       "      <th>true_values</th>\n",
       "      <th>predicted_values</th>\n",
       "    </tr>\n",
       "  </thead>\n",
       "  <tbody>\n",
       "    <tr>\n",
       "      <td>6958</td>\n",
       "      <td>153.639837</td>\n",
       "      <td>176.536104</td>\n",
       "    </tr>\n",
       "    <tr>\n",
       "      <td>18194</td>\n",
       "      <td>140.631646</td>\n",
       "      <td>176.274510</td>\n",
       "    </tr>\n",
       "    <tr>\n",
       "      <td>17251</td>\n",
       "      <td>178.879516</td>\n",
       "      <td>173.249504</td>\n",
       "    </tr>\n",
       "    <tr>\n",
       "      <td>457</td>\n",
       "      <td>176.807828</td>\n",
       "      <td>172.802708</td>\n",
       "    </tr>\n",
       "    <tr>\n",
       "      <td>2202</td>\n",
       "      <td>130.985681</td>\n",
       "      <td>172.744977</td>\n",
       "    </tr>\n",
       "    <tr>\n",
       "      <td>...</td>\n",
       "      <td>...</td>\n",
       "      <td>...</td>\n",
       "    </tr>\n",
       "    <tr>\n",
       "      <td>24951</td>\n",
       "      <td>49.374929</td>\n",
       "      <td>9.986965</td>\n",
       "    </tr>\n",
       "    <tr>\n",
       "      <td>8613</td>\n",
       "      <td>40.181343</td>\n",
       "      <td>9.867996</td>\n",
       "    </tr>\n",
       "    <tr>\n",
       "      <td>11880</td>\n",
       "      <td>25.956984</td>\n",
       "      <td>8.503684</td>\n",
       "    </tr>\n",
       "    <tr>\n",
       "      <td>6966</td>\n",
       "      <td>11.018692</td>\n",
       "      <td>4.600630</td>\n",
       "    </tr>\n",
       "    <tr>\n",
       "      <td>1586</td>\n",
       "      <td>25.069622</td>\n",
       "      <td>-9.836371</td>\n",
       "    </tr>\n",
       "  </tbody>\n",
       "</table>\n",
       "<p>25000 rows × 2 columns</p>\n",
       "</div>"
      ],
      "text/plain": [
       "       true_values  predicted_values\n",
       "6958    153.639837        176.536104\n",
       "18194   140.631646        176.274510\n",
       "17251   178.879516        173.249504\n",
       "457     176.807828        172.802708\n",
       "2202    130.985681        172.744977\n",
       "...            ...               ...\n",
       "24951    49.374929          9.986965\n",
       "8613     40.181343          9.867996\n",
       "11880    25.956984          8.503684\n",
       "6966     11.018692          4.600630\n",
       "1586     25.069622         -9.836371\n",
       "\n",
       "[25000 rows x 2 columns]"
      ]
     },
     "metadata": {},
     "output_type": "display_data"
    },
    {
     "name": "stdout",
     "output_type": "stream",
     "text": [
      "Cреднее предсказанное 92.39879990657768 , RSME  37.75660035026169\n"
     ]
    }
   ],
   "source": [
    "result_0, predictions_0, target_valid_0 = reg_model(features_train_0, target_train_0, features_valid_0, target_valid_0)"
   ]
  },
  {
   "cell_type": "markdown",
   "metadata": {},
   "source": [
    "Достаточно большое значение ошибки, однако, не говорит нам о непригодности модели. Прежде, чем делать какие-либо выводы, проведем такой же эксперимент для всех наборов данных и сравним полученные значения."
   ]
  },
  {
   "cell_type": "code",
   "execution_count": 26,
   "metadata": {},
   "outputs": [
    {
     "data": {
      "text/html": [
       "<div>\n",
       "<style scoped>\n",
       "    .dataframe tbody tr th:only-of-type {\n",
       "        vertical-align: middle;\n",
       "    }\n",
       "\n",
       "    .dataframe tbody tr th {\n",
       "        vertical-align: top;\n",
       "    }\n",
       "\n",
       "    .dataframe thead th {\n",
       "        text-align: right;\n",
       "    }\n",
       "</style>\n",
       "<table border=\"1\" class=\"dataframe\">\n",
       "  <thead>\n",
       "    <tr style=\"text-align: right;\">\n",
       "      <th></th>\n",
       "      <th>true_values</th>\n",
       "      <th>predicted_values</th>\n",
       "    </tr>\n",
       "  </thead>\n",
       "  <tbody>\n",
       "    <tr>\n",
       "      <td>20776</td>\n",
       "      <td>137.945408</td>\n",
       "      <td>139.983277</td>\n",
       "    </tr>\n",
       "    <tr>\n",
       "      <td>2323</td>\n",
       "      <td>137.945408</td>\n",
       "      <td>139.700803</td>\n",
       "    </tr>\n",
       "    <tr>\n",
       "      <td>13895</td>\n",
       "      <td>137.945408</td>\n",
       "      <td>139.616544</td>\n",
       "    </tr>\n",
       "    <tr>\n",
       "      <td>6950</td>\n",
       "      <td>137.945408</td>\n",
       "      <td>139.514768</td>\n",
       "    </tr>\n",
       "    <tr>\n",
       "      <td>9151</td>\n",
       "      <td>137.945408</td>\n",
       "      <td>139.472212</td>\n",
       "    </tr>\n",
       "    <tr>\n",
       "      <td>...</td>\n",
       "      <td>...</td>\n",
       "      <td>...</td>\n",
       "    </tr>\n",
       "    <tr>\n",
       "      <td>24107</td>\n",
       "      <td>0.000000</td>\n",
       "      <td>-1.567600</td>\n",
       "    </tr>\n",
       "    <tr>\n",
       "      <td>142</td>\n",
       "      <td>0.000000</td>\n",
       "      <td>-1.602472</td>\n",
       "    </tr>\n",
       "    <tr>\n",
       "      <td>18511</td>\n",
       "      <td>0.000000</td>\n",
       "      <td>-1.920818</td>\n",
       "    </tr>\n",
       "    <tr>\n",
       "      <td>10542</td>\n",
       "      <td>0.000000</td>\n",
       "      <td>-1.927421</td>\n",
       "    </tr>\n",
       "    <tr>\n",
       "      <td>20380</td>\n",
       "      <td>0.000000</td>\n",
       "      <td>-2.070621</td>\n",
       "    </tr>\n",
       "  </tbody>\n",
       "</table>\n",
       "<p>25000 rows × 2 columns</p>\n",
       "</div>"
      ],
      "text/plain": [
       "       true_values  predicted_values\n",
       "20776   137.945408        139.983277\n",
       "2323    137.945408        139.700803\n",
       "13895   137.945408        139.616544\n",
       "6950    137.945408        139.514768\n",
       "9151    137.945408        139.472212\n",
       "...            ...               ...\n",
       "24107     0.000000         -1.567600\n",
       "142       0.000000         -1.602472\n",
       "18511     0.000000         -1.920818\n",
       "10542     0.000000         -1.927421\n",
       "20380     0.000000         -2.070621\n",
       "\n",
       "[25000 rows x 2 columns]"
      ]
     },
     "metadata": {},
     "output_type": "display_data"
    },
    {
     "name": "stdout",
     "output_type": "stream",
     "text": [
      "Cреднее предсказанное 68.71287803913764 , RSME  0.8902801001028828\n"
     ]
    }
   ],
   "source": [
    "result_1, predictions_1, target_valid_1 = reg_model(features_train_1, target_train_1, features_valid_1, target_valid_1)"
   ]
  },
  {
   "cell_type": "markdown",
   "metadata": {},
   "source": [
    "Среднее значительно уменьшилось, однако и ошибка в предсказаниях значительно снизилась. Это произошло из-за сильной связи одного из признаков с целевым значением."
   ]
  },
  {
   "cell_type": "code",
   "execution_count": 27,
   "metadata": {},
   "outputs": [
    {
     "data": {
      "text/html": [
       "<div>\n",
       "<style scoped>\n",
       "    .dataframe tbody tr th:only-of-type {\n",
       "        vertical-align: middle;\n",
       "    }\n",
       "\n",
       "    .dataframe tbody tr th {\n",
       "        vertical-align: top;\n",
       "    }\n",
       "\n",
       "    .dataframe thead th {\n",
       "        text-align: right;\n",
       "    }\n",
       "</style>\n",
       "<table border=\"1\" class=\"dataframe\">\n",
       "  <thead>\n",
       "    <tr style=\"text-align: right;\">\n",
       "      <th></th>\n",
       "      <th>true_values</th>\n",
       "      <th>predicted_values</th>\n",
       "    </tr>\n",
       "  </thead>\n",
       "  <tbody>\n",
       "    <tr>\n",
       "      <td>21852</td>\n",
       "      <td>101.225039</td>\n",
       "      <td>170.529209</td>\n",
       "    </tr>\n",
       "    <tr>\n",
       "      <td>10722</td>\n",
       "      <td>151.655778</td>\n",
       "      <td>169.673332</td>\n",
       "    </tr>\n",
       "    <tr>\n",
       "      <td>6209</td>\n",
       "      <td>92.947333</td>\n",
       "      <td>165.300724</td>\n",
       "    </tr>\n",
       "    <tr>\n",
       "      <td>8203</td>\n",
       "      <td>97.775979</td>\n",
       "      <td>164.613896</td>\n",
       "    </tr>\n",
       "    <tr>\n",
       "      <td>8042</td>\n",
       "      <td>122.460897</td>\n",
       "      <td>163.964000</td>\n",
       "    </tr>\n",
       "    <tr>\n",
       "      <td>...</td>\n",
       "      <td>...</td>\n",
       "      <td>...</td>\n",
       "    </tr>\n",
       "    <tr>\n",
       "      <td>13102</td>\n",
       "      <td>6.791976</td>\n",
       "      <td>21.248179</td>\n",
       "    </tr>\n",
       "    <tr>\n",
       "      <td>22290</td>\n",
       "      <td>26.869800</td>\n",
       "      <td>20.060889</td>\n",
       "    </tr>\n",
       "    <tr>\n",
       "      <td>18932</td>\n",
       "      <td>60.244891</td>\n",
       "      <td>19.724953</td>\n",
       "    </tr>\n",
       "    <tr>\n",
       "      <td>20176</td>\n",
       "      <td>62.903882</td>\n",
       "      <td>19.328754</td>\n",
       "    </tr>\n",
       "    <tr>\n",
       "      <td>18186</td>\n",
       "      <td>11.763166</td>\n",
       "      <td>16.196849</td>\n",
       "    </tr>\n",
       "  </tbody>\n",
       "</table>\n",
       "<p>25000 rows × 2 columns</p>\n",
       "</div>"
      ],
      "text/plain": [
       "       true_values  predicted_values\n",
       "21852   101.225039        170.529209\n",
       "10722   151.655778        169.673332\n",
       "6209     92.947333        165.300724\n",
       "8203     97.775979        164.613896\n",
       "8042    122.460897        163.964000\n",
       "...            ...               ...\n",
       "13102     6.791976         21.248179\n",
       "22290    26.869800         20.060889\n",
       "18932    60.244891         19.724953\n",
       "20176    62.903882         19.328754\n",
       "18186    11.763166         16.196849\n",
       "\n",
       "[25000 rows x 2 columns]"
      ]
     },
     "metadata": {},
     "output_type": "display_data"
    },
    {
     "name": "stdout",
     "output_type": "stream",
     "text": [
      "Cреднее предсказанное 94.77102387765939 , RSME  40.145872311342174\n"
     ]
    }
   ],
   "source": [
    "result_2, predictions_2, target_valid_2 = reg_model(features_train_2, target_train_2, features_valid_2, target_valid_2)"
   ]
  },
  {
   "cell_type": "markdown",
   "metadata": {},
   "source": [
    "Самое большое значение среднего, но и самая большая ошибка, в третьем наборе данных. Такие высокие значения  ошибок могут негативно сказаться в дальнейшем анализе про подсчете рисков и с этой точки зрения, самой выйгрышной кажется второе месторождение. Однако, не стоит забывать, что там самый маленький показатель запасов в среднем. Попробуем посчитать прибыль с каждого региона, но сначала подготовим некоторые данные"
   ]
  },
  {
   "cell_type": "markdown",
   "metadata": {},
   "source": [
    "## Подготовка к расчёту прибыли"
   ]
  },
  {
   "cell_type": "markdown",
   "metadata": {},
   "source": [
    "Определим наши константы и посчитаем максимальный объем расходов на одну вышку и объем безубыточной добычи"
   ]
  },
  {
   "cell_type": "code",
   "execution_count": 28,
   "metadata": {},
   "outputs": [
    {
     "name": "stdout",
     "output_type": "stream",
     "text": [
      "Бюджет на одну скважину 50000000.0\n",
      "Объем безубыточной добычи 111.1\n"
     ]
    }
   ],
   "source": [
    "TOTAL_BUDGET = 10_000_000_000\n",
    "PRICE_PER_ONE = 450_000\n",
    "WELL_TOTAL = 200\n",
    "budget_on_well = TOTAL_BUDGET/WELL_TOTAL\n",
    "volume_min = TOTAL_BUDGET/(WELL_TOTAL*PRICE_PER_ONE)\n",
    "print(\"Бюджет на одну скважину\", budget_on_well)\n",
    "print(\"Объем безубыточной добычи\", round(volume_min, 1))"
   ]
  },
  {
   "cell_type": "markdown",
   "metadata": {},
   "source": [
    "Пока ни одно из месторождений не превысило уровень безубыточной добычи, так как средние значения существенно отличаются от полученного."
   ]
  },
  {
   "cell_type": "markdown",
   "metadata": {},
   "source": [
    "Для предварительного расчета прибыли напишем функцию, оценивающую потенциальную прибыль по нашим предсказаниям."
   ]
  },
  {
   "cell_type": "code",
   "execution_count": 29,
   "metadata": {},
   "outputs": [],
   "source": [
    "def predicted_profit(result):\n",
    "    best_wells_volume = result.sort_values('predicted_values', ascending=False).head(WELL_TOTAL)\n",
    "    region_profit = best_wells_volume['true_values'].sum()*PRICE_PER_ONE - TOTAL_BUDGET\n",
    "    return region_profit   "
   ]
  },
  {
   "cell_type": "code",
   "execution_count": 30,
   "metadata": {},
   "outputs": [
    {
     "name": "stdout",
     "output_type": "stream",
     "text": [
      "Прибыль в первом регионе 3359.14 млн руб\n"
     ]
    }
   ],
   "source": [
    "profit_0 = predicted_profit(result_0)\n",
    "print(\"Прибыль в первом регионе\", round(profit_0/1000000, 2), 'млн руб')"
   ]
  },
  {
   "cell_type": "code",
   "execution_count": 31,
   "metadata": {},
   "outputs": [
    {
     "name": "stdout",
     "output_type": "stream",
     "text": [
      "Прибыль во втором регионе 2415.09 млн руб\n"
     ]
    }
   ],
   "source": [
    "profit_1 = predicted_profit(result_1)\n",
    "print(\"Прибыль во втором регионе\", round(profit_1/1000000, 2), 'млн руб')"
   ]
  },
  {
   "cell_type": "code",
   "execution_count": 32,
   "metadata": {},
   "outputs": [
    {
     "name": "stdout",
     "output_type": "stream",
     "text": [
      "Прибыль в третьем регионе 2598.57 млн руб\n"
     ]
    }
   ],
   "source": [
    "profit_2 = predicted_profit(result_2)\n",
    "print(\"Прибыль в третьем регионе\", round(profit_2/1000000, 2), 'млн руб')"
   ]
  },
  {
   "cell_type": "markdown",
   "metadata": {},
   "source": [
    "Согласно предварительным расчетам, самым прибыльным для разработки оказался первый регион, на втором месте третий, а замыкает \"парад\" второй регион, показывающий минимальное значение потенциальной прибыли."
   ]
  },
  {
   "cell_type": "markdown",
   "metadata": {},
   "source": [
    "## Расчёт прибыли и рисков "
   ]
  },
  {
   "cell_type": "markdown",
   "metadata": {},
   "source": [
    "Для расчета прибыли и рисков применим технику бутстреп- разделим наши наборы данных на подвыборки, и оценим среднюю прибыль в каждом регионе, 95%-й доверительный интервал и риск убытков. Убыток — это отрицательная прибыль. Для упрощения задачи напишем функцию"
   ]
  },
  {
   "cell_type": "code",
   "execution_count": 33,
   "metadata": {},
   "outputs": [],
   "source": [
    "state = np.random.RandomState(42)"
   ]
  },
  {
   "cell_type": "code",
   "execution_count": 34,
   "metadata": {},
   "outputs": [],
   "source": [
    "def bs(target, probabilities):\n",
    "    values = []\n",
    "    for _ in range(1000):\n",
    "        target_subsample = target.sample(n=500, replace=True, random_state=state)\n",
    "        probs_subsample = probabilities[target_subsample.index]\n",
    "        target_subsample=pd.DataFrame(target_subsample)\n",
    "        target_subsample = target_subsample.reset_index(drop=True)\n",
    "        probs_subsample = pd.DataFrame(probs_subsample)\n",
    "        probs_subsample=probs_subsample.reset_index(drop=True)\n",
    "        result = target_subsample.join(probs_subsample, how='inner')\n",
    "        result.columns = ['true_values', 'predicted_values']\n",
    "        values.append(predicted_profit(result))\n",
    "    values = pd.Series(values)\n",
    "    lower = values.quantile(.025)\n",
    "    upper = values.quantile(.975)\n",
    "    mean = values.mean()\n",
    "    risk = stats.percentileofscore(values, 0)/100\n",
    "    #risk = (values < 0).mean()\n",
    "    plt.subplots(figsize=(12,12))\n",
    "    plt.title('Распределение дохода в регионе после применения bootsrap', loc = 'center', fontsize = 20)\n",
    "    plt.ylabel('Количество выборок', size = 14)\n",
    "    plt.xlabel('Доход', size = 14)\n",
    "    values.hist()\n",
    "    plt.show()\n",
    "    print(\"Средняя выручка:\", round(mean/1000000, 2), \"млн. руб\")\n",
    "    print(\"Предполагаемые риски убытка {:.2%}\".format(risk))\n",
    "    print(\"2.5%-квантиль:\", round(lower/1000000, 2), \"млн. руб\")\n",
    "    print(\"97.5%-квантиль:\", round(upper/1000000, 2), \"млн. руб\")\n",
    "    return "
   ]
  },
  {
   "cell_type": "code",
   "execution_count": 35,
   "metadata": {
    "scrolled": false
   },
   "outputs": [
    {
     "data": {
      "image/png": "[encoded data removed]",
      "text/plain": [
       "<Figure size 864x864 with 1 Axes>"
      ]
     },
     "metadata": {
      "needs_background": "light"
     },
     "output_type": "display_data"
    },
    {
     "name": "stdout",
     "output_type": "stream",
     "text": [
      "Средняя выручка: 399.58 млн. руб\n",
      "Предполагаемые риски убытка 6.00%\n",
      "2.5%-квантиль: -110.47 млн. руб\n",
      "97.5%-квантиль: 897.46 млн. руб\n"
     ]
    }
   ],
   "source": [
    "bs(target_valid_0, predictions_0)"
   ]
  },
  {
   "cell_type": "code",
   "execution_count": 36,
   "metadata": {},
   "outputs": [
    {
     "data": {
      "image/png": "[encoded data removed]",
      "text/plain": [
       "<Figure size 864x864 with 1 Axes>"
      ]
     },
     "metadata": {
      "needs_background": "light"
     },
     "output_type": "display_data"
    },
    {
     "name": "stdout",
     "output_type": "stream",
     "text": [
      "Средняя выручка: 452.58 млн. руб\n",
      "Предполагаемые риски убытка 0.90%\n",
      "2.5%-квантиль: 52.31 млн. руб\n",
      "97.5%-квантиль: 830.15 млн. руб\n"
     ]
    }
   ],
   "source": [
    "bs(target_valid_1, predictions_1)"
   ]
  },
  {
   "cell_type": "code",
   "execution_count": 37,
   "metadata": {},
   "outputs": [
    {
     "data": {
      "image/png": "[encoded data removed]",
      "text/plain": [
       "<Figure size 864x864 with 1 Axes>"
      ]
     },
     "metadata": {
      "needs_background": "light"
     },
     "output_type": "display_data"
    },
    {
     "name": "stdout",
     "output_type": "stream",
     "text": [
      "Средняя выручка: 378.71 млн. руб\n",
      "Предполагаемые риски убытка 7.50%\n",
      "2.5%-квантиль: -127.78 млн. руб\n",
      "97.5%-квантиль: 907.92 млн. руб\n"
     ]
    }
   ],
   "source": [
    "bs(target_valid_2, predictions_2)"
   ]
  },
  {
   "cell_type": "markdown",
   "metadata": {},
   "source": [
    "Удивительно, однако по результатам исследования самым прибыльным оказалось именно второе месторождение. Более того, показатели риска у этого месторождения ниже процента, тогда как у остальных риски составляют от 6 до 7.5%, а средня выручка значительно ниже. Доверительный интервал  находится \"выше\" нуля, однако его верхняя граница ниже максимально достигнутой."
   ]
  },
  {
   "cell_type": "markdown",
   "metadata": {},
   "source": [
    "**Вывод:**\n",
    "\n",
    "На основании проведенного исследования предоставленных данных рекомендую выбрать для разработки учаток №2. При небольших рисках потенциальная прибыль с этого участка, согласно предсказаний модели, самая высокая, а доверительный интервал для средней прибыли с участка значительно \"выше\" нуля, в отличие от остальных предложенных к рассмотрению. Всё это позволяет с уверенностью утверждать, что разработка этого участка окажется наиболее выгодной для компании."
   ]
  }
 ],
 "metadata": {
  "kernelspec": {
   "display_name": "Python 3",
   "language": "python",
   "name": "python3"
  },
  "language_info": {
   "codemirror_mode": {
    "name": "ipython",
    "version": 3
   },
   "file_extension": ".py",
   "mimetype": "text/x-python",
   "name": "python",
   "nbconvert_exporter": "python",
   "pygments_lexer": "ipython3",
   "version": "3.8.8"
  },
  "toc": {
   "base_numbering": 1,
   "nav_menu": {},
   "number_sections": true,
   "sideBar": true,
   "skip_h1_title": true,
   "title_cell": "Table of Contents",
   "title_sidebar": "Contents",
   "toc_cell": false,
   "toc_position": {},
   "toc_section_display": true,
   "toc_window_display": false
  }
 },
 "nbformat": 4,
 "nbformat_minor": 2
}
