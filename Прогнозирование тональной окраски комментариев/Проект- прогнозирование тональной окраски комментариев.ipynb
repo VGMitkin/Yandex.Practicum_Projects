{
 "cells": [
  {
   "cell_type": "markdown",
   "metadata": {
    "id": "LAl25jB14y6e"
   },
   "source": [
    "# Проект. Прогнозирование тональной окраски комментариев\n",
    "## Глава 0. Входные данные\n",
    "\n",
    "Интернет-магазин «Викишоп» запускает новый сервис. Теперь пользователи могут редактировать и дополнять описания товаров, как в вики-сообществах. То есть клиенты предлагают свои правки и комментируют изменения других. Магазину нужен инструмент, который будет искать токсичные комментарии и отправлять их на модерацию. \n",
    "\n",
    "Необходимо обучить модель классифицировать комментарии на позитивные и негативные. В распоряжении набор данных с разметкой о токсичности правок.\n",
    "\n",
    "Требуется модель со значением метрики качества *F1* не меньше 0.75. \n",
    "\n",
    "\n",
    "### Описание данных\n",
    "\n",
    "Признаки:  \n",
    "- `text` — текст комментария  \n",
    "\n",
    "Целевой признак:\n",
    "- `toxic` — оценка токсичности комментария (1 - да, 0 - нет)"
   ]
  },
  {
   "cell_type": "markdown",
   "metadata": {
    "id": "0SgkkaL44y6f"
   },
   "source": [
    "## Глава 1. Загрузка и подготовка данных"
   ]
  },
  {
   "cell_type": "markdown",
   "metadata": {
    "id": "Alzh6M1m4y6f"
   },
   "source": [
    "Вызовем основные библиотеки, необходимые для реализации проекта"
   ]
  },
  {
   "cell_type": "code",
   "execution_count": 1,
   "metadata": {
    "id": "oJwK17DC4y6f"
   },
   "outputs": [],
   "source": [
    "import pandas as pd\n",
    "import numpy as np\n",
    "import matplotlib.pyplot as plt\n",
    "from sklearn.utils import shuffle\n",
    "from sklearn.model_selection import train_test_split\n",
    "import seaborn as sns\n",
    "import re\n",
    "from sklearn.metrics import f1_score\n",
    "import nltk\n",
    "from nltk.corpus import wordnet\n",
    "from nltk.corpus import stopwords\n",
    "from nltk.stem import WordNetLemmatizer \n",
    "from sklearn.feature_extraction.text import TfidfVectorizer\n",
    "from sklearn.model_selection import GridSearchCV\n",
    "from sklearn.model_selection import ShuffleSplit\n",
    "from sklearn.linear_model import LogisticRegression\n",
    "from xgboost import XGBClassifier\n",
    "from catboost import CatBoostClassifier\n",
    "from lightgbm import LGBMClassifier\n",
    "from sklearn.model_selection import cross_val_score\n",
    "from tqdm import notebook\n",
    "import torch\n",
    "import transformers as ppb\n",
    "from sklearn.dummy import DummyClassifier\n",
    "import warnings\n",
    "warnings.filterwarnings('ignore')"
   ]
  },
  {
   "cell_type": "markdown",
   "metadata": {
    "id": "zLCqJFiu4y6g"
   },
   "source": [
    "Прочитаем файл, создадим ДатаФрейм, выведем таблицу:"
   ]
  },
  {
   "cell_type": "code",
   "execution_count": 2,
   "metadata": {
    "colab": {
     "base_uri": "https://localhost:8080/",
     "height": 419
    },
    "id": "fDBr48VE4y6g",
    "outputId": "22a0cec1-bfb8-42f0-a25b-e904a5de16b7"
   },
   "outputs": [
    {
     "data": {
      "text/html": [
       "<div>\n",
       "<style scoped>\n",
       "    .dataframe tbody tr th:only-of-type {\n",
       "        vertical-align: middle;\n",
       "    }\n",
       "\n",
       "    .dataframe tbody tr th {\n",
       "        vertical-align: top;\n",
       "    }\n",
       "\n",
       "    .dataframe thead th {\n",
       "        text-align: right;\n",
       "    }\n",
       "</style>\n",
       "<table border=\"1\" class=\"dataframe\">\n",
       "  <thead>\n",
       "    <tr style=\"text-align: right;\">\n",
       "      <th></th>\n",
       "      <th>text</th>\n",
       "      <th>toxic</th>\n",
       "    </tr>\n",
       "  </thead>\n",
       "  <tbody>\n",
       "    <tr>\n",
       "      <th>0</th>\n",
       "      <td>Explanation\\nWhy the edits made under my usern...</td>\n",
       "      <td>0</td>\n",
       "    </tr>\n",
       "    <tr>\n",
       "      <th>1</th>\n",
       "      <td>D'aww! He matches this background colour I'm s...</td>\n",
       "      <td>0</td>\n",
       "    </tr>\n",
       "    <tr>\n",
       "      <th>2</th>\n",
       "      <td>Hey man, I'm really not trying to edit war. It...</td>\n",
       "      <td>0</td>\n",
       "    </tr>\n",
       "    <tr>\n",
       "      <th>3</th>\n",
       "      <td>\"\\nMore\\nI can't make any real suggestions on ...</td>\n",
       "      <td>0</td>\n",
       "    </tr>\n",
       "    <tr>\n",
       "      <th>4</th>\n",
       "      <td>You, sir, are my hero. Any chance you remember...</td>\n",
       "      <td>0</td>\n",
       "    </tr>\n",
       "    <tr>\n",
       "      <th>...</th>\n",
       "      <td>...</td>\n",
       "      <td>...</td>\n",
       "    </tr>\n",
       "    <tr>\n",
       "      <th>159566</th>\n",
       "      <td>\":::::And for the second time of asking, when ...</td>\n",
       "      <td>0</td>\n",
       "    </tr>\n",
       "    <tr>\n",
       "      <th>159567</th>\n",
       "      <td>You should be ashamed of yourself \\n\\nThat is ...</td>\n",
       "      <td>0</td>\n",
       "    </tr>\n",
       "    <tr>\n",
       "      <th>159568</th>\n",
       "      <td>Spitzer \\n\\nUmm, theres no actual article for ...</td>\n",
       "      <td>0</td>\n",
       "    </tr>\n",
       "    <tr>\n",
       "      <th>159569</th>\n",
       "      <td>And it looks like it was actually you who put ...</td>\n",
       "      <td>0</td>\n",
       "    </tr>\n",
       "    <tr>\n",
       "      <th>159570</th>\n",
       "      <td>\"\\nAnd ... I really don't think you understand...</td>\n",
       "      <td>0</td>\n",
       "    </tr>\n",
       "  </tbody>\n",
       "</table>\n",
       "<p>159571 rows × 2 columns</p>\n",
       "</div>"
      ],
      "text/plain": [
       "                                                     text  toxic\n",
       "0       Explanation\\nWhy the edits made under my usern...      0\n",
       "1       D'aww! He matches this background colour I'm s...      0\n",
       "2       Hey man, I'm really not trying to edit war. It...      0\n",
       "3       \"\\nMore\\nI can't make any real suggestions on ...      0\n",
       "4       You, sir, are my hero. Any chance you remember...      0\n",
       "...                                                   ...    ...\n",
       "159566  \":::::And for the second time of asking, when ...      0\n",
       "159567  You should be ashamed of yourself \\n\\nThat is ...      0\n",
       "159568  Spitzer \\n\\nUmm, theres no actual article for ...      0\n",
       "159569  And it looks like it was actually you who put ...      0\n",
       "159570  \"\\nAnd ... I really don't think you understand...      0\n",
       "\n",
       "[159571 rows x 2 columns]"
      ]
     },
     "execution_count": 2,
     "metadata": {},
     "output_type": "execute_result"
    }
   ],
   "source": [
    "try:\n",
    "    df = pd.read_csv('https://code.s3.yandex.net/datasets/toxic_comments.csv') # для загрузки из облака\n",
    "except:\n",
    "    df = pd.read_csv('C:/Users/Vladislav/Downloads/toxic_comments.csv') # локально\n",
    "#df = pd.read_csv('/content/drive/MyDrive/Colab Notebooks/toxic_comments.csv') # google colab\n",
    "df"
   ]
  },
  {
   "cell_type": "markdown",
   "metadata": {
    "id": "0RAtNUv_4y6g"
   },
   "source": [
    "Выведем информацию о таблице через метод `.info()`:"
   ]
  },
  {
   "cell_type": "code",
   "execution_count": 3,
   "metadata": {
    "colab": {
     "base_uri": "https://localhost:8080/"
    },
    "id": "iOhax_Lp4y6g",
    "outputId": "9cae8e8e-80da-4ff2-bbdd-73e407ce49ea"
   },
   "outputs": [
    {
     "name": "stdout",
     "output_type": "stream",
     "text": [
      "<class 'pandas.core.frame.DataFrame'>\n",
      "RangeIndex: 159571 entries, 0 to 159570\n",
      "Data columns (total 2 columns):\n",
      " #   Column  Non-Null Count   Dtype \n",
      "---  ------  --------------   ----- \n",
      " 0   text    159571 non-null  object\n",
      " 1   toxic   159571 non-null  int64 \n",
      "dtypes: int64(1), object(1)\n",
      "memory usage: 2.4+ MB\n"
     ]
    }
   ],
   "source": [
    "df.info()"
   ]
  },
  {
   "cell_type": "markdown",
   "metadata": {},
   "source": [
    "Видно,что датасет состоит только из двух столбцов: комментариев и предварительной разметки. Комментарии содержатся в виде непредобработанного текста, которым нам предстоит заняться. Также, видно, что пропуски отсутствуют, это существенно облегчит задачу обучения моделей."
   ]
  },
  {
   "cell_type": "markdown",
   "metadata": {
    "id": "cA8WhTok4y6h"
   },
   "source": [
    "Посмотрим на распределение целевого признака"
   ]
  },
  {
   "cell_type": "code",
   "execution_count": 4,
   "metadata": {
    "colab": {
     "base_uri": "https://localhost:8080/",
     "height": 265
    },
    "id": "n9hgfqo64y6h",
    "outputId": "cf44f21a-aae3-466d-a49e-ca3ad241c60d"
   },
   "outputs": [
    {
     "name": "stdout",
     "output_type": "stream",
     "text": [
      "\u001b[1m Распределение целевого признака \u001b[0m\n"
     ]
    },
    {
     "data": {
      "image/png": "[encoded data removed]",
      "text/plain": [
       "<Figure size 864x576 with 1 Axes>"
      ]
     },
     "metadata": {
      "needs_background": "light"
     },
     "output_type": "display_data"
    }
   ],
   "source": [
    "print('\\033[1m Распределение целевого признака \\033[0m')\n",
    "fig, ax = plt.subplots(figsize=(12, 8))\n",
    "plt.xticks(rotation=90)\n",
    "sns.countplot(df['toxic'])\n",
    "plt.xlabel('Целевой признак')\n",
    "plt.ylabel('Плотность частоты')\n",
    "plt.show()"
   ]
  },
  {
   "cell_type": "code",
   "execution_count": 5,
   "metadata": {
    "colab": {
     "base_uri": "https://localhost:8080/"
    },
    "id": "NDMn8cBs4y6h",
    "outputId": "eac9f8e4-b068-4e3a-90c4-ae7a8084603a"
   },
   "outputs": [
    {
     "data": {
      "text/plain": [
       "0    143346\n",
       "1     16225\n",
       "Name: toxic, dtype: int64"
      ]
     },
     "execution_count": 5,
     "metadata": {},
     "output_type": "execute_result"
    }
   ],
   "source": [
    "df['toxic'].value_counts()"
   ]
  },
  {
   "cell_type": "markdown",
   "metadata": {
    "id": "49nh0O9g4y6h"
   },
   "source": [
    "Присутствует дисбаланс в целевом признаке. Количество токсичных комментариев значительно меньше. Необходимо это учеть при обучении моделей."
   ]
  },
  {
   "cell_type": "markdown",
   "metadata": {
    "id": "HIJeWHDH4y6h"
   },
   "source": [
    "Прежде чем извлечь признаки из текста, упростим его.  \n",
    "Воспользуемся Лемматизацией — приведение слова к начальной форме"
   ]
  },
  {
   "cell_type": "code",
   "execution_count": 6,
   "metadata": {
    "colab": {
     "base_uri": "https://localhost:8080/"
    },
    "id": "jlsz1JOG4y6h",
    "outputId": "7e7376dc-0229-46d8-9663-78cd490fbb69"
   },
   "outputs": [
    {
     "name": "stderr",
     "output_type": "stream",
     "text": [
      "[nltk_data] Downloading package wordnet to\n",
      "[nltk_data]     C:\\Users\\Vladislav\\AppData\\Roaming\\nltk_data...\n",
      "[nltk_data]   Package wordnet is already up-to-date!\n",
      "[nltk_data] Downloading package averaged_perceptron_tagger to\n",
      "[nltk_data]     C:\\Users\\Vladislav\\AppData\\Roaming\\nltk_data...\n",
      "[nltk_data]   Package averaged_perceptron_tagger is already up-to-\n",
      "[nltk_data]       date!\n",
      "[nltk_data] Downloading package punkt to\n",
      "[nltk_data]     C:\\Users\\Vladislav\\AppData\\Roaming\\nltk_data...\n",
      "[nltk_data]   Package punkt is already up-to-date!\n"
     ]
    },
    {
     "data": {
      "text/plain": [
       "True"
      ]
     },
     "execution_count": 6,
     "metadata": {},
     "output_type": "execute_result"
    }
   ],
   "source": [
    "nltk.download('wordnet')\n",
    "nltk.download('averaged_perceptron_tagger')\n",
    "nltk.download('punkt')"
   ]
  },
  {
   "cell_type": "markdown",
   "metadata": {
    "id": "7v0_iUx54y6i"
   },
   "source": [
    "Для того, чтобы найти правильный POS-тег для каждого слова, сопоставим его с правильным входным символом, который принимает WordnetLemmatizer, и передадим его в качестве второго аргумента в lemmatize().  \n",
    "В nltk для этого есть метод nltk.pos_tag(). Он принимает список слов, а возвращает кортеж с тегом POS. Ключевым моментом здесь является сопоставление POS-тегов NLTK с форматом, принятым лемматизатором wordnet."
   ]
  },
  {
   "cell_type": "code",
   "execution_count": 7,
   "metadata": {
    "id": "mrNENHJL4y6j"
   },
   "outputs": [],
   "source": [
    "def get_wordnet_pos(word):\n",
    "    tag = nltk.pos_tag([word])[0][1][0].upper()\n",
    "    tag_dict = {\"J\": wordnet.ADJ,\n",
    "                \"N\": wordnet.NOUN,\n",
    "                \"V\": wordnet.VERB,\n",
    "                \"R\": wordnet.ADV}\n",
    "    return tag_dict.get(tag, wordnet.NOUN)"
   ]
  },
  {
   "cell_type": "code",
   "execution_count": 8,
   "metadata": {
    "id": "drFyto8t4y6j"
   },
   "outputs": [],
   "source": [
    "def lemmatize(text):\n",
    "    lemmatizer = WordNetLemmatizer()\n",
    "    lemm_list = nltk.word_tokenize(text)\n",
    "    lemm_text = ' '.join([lemmatizer.lemmatize(w, get_wordnet_pos(w)) for w in lemm_list])      \n",
    "    return lemm_text"
   ]
  },
  {
   "cell_type": "code",
   "execution_count": 9,
   "metadata": {
    "id": "23eCbr2_4y6j"
   },
   "outputs": [],
   "source": [
    "def clear_text(text):\n",
    "    clear_text = re.sub(r'[^a-zA-Z]', ' ', text)\n",
    "    clear_text = clear_text.lower().split()\n",
    "    return ' '.join(clear_text)"
   ]
  },
  {
   "cell_type": "markdown",
   "metadata": {
    "id": "LYzG-cir4y6j"
   },
   "source": [
    "Проверим, что функции работают корректно на тексте первой строке обучающей выборки:"
   ]
  },
  {
   "cell_type": "code",
   "execution_count": 10,
   "metadata": {
    "colab": {
     "base_uri": "https://localhost:8080/",
     "height": 69
    },
    "id": "dRHQu-fT4y6j",
    "outputId": "d7efbe57-9dcd-4926-c076-3c9f5d1fb698"
   },
   "outputs": [
    {
     "data": {
      "text/plain": [
       "\"Explanation\\nWhy the edits made under my username Hardcore Metallica Fan were reverted? They weren't vandalisms, just closure on some GAs after I voted at New York Dolls FAC. And please don't remove the template from the talk page since I'm retired now.89.205.38.27\""
      ]
     },
     "execution_count": 10,
     "metadata": {},
     "output_type": "execute_result"
    }
   ],
   "source": [
    "df.loc[0, 'text']"
   ]
  },
  {
   "cell_type": "code",
   "execution_count": 11,
   "metadata": {
    "colab": {
     "base_uri": "https://localhost:8080/",
     "height": 69
    },
    "id": "mxKP03tn4y6k",
    "outputId": "4e469593-aaf9-4eb3-b795-3cd322d753dd",
    "scrolled": true
   },
   "outputs": [
    {
     "data": {
      "text/plain": [
       "'explanation why the edits make under my username hardcore metallica fan be revert they weren t vandalism just closure on some gas after i vote at new york doll fac and please don t remove the template from the talk page since i m retire now'"
      ]
     },
     "execution_count": 11,
     "metadata": {},
     "output_type": "execute_result"
    }
   ],
   "source": [
    "lemmatize(clear_text(df.loc[0, 'text']))"
   ]
  },
  {
   "cell_type": "markdown",
   "metadata": {
    "id": "EraQrNAJ4y6k"
   },
   "source": [
    "Проведем лемматизацию для всего столбца:"
   ]
  },
  {
   "cell_type": "code",
   "execution_count": 12,
   "metadata": {
    "id": "G6QL6Fpr4y6k"
   },
   "outputs": [
    {
     "name": "stdout",
     "output_type": "stream",
     "text": [
      "Wall time: 1h 8min 20s\n"
     ]
    }
   ],
   "source": [
    "%%time\n",
    "df['lemm_text'] = df['text'].apply(lambda text: lemmatize(clear_text(text)))"
   ]
  },
  {
   "cell_type": "markdown",
   "metadata": {},
   "source": [
    "(здесь приведен код для импорта данных в основной датафрейм после дополнительного прогона, чтобы не запускать код лемматизации заново. чтобы получить полный датафрейм заново необходимо раскомментировать ячейку выше)"
   ]
  },
  {
   "cell_type": "code",
   "execution_count": 13,
   "metadata": {
    "id": "obHz6S6WQlDk"
   },
   "outputs": [],
   "source": [
    "#df = pd.read_csv('/content/drive/MyDrive/Colab Notebooks/lemm_toxic_comments.csv')#google colab\n",
    "#df = pd.read_csv('lemm_toxic_comments.csv')#локально"
   ]
  },
  {
   "cell_type": "code",
   "execution_count": 14,
   "metadata": {
    "colab": {
     "base_uri": "https://localhost:8080/",
     "height": 204
    },
    "id": "SwDwty3y4y6k",
    "outputId": "9f70119c-aefb-4839-ecc7-b9b20fa8725c"
   },
   "outputs": [
    {
     "data": {
      "text/html": [
       "<div>\n",
       "<style scoped>\n",
       "    .dataframe tbody tr th:only-of-type {\n",
       "        vertical-align: middle;\n",
       "    }\n",
       "\n",
       "    .dataframe tbody tr th {\n",
       "        vertical-align: top;\n",
       "    }\n",
       "\n",
       "    .dataframe thead th {\n",
       "        text-align: right;\n",
       "    }\n",
       "</style>\n",
       "<table border=\"1\" class=\"dataframe\">\n",
       "  <thead>\n",
       "    <tr style=\"text-align: right;\">\n",
       "      <th></th>\n",
       "      <th>text</th>\n",
       "      <th>toxic</th>\n",
       "      <th>lemm_text</th>\n",
       "    </tr>\n",
       "  </thead>\n",
       "  <tbody>\n",
       "    <tr>\n",
       "      <th>117706</th>\n",
       "      <td>Again, my edits references the struggle for th...</td>\n",
       "      <td>0</td>\n",
       "      <td>again my edits reference the struggle for the ...</td>\n",
       "    </tr>\n",
       "    <tr>\n",
       "      <th>158424</th>\n",
       "      <td>Hello Ellibirdfly \\n\\nHello Ellibirdfly, \\n\\nI...</td>\n",
       "      <td>0</td>\n",
       "      <td>hello ellibirdfly hello ellibirdfly i make som...</td>\n",
       "    </tr>\n",
       "    <tr>\n",
       "      <th>127294</th>\n",
       "      <td>Modern Usage \\n\\nMaybe someone can add how han...</td>\n",
       "      <td>0</td>\n",
       "      <td>modern usage maybe someone can add how hang in...</td>\n",
       "    </tr>\n",
       "    <tr>\n",
       "      <th>88478</th>\n",
       "      <td>\"\\nI believe I may have found some more inform...</td>\n",
       "      <td>0</td>\n",
       "      <td>i believe i may have found some more informati...</td>\n",
       "    </tr>\n",
       "    <tr>\n",
       "      <th>116163</th>\n",
       "      <td>\"\\n\\nJust being a nice Wikipedian to inform yo...</td>\n",
       "      <td>0</td>\n",
       "      <td>just be a nice wikipedian to inform you that i...</td>\n",
       "    </tr>\n",
       "    <tr>\n",
       "      <th>140760</th>\n",
       "      <td>Here is the timeline:\\n15:42 I post summary on...</td>\n",
       "      <td>0</td>\n",
       "      <td>here be the timeline i post summary on an i po...</td>\n",
       "    </tr>\n",
       "    <tr>\n",
       "      <th>46916</th>\n",
       "      <td>Thats good enough for me; I removed the tag. L...</td>\n",
       "      <td>0</td>\n",
       "      <td>thats good enough for me i remove the tag look...</td>\n",
       "    </tr>\n",
       "    <tr>\n",
       "      <th>4155</th>\n",
       "      <td>The Description of the page is ad! \\n\\nWhy the...</td>\n",
       "      <td>0</td>\n",
       "      <td>the description of the page be ad why the desc...</td>\n",
       "    </tr>\n",
       "    <tr>\n",
       "      <th>133141</th>\n",
       "      <td>\"\\n\\nLike I said, there is nothing more to tal...</td>\n",
       "      <td>0</td>\n",
       "      <td>like i say there be nothing more to talk about...</td>\n",
       "    </tr>\n",
       "    <tr>\n",
       "      <th>23777</th>\n",
       "      <td>\"\\n\\n No notation on \"\"I Need You?\"\" \\n\\nYou e...</td>\n",
       "      <td>0</td>\n",
       "      <td>no notation on i need you you editor do not kn...</td>\n",
       "    </tr>\n",
       "  </tbody>\n",
       "</table>\n",
       "</div>"
      ],
      "text/plain": [
       "                                                     text  toxic  \\\n",
       "117706  Again, my edits references the struggle for th...      0   \n",
       "158424  Hello Ellibirdfly \\n\\nHello Ellibirdfly, \\n\\nI...      0   \n",
       "127294  Modern Usage \\n\\nMaybe someone can add how han...      0   \n",
       "88478   \"\\nI believe I may have found some more inform...      0   \n",
       "116163  \"\\n\\nJust being a nice Wikipedian to inform yo...      0   \n",
       "140760  Here is the timeline:\\n15:42 I post summary on...      0   \n",
       "46916   Thats good enough for me; I removed the tag. L...      0   \n",
       "4155    The Description of the page is ad! \\n\\nWhy the...      0   \n",
       "133141  \"\\n\\nLike I said, there is nothing more to tal...      0   \n",
       "23777   \"\\n\\n No notation on \"\"I Need You?\"\" \\n\\nYou e...      0   \n",
       "\n",
       "                                                lemm_text  \n",
       "117706  again my edits reference the struggle for the ...  \n",
       "158424  hello ellibirdfly hello ellibirdfly i make som...  \n",
       "127294  modern usage maybe someone can add how hang in...  \n",
       "88478   i believe i may have found some more informati...  \n",
       "116163  just be a nice wikipedian to inform you that i...  \n",
       "140760  here be the timeline i post summary on an i po...  \n",
       "46916   thats good enough for me i remove the tag look...  \n",
       "4155    the description of the page be ad why the desc...  \n",
       "133141  like i say there be nothing more to talk about...  \n",
       "23777   no notation on i need you you editor do not kn...  "
      ]
     },
     "execution_count": 14,
     "metadata": {},
     "output_type": "execute_result"
    }
   ],
   "source": [
    "df.sample(10)"
   ]
  },
  {
   "cell_type": "markdown",
   "metadata": {
    "id": "kY-dv4cb4y6l"
   },
   "source": [
    "Для того, чтобы сохранить результаты лемматизации и не запускать снова трудоемкий процесс, сохраним в csv и будем использовать его."
   ]
  },
  {
   "cell_type": "code",
   "execution_count": 15,
   "metadata": {
    "id": "peqN0l9e4y6l"
   },
   "outputs": [],
   "source": [
    "df.to_csv('lemm_toxic_comments.csv', index=False)"
   ]
  },
  {
   "cell_type": "code",
   "execution_count": 16,
   "metadata": {
    "id": "QFUHLFxY4y6l"
   },
   "outputs": [],
   "source": [
    "df = pd.read_csv('lemm_toxic_comments.csv')"
   ]
  },
  {
   "cell_type": "markdown",
   "metadata": {
    "id": "DX2C-i8n4y6l"
   },
   "source": [
    "Разделим датафрейм на 2 части: обучающую и тестовую выбороки в пропорциях 4:1  "
   ]
  },
  {
   "cell_type": "code",
   "execution_count": 17,
   "metadata": {
    "id": "R7S7nl6_4y6l"
   },
   "outputs": [],
   "source": [
    "train_features, test_features, train_target, test_target = train_test_split(\n",
    "    df['lemm_text'], df['toxic'], test_size=0.25, random_state=17)"
   ]
  },
  {
   "cell_type": "code",
   "execution_count": 18,
   "metadata": {
    "colab": {
     "base_uri": "https://localhost:8080/"
    },
    "id": "r0uGNUsP4y6m",
    "outputId": "57a35a3a-a109-4a31-d92b-1d39c9dd896b"
   },
   "outputs": [
    {
     "data": {
      "text/plain": [
       "((119678,), (39893,), (119678,), (39893,))"
      ]
     },
     "execution_count": 18,
     "metadata": {},
     "output_type": "execute_result"
    }
   ],
   "source": [
    "train_features.shape, test_features.shape, train_target.shape, test_target.shape"
   ]
  },
  {
   "cell_type": "markdown",
   "metadata": {
    "id": "23ABQFq54y6m"
   },
   "source": [
    "Создададим корпуса слов для обучающей и тестовой выборок:"
   ]
  },
  {
   "cell_type": "code",
   "execution_count": 19,
   "metadata": {
    "id": "EjbaoiyZ4y6m"
   },
   "outputs": [],
   "source": [
    "train_corpus = train_features.values.astype('U')\n",
    "test_corpus = test_features.values.astype('U')"
   ]
  },
  {
   "cell_type": "markdown",
   "metadata": {
    "id": "Hs4Jr6al4y6m"
   },
   "source": [
    "Чтобы почистить мешок слов, найдём стоп-слова. Используем stopwords"
   ]
  },
  {
   "cell_type": "code",
   "execution_count": 20,
   "metadata": {
    "colab": {
     "base_uri": "https://localhost:8080/"
    },
    "id": "KdactuiE4y6m",
    "outputId": "1fb2c3bb-c92d-43a8-b4d3-6a4345aa5d29"
   },
   "outputs": [
    {
     "name": "stderr",
     "output_type": "stream",
     "text": [
      "[nltk_data] Downloading package stopwords to\n",
      "[nltk_data]     C:\\Users\\Vladislav\\AppData\\Roaming\\nltk_data...\n",
      "[nltk_data]   Package stopwords is already up-to-date!\n"
     ]
    },
    {
     "data": {
      "text/plain": [
       "True"
      ]
     },
     "execution_count": 20,
     "metadata": {},
     "output_type": "execute_result"
    }
   ],
   "source": [
    "nltk.download('stopwords')"
   ]
  },
  {
   "cell_type": "code",
   "execution_count": 21,
   "metadata": {
    "id": "shNxduUe4y6m"
   },
   "outputs": [],
   "source": [
    "stop_words = set(stopwords.words('english'))"
   ]
  },
  {
   "cell_type": "markdown",
   "metadata": {
    "id": "oGoBXAV94y6m"
   },
   "source": [
    "### TF-IDF для корпуса текстов"
   ]
  },
  {
   "cell_type": "markdown",
   "metadata": {
    "id": "Z4-LeNWb4y6n"
   },
   "source": [
    "Создадим счётчик, указав в нём стоп-слова, вызовем функцию `.fit_transform()` для обучающей выборки и `.transform()` для тестовой:"
   ]
  },
  {
   "cell_type": "code",
   "execution_count": 22,
   "metadata": {
    "id": "7bMmfZ6p4y6n"
   },
   "outputs": [],
   "source": [
    "count_tf_idf = TfidfVectorizer(stop_words=stop_words)\n",
    "train_tf_idf = count_tf_idf.fit_transform(train_corpus)\n",
    "test_tf_idf = count_tf_idf.transform(test_corpus)"
   ]
  },
  {
   "cell_type": "markdown",
   "metadata": {
    "id": "prlhb4ns4y6n"
   },
   "source": [
    "Выведем размеры получившихся матриц:"
   ]
  },
  {
   "cell_type": "code",
   "execution_count": 23,
   "metadata": {
    "colab": {
     "base_uri": "https://localhost:8080/"
    },
    "id": "VYK8nODr4y6n",
    "outputId": "90d9bf34-a465-45af-f8b1-b207e2414fe3"
   },
   "outputs": [
    {
     "name": "stdout",
     "output_type": "stream",
     "text": [
      "Размер обучающей матрицы: (119678, 128432)\n",
      "Размер тестовой матрицы: (39893, 128432)\n"
     ]
    }
   ],
   "source": [
    "print(\"Размер обучающей матрицы:\", train_tf_idf.shape), \n",
    "print(\"Размер тестовой матрицы:\", test_tf_idf.shape)"
   ]
  },
  {
   "cell_type": "markdown",
   "metadata": {
    "id": "SZhd3vnJ4y6n"
   },
   "source": [
    "Напишем функцию `scoring(fitted_model)` для определения метрики f1_score для тестовой выбороки:"
   ]
  },
  {
   "cell_type": "code",
   "execution_count": 24,
   "metadata": {
    "id": "73bqorNl4y6n"
   },
   "outputs": [],
   "source": [
    "def scoring(fitted_model):\n",
    "    test_pred = fitted_model.predict(test_tf_idf)\n",
    "    test_f1 = f1_score(test_target, test_pred)\n",
    "    \n",
    "    print('F1 на тестовой выборке: {:.3f}'.format(test_f1))"
   ]
  },
  {
   "cell_type": "markdown",
   "metadata": {
    "id": "fVVls8E54y6n"
   },
   "source": [
    "### Выводы:"
   ]
  },
  {
   "cell_type": "markdown",
   "metadata": {
    "id": "6MmsrlYG4y6o"
   },
   "source": [
    "- В данных присутствовал дисбаланс целевого признака\n",
    "- NLTK библиотека позволила преобразоваться тексты в векторный вид, пригодный для обучения моделей.\n",
    "- TF-IDF существенно увеличил количество признаков, равное количеству в мешке слов."
   ]
  },
  {
   "cell_type": "markdown",
   "metadata": {
    "id": "tuPlg2yU4y6o"
   },
   "source": [
    "## Глава 2. Обучение моделей"
   ]
  },
  {
   "cell_type": "markdown",
   "metadata": {
    "id": "zM4gdUlS4y6o"
   },
   "source": [
    "Обучим несколько моделей и оценим полученные результаты.  "
   ]
  },
  {
   "cell_type": "markdown",
   "metadata": {
    "id": "LGQG32KD4y6o"
   },
   "source": [
    "Стратегия кросс-валидации для подбора параметров:"
   ]
  },
  {
   "cell_type": "code",
   "execution_count": 25,
   "metadata": {
    "id": "jd99XNJA4y6o"
   },
   "outputs": [],
   "source": [
    "cv = ShuffleSplit(n_splits=2, test_size=0.25, random_state=17)"
   ]
  },
  {
   "cell_type": "markdown",
   "metadata": {
    "id": "MKH1Y7tP4y6o"
   },
   "source": [
    "### Логистическая регрессия"
   ]
  },
  {
   "cell_type": "markdown",
   "metadata": {},
   "source": [
    "Инициализируем модель, сразу отметив в аргументах необходимость учета баланса классов"
   ]
  },
  {
   "cell_type": "code",
   "execution_count": 26,
   "metadata": {
    "id": "XmjZlqR54y6o"
   },
   "outputs": [],
   "source": [
    "log_reg = LogisticRegression(random_state=17, class_weight='balanced')"
   ]
  },
  {
   "cell_type": "markdown",
   "metadata": {},
   "source": [
    "Чтобы предсказание было более точным, выберем параметры, от которых зависит модель регресси, которые будут меньтся при обучении регрессии при поиске оптимальной настройки модели. Для регрессии таких параметров не так много, в данном случае используем подбор силы регуляризации. Чем меньше значения С тем сильнее регуляризация. Этот параметр полезен при борьбе с переобучением."
   ]
  },
  {
   "cell_type": "code",
   "execution_count": 27,
   "metadata": {
    "id": "Gt9E7xdL4y6p"
   },
   "outputs": [],
   "source": [
    "log_reg_params = {'C': np.linspace(0.0001, 100, 10)}"
   ]
  },
  {
   "cell_type": "markdown",
   "metadata": {},
   "source": [
    "Найдём оптимальные настройки модели и обучим её"
   ]
  },
  {
   "cell_type": "code",
   "execution_count": 28,
   "metadata": {
    "colab": {
     "base_uri": "https://localhost:8080/"
    },
    "id": "pH_488Nf4y6p",
    "outputId": "68d5938b-75c1-45f4-8e35-aa25a4838314"
   },
   "outputs": [
    {
     "name": "stdout",
     "output_type": "stream",
     "text": [
      "Wall time: 2min 5s\n"
     ]
    },
    {
     "data": {
      "text/plain": [
       "GridSearchCV(estimator=LogisticRegression(class_weight='balanced',\n",
       "                                          random_state=17),\n",
       "             param_grid={'C': array([1.00000e-04, 1.11112e+01, 2.22223e+01, 3.33334e+01, 4.44445e+01,\n",
       "       5.55556e+01, 6.66667e+01, 7.77778e+01, 8.88889e+01, 1.00000e+02])},\n",
       "             scoring='f1')"
      ]
     },
     "execution_count": 28,
     "metadata": {},
     "output_type": "execute_result"
    }
   ],
   "source": [
    "%%time\n",
    "log_reg_grid = GridSearchCV(log_reg, log_reg_params, scoring='f1')\n",
    "log_reg_grid.fit(train_tf_idf, train_target)"
   ]
  },
  {
   "cell_type": "markdown",
   "metadata": {},
   "source": [
    "за 2 минуты модель обучилась и подобрала оптимальные настроки для предсказания. Взглянем на них"
   ]
  },
  {
   "cell_type": "code",
   "execution_count": 29,
   "metadata": {
    "colab": {
     "base_uri": "https://localhost:8080/"
    },
    "id": "cPPvfyer4y6p",
    "outputId": "93017a31-369a-4dc5-e002-ade57937b960"
   },
   "outputs": [
    {
     "name": "stdout",
     "output_type": "stream",
     "text": [
      "best parameters:  {'C': 11.1112}\n",
      "best scores:  0.7597108133196329\n"
     ]
    }
   ],
   "source": [
    "print('best parameters: ', log_reg_grid.best_params_)\n",
    "print('best scores: ', log_reg_grid.best_score_)"
   ]
  },
  {
   "cell_type": "code",
   "execution_count": 30,
   "metadata": {
    "colab": {
     "base_uri": "https://localhost:8080/"
    },
    "id": "qt502n4m4y6p",
    "outputId": "b2b0e23c-0816-4f59-e541-1904a7968916"
   },
   "outputs": [
    {
     "data": {
      "text/plain": [
       "LogisticRegression(C=11.1112, class_weight='balanced', random_state=17)"
      ]
     },
     "execution_count": 30,
     "metadata": {},
     "output_type": "execute_result"
    }
   ],
   "source": [
    "log_reg_grid.best_estimator_"
   ]
  },
  {
   "cell_type": "markdown",
   "metadata": {
    "id": "d7VIsCRv4y6p"
   },
   "source": [
    "Оценка F1_score: "
   ]
  },
  {
   "cell_type": "code",
   "execution_count": 31,
   "metadata": {
    "colab": {
     "base_uri": "https://localhost:8080/"
    },
    "id": "6roPc5rP4y6p",
    "outputId": "666681e2-3b93-4e05-cdf6-4883eaa7a6bb"
   },
   "outputs": [
    {
     "name": "stdout",
     "output_type": "stream",
     "text": [
      "F1 на тестовой выборке: 0.761\n",
      "Wall time: 16 ms\n"
     ]
    }
   ],
   "source": [
    "%%time\n",
    "scoring(log_reg_grid.best_estimator_)"
   ]
  },
  {
   "cell_type": "markdown",
   "metadata": {},
   "source": [
    "В результате получили значение F1 метрики на тестовой выборке 0,759. Это очень хороший результат, более того, он проходит пороговое значение, установленное заданием. Далее сравним результаты регрессии с другими моделями для определения лучшей"
   ]
  },
  {
   "cell_type": "markdown",
   "metadata": {
    "id": "oqk2uSil4y6p"
   },
   "source": [
    "###  XGBClassifier"
   ]
  },
  {
   "cell_type": "markdown",
   "metadata": {},
   "source": [
    "Проверим модель бустинга XGBClassifier. Данная модель по умолчанию учитывает возможный дисбаланс классов, поэтому дополнительных аргументов к инициализации не потребуется"
   ]
  },
  {
   "cell_type": "code",
   "execution_count": 32,
   "metadata": {
    "id": "Dj-mqYLh4y6q"
   },
   "outputs": [],
   "source": [
    "xgb_clf = XGBClassifier(random_state=17, n_jobs=-1)"
   ]
  },
  {
   "cell_type": "markdown",
   "metadata": {},
   "source": [
    "Данная модель обычно тратит много времени на обучение и предсказания, чтобы не затягивать этот процесс, в качестве настраеваемого параметра выберем лишь один, в данном случае это количество \"оценщиков\"."
   ]
  },
  {
   "cell_type": "code",
   "execution_count": 33,
   "metadata": {
    "id": "iHDmPXNa4y6q"
   },
   "outputs": [],
   "source": [
    "xgb_clf_params = {'n_estimators': [100, 500]}"
   ]
  },
  {
   "cell_type": "markdown",
   "metadata": {},
   "source": [
    "Запустим подбор параметров и обучение модели. Как и в случае с регрессией, определять лучшую модель будем по метрике F1, что указано соответствующим аргументом"
   ]
  },
  {
   "cell_type": "code",
   "execution_count": 34,
   "metadata": {
    "colab": {
     "base_uri": "https://localhost:8080/"
    },
    "id": "ZaDYSbvc4y6q",
    "outputId": "90d43d34-22b6-421d-ec82-af00f3d098be"
   },
   "outputs": [
    {
     "name": "stdout",
     "output_type": "stream",
     "text": [
      "[17:40:02] WARNING: ..\\src\\learner.cc:1061: Starting in XGBoost 1.3.0, the default evaluation metric used with the objective 'binary:logistic' was changed from 'error' to 'logloss'. Explicitly set eval_metric if you'd like to restore the old behavior.\n",
      "[17:40:26] WARNING: ..\\src\\learner.cc:1061: Starting in XGBoost 1.3.0, the default evaluation metric used with the objective 'binary:logistic' was changed from 'error' to 'logloss'. Explicitly set eval_metric if you'd like to restore the old behavior.\n",
      "[17:40:51] WARNING: ..\\src\\learner.cc:1061: Starting in XGBoost 1.3.0, the default evaluation metric used with the objective 'binary:logistic' was changed from 'error' to 'logloss'. Explicitly set eval_metric if you'd like to restore the old behavior.\n",
      "[17:41:16] WARNING: ..\\src\\learner.cc:1061: Starting in XGBoost 1.3.0, the default evaluation metric used with the objective 'binary:logistic' was changed from 'error' to 'logloss'. Explicitly set eval_metric if you'd like to restore the old behavior.\n",
      "[17:41:40] WARNING: ..\\src\\learner.cc:1061: Starting in XGBoost 1.3.0, the default evaluation metric used with the objective 'binary:logistic' was changed from 'error' to 'logloss'. Explicitly set eval_metric if you'd like to restore the old behavior.\n",
      "[17:42:05] WARNING: ..\\src\\learner.cc:1061: Starting in XGBoost 1.3.0, the default evaluation metric used with the objective 'binary:logistic' was changed from 'error' to 'logloss'. Explicitly set eval_metric if you'd like to restore the old behavior.\n",
      "[17:44:01] WARNING: ..\\src\\learner.cc:1061: Starting in XGBoost 1.3.0, the default evaluation metric used with the objective 'binary:logistic' was changed from 'error' to 'logloss'. Explicitly set eval_metric if you'd like to restore the old behavior.\n",
      "[17:45:57] WARNING: ..\\src\\learner.cc:1061: Starting in XGBoost 1.3.0, the default evaluation metric used with the objective 'binary:logistic' was changed from 'error' to 'logloss'. Explicitly set eval_metric if you'd like to restore the old behavior.\n",
      "[17:47:53] WARNING: ..\\src\\learner.cc:1061: Starting in XGBoost 1.3.0, the default evaluation metric used with the objective 'binary:logistic' was changed from 'error' to 'logloss'. Explicitly set eval_metric if you'd like to restore the old behavior.\n",
      "[17:49:49] WARNING: ..\\src\\learner.cc:1061: Starting in XGBoost 1.3.0, the default evaluation metric used with the objective 'binary:logistic' was changed from 'error' to 'logloss'. Explicitly set eval_metric if you'd like to restore the old behavior.\n",
      "[17:51:44] WARNING: ..\\src\\learner.cc:1061: Starting in XGBoost 1.3.0, the default evaluation metric used with the objective 'binary:logistic' was changed from 'error' to 'logloss'. Explicitly set eval_metric if you'd like to restore the old behavior.\n",
      "Wall time: 13min 54s\n"
     ]
    },
    {
     "data": {
      "text/plain": [
       "GridSearchCV(estimator=XGBClassifier(base_score=None, booster=None,\n",
       "                                     colsample_bylevel=None,\n",
       "                                     colsample_bynode=None,\n",
       "                                     colsample_bytree=None, gamma=None,\n",
       "                                     gpu_id=None, importance_type='gain',\n",
       "                                     interaction_constraints=None,\n",
       "                                     learning_rate=None, max_delta_step=None,\n",
       "                                     max_depth=None, min_child_weight=None,\n",
       "                                     missing=nan, monotone_constraints=None,\n",
       "                                     n_estimators=100, n_jobs=-1,\n",
       "                                     num_parallel_tree=None, random_state=17,\n",
       "                                     reg_alpha=None, reg_lambda=None,\n",
       "                                     scale_pos_weight=None, subsample=None,\n",
       "                                     tree_method=None, validate_parameters=None,\n",
       "                                     verbosity=None),\n",
       "             param_grid={'n_estimators': [100, 500]}, scoring='f1')"
      ]
     },
     "execution_count": 34,
     "metadata": {},
     "output_type": "execute_result"
    }
   ],
   "source": [
    "%%time\n",
    "xgb_clf_grid = GridSearchCV(xgb_clf, xgb_clf_params, scoring='f1')\n",
    "xgb_clf_grid.fit(train_tf_idf, train_target)"
   ]
  },
  {
   "cell_type": "markdown",
   "metadata": {},
   "source": [
    "Как уже упоминалось ранее, эта модель обучается ощутимо дольше, в нашем случае 10 мин 28 сек, что в 5 раз превышает аналогичное время для модели регрессии. Взглянем на результаты подбора параметров"
   ]
  },
  {
   "cell_type": "code",
   "execution_count": 35,
   "metadata": {
    "colab": {
     "base_uri": "https://localhost:8080/"
    },
    "id": "3FcMUKqf4y6q",
    "outputId": "d04f796f-b474-4f86-ac35-1c04bc6a8a2c"
   },
   "outputs": [
    {
     "name": "stdout",
     "output_type": "stream",
     "text": [
      "best parameters:  {'n_estimators': 500}\n",
      "best scores:  0.7644941021550233\n"
     ]
    }
   ],
   "source": [
    "print('best parameters: ', xgb_clf_grid.best_params_)\n",
    "print('best scores: ', xgb_clf_grid.best_score_)"
   ]
  },
  {
   "cell_type": "code",
   "execution_count": 36,
   "metadata": {
    "colab": {
     "base_uri": "https://localhost:8080/"
    },
    "id": "A_us42d-4y6q",
    "outputId": "799f48fd-9c8a-465e-b43d-b40edb7984a5"
   },
   "outputs": [
    {
     "data": {
      "text/plain": [
       "XGBClassifier(base_score=0.5, booster='gbtree', colsample_bylevel=1,\n",
       "              colsample_bynode=1, colsample_bytree=1, gamma=0, gpu_id=-1,\n",
       "              importance_type='gain', interaction_constraints='',\n",
       "              learning_rate=0.300000012, max_delta_step=0, max_depth=6,\n",
       "              min_child_weight=1, missing=nan, monotone_constraints='()',\n",
       "              n_estimators=500, n_jobs=-1, num_parallel_tree=1, random_state=17,\n",
       "              reg_alpha=0, reg_lambda=1, scale_pos_weight=1, subsample=1,\n",
       "              tree_method='exact', validate_parameters=1, verbosity=None)"
      ]
     },
     "execution_count": 36,
     "metadata": {},
     "output_type": "execute_result"
    }
   ],
   "source": [
    "xgb_clf_grid.best_estimator_"
   ]
  },
  {
   "cell_type": "markdown",
   "metadata": {
    "id": "GDd6stW74y6q"
   },
   "source": [
    "Оценка F1_score: "
   ]
  },
  {
   "cell_type": "code",
   "execution_count": 37,
   "metadata": {
    "colab": {
     "base_uri": "https://localhost:8080/"
    },
    "id": "i-h4quvX4y6q",
    "outputId": "e8b4d790-f956-49b6-b097-50a2aa08f0fd"
   },
   "outputs": [
    {
     "name": "stdout",
     "output_type": "stream",
     "text": [
      "F1 на тестовой выборке: 0.775\n",
      "Wall time: 835 ms\n"
     ]
    }
   ],
   "source": [
    "%%time\n",
    "scoring(xgb_clf_grid.best_estimator_)"
   ]
  },
  {
   "cell_type": "markdown",
   "metadata": {},
   "source": [
    "Оценка контролируемой метрики на тестовой выборке составила  0.775, что, пусть не существенно, но, тем не менее, лучше значения полученного моделью регрессии. Несмотря на это, стоит учитывать ощутимо большее время на обучение модели "
   ]
  },
  {
   "cell_type": "markdown",
   "metadata": {
    "id": "KCjsl6Z44y6r"
   },
   "source": [
    "### LGBMClassifier"
   ]
  },
  {
   "cell_type": "markdown",
   "metadata": {},
   "source": [
    "Последней моделью для проверки будет LGBMClassifier. Аналогично предыдущим, учтем дисбаланс классов соответствующим аргументом при инициализации модели."
   ]
  },
  {
   "cell_type": "code",
   "execution_count": 38,
   "metadata": {
    "id": "xNt3PNt34y6s"
   },
   "outputs": [],
   "source": [
    "lgbm_clf = LGBMClassifier(n_jobs=-1, random_state=17, class_weight='balanced')"
   ]
  },
  {
   "cell_type": "markdown",
   "metadata": {},
   "source": [
    "Так как данная модель работает быстрее предыдущей, зададим большее количество параметров для настроек. Для данной задачи выбраны количество \"оценщиков\" и коэффициент обучения."
   ]
  },
  {
   "cell_type": "code",
   "execution_count": 39,
   "metadata": {
    "id": "Lp02gZKw4y6s"
   },
   "outputs": [],
   "source": [
    "lgbm_clf_params = {'n_estimators': [500],\n",
    "                   'learning_rate': [0.1, 0.3, 0.5]}"
   ]
  },
  {
   "cell_type": "code",
   "execution_count": 40,
   "metadata": {
    "id": "dd_h3E3p4y6s"
   },
   "outputs": [
    {
     "name": "stdout",
     "output_type": "stream",
     "text": [
      "Wall time: 11min 57s\n"
     ]
    },
    {
     "data": {
      "text/plain": [
       "GridSearchCV(estimator=LGBMClassifier(class_weight='balanced', random_state=17),\n",
       "             param_grid={'learning_rate': [0.1, 0.3, 0.5],\n",
       "                         'n_estimators': [500]},\n",
       "             scoring='f1')"
      ]
     },
     "execution_count": 40,
     "metadata": {},
     "output_type": "execute_result"
    }
   ],
   "source": [
    "%%time\n",
    "lgbm_clf_grid = GridSearchCV(lgbm_clf, lgbm_clf_params, scoring='f1')\n",
    "lgbm_clf_grid.fit(train_tf_idf, train_target)"
   ]
  },
  {
   "cell_type": "markdown",
   "metadata": {},
   "source": [
    "В результате перебора большего количества настроек время обучения, по сравнению с предыдущими моделями, увеличилось до 11ти минут 45ти секунд. Взглянем на результаты настройки модели"
   ]
  },
  {
   "cell_type": "code",
   "execution_count": 41,
   "metadata": {
    "id": "KZIHNIbL4y6t"
   },
   "outputs": [
    {
     "name": "stdout",
     "output_type": "stream",
     "text": [
      "best parameters:  {'learning_rate': 0.3, 'n_estimators': 500}\n",
      "best scores:  0.7638517446786832\n"
     ]
    }
   ],
   "source": [
    "print('best parameters: ', lgbm_clf_grid.best_params_)\n",
    "print('best scores: ', lgbm_clf_grid.best_score_)"
   ]
  },
  {
   "cell_type": "code",
   "execution_count": 42,
   "metadata": {
    "id": "_TFmFD-M4y6t"
   },
   "outputs": [
    {
     "data": {
      "text/plain": [
       "LGBMClassifier(class_weight='balanced', learning_rate=0.3, n_estimators=500,\n",
       "               random_state=17)"
      ]
     },
     "execution_count": 42,
     "metadata": {},
     "output_type": "execute_result"
    }
   ],
   "source": [
    "lgbm_clf_grid.best_estimator_"
   ]
  },
  {
   "cell_type": "markdown",
   "metadata": {
    "id": "2783jFbK4y6t"
   },
   "source": [
    "Оценка F1_score: "
   ]
  },
  {
   "cell_type": "code",
   "execution_count": 43,
   "metadata": {
    "id": "QI0WSUPZ4y6t"
   },
   "outputs": [
    {
     "name": "stdout",
     "output_type": "stream",
     "text": [
      "F1 на тестовой выборке: 0.769\n",
      "Wall time: 834 ms\n"
     ]
    }
   ],
   "source": [
    "%%time\n",
    "scoring(lgbm_clf_grid.best_estimator_)"
   ]
  },
  {
   "cell_type": "markdown",
   "metadata": {},
   "source": [
    "К сожалению, несмотря на большее количество параметров для настройки и большее время, затраченное на работу, модель дала предсказания несколько хуже предыдущего бустинга, но лучше регрессии. Стоит ли такой несущественный прирост настолько значительтного увеличения времени на обучение? Очень вряд-ли, особенно принимая во внимание результаты предыдщей модели."
   ]
  },
  {
   "cell_type": "markdown",
   "metadata": {
    "id": "5smnlCE44y6t"
   },
   "source": [
    "### BERT"
   ]
  },
  {
   "cell_type": "markdown",
   "metadata": {
    "id": "w9xHL70c4y6u"
   },
   "source": [
    "DistilBERT представляет собой уменьшенную версию BERT'а. Она быстрее и легче своего старшего собрата, но при этом вполне сравнима в результативности."
   ]
  },
  {
   "cell_type": "markdown",
   "metadata": {
    "id": "i-1j2dR-4y6u"
   },
   "source": [
    "Загрузим предобученную модель DistilBERT и токенизатор:"
   ]
  },
  {
   "cell_type": "code",
   "execution_count": 44,
   "metadata": {
    "id": "C5V93NCU4y6u"
   },
   "outputs": [],
   "source": [
    "model_class, tokenizer_class, pretrained_weights = (\n",
    "    ppb.DistilBertModel, ppb.DistilBertTokenizer, 'distilbert-base-uncased')"
   ]
  },
  {
   "cell_type": "code",
   "execution_count": 45,
   "metadata": {
    "id": "jCXJQL3z4y6u"
   },
   "outputs": [
    {
     "data": {
      "application/vnd.jupyter.widget-view+json": {
       "model_id": "5c66c5a446994d6db57122ed20c1b40e",
       "version_major": 2,
       "version_minor": 0
      },
      "text/plain": [
       "Downloading:   0%|          | 0.00/483 [00:00<?, ?B/s]"
      ]
     },
     "metadata": {},
     "output_type": "display_data"
    },
    {
     "name": "stderr",
     "output_type": "stream",
     "text": [
      "Some weights of the model checkpoint at distilbert-base-uncased were not used when initializing DistilBertModel: ['vocab_transform.bias', 'vocab_projector.weight', 'vocab_layer_norm.weight', 'vocab_layer_norm.bias', 'vocab_transform.weight', 'vocab_projector.bias']\n",
      "- This IS expected if you are initializing DistilBertModel from the checkpoint of a model trained on another task or with another architecture (e.g. initializing a BertForSequenceClassification model from a BertForPreTraining model).\n",
      "- This IS NOT expected if you are initializing DistilBertModel from the checkpoint of a model that you expect to be exactly identical (initializing a BertForSequenceClassification model from a BertForSequenceClassification model).\n"
     ]
    }
   ],
   "source": [
    "tokenizer = tokenizer_class.from_pretrained(pretrained_weights)\n",
    "model = model_class.from_pretrained(pretrained_weights)"
   ]
  },
  {
   "cell_type": "code",
   "execution_count": 46,
   "metadata": {
    "id": "EAYAGeAh4y6v"
   },
   "outputs": [
    {
     "data": {
      "text/html": [
       "<div>\n",
       "<style scoped>\n",
       "    .dataframe tbody tr th:only-of-type {\n",
       "        vertical-align: middle;\n",
       "    }\n",
       "\n",
       "    .dataframe tbody tr th {\n",
       "        vertical-align: top;\n",
       "    }\n",
       "\n",
       "    .dataframe thead th {\n",
       "        text-align: right;\n",
       "    }\n",
       "</style>\n",
       "<table border=\"1\" class=\"dataframe\">\n",
       "  <thead>\n",
       "    <tr style=\"text-align: right;\">\n",
       "      <th></th>\n",
       "      <th>text</th>\n",
       "      <th>toxic</th>\n",
       "      <th>lemm_text</th>\n",
       "    </tr>\n",
       "  </thead>\n",
       "  <tbody>\n",
       "    <tr>\n",
       "      <th>0</th>\n",
       "      <td>Explanation\\nWhy the edits made under my usern...</td>\n",
       "      <td>0</td>\n",
       "      <td>explanation why the edits make under my userna...</td>\n",
       "    </tr>\n",
       "    <tr>\n",
       "      <th>1</th>\n",
       "      <td>D'aww! He matches this background colour I'm s...</td>\n",
       "      <td>0</td>\n",
       "      <td>d aww he match this background colour i m seem...</td>\n",
       "    </tr>\n",
       "    <tr>\n",
       "      <th>2</th>\n",
       "      <td>Hey man, I'm really not trying to edit war. It...</td>\n",
       "      <td>0</td>\n",
       "      <td>hey man i m really not try to edit war it s ju...</td>\n",
       "    </tr>\n",
       "    <tr>\n",
       "      <th>3</th>\n",
       "      <td>\"\\nMore\\nI can't make any real suggestions on ...</td>\n",
       "      <td>0</td>\n",
       "      <td>more i can t make any real suggestion on impro...</td>\n",
       "    </tr>\n",
       "    <tr>\n",
       "      <th>4</th>\n",
       "      <td>You, sir, are my hero. Any chance you remember...</td>\n",
       "      <td>0</td>\n",
       "      <td>you sir be my hero any chance you remember wha...</td>\n",
       "    </tr>\n",
       "    <tr>\n",
       "      <th>...</th>\n",
       "      <td>...</td>\n",
       "      <td>...</td>\n",
       "      <td>...</td>\n",
       "    </tr>\n",
       "    <tr>\n",
       "      <th>159566</th>\n",
       "      <td>\":::::And for the second time of asking, when ...</td>\n",
       "      <td>0</td>\n",
       "      <td>and for the second time of ask when your view ...</td>\n",
       "    </tr>\n",
       "    <tr>\n",
       "      <th>159567</th>\n",
       "      <td>You should be ashamed of yourself \\n\\nThat is ...</td>\n",
       "      <td>0</td>\n",
       "      <td>you should be ashamed of yourself that be a ho...</td>\n",
       "    </tr>\n",
       "    <tr>\n",
       "      <th>159568</th>\n",
       "      <td>Spitzer \\n\\nUmm, theres no actual article for ...</td>\n",
       "      <td>0</td>\n",
       "      <td>spitzer umm there no actual article for prosti...</td>\n",
       "    </tr>\n",
       "    <tr>\n",
       "      <th>159569</th>\n",
       "      <td>And it looks like it was actually you who put ...</td>\n",
       "      <td>0</td>\n",
       "      <td>and it look like it be actually you who put on...</td>\n",
       "    </tr>\n",
       "    <tr>\n",
       "      <th>159570</th>\n",
       "      <td>\"\\nAnd ... I really don't think you understand...</td>\n",
       "      <td>0</td>\n",
       "      <td>and i really don t think you understand i come...</td>\n",
       "    </tr>\n",
       "  </tbody>\n",
       "</table>\n",
       "<p>159571 rows × 3 columns</p>\n",
       "</div>"
      ],
      "text/plain": [
       "                                                     text  toxic  \\\n",
       "0       Explanation\\nWhy the edits made under my usern...      0   \n",
       "1       D'aww! He matches this background colour I'm s...      0   \n",
       "2       Hey man, I'm really not trying to edit war. It...      0   \n",
       "3       \"\\nMore\\nI can't make any real suggestions on ...      0   \n",
       "4       You, sir, are my hero. Any chance you remember...      0   \n",
       "...                                                   ...    ...   \n",
       "159566  \":::::And for the second time of asking, when ...      0   \n",
       "159567  You should be ashamed of yourself \\n\\nThat is ...      0   \n",
       "159568  Spitzer \\n\\nUmm, theres no actual article for ...      0   \n",
       "159569  And it looks like it was actually you who put ...      0   \n",
       "159570  \"\\nAnd ... I really don't think you understand...      0   \n",
       "\n",
       "                                                lemm_text  \n",
       "0       explanation why the edits make under my userna...  \n",
       "1       d aww he match this background colour i m seem...  \n",
       "2       hey man i m really not try to edit war it s ju...  \n",
       "3       more i can t make any real suggestion on impro...  \n",
       "4       you sir be my hero any chance you remember wha...  \n",
       "...                                                   ...  \n",
       "159566  and for the second time of ask when your view ...  \n",
       "159567  you should be ashamed of yourself that be a ho...  \n",
       "159568  spitzer umm there no actual article for prosti...  \n",
       "159569  and it look like it be actually you who put on...  \n",
       "159570  and i really don t think you understand i come...  \n",
       "\n",
       "[159571 rows x 3 columns]"
      ]
     },
     "execution_count": 46,
     "metadata": {},
     "output_type": "execute_result"
    }
   ],
   "source": [
    "df"
   ]
  },
  {
   "cell_type": "markdown",
   "metadata": {
    "id": "XnK2o9Ri4y6v"
   },
   "source": [
    "Выполним токенезацию исходных текстов:"
   ]
  },
  {
   "cell_type": "code",
   "execution_count": 47,
   "metadata": {
    "id": "dmyMKE8V4y6v"
   },
   "outputs": [
    {
     "name": "stderr",
     "output_type": "stream",
     "text": [
      "Truncation was not explicitly activated but `max_length` is provided a specific value, please use `truncation=True` to explicitly truncate examples to max length. Defaulting to 'longest_first' truncation strategy. If you encode pairs of sequences (GLUE-style) with the tokenizer you can select this strategy more precisely by providing a specific strategy to `truncation`.\n"
     ]
    },
    {
     "name": "stdout",
     "output_type": "stream",
     "text": [
      "Wall time: 3min 21s\n"
     ]
    }
   ],
   "source": [
    "%%time\n",
    "tokenized = df['text'].apply((lambda x: tokenizer.encode(x, add_special_tokens=True, max_length=df['text'].shape[0])))"
   ]
  },
  {
   "cell_type": "markdown",
   "metadata": {
    "id": "wR7d4oH04y6v"
   },
   "source": [
    "Модель DistilBERT принимает максимальное количество токенов в тексте по умолчанию равное 512. Посчитаем длины текстов с токенами:"
   ]
  },
  {
   "cell_type": "code",
   "execution_count": 48,
   "metadata": {
    "id": "6raCwm0n4y6v"
   },
   "outputs": [],
   "source": [
    "len_sentences = [len(i) for i in tokenized]"
   ]
  },
  {
   "cell_type": "code",
   "execution_count": 49,
   "metadata": {
    "id": "v2MSdmFj4y6v"
   },
   "outputs": [
    {
     "data": {
      "text/plain": [
       "count    159571.000000\n",
       "mean         94.891860\n",
       "std         141.438775\n",
       "min           4.000000\n",
       "25%          26.000000\n",
       "50%          52.000000\n",
       "75%         104.000000\n",
       "max        4950.000000\n",
       "dtype: float64"
      ]
     },
     "execution_count": 49,
     "metadata": {},
     "output_type": "execute_result"
    }
   ],
   "source": [
    "len_sentences = pd.Series(len_sentences)\n",
    "len_sentences.describe()"
   ]
  },
  {
   "cell_type": "markdown",
   "metadata": {
    "id": "D9BIdm8T4y6v"
   },
   "source": [
    "Видим, что есть аномально длинные. Ограничим тексты максимальной длиной токенов 75% квантилем.\n"
   ]
  },
  {
   "cell_type": "code",
   "execution_count": 50,
   "metadata": {
    "id": "Xody3FxU4y6v"
   },
   "outputs": [
    {
     "data": {
      "application/vnd.jupyter.widget-view+json": {
       "model_id": "b9a79bbb8e434d3f8bbd17388a38339a",
       "version_major": 2,
       "version_minor": 0
      },
      "text/plain": [
       "  0%|          | 0/159571 [00:00<?, ?it/s]"
      ]
     },
     "metadata": {},
     "output_type": "display_data"
    }
   ],
   "source": [
    "indexes = []\n",
    "for i in notebook.tqdm(range(len(tokenized))):\n",
    "    if len(tokenized[i]) <= len_sentences.quantile(.75):\n",
    "        indexes.append(i)"
   ]
  },
  {
   "cell_type": "code",
   "execution_count": 51,
   "metadata": {
    "id": "tKnMaBza4y6v"
   },
   "outputs": [
    {
     "data": {
      "text/plain": [
       "119975"
      ]
     },
     "execution_count": 51,
     "metadata": {},
     "output_type": "execute_result"
    }
   ],
   "source": [
    "len(indexes)"
   ]
  },
  {
   "cell_type": "markdown",
   "metadata": {
    "id": "ZJn5uysl4y6v"
   },
   "source": [
    "Полученные индексы \"коротких\" текстов применим к Датафрейму:"
   ]
  },
  {
   "cell_type": "code",
   "execution_count": 52,
   "metadata": {
    "id": "IcH05VFN4y6w"
   },
   "outputs": [],
   "source": [
    "filtered_df = df.query('index in @indexes')"
   ]
  },
  {
   "cell_type": "markdown",
   "metadata": {
    "id": "xLejWlWX4y6w"
   },
   "source": [
    "Размеры ДатаФрейма:"
   ]
  },
  {
   "cell_type": "code",
   "execution_count": 53,
   "metadata": {
    "id": "HTRp7Qmt4y6w"
   },
   "outputs": [
    {
     "data": {
      "text/plain": [
       "(119975, 3)"
      ]
     },
     "execution_count": 53,
     "metadata": {},
     "output_type": "execute_result"
    }
   ],
   "source": [
    "filtered_df.shape"
   ]
  },
  {
   "cell_type": "markdown",
   "metadata": {
    "id": "ZjmeO4IJ4y6w"
   },
   "source": [
    "Разделим датафрейм на 2 части: обучающую и тестовую выбороки в пропорциях по умолчанию:"
   ]
  },
  {
   "cell_type": "code",
   "execution_count": 54,
   "metadata": {
    "id": "cyKqFyKa4y6w"
   },
   "outputs": [],
   "source": [
    "filtered_df_train, filtered_df_test = train_test_split(filtered_df, random_state=17, test_size=5000)"
   ]
  },
  {
   "cell_type": "code",
   "execution_count": 55,
   "metadata": {
    "id": "XGeCIHMw4y6w"
   },
   "outputs": [
    {
     "data": {
      "text/plain": [
       "((114975, 3), (5000, 3))"
      ]
     },
     "execution_count": 55,
     "metadata": {},
     "output_type": "execute_result"
    }
   ],
   "source": [
    "filtered_df_train.shape, filtered_df_test.shape"
   ]
  },
  {
   "cell_type": "markdown",
   "metadata": {
    "id": "whpDFxkV4y6w"
   },
   "source": [
    "Для того, чтобы сбалансировать метки целевого признака в обучающей выборке, воспользуемся техникой downsampling "
   ]
  },
  {
   "cell_type": "markdown",
   "metadata": {
    "id": "U-dRtTg94y6w"
   },
   "source": [
    "Посмотрим на баланс классов"
   ]
  },
  {
   "cell_type": "code",
   "execution_count": 56,
   "metadata": {
    "id": "0d64__S94y6w"
   },
   "outputs": [
    {
     "data": {
      "text/plain": [
       "0.127"
      ]
     },
     "execution_count": 56,
     "metadata": {},
     "output_type": "execute_result"
    }
   ],
   "source": [
    "coef  = round((len(filtered_df_train[filtered_df_train['toxic'] == 1]) / \n",
    "               len(filtered_df_train[filtered_df_train['toxic'] == 0])), 3)\n",
    "coef"
   ]
  },
  {
   "cell_type": "markdown",
   "metadata": {
    "id": "pQJxao0B4y6w"
   },
   "source": [
    "Напишем функцию downsample(features, target, fraction) для формирования сблалансированной выборки:"
   ]
  },
  {
   "cell_type": "code",
   "execution_count": 57,
   "metadata": {
    "id": "N1L2z0is4y6x"
   },
   "outputs": [],
   "source": [
    "def downsample(features, target, fraction):\n",
    "    features_zeros = features[target == 0]\n",
    "    features_ones = features[target == 1]\n",
    "    target_zeros = target[target == 0]\n",
    "    target_ones = target[target == 1]\n",
    "\n",
    "    features_downsampled = pd.concat([features_zeros.sample(frac=fraction, random_state=17)] +\n",
    "                                     [features_ones])\n",
    "    target_downsampled = pd.concat([target_zeros.sample(frac=fraction, random_state=17)] +\n",
    "                                     [target_ones])\n",
    "    features_downsampled, target_downsampled = shuffle(features_downsampled, target_downsampled,\n",
    "                                                      random_state=17)\n",
    "    return features_downsampled, target_downsampled\n",
    "\n",
    "features_downsampled, target_downsampled = downsample(filtered_df_train['text'], filtered_df_train['toxic'], coef)"
   ]
  },
  {
   "cell_type": "code",
   "execution_count": 58,
   "metadata": {
    "id": "mAFPtuDe4y6x"
   },
   "outputs": [
    {
     "data": {
      "text/plain": [
       "((25946,), (25946,))"
      ]
     },
     "execution_count": 58,
     "metadata": {},
     "output_type": "execute_result"
    }
   ],
   "source": [
    "features_downsampled.shape, target_downsampled.shape"
   ]
  },
  {
   "cell_type": "code",
   "execution_count": 59,
   "metadata": {
    "id": "f5D-A_9P4y6x",
    "scrolled": false
   },
   "outputs": [
    {
     "data": {
      "image/png": "[encoded data removed]",
      "text/plain": [
       "<Figure size 432x288 with 1 Axes>"
      ]
     },
     "metadata": {},
     "output_type": "display_data"
    }
   ],
   "source": [
    "sns.set()\n",
    "sns.countplot(target_downsampled, palette='coolwarm');"
   ]
  },
  {
   "cell_type": "code",
   "execution_count": 60,
   "metadata": {
    "id": "ivfmk-xI4y6x"
   },
   "outputs": [],
   "source": [
    "features_downsampled = pd.DataFrame(features_downsampled).reset_index(drop=True)\n",
    "target_downsampled = pd.DataFrame(target_downsampled).reset_index(drop=True)\n",
    "filtered_df_train = features_downsampled.join(target_downsampled)"
   ]
  },
  {
   "cell_type": "code",
   "execution_count": 61,
   "metadata": {
    "id": "v9pRuGAj4y6x"
   },
   "outputs": [
    {
     "data": {
      "text/plain": [
       "((25946, 2), (5000, 3))"
      ]
     },
     "execution_count": 61,
     "metadata": {},
     "output_type": "execute_result"
    }
   ],
   "source": [
    "filtered_df_train.shape, filtered_df_test.shape"
   ]
  },
  {
   "cell_type": "markdown",
   "metadata": {
    "id": "VHNSHQfb4y6x"
   },
   "source": [
    "Эмбеддинги модель BERT создаёт батчами. Чтобы хватило оперативной памяти, сделаем размер батча небольшим (100). Обучающую выборку сделаем кратной размеру батча."
   ]
  },
  {
   "cell_type": "code",
   "execution_count": 62,
   "metadata": {
    "id": "jvWYNtDY4y6x"
   },
   "outputs": [],
   "source": [
    "filtered_df_train = filtered_df_train[:25900]"
   ]
  },
  {
   "cell_type": "markdown",
   "metadata": {
    "id": "552f6u294y6x"
   },
   "source": [
    "Выполним токенезацию новых текстов:"
   ]
  },
  {
   "cell_type": "code",
   "execution_count": 63,
   "metadata": {
    "id": "GXhbyMNI4y6x"
   },
   "outputs": [
    {
     "name": "stdout",
     "output_type": "stream",
     "text": [
      "Wall time: 14.5 s\n"
     ]
    }
   ],
   "source": [
    "%%time\n",
    "tokenized_train = filtered_df_train['text'].apply((lambda x: tokenizer.encode(x, add_special_tokens=True, \n",
    "                                                    max_length=filtered_df_train['text'].shape[0])))"
   ]
  },
  {
   "cell_type": "code",
   "execution_count": 64,
   "metadata": {
    "id": "9qP6vLCE4y6y"
   },
   "outputs": [
    {
     "name": "stdout",
     "output_type": "stream",
     "text": [
      "Wall time: 2.97 s\n"
     ]
    }
   ],
   "source": [
    "%%time\n",
    "tokenized_test = filtered_df_test['text'].apply((lambda x: tokenizer.encode(x, add_special_tokens=True, \n",
    "                                                    max_length=filtered_df_test['text'].shape[0])))"
   ]
  },
  {
   "cell_type": "markdown",
   "metadata": {
    "id": "apmTsKuM4y6y"
   },
   "source": [
    "Применим метод padding, чтобы после токенизации длины исходных текстов в корпусе были равными. Только при таком условии будет работать модель BERT. "
   ]
  },
  {
   "cell_type": "code",
   "execution_count": 65,
   "metadata": {
    "id": "bJiRtL6z4y6y"
   },
   "outputs": [],
   "source": [
    "def padding(tokenized):\n",
    "    max_len = 0\n",
    "    for i in tokenized.values:\n",
    "        if len(i) > max_len:\n",
    "            max_len = len(i)\n",
    "\n",
    "    padded = np.array([i + [0]*(max_len-len(i)) for i in tokenized.values])\n",
    "    return padded\n",
    "\n",
    "padded_train = padding(tokenized_train)\n",
    "padded_test = padding(tokenized_test)"
   ]
  },
  {
   "cell_type": "code",
   "execution_count": 66,
   "metadata": {
    "id": "N268ZarY4y6y"
   },
   "outputs": [
    {
     "data": {
      "text/plain": [
       "((25900, 104), (5000, 104))"
      ]
     },
     "execution_count": 66,
     "metadata": {},
     "output_type": "execute_result"
    }
   ],
   "source": [
    "np.array(padded_train).shape, np.array(padded_test).shape"
   ]
  },
  {
   "cell_type": "markdown",
   "metadata": {
    "id": "EDkEsyq-4y6y"
   },
   "source": [
    "Теперь поясним модели, что нули не несут значимой информации. Это нужно для компоненты модели, которая называется «внимание». Отбросим эти токены и «создадим маску» для действительно важных токенов, то есть укажем нулевые и не нулевые значения:"
   ]
  },
  {
   "cell_type": "code",
   "execution_count": 67,
   "metadata": {
    "id": "um5T_uox4y6y"
   },
   "outputs": [
    {
     "data": {
      "text/plain": [
       "((25900, 104), (5000, 104))"
      ]
     },
     "execution_count": 67,
     "metadata": {},
     "output_type": "execute_result"
    }
   ],
   "source": [
    "attention_mask_train = np.where(padded_train != 0, 1, 0)\n",
    "attention_mask_test = np.where(padded_test != 0, 1, 0)\n",
    "attention_mask_train.shape, attention_mask_test.shape"
   ]
  },
  {
   "cell_type": "markdown",
   "metadata": {
    "id": "SwW7Tmzd4y6y"
   },
   "source": [
    "Сделаем цикл по батчам. Отображать прогресс будет функция notebook()  \n",
    "Преобразуем данные в формат тензоров  — многомерных векторов в библиотеке torch. Тип данных LongTensor хранит числа в «длинном формате», то есть выделяет на каждое число 64 бита.  \n",
    "Чтобы получить эмбеддинги для батча, передадим модели данные и маску  \n",
    "Для ускорения вычисления функцией no_grad() в библиотеке torch укажем, что градиенты не нужны: модель BERT обучать не будем.  \n",
    "Из полученного тензора извлечём нужные элементы `batch_embeddings[0][:,0,:].numpy()` и добавим в список всех эмбеддингов  \n",
    "Соберём все эмбеддинги в матрицу признаков вызовов функции `concatenate()`:"
   ]
  },
  {
   "cell_type": "code",
   "execution_count": 68,
   "metadata": {
    "id": "v6Sfxkjk4y6y"
   },
   "outputs": [],
   "source": [
    "def embedings(padded, attention_mask):\n",
    "    batch_size = 100\n",
    "    embeddings = []\n",
    "    for i in notebook.tqdm(range(padded.shape[0] // batch_size)):\n",
    "            batch = torch.LongTensor(padded[batch_size*i:batch_size*(i+1)]) \n",
    "            attention_mask_batch = torch.LongTensor(attention_mask[batch_size*i:batch_size*(i+1)])\n",
    "\n",
    "            with torch.no_grad():\n",
    "                batch_embeddings = model(batch, attention_mask=attention_mask_batch)\n",
    "\n",
    "            embeddings.append(batch_embeddings[0][:,0,:].numpy())\n",
    "    features = np.concatenate(embeddings)\n",
    "    return features"
   ]
  },
  {
   "cell_type": "code",
   "execution_count": 69,
   "metadata": {
    "id": "ynKaJUqG4y6y"
   },
   "outputs": [
    {
     "data": {
      "application/vnd.jupyter.widget-view+json": {
       "model_id": "a000dbf68677476281a8ce016ddd4f2f",
       "version_major": 2,
       "version_minor": 0
      },
      "text/plain": [
       "  0%|          | 0/259 [00:00<?, ?it/s]"
      ]
     },
     "metadata": {},
     "output_type": "display_data"
    }
   ],
   "source": [
    "features_train = embedings(padded_train, attention_mask_train)"
   ]
  },
  {
   "cell_type": "code",
   "execution_count": 70,
   "metadata": {
    "id": "fvuSr30R4y6y"
   },
   "outputs": [
    {
     "data": {
      "application/vnd.jupyter.widget-view+json": {
       "model_id": "8e42f5f45f104d849f64e5143f693ec5",
       "version_major": 2,
       "version_minor": 0
      },
      "text/plain": [
       "  0%|          | 0/50 [00:00<?, ?it/s]"
      ]
     },
     "metadata": {},
     "output_type": "display_data"
    }
   ],
   "source": [
    "features_test = embedings(padded_test, attention_mask_test)"
   ]
  },
  {
   "cell_type": "markdown",
   "metadata": {
    "id": "xB0Ue44K4y6y"
   },
   "source": [
    "Целевые признаки:"
   ]
  },
  {
   "cell_type": "code",
   "execution_count": 71,
   "metadata": {
    "id": "agggmjiK4y6z"
   },
   "outputs": [],
   "source": [
    "labels_train = filtered_df_train['toxic']\n",
    "labels_test = filtered_df_test['toxic']"
   ]
  },
  {
   "cell_type": "code",
   "execution_count": 72,
   "metadata": {
    "id": "VTGADvDU4y6z"
   },
   "outputs": [],
   "source": [
    "def scoring_BERT(fitted_model):\n",
    "    test_pred = fitted_model.predict(features_test)\n",
    "    test_f1 = f1_score(labels_test, test_pred)\n",
    "    \n",
    "    print('F1 на тестовой выборке: {:.3f}'.format(test_f1))"
   ]
  },
  {
   "cell_type": "markdown",
   "metadata": {
    "id": "DidjKFDK4y6z"
   },
   "source": [
    "#### BERT для LogisticRegression:"
   ]
  },
  {
   "cell_type": "code",
   "execution_count": 73,
   "metadata": {
    "id": "OEZxx2EV4y6z"
   },
   "outputs": [],
   "source": [
    "log_reg = LogisticRegression(random_state=17)"
   ]
  },
  {
   "cell_type": "code",
   "execution_count": 74,
   "metadata": {
    "id": "BSF4cKXs4y6z"
   },
   "outputs": [],
   "source": [
    "log_reg_params = {'C': np.linspace(0.0001, 100, 10)}"
   ]
  },
  {
   "cell_type": "code",
   "execution_count": 75,
   "metadata": {
    "id": "2r_tj8gn4y6z"
   },
   "outputs": [
    {
     "name": "stdout",
     "output_type": "stream",
     "text": [
      "Wall time: 1min 11s\n"
     ]
    },
    {
     "data": {
      "text/plain": [
       "GridSearchCV(estimator=LogisticRegression(random_state=17),\n",
       "             param_grid={'C': array([1.00000e-04, 1.11112e+01, 2.22223e+01, 3.33334e+01, 4.44445e+01,\n",
       "       5.55556e+01, 6.66667e+01, 7.77778e+01, 8.88889e+01, 1.00000e+02])},\n",
       "             scoring='f1')"
      ]
     },
     "execution_count": 75,
     "metadata": {},
     "output_type": "execute_result"
    }
   ],
   "source": [
    "%%time\n",
    "log_reg_grid = GridSearchCV(log_reg, log_reg_params, scoring='f1')\n",
    "log_reg_grid.fit(features_train, labels_train)"
   ]
  },
  {
   "cell_type": "code",
   "execution_count": 76,
   "metadata": {
    "id": "eFwKhI984y6z"
   },
   "outputs": [
    {
     "name": "stdout",
     "output_type": "stream",
     "text": [
      "best parameters:  {'C': 77.77780000000001}\n",
      "best scores:  0.9010585818745757\n"
     ]
    }
   ],
   "source": [
    "print('best parameters: ', log_reg_grid.best_params_)\n",
    "print('best scores: ', log_reg_grid.best_score_)"
   ]
  },
  {
   "cell_type": "code",
   "execution_count": 77,
   "metadata": {
    "id": "WzFSvroq4y6z"
   },
   "outputs": [
    {
     "data": {
      "text/plain": [
       "LogisticRegression(C=77.77780000000001, random_state=17)"
      ]
     },
     "execution_count": 77,
     "metadata": {},
     "output_type": "execute_result"
    }
   ],
   "source": [
    "log_reg_grid.best_estimator_"
   ]
  },
  {
   "cell_type": "markdown",
   "metadata": {
    "id": "Y-2F-Rie4y6z"
   },
   "source": [
    "Оценка F1_score: "
   ]
  },
  {
   "cell_type": "code",
   "execution_count": 78,
   "metadata": {
    "id": "XWxlTgKU4y6z"
   },
   "outputs": [
    {
     "name": "stdout",
     "output_type": "stream",
     "text": [
      "F1 на тестовой выборке: 0.690\n",
      "Wall time: 14 ms\n"
     ]
    }
   ],
   "source": [
    "%%time\n",
    "scoring_BERT(log_reg_grid.best_estimator_)"
   ]
  },
  {
   "cell_type": "markdown",
   "metadata": {
    "id": "C-TtF8zW4y6z"
   },
   "source": [
    "#### BERT для   XGBClassifier"
   ]
  },
  {
   "cell_type": "code",
   "execution_count": 79,
   "metadata": {
    "id": "JsTeUiA-4y60"
   },
   "outputs": [],
   "source": [
    "xgb_clf = XGBClassifier(random_state=17, n_jobs=-1, n_estimators=500)"
   ]
  },
  {
   "cell_type": "code",
   "execution_count": 80,
   "metadata": {
    "id": "e0fpi3n34y60",
    "scrolled": true
   },
   "outputs": [
    {
     "name": "stdout",
     "output_type": "stream",
     "text": [
      "[18:34:22] WARNING: ..\\src\\learner.cc:1061: Starting in XGBoost 1.3.0, the default evaluation metric used with the objective 'binary:logistic' was changed from 'error' to 'logloss'. Explicitly set eval_metric if you'd like to restore the old behavior.\n",
      "Wall time: 3min 52s\n"
     ]
    },
    {
     "data": {
      "text/plain": [
       "XGBClassifier(base_score=0.5, booster='gbtree', colsample_bylevel=1,\n",
       "              colsample_bynode=1, colsample_bytree=1, gamma=0, gpu_id=-1,\n",
       "              importance_type='gain', interaction_constraints='',\n",
       "              learning_rate=0.300000012, max_delta_step=0, max_depth=6,\n",
       "              min_child_weight=1, missing=nan, monotone_constraints='()',\n",
       "              n_estimators=500, n_jobs=-1, num_parallel_tree=1, random_state=17,\n",
       "              reg_alpha=0, reg_lambda=1, scale_pos_weight=1, subsample=1,\n",
       "              tree_method='exact', validate_parameters=1, verbosity=None)"
      ]
     },
     "execution_count": 80,
     "metadata": {},
     "output_type": "execute_result"
    }
   ],
   "source": [
    "%%time\n",
    "xgb_clf.fit(features_train, labels_train)"
   ]
  },
  {
   "cell_type": "markdown",
   "metadata": {
    "id": "CXjUyI-W4y60"
   },
   "source": [
    "Оценка F1_score: "
   ]
  },
  {
   "cell_type": "code",
   "execution_count": 81,
   "metadata": {
    "id": "Pl-O8EQJ4y60"
   },
   "outputs": [
    {
     "name": "stdout",
     "output_type": "stream",
     "text": [
      "F1 на тестовой выборке: 0.676\n"
     ]
    }
   ],
   "source": [
    "scoring_BERT(xgb_clf)"
   ]
  },
  {
   "cell_type": "markdown",
   "metadata": {
    "id": "aRADhsSf4y60"
   },
   "source": [
    "#### BERT для   LGBMClassifier"
   ]
  },
  {
   "cell_type": "code",
   "execution_count": 82,
   "metadata": {
    "id": "cJ3KaNH04y60"
   },
   "outputs": [],
   "source": [
    "lgbm_clf = LGBMClassifier(n_jobs=-1, random_state=17)"
   ]
  },
  {
   "cell_type": "code",
   "execution_count": 83,
   "metadata": {
    "id": "mg_ja3F-4y61"
   },
   "outputs": [],
   "source": [
    "lgbm_clf_params = {'n_estimators': [500],\n",
    "                   'learning_rate': [0.1, 0.3, 0.5]}"
   ]
  },
  {
   "cell_type": "code",
   "execution_count": 84,
   "metadata": {
    "id": "1G_zWv2x4y61"
   },
   "outputs": [
    {
     "name": "stdout",
     "output_type": "stream",
     "text": [
      "Wall time: 6min 10s\n"
     ]
    },
    {
     "data": {
      "text/plain": [
       "GridSearchCV(estimator=LGBMClassifier(random_state=17),\n",
       "             param_grid={'learning_rate': [0.1, 0.3, 0.5],\n",
       "                         'n_estimators': [500]},\n",
       "             scoring='f1')"
      ]
     },
     "execution_count": 84,
     "metadata": {},
     "output_type": "execute_result"
    }
   ],
   "source": [
    "%%time\n",
    "lgbm_clf_grid = GridSearchCV(lgbm_clf, lgbm_clf_params, scoring='f1')\n",
    "lgbm_clf_grid.fit(features_train, labels_train)"
   ]
  },
  {
   "cell_type": "code",
   "execution_count": 85,
   "metadata": {
    "id": "v2CdCJnd4y61"
   },
   "outputs": [
    {
     "name": "stdout",
     "output_type": "stream",
     "text": [
      "best parameters:  {'learning_rate': 0.3, 'n_estimators': 500}\n",
      "best scores:  0.8976347288712795\n"
     ]
    }
   ],
   "source": [
    "print('best parameters: ', lgbm_clf_grid.best_params_)\n",
    "print('best scores: ', lgbm_clf_grid.best_score_)"
   ]
  },
  {
   "cell_type": "code",
   "execution_count": 86,
   "metadata": {
    "id": "5o_4-sFl4y61"
   },
   "outputs": [
    {
     "data": {
      "text/plain": [
       "LGBMClassifier(learning_rate=0.3, n_estimators=500, random_state=17)"
      ]
     },
     "execution_count": 86,
     "metadata": {},
     "output_type": "execute_result"
    }
   ],
   "source": [
    "lgbm_clf_grid.best_estimator_"
   ]
  },
  {
   "cell_type": "markdown",
   "metadata": {
    "id": "AOldG0Ko4y61"
   },
   "source": [
    "Оценка F1_score: "
   ]
  },
  {
   "cell_type": "code",
   "execution_count": 87,
   "metadata": {
    "id": "GxIG3rcR4y61"
   },
   "outputs": [
    {
     "name": "stdout",
     "output_type": "stream",
     "text": [
      "F1 на тестовой выборке: 0.669\n",
      "Wall time: 52.9 ms\n"
     ]
    }
   ],
   "source": [
    "%%time\n",
    "scoring_BERT(lgbm_clf_grid.best_estimator_)"
   ]
  },
  {
   "cell_type": "markdown",
   "metadata": {
    "id": "fB4na2f-4y61"
   },
   "source": [
    "#### Проверка модели на вменяемость\n",
    "Для того, чтобы получить «случайные» результаты, воспользуемся DummyClassifier. Полученные им результаты абсолютно случайные.  "
   ]
  },
  {
   "cell_type": "code",
   "execution_count": 88,
   "metadata": {
    "id": "dXGZ-h9A4y61"
   },
   "outputs": [],
   "source": [
    "dummy_clf = DummyClassifier()"
   ]
  },
  {
   "cell_type": "code",
   "execution_count": 89,
   "metadata": {
    "id": "YtrVGkL04y61"
   },
   "outputs": [
    {
     "name": "stdout",
     "output_type": "stream",
     "text": [
      "Dummy classifier score: 0.667 (+/- 0.00)\n"
     ]
    }
   ],
   "source": [
    "scores = cross_val_score(dummy_clf, features_train, labels_train, scoring='f1')\n",
    "print(\"Dummy classifier score: %0.3f (+/- %0.2f)\" % (scores.mean(), scores.std() * 2))"
   ]
  },
  {
   "cell_type": "code",
   "execution_count": 90,
   "metadata": {
    "id": "bpaXKS034y61"
   },
   "outputs": [
    {
     "data": {
      "text/plain": [
       "DummyClassifier()"
      ]
     },
     "execution_count": 90,
     "metadata": {},
     "output_type": "execute_result"
    }
   ],
   "source": [
    "dummy_clf.fit(features_train, labels_train)"
   ]
  },
  {
   "cell_type": "markdown",
   "metadata": {
    "id": "XBK7BiKS4y61"
   },
   "source": [
    "Оценка F1_score: "
   ]
  },
  {
   "cell_type": "code",
   "execution_count": 91,
   "metadata": {
    "id": "f4qhQ83p4y62"
   },
   "outputs": [
    {
     "name": "stdout",
     "output_type": "stream",
     "text": [
      "F1 на тестовой выборке: 0.208\n"
     ]
    }
   ],
   "source": [
    "scoring_BERT(dummy_clf)"
   ]
  },
  {
   "cell_type": "markdown",
   "metadata": {
    "id": "gjC9Utzg4y62"
   },
   "source": [
    "Видим что в среднем модель предсказывает гораздо хуже рассмотренных выше моделей."
   ]
  },
  {
   "cell_type": "markdown",
   "metadata": {
    "id": "o6WeIBFP4y62"
   },
   "source": [
    "### Выводы:"
   ]
  },
  {
   "cell_type": "markdown",
   "metadata": {
    "id": "F2-cxGu_4y62"
   },
   "source": [
    "В процессе обучения моделей обнаружили по TF-IDF:\n",
    "- Почти все модели показали значение f1 в районе 0.77.\n",
    "- Лучшей по метрики f1 является модель XGBClassifier\n",
    "- Лучшей по времени обучения Логистическая Регрессия\n",
    "\n",
    "В процессе обучения моделей по BERT:\n",
    "- Почти все модели показали значение f1 в районе 0.67\n",
    "- Лучшей также является Логистическая Регрессия c результатом 0.69"
   ]
  },
  {
   "cell_type": "markdown",
   "metadata": {
    "id": "VIMP9x-34y62"
   },
   "source": [
    "## Глава 3. Анализ моделей и общий вывод"
   ]
  },
  {
   "cell_type": "markdown",
   "metadata": {
    "id": "bGq9sZpl4y62"
   },
   "source": [
    "Проанализируем все модели на качество предсказания, скорость обучения"
   ]
  },
  {
   "cell_type": "markdown",
   "metadata": {
    "id": "-vAdzlrC4y62"
   },
   "source": [
    "Сведем все данные в таблицу:"
   ]
  },
  {
   "cell_type": "code",
   "execution_count": 92,
   "metadata": {
    "id": "wI-9fsls4y62"
   },
   "outputs": [],
   "source": [
    "df1 = pd.DataFrame({'Модель':['LogisticRegression', 'XGBClassifier', 'LGBMClassifier'], \n",
    "        'Скорость обучения по TF-IDF':['2 мин', '10 мин 28 сек', '11 мин 45 сек'],\n",
    "        'Скорость обучения по BERT':['1 мин', '3 мин 37 сек', '4 мин 14 сек'],\n",
    "        'Качество предсказания по TF-IDF': [0.759, 0.775, 0.769],\n",
    "        'Качество предсказания по BERT': [ 0.690, 0.676, 0.669]})"
   ]
  },
  {
   "cell_type": "code",
   "execution_count": 93,
   "metadata": {
    "id": "HcYUzRTW4y62"
   },
   "outputs": [
    {
     "data": {
      "text/html": [
       "<div>\n",
       "<style scoped>\n",
       "    .dataframe tbody tr th:only-of-type {\n",
       "        vertical-align: middle;\n",
       "    }\n",
       "\n",
       "    .dataframe tbody tr th {\n",
       "        vertical-align: top;\n",
       "    }\n",
       "\n",
       "    .dataframe thead th {\n",
       "        text-align: right;\n",
       "    }\n",
       "</style>\n",
       "<table border=\"1\" class=\"dataframe\">\n",
       "  <thead>\n",
       "    <tr style=\"text-align: right;\">\n",
       "      <th></th>\n",
       "      <th>Модель</th>\n",
       "      <th>Скорость обучения по TF-IDF</th>\n",
       "      <th>Скорость обучения по BERT</th>\n",
       "      <th>Качество предсказания по TF-IDF</th>\n",
       "      <th>Качество предсказания по BERT</th>\n",
       "    </tr>\n",
       "  </thead>\n",
       "  <tbody>\n",
       "    <tr>\n",
       "      <th>0</th>\n",
       "      <td>LogisticRegression</td>\n",
       "      <td>2 мин</td>\n",
       "      <td>1 мин</td>\n",
       "      <td>0.759</td>\n",
       "      <td>0.690</td>\n",
       "    </tr>\n",
       "    <tr>\n",
       "      <th>1</th>\n",
       "      <td>XGBClassifier</td>\n",
       "      <td>10 мин 28 сек</td>\n",
       "      <td>3 мин 37 сек</td>\n",
       "      <td>0.775</td>\n",
       "      <td>0.676</td>\n",
       "    </tr>\n",
       "    <tr>\n",
       "      <th>2</th>\n",
       "      <td>LGBMClassifier</td>\n",
       "      <td>11 мин 45 сек</td>\n",
       "      <td>4 мин 14 сек</td>\n",
       "      <td>0.769</td>\n",
       "      <td>0.669</td>\n",
       "    </tr>\n",
       "  </tbody>\n",
       "</table>\n",
       "</div>"
      ],
      "text/plain": [
       "               Модель Скорость обучения по TF-IDF Скорость обучения по BERT  \\\n",
       "0  LogisticRegression                       2 мин                     1 мин   \n",
       "1       XGBClassifier               10 мин 28 сек              3 мин 37 сек   \n",
       "2      LGBMClassifier               11 мин 45 сек              4 мин 14 сек   \n",
       "\n",
       "   Качество предсказания по TF-IDF  Качество предсказания по BERT  \n",
       "0                            0.759                          0.690  \n",
       "1                            0.775                          0.676  \n",
       "2                            0.769                          0.669  "
      ]
     },
     "execution_count": 93,
     "metadata": {},
     "output_type": "execute_result"
    }
   ],
   "source": [
    "df1"
   ]
  },
  {
   "cell_type": "markdown",
   "metadata": {
    "id": "s27vRV4p4y62"
   },
   "source": [
    "### Общий вывод:"
   ]
  },
  {
   "cell_type": "markdown",
   "metadata": {
    "id": "VFOw8ehH4y62"
   },
   "source": [
    " По результатам исследований моделей для поставленной задачи наиболее оптимальными являются:\n",
    "- LogisticRegression и предподготовкой текста с помощью BERT для решения задачи с максимальной скоростью\n",
    "- XGBClassifier и предподготовкой текста с помощью TF-IDF для решения задачи с макисмальной точностью\n"
   ]
  }
 ],
 "metadata": {
  "ExecuteTimeLog": [
   {
    "duration": 5,
    "start_time": "2021-07-28T14:06:32.842Z"
   },
   {
    "duration": 15,
    "start_time": "2021-07-28T14:06:32.849Z"
   },
   {
    "duration": 9,
    "start_time": "2021-07-28T14:06:32.867Z"
   },
   {
    "duration": 12,
    "start_time": "2021-07-28T14:06:32.880Z"
   },
   {
    "duration": 7,
    "start_time": "2021-07-28T14:06:32.894Z"
   },
   {
    "duration": 7,
    "start_time": "2021-07-28T14:06:32.904Z"
   },
   {
    "duration": 3,
    "start_time": "2021-07-28T14:06:32.915Z"
   },
   {
    "duration": 5,
    "start_time": "2021-07-28T14:06:32.921Z"
   },
   {
    "duration": 6,
    "start_time": "2021-07-28T14:06:32.929Z"
   },
   {
    "duration": 6799,
    "start_time": "2021-07-28T14:06:32.973Z"
   },
   {
    "duration": 3886,
    "start_time": "2021-07-28T14:06:39.775Z"
   },
   {
    "duration": -100,
    "start_time": "2021-07-28T14:06:43.781Z"
   },
   {
    "duration": -115,
    "start_time": "2021-07-28T14:06:43.797Z"
   },
   {
    "duration": -130,
    "start_time": "2021-07-28T14:06:43.814Z"
   },
   {
    "duration": -156,
    "start_time": "2021-07-28T14:06:43.841Z"
   },
   {
    "duration": -168,
    "start_time": "2021-07-28T14:06:43.855Z"
   },
   {
    "duration": -178,
    "start_time": "2021-07-28T14:06:43.867Z"
   },
   {
    "duration": -186,
    "start_time": "2021-07-28T14:06:43.876Z"
   },
   {
    "duration": -195,
    "start_time": "2021-07-28T14:06:43.886Z"
   },
   {
    "duration": -201,
    "start_time": "2021-07-28T14:06:43.893Z"
   },
   {
    "duration": -209,
    "start_time": "2021-07-28T14:06:43.903Z"
   },
   {
    "duration": -218,
    "start_time": "2021-07-28T14:06:43.913Z"
   },
   {
    "duration": -229,
    "start_time": "2021-07-28T14:06:43.925Z"
   },
   {
    "duration": -238,
    "start_time": "2021-07-28T14:06:43.936Z"
   },
   {
    "duration": -245,
    "start_time": "2021-07-28T14:06:43.944Z"
   },
   {
    "duration": -257,
    "start_time": "2021-07-28T14:06:43.957Z"
   },
   {
    "duration": -268,
    "start_time": "2021-07-28T14:06:43.970Z"
   },
   {
    "duration": -281,
    "start_time": "2021-07-28T14:06:43.984Z"
   },
   {
    "duration": -306,
    "start_time": "2021-07-28T14:06:44.010Z"
   },
   {
    "duration": -317,
    "start_time": "2021-07-28T14:06:44.023Z"
   },
   {
    "duration": -329,
    "start_time": "2021-07-28T14:06:44.036Z"
   },
   {
    "duration": -337,
    "start_time": "2021-07-28T14:06:44.045Z"
   },
   {
    "duration": -344,
    "start_time": "2021-07-28T14:06:44.054Z"
   },
   {
    "duration": -350,
    "start_time": "2021-07-28T14:06:44.061Z"
   },
   {
    "duration": -357,
    "start_time": "2021-07-28T14:06:44.069Z"
   },
   {
    "duration": -361,
    "start_time": "2021-07-28T14:06:44.075Z"
   },
   {
    "duration": -369,
    "start_time": "2021-07-28T14:06:44.084Z"
   },
   {
    "duration": -376,
    "start_time": "2021-07-28T14:06:44.092Z"
   },
   {
    "duration": -386,
    "start_time": "2021-07-28T14:06:44.103Z"
   },
   {
    "duration": -340,
    "start_time": "2021-07-28T14:06:44.111Z"
   },
   {
    "duration": -347,
    "start_time": "2021-07-28T14:06:44.121Z"
   },
   {
    "duration": -352,
    "start_time": "2021-07-28T14:06:44.128Z"
   },
   {
    "duration": -357,
    "start_time": "2021-07-28T14:06:44.136Z"
   },
   {
    "duration": -362,
    "start_time": "2021-07-28T14:06:44.143Z"
   },
   {
    "duration": -586,
    "start_time": "2021-07-28T14:06:44.369Z"
   },
   {
    "duration": -675,
    "start_time": "2021-07-28T14:06:44.460Z"
   },
   {
    "duration": -749,
    "start_time": "2021-07-28T14:06:44.535Z"
   },
   {
    "duration": -754,
    "start_time": "2021-07-28T14:06:44.542Z"
   },
   {
    "duration": -762,
    "start_time": "2021-07-28T14:06:44.551Z"
   },
   {
    "duration": -766,
    "start_time": "2021-07-28T14:06:44.556Z"
   },
   {
    "duration": -771,
    "start_time": "2021-07-28T14:06:44.563Z"
   },
   {
    "duration": -779,
    "start_time": "2021-07-28T14:06:44.572Z"
   },
   {
    "duration": -848,
    "start_time": "2021-07-28T14:06:44.642Z"
   },
   {
    "duration": -854,
    "start_time": "2021-07-28T14:06:44.649Z"
   },
   {
    "duration": -860,
    "start_time": "2021-07-28T14:06:44.657Z"
   },
   {
    "duration": -867,
    "start_time": "2021-07-28T14:06:44.665Z"
   },
   {
    "duration": -874,
    "start_time": "2021-07-28T14:06:44.673Z"
   },
   {
    "duration": -880,
    "start_time": "2021-07-28T14:06:44.680Z"
   },
   {
    "duration": -887,
    "start_time": "2021-07-28T14:06:44.689Z"
   },
   {
    "duration": -894,
    "start_time": "2021-07-28T14:06:44.697Z"
   },
   {
    "duration": -953,
    "start_time": "2021-07-28T14:06:44.757Z"
   },
   {
    "duration": -960,
    "start_time": "2021-07-28T14:06:44.765Z"
   },
   {
    "duration": -968,
    "start_time": "2021-07-28T14:06:44.774Z"
   },
   {
    "duration": -974,
    "start_time": "2021-07-28T14:06:44.782Z"
   },
   {
    "duration": -981,
    "start_time": "2021-07-28T14:06:44.790Z"
   },
   {
    "duration": -987,
    "start_time": "2021-07-28T14:06:44.797Z"
   },
   {
    "duration": -995,
    "start_time": "2021-07-28T14:06:44.806Z"
   },
   {
    "duration": -1002,
    "start_time": "2021-07-28T14:06:44.814Z"
   },
   {
    "duration": -1010,
    "start_time": "2021-07-28T14:06:44.823Z"
   },
   {
    "duration": -959,
    "start_time": "2021-07-28T14:06:44.830Z"
   },
   {
    "duration": -966,
    "start_time": "2021-07-28T14:06:44.839Z"
   },
   {
    "duration": -972,
    "start_time": "2021-07-28T14:06:44.846Z"
   },
   {
    "duration": -979,
    "start_time": "2021-07-28T14:06:44.855Z"
   },
   {
    "duration": -986,
    "start_time": "2021-07-28T14:06:44.863Z"
   },
   {
    "duration": -992,
    "start_time": "2021-07-28T14:06:44.871Z"
   },
   {
    "duration": -999,
    "start_time": "2021-07-28T14:06:44.879Z"
   },
   {
    "duration": -1005,
    "start_time": "2021-07-28T14:06:44.887Z"
   },
   {
    "duration": -1012,
    "start_time": "2021-07-28T14:06:44.895Z"
   },
   {
    "duration": -1020,
    "start_time": "2021-07-28T14:06:44.904Z"
   },
   {
    "duration": -1026,
    "start_time": "2021-07-28T14:06:44.912Z"
   },
   {
    "duration": -1034,
    "start_time": "2021-07-28T14:06:44.921Z"
   },
   {
    "duration": -1039,
    "start_time": "2021-07-28T14:06:44.928Z"
   },
   {
    "duration": -1047,
    "start_time": "2021-07-28T14:06:44.937Z"
   },
   {
    "duration": -1054,
    "start_time": "2021-07-28T14:06:44.945Z"
   },
   {
    "duration": -1269,
    "start_time": "2021-07-28T14:06:45.162Z"
   },
   {
    "duration": -1323,
    "start_time": "2021-07-28T14:06:45.217Z"
   },
   {
    "duration": -1329,
    "start_time": "2021-07-28T14:06:45.225Z"
   },
   {
    "duration": -1336,
    "start_time": "2021-07-28T14:06:45.233Z"
   },
   {
    "duration": -1342,
    "start_time": "2021-07-28T14:06:45.241Z"
   },
   {
    "duration": -1370,
    "start_time": "2021-07-28T14:06:45.270Z"
   },
   {
    "duration": -1376,
    "start_time": "2021-07-28T14:06:45.278Z"
   },
   {
    "duration": -1385,
    "start_time": "2021-07-28T14:06:45.288Z"
   },
   {
    "duration": -1389,
    "start_time": "2021-07-28T14:06:45.294Z"
   },
   {
    "duration": -1405,
    "start_time": "2021-07-28T14:06:45.311Z"
   },
   {
    "duration": -1408,
    "start_time": "2021-07-28T14:06:45.316Z"
   },
   {
    "duration": -1418,
    "start_time": "2021-07-28T14:06:45.328Z"
   },
   {
    "duration": -1424,
    "start_time": "2021-07-28T14:06:45.335Z"
   },
   {
    "duration": -1428,
    "start_time": "2021-07-28T14:06:45.340Z"
   },
   {
    "duration": -1432,
    "start_time": "2021-07-28T14:06:45.345Z"
   },
   {
    "duration": -1386,
    "start_time": "2021-07-28T14:06:45.358Z"
   },
   {
    "duration": -1394,
    "start_time": "2021-07-28T14:06:45.367Z"
   },
   {
    "duration": -1399,
    "start_time": "2021-07-28T14:06:45.374Z"
   },
   {
    "duration": -1406,
    "start_time": "2021-07-28T14:06:45.382Z"
   },
   {
    "duration": 4,
    "start_time": "2021-07-29T11:52:40.734Z"
   },
   {
    "duration": 7,
    "start_time": "2021-07-29T11:52:40.741Z"
   },
   {
    "duration": 9,
    "start_time": "2021-07-29T11:52:40.751Z"
   },
   {
    "duration": 8,
    "start_time": "2021-07-29T11:52:40.763Z"
   },
   {
    "duration": 7,
    "start_time": "2021-07-29T11:52:40.774Z"
   },
   {
    "duration": 8,
    "start_time": "2021-07-29T11:52:40.783Z"
   },
   {
    "duration": 7,
    "start_time": "2021-07-29T11:52:40.793Z"
   },
   {
    "duration": 4,
    "start_time": "2021-07-29T11:52:40.804Z"
   },
   {
    "duration": 7,
    "start_time": "2021-07-29T11:52:40.811Z"
   },
   {
    "duration": 5837,
    "start_time": "2021-07-29T11:52:40.855Z"
   },
   {
    "duration": 918,
    "start_time": "2021-07-29T11:52:46.695Z"
   },
   {
    "duration": 42,
    "start_time": "2021-07-29T11:52:47.616Z"
   },
   {
    "duration": 91434,
    "start_time": "2021-07-29T11:52:47.661Z"
   },
   {
    "duration": 61,
    "start_time": "2021-07-29T11:54:19.098Z"
   },
   {
    "duration": 1398,
    "start_time": "2021-07-29T11:54:19.161Z"
   },
   {
    "duration": 6,
    "start_time": "2021-07-29T11:54:20.562Z"
   },
   {
    "duration": 30,
    "start_time": "2021-07-29T11:54:20.570Z"
   },
   {
    "duration": 16,
    "start_time": "2021-07-29T11:54:20.602Z"
   },
   {
    "duration": 42,
    "start_time": "2021-07-29T11:54:20.621Z"
   },
   {
    "duration": 2946,
    "start_time": "2021-07-29T11:54:20.666Z"
   },
   {
    "duration": 2233342,
    "start_time": "2021-07-29T11:54:23.615Z"
   },
   {
    "duration": 3,
    "start_time": "2021-07-29T12:31:36.959Z"
   },
   {
    "duration": 66,
    "start_time": "2021-07-29T12:31:36.969Z"
   },
   {
    "duration": 361,
    "start_time": "2021-07-29T12:31:37.039Z"
   },
   {
    "duration": 8015,
    "start_time": "2021-07-29T12:31:37.402Z"
   },
   {
    "duration": 7392,
    "start_time": "2021-07-29T12:31:45.419Z"
   },
   {
    "duration": 43,
    "start_time": "2021-07-29T12:31:52.814Z"
   },
   {
    "duration": 6,
    "start_time": "2021-07-29T12:31:52.860Z"
   },
   {
    "duration": 514,
    "start_time": "2021-07-30T08:14:37.466Z"
   },
   {
    "duration": 5,
    "start_time": "2021-07-30T08:14:45.936Z"
   },
   {
    "duration": 5,
    "start_time": "2021-07-30T08:14:45.944Z"
   },
   {
    "duration": 5,
    "start_time": "2021-07-30T08:14:45.952Z"
   },
   {
    "duration": 4,
    "start_time": "2021-07-30T08:14:45.968Z"
   },
   {
    "duration": 11,
    "start_time": "2021-07-30T08:14:45.975Z"
   },
   {
    "duration": 9,
    "start_time": "2021-07-30T08:14:45.989Z"
   },
   {
    "duration": 9,
    "start_time": "2021-07-30T08:14:46.001Z"
   },
   {
    "duration": 9,
    "start_time": "2021-07-30T08:14:46.013Z"
   },
   {
    "duration": 6,
    "start_time": "2021-07-30T08:14:46.025Z"
   },
   {
    "duration": 6881,
    "start_time": "2021-07-30T08:14:46.034Z"
   },
   {
    "duration": 9903,
    "start_time": "2021-07-30T08:14:52.919Z"
   },
   {
    "duration": 34,
    "start_time": "2021-07-30T08:15:02.825Z"
   },
   {
    "duration": 1288,
    "start_time": "2021-07-30T08:15:06.734Z"
   },
   {
    "duration": 12,
    "start_time": "2021-07-30T08:15:31.579Z"
   },
   {
    "duration": 684,
    "start_time": "2021-07-30T08:15:35.626Z"
   },
   {
    "duration": 364,
    "start_time": "2021-07-30T08:16:37.436Z"
   },
   {
    "duration": 4,
    "start_time": "2021-07-30T08:20:24.261Z"
   },
   {
    "duration": 10,
    "start_time": "2021-07-30T08:20:24.267Z"
   },
   {
    "duration": 9,
    "start_time": "2021-07-30T08:20:24.281Z"
   },
   {
    "duration": 5,
    "start_time": "2021-07-30T08:20:24.294Z"
   },
   {
    "duration": 6,
    "start_time": "2021-07-30T08:20:24.302Z"
   },
   {
    "duration": 7,
    "start_time": "2021-07-30T08:20:24.311Z"
   },
   {
    "duration": 6,
    "start_time": "2021-07-30T08:20:24.321Z"
   },
   {
    "duration": 53,
    "start_time": "2021-07-30T08:20:24.332Z"
   },
   {
    "duration": 3,
    "start_time": "2021-07-30T08:20:24.389Z"
   },
   {
    "duration": 6262,
    "start_time": "2021-07-30T08:20:24.395Z"
   },
   {
    "duration": 795,
    "start_time": "2021-07-30T08:20:30.660Z"
   },
   {
    "duration": 44,
    "start_time": "2021-07-30T08:20:31.457Z"
   },
   {
    "duration": 413,
    "start_time": "2021-07-30T08:20:31.504Z"
   },
   {
    "duration": 9,
    "start_time": "2021-07-30T08:20:31.919Z"
   },
   {
    "duration": 1143,
    "start_time": "2021-07-30T08:20:31.930Z"
   },
   {
    "duration": 12,
    "start_time": "2021-07-30T08:20:33.075Z"
   },
   {
    "duration": 16,
    "start_time": "2021-07-30T08:20:33.090Z"
   },
   {
    "duration": 26,
    "start_time": "2021-07-30T08:20:33.108Z"
   },
   {
    "duration": 11,
    "start_time": "2021-07-30T08:20:33.137Z"
   },
   {
    "duration": 3479,
    "start_time": "2021-07-30T08:20:33.150Z"
   },
   {
    "duration": 3,
    "start_time": "2021-07-30T08:20:36.633Z"
   },
   {
    "duration": 6807,
    "start_time": "2021-07-30T08:20:36.638Z"
   },
   {
    "duration": 23,
    "start_time": "2021-07-30T08:20:43.453Z"
   },
   {
    "duration": 9990,
    "start_time": "2021-07-30T08:20:43.496Z"
   },
   {
    "duration": 11840,
    "start_time": "2021-07-30T08:20:53.490Z"
   },
   {
    "duration": 37,
    "start_time": "2021-07-30T08:21:05.332Z"
   },
   {
    "duration": 889,
    "start_time": "2021-07-30T08:21:05.372Z"
   },
   {
    "duration": 4119,
    "start_time": "2021-07-30T08:21:06.263Z"
   },
   {
    "duration": 14,
    "start_time": "2021-07-30T08:21:10.390Z"
   },
   {
    "duration": 5,
    "start_time": "2021-07-30T08:21:10.406Z"
   },
   {
    "duration": 15261,
    "start_time": "2021-07-30T08:21:10.413Z"
   },
   {
    "duration": 5,
    "start_time": "2021-07-30T08:21:25.676Z"
   },
   {
    "duration": 22,
    "start_time": "2021-07-30T08:21:25.686Z"
   },
   {
    "duration": 17,
    "start_time": "2021-07-30T08:21:25.710Z"
   },
   {
    "duration": 10,
    "start_time": "2021-07-30T08:21:25.729Z"
   },
   {
    "duration": 16,
    "start_time": "2021-07-30T08:21:25.741Z"
   },
   {
    "duration": 1054785,
    "start_time": "2021-07-30T08:21:25.759Z"
   },
   {
    "duration": 6,
    "start_time": "2021-07-30T08:39:00.547Z"
   },
   {
    "duration": 13,
    "start_time": "2021-07-30T08:39:00.556Z"
   },
   {
    "duration": 41,
    "start_time": "2021-07-30T08:39:00.572Z"
   },
   {
    "duration": 4,
    "start_time": "2021-07-30T08:39:00.615Z"
   },
   {
    "duration": 18,
    "start_time": "2021-07-30T08:39:00.621Z"
   }
  ],
  "colab": {
   "collapsed_sections": [],
   "name": "Проект. Прогнозирование тональной окраски комментариев.ipynb",
   "provenance": []
  },
  "kernelspec": {
   "display_name": "Python 3",
   "language": "python",
   "name": "python3"
  },
  "language_info": {
   "codemirror_mode": {
    "name": "ipython",
    "version": 3
   },
   "file_extension": ".py",
   "mimetype": "text/x-python",
   "name": "python",
   "nbconvert_exporter": "python",
   "pygments_lexer": "ipython3",
   "version": "3.8.8"
  },
  "toc": {
   "base_numbering": 1,
   "nav_menu": {},
   "number_sections": true,
   "sideBar": true,
   "skip_h1_title": true,
   "title_cell": "Table of Contents",
   "title_sidebar": "Contents",
   "toc_cell": true,
   "toc_position": {
    "height": "calc(100% - 180px)",
    "left": "10px",
    "top": "150px",
    "width": "409.097px"
   },
   "toc_section_display": true,
   "toc_window_display": true
  }
 },
 "nbformat": 4,
 "nbformat_minor": 1
}
