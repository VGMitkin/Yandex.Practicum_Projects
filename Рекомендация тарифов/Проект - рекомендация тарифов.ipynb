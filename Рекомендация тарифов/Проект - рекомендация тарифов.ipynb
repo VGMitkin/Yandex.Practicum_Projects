{
 "cells": [
  {
   "cell_type": "markdown",
   "metadata": {},
   "source": [
    "# Рекомендация тарифов"
   ]
  },
  {
   "cell_type": "markdown",
   "metadata": {},
   "source": [
    "В вашем распоряжении данные о поведении клиентов, которые уже перешли на эти тарифы (из проекта курса «Статистический анализ данных»). Нужно построить модель для задачи классификации, которая выберет подходящий тариф. Предобработка данных не понадобится — вы её уже сделали.\n",
    "\n",
    "Постройте модель с максимально большим значением *accuracy*. Чтобы сдать проект успешно, нужно довести долю правильных ответов по крайней мере до 0.75. Проверьте *accuracy* на тестовой выборке самостоятельно."
   ]
  },
  {
   "cell_type": "markdown",
   "metadata": {},
   "source": [
    "## Откройте и изучите файл"
   ]
  },
  {
   "cell_type": "code",
   "execution_count": 1,
   "metadata": {},
   "outputs": [],
   "source": [
    "import pandas as pd\n",
    "import numpy as np\n",
    "from sklearn.model_selection import train_test_split\n",
    "from sklearn.tree import DecisionTreeClassifier\n",
    "from sklearn.ensemble import RandomForestClassifier\n",
    "from sklearn.linear_model import LogisticRegression\n",
    "from sklearn.model_selection import train_test_split\n",
    "from sklearn.metrics import accuracy_score\n",
    "from sklearn.metrics import mean_squared_error\n",
    "from sklearn.metrics import recall_score\n",
    "from sklearn.metrics import precision_score\n",
    "from sklearn.dummy import DummyClassifier\n",
    "from IPython.display import display\n",
    "import warnings\n"
   ]
  },
  {
   "cell_type": "code",
   "execution_count": 2,
   "metadata": {},
   "outputs": [
    {
     "data": {
      "text/html": [
       "<div>\n",
       "<style scoped>\n",
       "    .dataframe tbody tr th:only-of-type {\n",
       "        vertical-align: middle;\n",
       "    }\n",
       "\n",
       "    .dataframe tbody tr th {\n",
       "        vertical-align: top;\n",
       "    }\n",
       "\n",
       "    .dataframe thead th {\n",
       "        text-align: right;\n",
       "    }\n",
       "</style>\n",
       "<table border=\"1\" class=\"dataframe\">\n",
       "  <thead>\n",
       "    <tr style=\"text-align: right;\">\n",
       "      <th></th>\n",
       "      <th>calls</th>\n",
       "      <th>minutes</th>\n",
       "      <th>messages</th>\n",
       "      <th>mb_used</th>\n",
       "      <th>is_ultra</th>\n",
       "    </tr>\n",
       "  </thead>\n",
       "  <tbody>\n",
       "    <tr>\n",
       "      <td>307</td>\n",
       "      <td>54.0</td>\n",
       "      <td>312.85</td>\n",
       "      <td>10.0</td>\n",
       "      <td>7798.27</td>\n",
       "      <td>0</td>\n",
       "    </tr>\n",
       "    <tr>\n",
       "      <td>1312</td>\n",
       "      <td>93.0</td>\n",
       "      <td>688.54</td>\n",
       "      <td>18.0</td>\n",
       "      <td>14117.53</td>\n",
       "      <td>1</td>\n",
       "    </tr>\n",
       "    <tr>\n",
       "      <td>561</td>\n",
       "      <td>46.0</td>\n",
       "      <td>333.24</td>\n",
       "      <td>6.0</td>\n",
       "      <td>20286.28</td>\n",
       "      <td>0</td>\n",
       "    </tr>\n",
       "    <tr>\n",
       "      <td>2437</td>\n",
       "      <td>45.0</td>\n",
       "      <td>300.97</td>\n",
       "      <td>45.0</td>\n",
       "      <td>17135.44</td>\n",
       "      <td>0</td>\n",
       "    </tr>\n",
       "    <tr>\n",
       "      <td>1477</td>\n",
       "      <td>98.0</td>\n",
       "      <td>703.16</td>\n",
       "      <td>4.0</td>\n",
       "      <td>25391.67</td>\n",
       "      <td>1</td>\n",
       "    </tr>\n",
       "    <tr>\n",
       "      <td>1623</td>\n",
       "      <td>23.0</td>\n",
       "      <td>169.25</td>\n",
       "      <td>20.0</td>\n",
       "      <td>7476.26</td>\n",
       "      <td>0</td>\n",
       "    </tr>\n",
       "    <tr>\n",
       "      <td>2520</td>\n",
       "      <td>73.0</td>\n",
       "      <td>620.25</td>\n",
       "      <td>0.0</td>\n",
       "      <td>21098.49</td>\n",
       "      <td>0</td>\n",
       "    </tr>\n",
       "    <tr>\n",
       "      <td>760</td>\n",
       "      <td>28.0</td>\n",
       "      <td>151.92</td>\n",
       "      <td>108.0</td>\n",
       "      <td>20411.22</td>\n",
       "      <td>1</td>\n",
       "    </tr>\n",
       "    <tr>\n",
       "      <td>1006</td>\n",
       "      <td>97.0</td>\n",
       "      <td>608.10</td>\n",
       "      <td>50.0</td>\n",
       "      <td>26838.48</td>\n",
       "      <td>1</td>\n",
       "    </tr>\n",
       "    <tr>\n",
       "      <td>601</td>\n",
       "      <td>97.0</td>\n",
       "      <td>798.53</td>\n",
       "      <td>75.0</td>\n",
       "      <td>16249.13</td>\n",
       "      <td>0</td>\n",
       "    </tr>\n",
       "  </tbody>\n",
       "</table>\n",
       "</div>"
      ],
      "text/plain": [
       "      calls  minutes  messages   mb_used  is_ultra\n",
       "307    54.0   312.85      10.0   7798.27         0\n",
       "1312   93.0   688.54      18.0  14117.53         1\n",
       "561    46.0   333.24       6.0  20286.28         0\n",
       "2437   45.0   300.97      45.0  17135.44         0\n",
       "1477   98.0   703.16       4.0  25391.67         1\n",
       "1623   23.0   169.25      20.0   7476.26         0\n",
       "2520   73.0   620.25       0.0  21098.49         0\n",
       "760    28.0   151.92     108.0  20411.22         1\n",
       "1006   97.0   608.10      50.0  26838.48         1\n",
       "601    97.0   798.53      75.0  16249.13         0"
      ]
     },
     "metadata": {},
     "output_type": "display_data"
    },
    {
     "name": "stdout",
     "output_type": "stream",
     "text": [
      "<class 'pandas.core.frame.DataFrame'>\n",
      "RangeIndex: 3214 entries, 0 to 3213\n",
      "Data columns (total 5 columns):\n",
      "calls       3214 non-null float64\n",
      "minutes     3214 non-null float64\n",
      "messages    3214 non-null float64\n",
      "mb_used     3214 non-null float64\n",
      "is_ultra    3214 non-null int64\n",
      "dtypes: float64(4), int64(1)\n",
      "memory usage: 125.7 KB\n"
     ]
    },
    {
     "data": {
      "text/plain": [
       "None"
      ]
     },
     "metadata": {},
     "output_type": "display_data"
    }
   ],
   "source": [
    "warnings.simplefilter('ignore')\n",
    "df = pd.read_csv('/datasets/users_behavior.csv')\n",
    "display(df.sample(10))\n",
    "display(df.info())"
   ]
  },
  {
   "cell_type": "markdown",
   "metadata": {},
   "source": [
    "## Разбейте данные на выборки"
   ]
  },
  {
   "cell_type": "code",
   "execution_count": 3,
   "metadata": {
    "scrolled": true
   },
   "outputs": [
    {
     "name": "stdout",
     "output_type": "stream",
     "text": [
      "(1722, 4) (849, 4) (643, 4) (1722,) (849,) (643,)\n"
     ]
    }
   ],
   "source": [
    "features = df.drop(['is_ultra'], axis = 1)\n",
    "target = df['is_ultra']\n",
    "features_train, features_test, target_train, target_test = train_test_split(features, target, \n",
    "                                                    test_size = 0.2, random_state = 42)\n",
    "features_train, features_valid, target_train, target_valid = train_test_split(features_train, target_train, \n",
    "                                                    test_size = 0.33, random_state = 42)\n",
    "print(features_train.shape , features_valid.shape, features_test.shape , target_train.shape , target_valid.shape \n",
    "      , target_test.shape )"
   ]
  },
  {
   "cell_type": "markdown",
   "metadata": {},
   "source": [
    "Разбиение датасета на тренировочный, валидационный и тестовый происходило в 2 этапа, пропорции выбраны согласно рекомендациям(тренировочный датасет 60% от общего, валидационный и тестовый по 20%)"
   ]
  },
  {
   "cell_type": "markdown",
   "metadata": {},
   "source": [
    "## Исследуйте модели"
   ]
  },
  {
   "cell_type": "markdown",
   "metadata": {},
   "source": [
    "Определим, какая модель подойдет лучше всего. Перед нами задача классификации, поэтому в нашем распоряжении три инструмента: дерево классификации, лес классификации и логистическая регрессия. Выясним, какая из моделей после обучения будет иметь меньшую среднеквадратичную ошибку. Для удобства, сразу будем извлекать корень из этого значения."
   ]
  },
  {
   "cell_type": "code",
   "execution_count": 4,
   "metadata": {},
   "outputs": [
    {
     "name": "stdout",
     "output_type": "stream",
     "text": [
      "Максимальная глубина: 15 Лучшая глубина: 1\n"
     ]
    }
   ],
   "source": [
    "best_tree_model = None\n",
    "best_tree_result = 10000\n",
    "best_tree_depth = 0\n",
    "for depth in range(1, 16):\n",
    "    tree_model = DecisionTreeClassifier(random_state = 42, max_depth = depth)\n",
    "    tree_model.fit(features_train, target_train)\n",
    "    tree_predictions_valid = tree_model.predict(features_valid)\n",
    "    tree_result = accuracy_score(target_valid, tree_predictions_valid)\n",
    "    if tree_result < best_tree_result:\n",
    "            best_tree_model = tree_model\n",
    "            best_tree_result = tree_result\n",
    "            best_tree_depth = depth\n",
    "print( \"Максимальная глубина:\", depth, \"Лучшая глубина:\", best_tree_depth)"
   ]
  },
  {
   "cell_type": "markdown",
   "metadata": {},
   "source": [
    "Модель дерева показала наилучшую точность при глубине равной 4м, однако значение ошибки достаточно велико."
   ]
  },
  {
   "cell_type": "code",
   "execution_count": 5,
   "metadata": {},
   "outputs": [
    {
     "name": "stdout",
     "output_type": "stream",
     "text": [
      "Количество деревьев: 35 Максимальная глубина: 10 Лучшая глубина: 1\n"
     ]
    }
   ],
   "source": [
    "best_forest_model = None\n",
    "best_forest_result = 10000\n",
    "best_forest_est = 0\n",
    "best_forest_depth = 0\n",
    "for est in range(10, 51, 5):\n",
    "    for depth in range (1, 11):\n",
    "        forest_model = RandomForestClassifier(random_state=42, n_estimators = est, max_depth = depth)\n",
    "        forest_model.fit(features_train, target_train)\n",
    "        forest_predictions_valid = forest_model.predict(features_valid)\n",
    "        forest_result = accuracy_score(target_valid, forest_predictions_valid)\n",
    "        if forest_result < best_forest_result:\n",
    "            best_forest_model = forest_model\n",
    "            best_forest_result = forest_result\n",
    "            best_forest_est = est\n",
    "            best_forest_depth = depth\n",
    "print( \"Количество деревьев:\", best_forest_est, \"Максимальная глубина:\", depth,\n",
    "        \"Лучшая глубина:\", best_forest_depth)"
   ]
  },
  {
   "cell_type": "markdown",
   "metadata": {},
   "source": [
    "Для модели леса лучшим вариантом оказалась конфигурация с 25ю деревьями и глубиной 8. Ошибка незначительно меньше, чем для модели дерева."
   ]
  },
  {
   "cell_type": "code",
   "execution_count": 6,
   "metadata": {},
   "outputs": [
    {
     "name": "stdout",
     "output_type": "stream",
     "text": [
      "Accuracy наилучшей модели на валидационной выборке: 0.7031802120141343\n"
     ]
    }
   ],
   "source": [
    "regression_model = LogisticRegression(random_state = 42)\n",
    "regression_model.fit(features_train, target_train)\n",
    "regression_predictions_valid = regression_model.predict(features_valid)\n",
    "regression_result = accuracy_score(target_valid, regression_predictions_valid)\n",
    "print(\"Accuracy наилучшей модели на валидационной выборке:\", regression_result)"
   ]
  },
  {
   "cell_type": "markdown",
   "metadata": {},
   "source": [
    "Модель логичтической регрессии практически не настраиваема, поэтому на выходе получим один результат. Наиболее удачной моделью оказался лес решений. Проверять на тестовой выборке мы будем именно её."
   ]
  },
  {
   "cell_type": "markdown",
   "metadata": {},
   "source": [
    "## Проверьте модель на тестовой выборке"
   ]
  },
  {
   "cell_type": "code",
   "execution_count": 7,
   "metadata": {},
   "outputs": [
    {
     "name": "stdout",
     "output_type": "stream",
     "text": [
      "Количество ошибок: 125\n",
      "Точность модели леса решений: 0.8055987558320373\n"
     ]
    }
   ],
   "source": [
    "forest_model_test_predictions = forest_model.predict(features_test)\n",
    "\n",
    "def error_count(answers, predictions):\n",
    "    count = 0\n",
    "    for i in range(len(answers)):\n",
    "        if answers[i] != predictions[i]:\n",
    "            count += 1\n",
    "    return count\n",
    "\n",
    "print('Количество ошибок:', error_count(np.array(target_test), np.array(forest_model_test_predictions)))\n",
    "accuracy = accuracy_score(target_test, forest_model_test_predictions)\n",
    "print('Точность модели леса решений:', accuracy)"
   ]
  },
  {
   "cell_type": "markdown",
   "metadata": {},
   "source": [
    "Лучшая модель совершила 125 ошибок, что соответствует точности примерно 80%. Это хороший результат, с такой моделью можно работать. Однако, для полносты картины сравим точности для остальных моделей, а далее проверим нашу модель на достоверность."
   ]
  },
  {
   "cell_type": "code",
   "execution_count": 8,
   "metadata": {},
   "outputs": [
    {
     "name": "stdout",
     "output_type": "stream",
     "text": [
      "Количество ошибок: 146\n",
      "Точность модели дерева решений: 0.7729393468118196\n"
     ]
    }
   ],
   "source": [
    "tree_model_test_predictions = tree_model.predict(features_test)\n",
    "tree_test_result = mean_squared_error(target_test, tree_model_test_predictions)**0.5\n",
    "\n",
    "def error_count(answers, predictions):\n",
    "    count = 0\n",
    "    for i in range(len(answers)):\n",
    "        if answers[i] != predictions[i]:\n",
    "            count += 1\n",
    "    return count\n",
    "\n",
    "print('Количество ошибок:', error_count(np.array(target_test), np.array(tree_model_test_predictions)))\n",
    "accuracy = accuracy_score(target_test, tree_model_test_predictions)\n",
    "print('Точность модели дерева решений:', accuracy)"
   ]
  },
  {
   "cell_type": "code",
   "execution_count": 9,
   "metadata": {},
   "outputs": [
    {
     "name": "stdout",
     "output_type": "stream",
     "text": [
      "Количество ошибок: 179\n",
      "Точность модели логистической регрессии: 0.7216174183514774\n"
     ]
    }
   ],
   "source": [
    "regression_model_test_predictions = regression_model.predict(features_test)\n",
    "regression_test_result = mean_squared_error(target_test, regression_model_test_predictions)**0.5\n",
    "\n",
    "def error_count(answers, predictions):\n",
    "    count = 0\n",
    "    for i in range(len(answers)):\n",
    "        if answers[i] != predictions[i]:\n",
    "            count += 1\n",
    "    return count\n",
    "\n",
    "print('Количество ошибок:', error_count(np.array(target_test), np.array(regression_model_test_predictions)))\n",
    "accuracy = accuracy_score(target_test, regression_model_test_predictions)\n",
    "print('Точность модели логистической регрессии:', accuracy)"
   ]
  },
  {
   "cell_type": "markdown",
   "metadata": {},
   "source": [
    "Как и было замечено ранее, модель дерева и регрессии показали худший результат, по сравнению с моделью леса. К сожалению, логистическая регрессия не прошла через порог, выставленный для отбраковывания нерабочих моделей, так как её точность ниже 75%. Проверим теперь модель леса на адекватность."
   ]
  },
  {
   "cell_type": "markdown",
   "metadata": {},
   "source": [
    "## (бонус) Проверьте модели на адекватность"
   ]
  },
  {
   "cell_type": "markdown",
   "metadata": {},
   "source": [
    "Для проверки на адекватность первым делом сравним точность нашей модели с точностью произвольного классификатора."
   ]
  },
  {
   "cell_type": "code",
   "execution_count": 12,
   "metadata": {},
   "outputs": [
    {
     "name": "stdout",
     "output_type": "stream",
     "text": [
      "0.567651632970451\n"
     ]
    }
   ],
   "source": [
    "dclf = DummyClassifier(strategy='stratified', random_state=42)\n",
    "dclf.fit(features_test, target_test)\n",
    "\n",
    "rand_clsfier_predictions = dclf.predict(features_test)\n",
    "\n",
    "print(dclf.score(rand_clsfier_predictions, target_test))\n"
   ]
  },
  {
   "cell_type": "code",
   "execution_count": 13,
   "metadata": {},
   "outputs": [
    {
     "name": "stdout",
     "output_type": "stream",
     "text": [
      "0.7076205287713841\n"
     ]
    }
   ],
   "source": [
    "dclf = DummyClassifier(strategy='most_frequent', random_state=42)\n",
    "dclf.fit(features_test, target_test)\n",
    "\n",
    "rand_clsfier_predictions = dclf.predict(features_test)\n",
    "\n",
    "print(dclf.score(rand_clsfier_predictions, target_test))\n"
   ]
  },
  {
   "cell_type": "code",
   "execution_count": 10,
   "metadata": {},
   "outputs": [
    {
     "name": "stdout",
     "output_type": "stream",
     "text": [
      "0.7076205287713841\n"
     ]
    }
   ],
   "source": [
    "dclf = DummyClassifier(strategy='constant', random_state=42, constant = 0)\n",
    "dclf.fit(features_test, target_test)\n",
    "\n",
    "rand_clsfier_predictions = dclf.predict(features_test)\n",
    "\n",
    "print(dclf.score(rand_clsfier_predictions, target_test))\n"
   ]
  },
  {
   "cell_type": "markdown",
   "metadata": {},
   "source": [
    "При случайном угадывании точно модели всё таки значительно ниже, чем даже у логистической регрессии, однако не равно 50%, несмотря на двоичность нашего класса. Так получается потому, что выборка смещена в сторону значения 0, поэтому простым перебором мы чаще будем попадать в смещенное значение, что увеличит точность. Однако, выбранная модель справляется с прогнозированием гораздо успешнее, что может говорить нам о её достойном качестве. Теперь оценим полноту и точность модели.\n",
    "\n",
    "В качестве дополнительной самопроверки сравним теперь нашу модель и случайный классификатор, но вместо угадывания будем везде предсказывать ноль.  Проверка показала, что точность таких предсказаний всё-таки ниже пороговой, но уже ощутимо высока. Такое высокое значение упирается в отмеченное нами ранее смещение выборки в сторону нуля. Этот же тезис подтверждается при проверке данным классификатором по стратегии most frequent."
   ]
  },
  {
   "cell_type": "code",
   "execution_count": 11,
   "metadata": {},
   "outputs": [
    {
     "name": "stdout",
     "output_type": "stream",
     "text": [
      "Полнота данных: 0.5159574468085106  Точность модели: 0.7404580152671756\n"
     ]
    }
   ],
   "source": [
    "forest_recall = recall_score(target_test, forest_model_test_predictions , labels=None, pos_label=1, average='binary', \n",
    "                             sample_weight=None)\n",
    "forest_precision = precision_score(target_test, forest_model_test_predictions, labels=None, pos_label=1, average='binary', \n",
    "                                sample_weight=None)\n",
    "print('Полнота данных:', forest_recall,' Точность модели:', forest_precision)"
   ]
  },
  {
   "cell_type": "markdown",
   "metadata": {},
   "source": [
    "Модель далека от идеала, хотя заполняемые данные с почти 75% процентной вероятностью соответствуют реальным значениям(количество истинных положительных результатов отнесенное к количеству истинных срабатываний плюс количество ложных срабатываний). Однако, полнота модели находится на уровне 52%. Получается, примерно половина значений, где дожна была быть 1 была спрогнозированна как 0( полнота определяется как количество истинных положительных результатов отнесенная к количеству истинно положительных результатов плюс количество ложных отрицательных результатов)."
   ]
  },
  {
   "cell_type": "markdown",
   "metadata": {},
   "source": [
    "**Вывод** Итак, на выходе мы имеем следующий результат: Предложенная модель с 80% точностью посоветует абонентам архивных тарифов верную альтернативу из тарифов актуальных, однако, особенно активным пользователям лишь в 75% процентах случаев будет выгодно обратить внимание на предложенный тариф Ultra, в примерно 50% случаев есть вероятность посоветовать клиенту тариф ниже классом рекомендуемого. С учетом приведенных данных, следует отметить, что при рекомендации того или иного тарифа для перехода стоит обращать внимание пользователей, которым рекомендуется переход на Smart ознакомиться с условиями по тарифу Ultra воизбежание нерационального выбора клиентом."
   ]
  }
 ],
 "metadata": {
  "kernelspec": {
   "display_name": "Python 3",
   "language": "python",
   "name": "python3"
  },
  "language_info": {
   "codemirror_mode": {
    "name": "ipython",
    "version": 3
   },
   "file_extension": ".py",
   "mimetype": "text/x-python",
   "name": "python",
   "nbconvert_exporter": "python",
   "pygments_lexer": "ipython3",
   "version": "3.8.8"
  },
  "toc": {
   "base_numbering": 1,
   "nav_menu": {},
   "number_sections": true,
   "sideBar": true,
   "skip_h1_title": true,
   "title_cell": "Table of Contents",
   "title_sidebar": "Contents",
   "toc_cell": false,
   "toc_position": {},
   "toc_section_display": true,
   "toc_window_display": false
  }
 },
 "nbformat": 4,
 "nbformat_minor": 2
}
