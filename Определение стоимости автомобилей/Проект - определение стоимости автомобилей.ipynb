{
 "cells": [
  {
   "cell_type": "markdown",
   "metadata": {
    "toc": true
   },
   "source": [
    "<h1>Table of Contents<span class=\"tocSkip\"></span></h1>\n",
    "<div class=\"toc\"><ul class=\"toc-item\"><li><span><a href=\"#Описание-данных\" data-toc-modified-id=\"Описание-данных-1\"><span class=\"toc-item-num\">1&nbsp;&nbsp;</span>Описание данных</a></span></li><li><span><a href=\"#Подготовка-данных\" data-toc-modified-id=\"Подготовка-данных-2\"><span class=\"toc-item-num\">2&nbsp;&nbsp;</span>Подготовка данных</a></span></li><li><span><a href=\"#Обучение-моделей\" data-toc-modified-id=\"Обучение-моделей-3\"><span class=\"toc-item-num\">3&nbsp;&nbsp;</span>Обучение моделей</a></span><ul class=\"toc-item\"><li><span><a href=\"#Модель-линейной-регрессии\" data-toc-modified-id=\"Модель-линейной-регрессии-3.1\"><span class=\"toc-item-num\">3.1&nbsp;&nbsp;</span>Модель линейной регрессии</a></span></li><li><span><a href=\"#Стохастический-градиентный-бустинг\" data-toc-modified-id=\"Стохастический-градиентный-бустинг-3.2\"><span class=\"toc-item-num\">3.2&nbsp;&nbsp;</span>Стохастический градиентный бустинг</a></span></li><li><span><a href=\"#Модель-XGBoost\" data-toc-modified-id=\"Модель-XGBoost-3.3\"><span class=\"toc-item-num\">3.3&nbsp;&nbsp;</span>Модель XGBoost</a></span></li><li><span><a href=\"#Модель-CatBoost\" data-toc-modified-id=\"Модель-CatBoost-3.4\"><span class=\"toc-item-num\">3.4&nbsp;&nbsp;</span>Модель CatBoost</a></span></li><li><span><a href=\"#Модель-LGBMRegressor\" data-toc-modified-id=\"Модель-LGBMRegressor-3.5\"><span class=\"toc-item-num\">3.5&nbsp;&nbsp;</span>Модель LGBMRegressor</a></span></li></ul></li><li><span><a href=\"#Анализ-моделей\" data-toc-modified-id=\"Анализ-моделей-4\"><span class=\"toc-item-num\">4&nbsp;&nbsp;</span>Анализ моделей</a></span></li><li><span><a href=\"#Вывод\" data-toc-modified-id=\"Вывод-5\"><span class=\"toc-item-num\">5&nbsp;&nbsp;</span>Вывод</a></span></li><li><span><a href=\"#Чек-лист-проверки\" data-toc-modified-id=\"Чек-лист-проверки-6\"><span class=\"toc-item-num\">6&nbsp;&nbsp;</span>Чек-лист проверки</a></span></li></ul></div>"
   ]
  },
  {
   "cell_type": "markdown",
   "metadata": {},
   "source": [
    "# Определение стоимости автомобилей"
   ]
  },
  {
   "cell_type": "markdown",
   "metadata": {},
   "source": [
    "Сервис по продаже автомобилей с пробегом «Не бит, не крашен» разрабатывает приложение для привлечения новых клиентов. В нём можно быстро узнать рыночную стоимость своего автомобиля. В вашем распоряжении исторические данные: технические характеристики, комплектации и цены автомобилей. Вам нужно построить модель для определения стоимости. \n",
    "\n",
    "Заказчику важны:\n",
    "\n",
    "- качество предсказания;\n",
    "- скорость предсказания;\n",
    "- время обучения."
   ]
  },
  {
   "cell_type": "markdown",
   "metadata": {},
   "source": [
    "## Описание данных"
   ]
  },
  {
   "cell_type": "markdown",
   "metadata": {},
   "source": [
    "Данные находятся в файле /datasets/autos.csv.\n",
    "\n",
    "Признаки:\n",
    "- DateCrawled — дата скачивания анкеты из базы\n",
    "- VehicleType — тип автомобильного кузова\n",
    "- RegistrationYear — год регистрации автомобиля\n",
    "- Gearbox — тип коробки передач\n",
    "- Power — мощность (л. с.)\n",
    "- Model — модель автомобиля\n",
    "- Kilometer — пробег (км)\n",
    "- RegistrationMonth — месяц регистрации автомобиля\n",
    "- FuelType — тип топлива\n",
    "- Brand — марка автомобиля\n",
    "- NotRepaired — была машина в ремонте или нет\n",
    "- DateCreated — дата создания анкеты\n",
    "- NumberOfPictures — количество фотографий автомобиля\n",
    "- PostalCode — почтовый индекс владельца анкеты (пользователя)\n",
    "- LastSeen — дата последней активности пользователя\n",
    "\n",
    "Целевой признак\n",
    "- Price — цена (евро)"
   ]
  },
  {
   "cell_type": "markdown",
   "metadata": {},
   "source": []
  },
  {
   "cell_type": "markdown",
   "metadata": {},
   "source": [
    "## Подготовка данных"
   ]
  },
  {
   "cell_type": "markdown",
   "metadata": {},
   "source": [
    "Начнем с импорта необходимы для дальнейшей работы инструментов"
   ]
  },
  {
   "cell_type": "code",
   "execution_count": 1,
   "metadata": {},
   "outputs": [],
   "source": [
    "import pandas as pd\n",
    "import numpy as np\n",
    "import matplotlib.pyplot as plt\n",
    "import seaborn as sns\n",
    "from sklearn.model_selection import train_test_split\n",
    "from sklearn.preprocessing import StandardScaler\n",
    "from sklearn.metrics import mean_squared_error\n",
    "from sklearn.metrics import make_scorer\n",
    "from sklearn.model_selection import GridSearchCV\n",
    "from sklearn.model_selection import ShuffleSplit\n",
    "from sklearn.linear_model import LinearRegression\n",
    "from sklearn.linear_model import SGDRegressor\n",
    "from xgboost import XGBRegressor\n",
    "from catboost import CatBoostRegressor\n",
    "from lightgbm import LGBMRegressor\n",
    "import warnings\n",
    "warnings.filterwarnings('ignore')"
   ]
  },
  {
   "cell_type": "markdown",
   "metadata": {},
   "source": [
    "Взглянем на данные"
   ]
  },
  {
   "cell_type": "code",
   "execution_count": 2,
   "metadata": {},
   "outputs": [
    {
     "data": {
      "text/html": [
       "<div>\n",
       "<style scoped>\n",
       "    .dataframe tbody tr th:only-of-type {\n",
       "        vertical-align: middle;\n",
       "    }\n",
       "\n",
       "    .dataframe tbody tr th {\n",
       "        vertical-align: top;\n",
       "    }\n",
       "\n",
       "    .dataframe thead th {\n",
       "        text-align: right;\n",
       "    }\n",
       "</style>\n",
       "<table border=\"1\" class=\"dataframe\">\n",
       "  <thead>\n",
       "    <tr style=\"text-align: right;\">\n",
       "      <th></th>\n",
       "      <th>DateCrawled</th>\n",
       "      <th>Price</th>\n",
       "      <th>VehicleType</th>\n",
       "      <th>RegistrationYear</th>\n",
       "      <th>Gearbox</th>\n",
       "      <th>Power</th>\n",
       "      <th>Model</th>\n",
       "      <th>Kilometer</th>\n",
       "      <th>RegistrationMonth</th>\n",
       "      <th>FuelType</th>\n",
       "      <th>Brand</th>\n",
       "      <th>NotRepaired</th>\n",
       "      <th>DateCreated</th>\n",
       "      <th>NumberOfPictures</th>\n",
       "      <th>PostalCode</th>\n",
       "      <th>LastSeen</th>\n",
       "    </tr>\n",
       "  </thead>\n",
       "  <tbody>\n",
       "    <tr>\n",
       "      <td>0</td>\n",
       "      <td>2016-03-24 11:52:17</td>\n",
       "      <td>480</td>\n",
       "      <td>NaN</td>\n",
       "      <td>1993</td>\n",
       "      <td>manual</td>\n",
       "      <td>0</td>\n",
       "      <td>golf</td>\n",
       "      <td>150000</td>\n",
       "      <td>0</td>\n",
       "      <td>petrol</td>\n",
       "      <td>volkswagen</td>\n",
       "      <td>NaN</td>\n",
       "      <td>2016-03-24 00:00:00</td>\n",
       "      <td>0</td>\n",
       "      <td>70435</td>\n",
       "      <td>2016-04-07 03:16:57</td>\n",
       "    </tr>\n",
       "    <tr>\n",
       "      <td>1</td>\n",
       "      <td>2016-03-24 10:58:45</td>\n",
       "      <td>18300</td>\n",
       "      <td>coupe</td>\n",
       "      <td>2011</td>\n",
       "      <td>manual</td>\n",
       "      <td>190</td>\n",
       "      <td>NaN</td>\n",
       "      <td>125000</td>\n",
       "      <td>5</td>\n",
       "      <td>gasoline</td>\n",
       "      <td>audi</td>\n",
       "      <td>yes</td>\n",
       "      <td>2016-03-24 00:00:00</td>\n",
       "      <td>0</td>\n",
       "      <td>66954</td>\n",
       "      <td>2016-04-07 01:46:50</td>\n",
       "    </tr>\n",
       "    <tr>\n",
       "      <td>2</td>\n",
       "      <td>2016-03-14 12:52:21</td>\n",
       "      <td>9800</td>\n",
       "      <td>suv</td>\n",
       "      <td>2004</td>\n",
       "      <td>auto</td>\n",
       "      <td>163</td>\n",
       "      <td>grand</td>\n",
       "      <td>125000</td>\n",
       "      <td>8</td>\n",
       "      <td>gasoline</td>\n",
       "      <td>jeep</td>\n",
       "      <td>NaN</td>\n",
       "      <td>2016-03-14 00:00:00</td>\n",
       "      <td>0</td>\n",
       "      <td>90480</td>\n",
       "      <td>2016-04-05 12:47:46</td>\n",
       "    </tr>\n",
       "    <tr>\n",
       "      <td>3</td>\n",
       "      <td>2016-03-17 16:54:04</td>\n",
       "      <td>1500</td>\n",
       "      <td>small</td>\n",
       "      <td>2001</td>\n",
       "      <td>manual</td>\n",
       "      <td>75</td>\n",
       "      <td>golf</td>\n",
       "      <td>150000</td>\n",
       "      <td>6</td>\n",
       "      <td>petrol</td>\n",
       "      <td>volkswagen</td>\n",
       "      <td>no</td>\n",
       "      <td>2016-03-17 00:00:00</td>\n",
       "      <td>0</td>\n",
       "      <td>91074</td>\n",
       "      <td>2016-03-17 17:40:17</td>\n",
       "    </tr>\n",
       "    <tr>\n",
       "      <td>4</td>\n",
       "      <td>2016-03-31 17:25:20</td>\n",
       "      <td>3600</td>\n",
       "      <td>small</td>\n",
       "      <td>2008</td>\n",
       "      <td>manual</td>\n",
       "      <td>69</td>\n",
       "      <td>fabia</td>\n",
       "      <td>90000</td>\n",
       "      <td>7</td>\n",
       "      <td>gasoline</td>\n",
       "      <td>skoda</td>\n",
       "      <td>no</td>\n",
       "      <td>2016-03-31 00:00:00</td>\n",
       "      <td>0</td>\n",
       "      <td>60437</td>\n",
       "      <td>2016-04-06 10:17:21</td>\n",
       "    </tr>\n",
       "    <tr>\n",
       "      <td>...</td>\n",
       "      <td>...</td>\n",
       "      <td>...</td>\n",
       "      <td>...</td>\n",
       "      <td>...</td>\n",
       "      <td>...</td>\n",
       "      <td>...</td>\n",
       "      <td>...</td>\n",
       "      <td>...</td>\n",
       "      <td>...</td>\n",
       "      <td>...</td>\n",
       "      <td>...</td>\n",
       "      <td>...</td>\n",
       "      <td>...</td>\n",
       "      <td>...</td>\n",
       "      <td>...</td>\n",
       "      <td>...</td>\n",
       "    </tr>\n",
       "    <tr>\n",
       "      <td>354364</td>\n",
       "      <td>2016-03-21 09:50:58</td>\n",
       "      <td>0</td>\n",
       "      <td>NaN</td>\n",
       "      <td>2005</td>\n",
       "      <td>manual</td>\n",
       "      <td>0</td>\n",
       "      <td>colt</td>\n",
       "      <td>150000</td>\n",
       "      <td>7</td>\n",
       "      <td>petrol</td>\n",
       "      <td>mitsubishi</td>\n",
       "      <td>yes</td>\n",
       "      <td>2016-03-21 00:00:00</td>\n",
       "      <td>0</td>\n",
       "      <td>2694</td>\n",
       "      <td>2016-03-21 10:42:49</td>\n",
       "    </tr>\n",
       "    <tr>\n",
       "      <td>354365</td>\n",
       "      <td>2016-03-14 17:48:27</td>\n",
       "      <td>2200</td>\n",
       "      <td>NaN</td>\n",
       "      <td>2005</td>\n",
       "      <td>NaN</td>\n",
       "      <td>0</td>\n",
       "      <td>NaN</td>\n",
       "      <td>20000</td>\n",
       "      <td>1</td>\n",
       "      <td>NaN</td>\n",
       "      <td>sonstige_autos</td>\n",
       "      <td>NaN</td>\n",
       "      <td>2016-03-14 00:00:00</td>\n",
       "      <td>0</td>\n",
       "      <td>39576</td>\n",
       "      <td>2016-04-06 00:46:52</td>\n",
       "    </tr>\n",
       "    <tr>\n",
       "      <td>354366</td>\n",
       "      <td>2016-03-05 19:56:21</td>\n",
       "      <td>1199</td>\n",
       "      <td>convertible</td>\n",
       "      <td>2000</td>\n",
       "      <td>auto</td>\n",
       "      <td>101</td>\n",
       "      <td>fortwo</td>\n",
       "      <td>125000</td>\n",
       "      <td>3</td>\n",
       "      <td>petrol</td>\n",
       "      <td>smart</td>\n",
       "      <td>no</td>\n",
       "      <td>2016-03-05 00:00:00</td>\n",
       "      <td>0</td>\n",
       "      <td>26135</td>\n",
       "      <td>2016-03-11 18:17:12</td>\n",
       "    </tr>\n",
       "    <tr>\n",
       "      <td>354367</td>\n",
       "      <td>2016-03-19 18:57:12</td>\n",
       "      <td>9200</td>\n",
       "      <td>bus</td>\n",
       "      <td>1996</td>\n",
       "      <td>manual</td>\n",
       "      <td>102</td>\n",
       "      <td>transporter</td>\n",
       "      <td>150000</td>\n",
       "      <td>3</td>\n",
       "      <td>gasoline</td>\n",
       "      <td>volkswagen</td>\n",
       "      <td>no</td>\n",
       "      <td>2016-03-19 00:00:00</td>\n",
       "      <td>0</td>\n",
       "      <td>87439</td>\n",
       "      <td>2016-04-07 07:15:26</td>\n",
       "    </tr>\n",
       "    <tr>\n",
       "      <td>354368</td>\n",
       "      <td>2016-03-20 19:41:08</td>\n",
       "      <td>3400</td>\n",
       "      <td>wagon</td>\n",
       "      <td>2002</td>\n",
       "      <td>manual</td>\n",
       "      <td>100</td>\n",
       "      <td>golf</td>\n",
       "      <td>150000</td>\n",
       "      <td>6</td>\n",
       "      <td>gasoline</td>\n",
       "      <td>volkswagen</td>\n",
       "      <td>NaN</td>\n",
       "      <td>2016-03-20 00:00:00</td>\n",
       "      <td>0</td>\n",
       "      <td>40764</td>\n",
       "      <td>2016-03-24 12:45:21</td>\n",
       "    </tr>\n",
       "  </tbody>\n",
       "</table>\n",
       "<p>354369 rows × 16 columns</p>\n",
       "</div>"
      ],
      "text/plain": [
       "                DateCrawled  Price  VehicleType  RegistrationYear Gearbox  \\\n",
       "0       2016-03-24 11:52:17    480          NaN              1993  manual   \n",
       "1       2016-03-24 10:58:45  18300        coupe              2011  manual   \n",
       "2       2016-03-14 12:52:21   9800          suv              2004    auto   \n",
       "3       2016-03-17 16:54:04   1500        small              2001  manual   \n",
       "4       2016-03-31 17:25:20   3600        small              2008  manual   \n",
       "...                     ...    ...          ...               ...     ...   \n",
       "354364  2016-03-21 09:50:58      0          NaN              2005  manual   \n",
       "354365  2016-03-14 17:48:27   2200          NaN              2005     NaN   \n",
       "354366  2016-03-05 19:56:21   1199  convertible              2000    auto   \n",
       "354367  2016-03-19 18:57:12   9200          bus              1996  manual   \n",
       "354368  2016-03-20 19:41:08   3400        wagon              2002  manual   \n",
       "\n",
       "        Power        Model  Kilometer  RegistrationMonth  FuelType  \\\n",
       "0           0         golf     150000                  0    petrol   \n",
       "1         190          NaN     125000                  5  gasoline   \n",
       "2         163        grand     125000                  8  gasoline   \n",
       "3          75         golf     150000                  6    petrol   \n",
       "4          69        fabia      90000                  7  gasoline   \n",
       "...       ...          ...        ...                ...       ...   \n",
       "354364      0         colt     150000                  7    petrol   \n",
       "354365      0          NaN      20000                  1       NaN   \n",
       "354366    101       fortwo     125000                  3    petrol   \n",
       "354367    102  transporter     150000                  3  gasoline   \n",
       "354368    100         golf     150000                  6  gasoline   \n",
       "\n",
       "                 Brand NotRepaired          DateCreated  NumberOfPictures  \\\n",
       "0           volkswagen         NaN  2016-03-24 00:00:00                 0   \n",
       "1                 audi         yes  2016-03-24 00:00:00                 0   \n",
       "2                 jeep         NaN  2016-03-14 00:00:00                 0   \n",
       "3           volkswagen          no  2016-03-17 00:00:00                 0   \n",
       "4                skoda          no  2016-03-31 00:00:00                 0   \n",
       "...                ...         ...                  ...               ...   \n",
       "354364      mitsubishi         yes  2016-03-21 00:00:00                 0   \n",
       "354365  sonstige_autos         NaN  2016-03-14 00:00:00                 0   \n",
       "354366           smart          no  2016-03-05 00:00:00                 0   \n",
       "354367      volkswagen          no  2016-03-19 00:00:00                 0   \n",
       "354368      volkswagen         NaN  2016-03-20 00:00:00                 0   \n",
       "\n",
       "        PostalCode             LastSeen  \n",
       "0            70435  2016-04-07 03:16:57  \n",
       "1            66954  2016-04-07 01:46:50  \n",
       "2            90480  2016-04-05 12:47:46  \n",
       "3            91074  2016-03-17 17:40:17  \n",
       "4            60437  2016-04-06 10:17:21  \n",
       "...            ...                  ...  \n",
       "354364        2694  2016-03-21 10:42:49  \n",
       "354365       39576  2016-04-06 00:46:52  \n",
       "354366       26135  2016-03-11 18:17:12  \n",
       "354367       87439  2016-04-07 07:15:26  \n",
       "354368       40764  2016-03-24 12:45:21  \n",
       "\n",
       "[354369 rows x 16 columns]"
      ]
     },
     "execution_count": 2,
     "metadata": {},
     "output_type": "execute_result"
    }
   ],
   "source": [
    "df= pd.read_csv('/datasets/autos.csv')\n",
    "df"
   ]
  },
  {
   "cell_type": "code",
   "execution_count": 3,
   "metadata": {},
   "outputs": [
    {
     "name": "stdout",
     "output_type": "stream",
     "text": [
      "<class 'pandas.core.frame.DataFrame'>\n",
      "RangeIndex: 354369 entries, 0 to 354368\n",
      "Data columns (total 16 columns):\n",
      "DateCrawled          354369 non-null object\n",
      "Price                354369 non-null int64\n",
      "VehicleType          316879 non-null object\n",
      "RegistrationYear     354369 non-null int64\n",
      "Gearbox              334536 non-null object\n",
      "Power                354369 non-null int64\n",
      "Model                334664 non-null object\n",
      "Kilometer            354369 non-null int64\n",
      "RegistrationMonth    354369 non-null int64\n",
      "FuelType             321474 non-null object\n",
      "Brand                354369 non-null object\n",
      "NotRepaired          283215 non-null object\n",
      "DateCreated          354369 non-null object\n",
      "NumberOfPictures     354369 non-null int64\n",
      "PostalCode           354369 non-null int64\n",
      "LastSeen             354369 non-null object\n",
      "dtypes: int64(7), object(9)\n",
      "memory usage: 43.3+ MB\n"
     ]
    }
   ],
   "source": [
    "df.info()"
   ]
  },
  {
   "cell_type": "code",
   "execution_count": 4,
   "metadata": {},
   "outputs": [
    {
     "data": {
      "text/plain": [
       "DateCrawled          0.000000\n",
       "Price                0.000000\n",
       "VehicleType          0.105794\n",
       "RegistrationYear     0.000000\n",
       "Gearbox              0.055967\n",
       "Power                0.000000\n",
       "Model                0.055606\n",
       "Kilometer            0.000000\n",
       "RegistrationMonth    0.000000\n",
       "FuelType             0.092827\n",
       "Brand                0.000000\n",
       "NotRepaired          0.200791\n",
       "DateCreated          0.000000\n",
       "NumberOfPictures     0.000000\n",
       "PostalCode           0.000000\n",
       "LastSeen             0.000000\n",
       "dtype: float64"
      ]
     },
     "execution_count": 4,
     "metadata": {},
     "output_type": "execute_result"
    }
   ],
   "source": [
    "df.isna().mean()"
   ]
  },
  {
   "cell_type": "markdown",
   "metadata": {},
   "source": [
    "Данные достаточно \"сырые\", имеется много пропусков (до 20%). Как с ними работать нам еще предстоит разобраться, а пока начнем с меньшего, например, проверим на дубликаты."
   ]
  },
  {
   "cell_type": "code",
   "execution_count": 5,
   "metadata": {},
   "outputs": [
    {
     "data": {
      "text/plain": [
       "4"
      ]
     },
     "execution_count": 5,
     "metadata": {},
     "output_type": "execute_result"
    }
   ],
   "source": [
    "df.duplicated().sum()"
   ]
  },
  {
   "cell_type": "code",
   "execution_count": 6,
   "metadata": {},
   "outputs": [
    {
     "data": {
      "text/html": [
       "<div>\n",
       "<style scoped>\n",
       "    .dataframe tbody tr th:only-of-type {\n",
       "        vertical-align: middle;\n",
       "    }\n",
       "\n",
       "    .dataframe tbody tr th {\n",
       "        vertical-align: top;\n",
       "    }\n",
       "\n",
       "    .dataframe thead th {\n",
       "        text-align: right;\n",
       "    }\n",
       "</style>\n",
       "<table border=\"1\" class=\"dataframe\">\n",
       "  <thead>\n",
       "    <tr style=\"text-align: right;\">\n",
       "      <th></th>\n",
       "      <th>DateCrawled</th>\n",
       "      <th>Price</th>\n",
       "      <th>VehicleType</th>\n",
       "      <th>RegistrationYear</th>\n",
       "      <th>Gearbox</th>\n",
       "      <th>Power</th>\n",
       "      <th>Model</th>\n",
       "      <th>Kilometer</th>\n",
       "      <th>RegistrationMonth</th>\n",
       "      <th>FuelType</th>\n",
       "      <th>Brand</th>\n",
       "      <th>NotRepaired</th>\n",
       "      <th>DateCreated</th>\n",
       "      <th>NumberOfPictures</th>\n",
       "      <th>PostalCode</th>\n",
       "      <th>LastSeen</th>\n",
       "    </tr>\n",
       "  </thead>\n",
       "  <tbody>\n",
       "    <tr>\n",
       "      <td>171088</td>\n",
       "      <td>2016-03-08 18:42:48</td>\n",
       "      <td>1799</td>\n",
       "      <td>coupe</td>\n",
       "      <td>1999</td>\n",
       "      <td>auto</td>\n",
       "      <td>193</td>\n",
       "      <td>clk</td>\n",
       "      <td>20000</td>\n",
       "      <td>7</td>\n",
       "      <td>petrol</td>\n",
       "      <td>mercedes_benz</td>\n",
       "      <td>no</td>\n",
       "      <td>2016-03-08 00:00:00</td>\n",
       "      <td>0</td>\n",
       "      <td>89518</td>\n",
       "      <td>2016-03-09 09:46:57</td>\n",
       "    </tr>\n",
       "    <tr>\n",
       "      <td>231258</td>\n",
       "      <td>2016-03-28 00:56:10</td>\n",
       "      <td>1000</td>\n",
       "      <td>small</td>\n",
       "      <td>2002</td>\n",
       "      <td>manual</td>\n",
       "      <td>83</td>\n",
       "      <td>other</td>\n",
       "      <td>150000</td>\n",
       "      <td>1</td>\n",
       "      <td>petrol</td>\n",
       "      <td>suzuki</td>\n",
       "      <td>no</td>\n",
       "      <td>2016-03-28 00:00:00</td>\n",
       "      <td>0</td>\n",
       "      <td>66589</td>\n",
       "      <td>2016-03-28 08:46:21</td>\n",
       "    </tr>\n",
       "    <tr>\n",
       "      <td>258109</td>\n",
       "      <td>2016-04-03 09:01:15</td>\n",
       "      <td>4699</td>\n",
       "      <td>coupe</td>\n",
       "      <td>2003</td>\n",
       "      <td>auto</td>\n",
       "      <td>218</td>\n",
       "      <td>clk</td>\n",
       "      <td>125000</td>\n",
       "      <td>6</td>\n",
       "      <td>petrol</td>\n",
       "      <td>mercedes_benz</td>\n",
       "      <td>yes</td>\n",
       "      <td>2016-04-03 00:00:00</td>\n",
       "      <td>0</td>\n",
       "      <td>75196</td>\n",
       "      <td>2016-04-07 09:44:54</td>\n",
       "    </tr>\n",
       "    <tr>\n",
       "      <td>325651</td>\n",
       "      <td>2016-03-18 18:46:15</td>\n",
       "      <td>1999</td>\n",
       "      <td>wagon</td>\n",
       "      <td>2001</td>\n",
       "      <td>manual</td>\n",
       "      <td>131</td>\n",
       "      <td>passat</td>\n",
       "      <td>150000</td>\n",
       "      <td>7</td>\n",
       "      <td>gasoline</td>\n",
       "      <td>volkswagen</td>\n",
       "      <td>no</td>\n",
       "      <td>2016-03-18 00:00:00</td>\n",
       "      <td>0</td>\n",
       "      <td>36391</td>\n",
       "      <td>2016-03-18 18:46:15</td>\n",
       "    </tr>\n",
       "  </tbody>\n",
       "</table>\n",
       "</div>"
      ],
      "text/plain": [
       "                DateCrawled  Price VehicleType  RegistrationYear Gearbox  \\\n",
       "171088  2016-03-08 18:42:48   1799       coupe              1999    auto   \n",
       "231258  2016-03-28 00:56:10   1000       small              2002  manual   \n",
       "258109  2016-04-03 09:01:15   4699       coupe              2003    auto   \n",
       "325651  2016-03-18 18:46:15   1999       wagon              2001  manual   \n",
       "\n",
       "        Power   Model  Kilometer  RegistrationMonth  FuelType          Brand  \\\n",
       "171088    193     clk      20000                  7    petrol  mercedes_benz   \n",
       "231258     83   other     150000                  1    petrol         suzuki   \n",
       "258109    218     clk     125000                  6    petrol  mercedes_benz   \n",
       "325651    131  passat     150000                  7  gasoline     volkswagen   \n",
       "\n",
       "       NotRepaired          DateCreated  NumberOfPictures  PostalCode  \\\n",
       "171088          no  2016-03-08 00:00:00                 0       89518   \n",
       "231258          no  2016-03-28 00:00:00                 0       66589   \n",
       "258109         yes  2016-04-03 00:00:00                 0       75196   \n",
       "325651          no  2016-03-18 00:00:00                 0       36391   \n",
       "\n",
       "                   LastSeen  \n",
       "171088  2016-03-09 09:46:57  \n",
       "231258  2016-03-28 08:46:21  \n",
       "258109  2016-04-07 09:44:54  \n",
       "325651  2016-03-18 18:46:15  "
      ]
     },
     "execution_count": 6,
     "metadata": {},
     "output_type": "execute_result"
    }
   ],
   "source": [
    "df[df.duplicated() == True]"
   ]
  },
  {
   "cell_type": "markdown",
   "metadata": {},
   "source": [
    "Всего 4 дубликата, которые смело удаляем."
   ]
  },
  {
   "cell_type": "code",
   "execution_count": 7,
   "metadata": {},
   "outputs": [],
   "source": [
    "df = df.drop_duplicates().reset_index(drop=True)"
   ]
  },
  {
   "cell_type": "code",
   "execution_count": 8,
   "metadata": {},
   "outputs": [
    {
     "data": {
      "text/plain": [
       "0"
      ]
     },
     "execution_count": 8,
     "metadata": {},
     "output_type": "execute_result"
    }
   ],
   "source": [
    "df.duplicated().sum()"
   ]
  },
  {
   "cell_type": "markdown",
   "metadata": {},
   "source": [
    "В данных есть столбцы, которые ни коим образом не повлияют на качество предсказаний будущих моделей, а лишь усложнят процесс обучения, и, возможно, даже приведут к его ухудшению. Поэтому удалим их из нашего набора данных"
   ]
  },
  {
   "cell_type": "code",
   "execution_count": 9,
   "metadata": {
    "scrolled": true
   },
   "outputs": [
    {
     "data": {
      "text/plain": [
       "Index(['Price', 'VehicleType', 'RegistrationYear', 'Gearbox', 'Power', 'Model',\n",
       "       'Kilometer', 'RegistrationMonth', 'FuelType', 'Brand', 'NotRepaired'],\n",
       "      dtype='object')"
      ]
     },
     "execution_count": 9,
     "metadata": {},
     "output_type": "execute_result"
    }
   ],
   "source": [
    "df = df.drop(['DateCrawled', 'DateCreated', 'NumberOfPictures','PostalCode', 'LastSeen'], axis=1)\n",
    "df.columns"
   ]
  },
  {
   "cell_type": "markdown",
   "metadata": {},
   "source": [
    "Пробег автомобиля, на первый взгляд, численный признак, но чтобы убедиться в этом построим график распределения данных в этом столбце."
   ]
  },
  {
   "cell_type": "code",
   "execution_count": 10,
   "metadata": {},
   "outputs": [
    {
     "data": {
      "image/png": "[encoded data removed]",
      "text/plain": [
       "<Figure size 864x360 with 1 Axes>"
      ]
     },
     "metadata": {},
     "output_type": "display_data"
    }
   ],
   "source": [
    "sns.set()\n",
    "fig, ax = plt.subplots(figsize=(12, 5))\n",
    "sns.distplot(df['Kilometer'])\n",
    "ax.set_title('Распределение по Kilometer')\n",
    "plt.ylabel('Плотность частоты');"
   ]
  },
  {
   "cell_type": "markdown",
   "metadata": {},
   "source": [
    "Как видно из графика,в данном датасете пробег - категориальный признак. Выделим все такие признаки в отдельный датасет и проанализиуем данные в нём."
   ]
  },
  {
   "cell_type": "code",
   "execution_count": 11,
   "metadata": {},
   "outputs": [
    {
     "data": {
      "text/html": [
       "<div>\n",
       "<style scoped>\n",
       "    .dataframe tbody tr th:only-of-type {\n",
       "        vertical-align: middle;\n",
       "    }\n",
       "\n",
       "    .dataframe tbody tr th {\n",
       "        vertical-align: top;\n",
       "    }\n",
       "\n",
       "    .dataframe thead th {\n",
       "        text-align: right;\n",
       "    }\n",
       "</style>\n",
       "<table border=\"1\" class=\"dataframe\">\n",
       "  <thead>\n",
       "    <tr style=\"text-align: right;\">\n",
       "      <th></th>\n",
       "      <th>VehicleType</th>\n",
       "      <th>RegistrationYear</th>\n",
       "      <th>Gearbox</th>\n",
       "      <th>Model</th>\n",
       "      <th>Kilometer</th>\n",
       "      <th>RegistrationMonth</th>\n",
       "      <th>FuelType</th>\n",
       "      <th>Brand</th>\n",
       "      <th>NotRepaired</th>\n",
       "    </tr>\n",
       "  </thead>\n",
       "  <tbody>\n",
       "    <tr>\n",
       "      <td>0</td>\n",
       "      <td>NaN</td>\n",
       "      <td>1993</td>\n",
       "      <td>manual</td>\n",
       "      <td>golf</td>\n",
       "      <td>150000</td>\n",
       "      <td>0</td>\n",
       "      <td>petrol</td>\n",
       "      <td>volkswagen</td>\n",
       "      <td>NaN</td>\n",
       "    </tr>\n",
       "    <tr>\n",
       "      <td>1</td>\n",
       "      <td>coupe</td>\n",
       "      <td>2011</td>\n",
       "      <td>manual</td>\n",
       "      <td>NaN</td>\n",
       "      <td>125000</td>\n",
       "      <td>5</td>\n",
       "      <td>gasoline</td>\n",
       "      <td>audi</td>\n",
       "      <td>yes</td>\n",
       "    </tr>\n",
       "    <tr>\n",
       "      <td>2</td>\n",
       "      <td>suv</td>\n",
       "      <td>2004</td>\n",
       "      <td>auto</td>\n",
       "      <td>grand</td>\n",
       "      <td>125000</td>\n",
       "      <td>8</td>\n",
       "      <td>gasoline</td>\n",
       "      <td>jeep</td>\n",
       "      <td>NaN</td>\n",
       "    </tr>\n",
       "    <tr>\n",
       "      <td>3</td>\n",
       "      <td>small</td>\n",
       "      <td>2001</td>\n",
       "      <td>manual</td>\n",
       "      <td>golf</td>\n",
       "      <td>150000</td>\n",
       "      <td>6</td>\n",
       "      <td>petrol</td>\n",
       "      <td>volkswagen</td>\n",
       "      <td>no</td>\n",
       "    </tr>\n",
       "    <tr>\n",
       "      <td>4</td>\n",
       "      <td>small</td>\n",
       "      <td>2008</td>\n",
       "      <td>manual</td>\n",
       "      <td>fabia</td>\n",
       "      <td>90000</td>\n",
       "      <td>7</td>\n",
       "      <td>gasoline</td>\n",
       "      <td>skoda</td>\n",
       "      <td>no</td>\n",
       "    </tr>\n",
       "    <tr>\n",
       "      <td>...</td>\n",
       "      <td>...</td>\n",
       "      <td>...</td>\n",
       "      <td>...</td>\n",
       "      <td>...</td>\n",
       "      <td>...</td>\n",
       "      <td>...</td>\n",
       "      <td>...</td>\n",
       "      <td>...</td>\n",
       "      <td>...</td>\n",
       "    </tr>\n",
       "    <tr>\n",
       "      <td>354360</td>\n",
       "      <td>NaN</td>\n",
       "      <td>2005</td>\n",
       "      <td>manual</td>\n",
       "      <td>colt</td>\n",
       "      <td>150000</td>\n",
       "      <td>7</td>\n",
       "      <td>petrol</td>\n",
       "      <td>mitsubishi</td>\n",
       "      <td>yes</td>\n",
       "    </tr>\n",
       "    <tr>\n",
       "      <td>354361</td>\n",
       "      <td>NaN</td>\n",
       "      <td>2005</td>\n",
       "      <td>NaN</td>\n",
       "      <td>NaN</td>\n",
       "      <td>20000</td>\n",
       "      <td>1</td>\n",
       "      <td>NaN</td>\n",
       "      <td>sonstige_autos</td>\n",
       "      <td>NaN</td>\n",
       "    </tr>\n",
       "    <tr>\n",
       "      <td>354362</td>\n",
       "      <td>convertible</td>\n",
       "      <td>2000</td>\n",
       "      <td>auto</td>\n",
       "      <td>fortwo</td>\n",
       "      <td>125000</td>\n",
       "      <td>3</td>\n",
       "      <td>petrol</td>\n",
       "      <td>smart</td>\n",
       "      <td>no</td>\n",
       "    </tr>\n",
       "    <tr>\n",
       "      <td>354363</td>\n",
       "      <td>bus</td>\n",
       "      <td>1996</td>\n",
       "      <td>manual</td>\n",
       "      <td>transporter</td>\n",
       "      <td>150000</td>\n",
       "      <td>3</td>\n",
       "      <td>gasoline</td>\n",
       "      <td>volkswagen</td>\n",
       "      <td>no</td>\n",
       "    </tr>\n",
       "    <tr>\n",
       "      <td>354364</td>\n",
       "      <td>wagon</td>\n",
       "      <td>2002</td>\n",
       "      <td>manual</td>\n",
       "      <td>golf</td>\n",
       "      <td>150000</td>\n",
       "      <td>6</td>\n",
       "      <td>gasoline</td>\n",
       "      <td>volkswagen</td>\n",
       "      <td>NaN</td>\n",
       "    </tr>\n",
       "  </tbody>\n",
       "</table>\n",
       "<p>354365 rows × 9 columns</p>\n",
       "</div>"
      ],
      "text/plain": [
       "        VehicleType  RegistrationYear Gearbox        Model  Kilometer  \\\n",
       "0               NaN              1993  manual         golf     150000   \n",
       "1             coupe              2011  manual          NaN     125000   \n",
       "2               suv              2004    auto        grand     125000   \n",
       "3             small              2001  manual         golf     150000   \n",
       "4             small              2008  manual        fabia      90000   \n",
       "...             ...               ...     ...          ...        ...   \n",
       "354360          NaN              2005  manual         colt     150000   \n",
       "354361          NaN              2005     NaN          NaN      20000   \n",
       "354362  convertible              2000    auto       fortwo     125000   \n",
       "354363          bus              1996  manual  transporter     150000   \n",
       "354364        wagon              2002  manual         golf     150000   \n",
       "\n",
       "        RegistrationMonth  FuelType           Brand NotRepaired  \n",
       "0                       0    petrol      volkswagen         NaN  \n",
       "1                       5  gasoline            audi         yes  \n",
       "2                       8  gasoline            jeep         NaN  \n",
       "3                       6    petrol      volkswagen          no  \n",
       "4                       7  gasoline           skoda          no  \n",
       "...                   ...       ...             ...         ...  \n",
       "354360                  7    petrol      mitsubishi         yes  \n",
       "354361                  1       NaN  sonstige_autos         NaN  \n",
       "354362                  3    petrol           smart          no  \n",
       "354363                  3  gasoline      volkswagen          no  \n",
       "354364                  6  gasoline      volkswagen         NaN  \n",
       "\n",
       "[354365 rows x 9 columns]"
      ]
     },
     "execution_count": 11,
     "metadata": {},
     "output_type": "execute_result"
    }
   ],
   "source": [
    "categorial_features = df.drop(['Price', 'Power'], axis = 1).copy()\n",
    "categorial_features"
   ]
  },
  {
   "cell_type": "code",
   "execution_count": 12,
   "metadata": {},
   "outputs": [
    {
     "data": {
      "text/plain": [
       "VehicleType          0.105795\n",
       "RegistrationYear     0.000000\n",
       "Gearbox              0.055968\n",
       "Model                0.055607\n",
       "Kilometer            0.000000\n",
       "RegistrationMonth    0.000000\n",
       "FuelType             0.092828\n",
       "Brand                0.000000\n",
       "NotRepaired          0.200793\n",
       "dtype: float64"
      ]
     },
     "execution_count": 12,
     "metadata": {},
     "output_type": "execute_result"
    }
   ],
   "source": [
    "categorial_features.isna().mean()"
   ]
  },
  {
   "cell_type": "markdown",
   "metadata": {},
   "source": [
    "Именно в этих данных имеют большие пропуски. Возможно, мы найдем и аномалии. Для этого оценим данные, визуализировав их."
   ]
  },
  {
   "cell_type": "code",
   "execution_count": 13,
   "metadata": {},
   "outputs": [],
   "source": [
    "def distribution(feature):\n",
    "    print('\\033[1m' + feature, '\\033[0m')\n",
    "    print(df[feature].describe(percentiles = [0, .05, .10, .15, .20, .25, .50, .75, .80, .85, .90, .95]))\n",
    "    fig, ax = plt.subplots(figsize=(12, 5))\n",
    "    plt.xticks(rotation=90)\n",
    "    sns.countplot(df[feature])\n",
    "    ax.set_title('Распределение по '+ feature)\n",
    "    plt.ylabel('Плотность частоты')\n",
    "    plt.show()\n",
    "    print('\\n')"
   ]
  },
  {
   "cell_type": "code",
   "execution_count": 14,
   "metadata": {},
   "outputs": [
    {
     "data": {
      "text/plain": [
       "{'Brand',\n",
       " 'FuelType',\n",
       " 'Gearbox',\n",
       " 'Kilometer',\n",
       " 'Model',\n",
       " 'NotRepaired',\n",
       " 'RegistrationMonth',\n",
       " 'RegistrationYear',\n",
       " 'VehicleType'}"
      ]
     },
     "execution_count": 14,
     "metadata": {},
     "output_type": "execute_result"
    }
   ],
   "source": [
    "categorial_features_list = set(categorial_features.columns)\n",
    "categorial_features_list"
   ]
  },
  {
   "cell_type": "code",
   "execution_count": 15,
   "metadata": {
    "scrolled": false
   },
   "outputs": [
    {
     "name": "stdout",
     "output_type": "stream",
     "text": [
      "\u001b[1mVehicleType \u001b[0m\n",
      "count     316875\n",
      "unique         8\n",
      "top        sedan\n",
      "freq       91457\n",
      "Name: VehicleType, dtype: object\n"
     ]
    },
    {
     "data": {
      "image/png": "[encoded data removed]",
      "text/plain": [
       "<Figure size 864x360 with 1 Axes>"
      ]
     },
     "metadata": {},
     "output_type": "display_data"
    },
    {
     "name": "stdout",
     "output_type": "stream",
     "text": [
      "\n",
      "\n",
      "\u001b[1mNotRepaired \u001b[0m\n",
      "count     283211\n",
      "unique         2\n",
      "top           no\n",
      "freq      247158\n",
      "Name: NotRepaired, dtype: object\n"
     ]
    },
    {
     "data": {
      "image/png": "[encoded data removed]",
      "text/plain": [
       "<Figure size 864x360 with 1 Axes>"
      ]
     },
     "metadata": {},
     "output_type": "display_data"
    },
    {
     "name": "stdout",
     "output_type": "stream",
     "text": [
      "\n",
      "\n",
      "\u001b[1mModel \u001b[0m\n",
      "count     334660\n",
      "unique       250\n",
      "top         golf\n",
      "freq       29232\n",
      "Name: Model, dtype: object\n"
     ]
    },
    {
     "data": {
      "image/png": "[encoded data removed]",
      "text/plain": [
       "<Figure size 864x360 with 1 Axes>"
      ]
     },
     "metadata": {},
     "output_type": "display_data"
    },
    {
     "name": "stdout",
     "output_type": "stream",
     "text": [
      "\n",
      "\n",
      "\u001b[1mKilometer \u001b[0m\n",
      "count    354365.000000\n",
      "mean     128211.363989\n",
      "std       37905.083858\n",
      "min        5000.000000\n",
      "0%         5000.000000\n",
      "5%        40000.000000\n",
      "10%       70000.000000\n",
      "15%       80000.000000\n",
      "20%      100000.000000\n",
      "25%      125000.000000\n",
      "50%      150000.000000\n",
      "75%      150000.000000\n",
      "80%      150000.000000\n",
      "85%      150000.000000\n",
      "90%      150000.000000\n",
      "95%      150000.000000\n",
      "max      150000.000000\n",
      "Name: Kilometer, dtype: float64\n"
     ]
    },
    {
     "data": {
      "image/png": "[encoded data removed]",
      "text/plain": [
       "<Figure size 864x360 with 1 Axes>"
      ]
     },
     "metadata": {},
     "output_type": "display_data"
    },
    {
     "name": "stdout",
     "output_type": "stream",
     "text": [
      "\n",
      "\n",
      "\u001b[1mFuelType \u001b[0m\n",
      "count     321470\n",
      "unique         7\n",
      "top       petrol\n",
      "freq      216349\n",
      "Name: FuelType, dtype: object\n"
     ]
    },
    {
     "data": {
      "image/png": "[encoded data removed]",
      "text/plain": [
       "<Figure size 864x360 with 1 Axes>"
      ]
     },
     "metadata": {},
     "output_type": "display_data"
    },
    {
     "name": "stdout",
     "output_type": "stream",
     "text": [
      "\n",
      "\n",
      "\u001b[1mRegistrationMonth \u001b[0m\n",
      "count    354365.000000\n",
      "mean          5.714650\n",
      "std           3.726432\n",
      "min           0.000000\n",
      "0%            0.000000\n",
      "5%            0.000000\n",
      "10%           0.000000\n",
      "15%           1.000000\n",
      "20%           2.000000\n",
      "25%           3.000000\n",
      "50%           6.000000\n",
      "75%           9.000000\n",
      "80%          10.000000\n",
      "85%          10.000000\n",
      "90%          11.000000\n",
      "95%          12.000000\n",
      "max          12.000000\n",
      "Name: RegistrationMonth, dtype: float64\n"
     ]
    },
    {
     "data": {
      "image/png": "[encoded data removed]",
      "text/plain": [
       "<Figure size 864x360 with 1 Axes>"
      ]
     },
     "metadata": {},
     "output_type": "display_data"
    },
    {
     "name": "stdout",
     "output_type": "stream",
     "text": [
      "\n",
      "\n",
      "\u001b[1mRegistrationYear \u001b[0m\n",
      "count    354365.000000\n",
      "mean       2004.234481\n",
      "std          90.228466\n",
      "min        1000.000000\n",
      "0%         1000.000000\n",
      "5%         1992.000000\n",
      "10%        1995.000000\n",
      "15%        1997.000000\n",
      "20%        1998.000000\n",
      "25%        1999.000000\n",
      "50%        2003.000000\n",
      "75%        2008.000000\n",
      "80%        2009.000000\n",
      "85%        2010.000000\n",
      "90%        2012.000000\n",
      "95%        2016.000000\n",
      "max        9999.000000\n",
      "Name: RegistrationYear, dtype: float64\n"
     ]
    },
    {
     "data": {
      "image/png": "[encoded data removed]",
      "text/plain": [
       "<Figure size 864x360 with 1 Axes>"
      ]
     },
     "metadata": {},
     "output_type": "display_data"
    },
    {
     "name": "stdout",
     "output_type": "stream",
     "text": [
      "\n",
      "\n",
      "\u001b[1mBrand \u001b[0m\n",
      "count         354365\n",
      "unique            40\n",
      "top       volkswagen\n",
      "freq           77012\n",
      "Name: Brand, dtype: object\n"
     ]
    },
    {
     "data": {
      "image/png": "[encoded data removed]",
      "text/plain": [
       "<Figure size 864x360 with 1 Axes>"
      ]
     },
     "metadata": {},
     "output_type": "display_data"
    },
    {
     "name": "stdout",
     "output_type": "stream",
     "text": [
      "\n",
      "\n",
      "\u001b[1mGearbox \u001b[0m\n",
      "count     334532\n",
      "unique         2\n",
      "top       manual\n",
      "freq      268249\n",
      "Name: Gearbox, dtype: object\n"
     ]
    },
    {
     "data": {
      "image/png": "[encoded data removed]",
      "text/plain": [
       "<Figure size 864x360 with 1 Axes>"
      ]
     },
     "metadata": {},
     "output_type": "display_data"
    },
    {
     "name": "stdout",
     "output_type": "stream",
     "text": [
      "\n",
      "\n"
     ]
    },
    {
     "data": {
      "text/plain": [
       "[None, None, None, None, None, None, None, None, None]"
      ]
     },
     "execution_count": 15,
     "metadata": {},
     "output_type": "execute_result"
    }
   ],
   "source": [
    "[distribution(feature) for feature in categorial_features_list]"
   ]
  },
  {
   "cell_type": "markdown",
   "metadata": {},
   "source": [
    "По полученных графикам можно сделать следующие выводы:\n",
    " - присутствуют аномальные выбросы в признаке \"Год выпуска\"\n",
    " - присутствует очевидно ошибочное значение 0 в признаке \"Месяц регистрации\"\n",
    " - график с распределением по моделям не информативен ввиду огрмной вариативности в этом признаке. Зато, теперь мы знаем, что самый популярный автомобиль - wolcsvagen golf\n",
    " - больше всего в продаже седанов на бензине с механической коробкой передач и большим пробегом\n",
    "\n",
    "Начнем обрабатывать аномалии с признака \"год регистрации\". Судя по всему, следует отфильтровать значения в пределах интервала (5% - 95%), так мы избавимся от очевидных выбросов, например, 1000 год выпуска, и 9999 год выпуска."
   ]
  },
  {
   "cell_type": "code",
   "execution_count": 16,
   "metadata": {},
   "outputs": [
    {
     "data": {
      "text/plain": [
       "0.08400095946270089"
      ]
     },
     "execution_count": 16,
     "metadata": {},
     "output_type": "execute_result"
    }
   ],
   "source": [
    "len(categorial_features[(df.RegistrationYear < df.RegistrationYear.quantile(.05))\n",
    "                    | (df.RegistrationYear > df.RegistrationYear.quantile(.95))])/len(df)"
   ]
  },
  {
   "cell_type": "markdown",
   "metadata": {},
   "source": [
    "Таких значений в датасете 8.5%, что достаточно много, но не критично, поэтому просто удалим эти аномалии."
   ]
  },
  {
   "cell_type": "code",
   "execution_count": 17,
   "metadata": {},
   "outputs": [],
   "source": [
    "df = df.drop(df[(df.RegistrationYear < df.RegistrationYear.quantile(.05)) \n",
    "                                             | (df.RegistrationYear > df.RegistrationYear.quantile(.95))].index)\n"
   ]
  },
  {
   "cell_type": "markdown",
   "metadata": {},
   "source": [
    "Нулевой месяц регистрации - это, разумеется, ошибка. Будем полагать, что это ошибка при заполнении данных и имелся ввиду первый месяц, то есть, январь."
   ]
  },
  {
   "cell_type": "code",
   "execution_count": 18,
   "metadata": {},
   "outputs": [],
   "source": [
    "df['RegistrationMonth'] = df['RegistrationMonth'].replace(0, 1)"
   ]
  },
  {
   "cell_type": "code",
   "execution_count": 19,
   "metadata": {},
   "outputs": [
    {
     "data": {
      "text/html": [
       "<div>\n",
       "<style scoped>\n",
       "    .dataframe tbody tr th:only-of-type {\n",
       "        vertical-align: middle;\n",
       "    }\n",
       "\n",
       "    .dataframe tbody tr th {\n",
       "        vertical-align: top;\n",
       "    }\n",
       "\n",
       "    .dataframe thead th {\n",
       "        text-align: right;\n",
       "    }\n",
       "</style>\n",
       "<table border=\"1\" class=\"dataframe\">\n",
       "  <thead>\n",
       "    <tr style=\"text-align: right;\">\n",
       "      <th></th>\n",
       "      <th>VehicleType</th>\n",
       "      <th>RegistrationYear</th>\n",
       "      <th>Gearbox</th>\n",
       "      <th>Model</th>\n",
       "      <th>Kilometer</th>\n",
       "      <th>RegistrationMonth</th>\n",
       "      <th>FuelType</th>\n",
       "      <th>Brand</th>\n",
       "      <th>NotRepaired</th>\n",
       "    </tr>\n",
       "  </thead>\n",
       "  <tbody>\n",
       "    <tr>\n",
       "      <td>0</td>\n",
       "      <td>NaN</td>\n",
       "      <td>1993</td>\n",
       "      <td>manual</td>\n",
       "      <td>golf</td>\n",
       "      <td>150000</td>\n",
       "      <td>1</td>\n",
       "      <td>petrol</td>\n",
       "      <td>volkswagen</td>\n",
       "      <td>NaN</td>\n",
       "    </tr>\n",
       "    <tr>\n",
       "      <td>1</td>\n",
       "      <td>coupe</td>\n",
       "      <td>2011</td>\n",
       "      <td>manual</td>\n",
       "      <td>NaN</td>\n",
       "      <td>125000</td>\n",
       "      <td>5</td>\n",
       "      <td>gasoline</td>\n",
       "      <td>audi</td>\n",
       "      <td>yes</td>\n",
       "    </tr>\n",
       "    <tr>\n",
       "      <td>2</td>\n",
       "      <td>suv</td>\n",
       "      <td>2004</td>\n",
       "      <td>auto</td>\n",
       "      <td>grand</td>\n",
       "      <td>125000</td>\n",
       "      <td>8</td>\n",
       "      <td>gasoline</td>\n",
       "      <td>jeep</td>\n",
       "      <td>NaN</td>\n",
       "    </tr>\n",
       "    <tr>\n",
       "      <td>3</td>\n",
       "      <td>small</td>\n",
       "      <td>2001</td>\n",
       "      <td>manual</td>\n",
       "      <td>golf</td>\n",
       "      <td>150000</td>\n",
       "      <td>6</td>\n",
       "      <td>petrol</td>\n",
       "      <td>volkswagen</td>\n",
       "      <td>no</td>\n",
       "    </tr>\n",
       "    <tr>\n",
       "      <td>4</td>\n",
       "      <td>small</td>\n",
       "      <td>2008</td>\n",
       "      <td>manual</td>\n",
       "      <td>fabia</td>\n",
       "      <td>90000</td>\n",
       "      <td>7</td>\n",
       "      <td>gasoline</td>\n",
       "      <td>skoda</td>\n",
       "      <td>no</td>\n",
       "    </tr>\n",
       "    <tr>\n",
       "      <td>...</td>\n",
       "      <td>...</td>\n",
       "      <td>...</td>\n",
       "      <td>...</td>\n",
       "      <td>...</td>\n",
       "      <td>...</td>\n",
       "      <td>...</td>\n",
       "      <td>...</td>\n",
       "      <td>...</td>\n",
       "      <td>...</td>\n",
       "    </tr>\n",
       "    <tr>\n",
       "      <td>354360</td>\n",
       "      <td>NaN</td>\n",
       "      <td>2005</td>\n",
       "      <td>manual</td>\n",
       "      <td>colt</td>\n",
       "      <td>150000</td>\n",
       "      <td>7</td>\n",
       "      <td>petrol</td>\n",
       "      <td>mitsubishi</td>\n",
       "      <td>yes</td>\n",
       "    </tr>\n",
       "    <tr>\n",
       "      <td>354361</td>\n",
       "      <td>NaN</td>\n",
       "      <td>2005</td>\n",
       "      <td>NaN</td>\n",
       "      <td>NaN</td>\n",
       "      <td>20000</td>\n",
       "      <td>1</td>\n",
       "      <td>NaN</td>\n",
       "      <td>sonstige_autos</td>\n",
       "      <td>NaN</td>\n",
       "    </tr>\n",
       "    <tr>\n",
       "      <td>354362</td>\n",
       "      <td>convertible</td>\n",
       "      <td>2000</td>\n",
       "      <td>auto</td>\n",
       "      <td>fortwo</td>\n",
       "      <td>125000</td>\n",
       "      <td>3</td>\n",
       "      <td>petrol</td>\n",
       "      <td>smart</td>\n",
       "      <td>no</td>\n",
       "    </tr>\n",
       "    <tr>\n",
       "      <td>354363</td>\n",
       "      <td>bus</td>\n",
       "      <td>1996</td>\n",
       "      <td>manual</td>\n",
       "      <td>transporter</td>\n",
       "      <td>150000</td>\n",
       "      <td>3</td>\n",
       "      <td>gasoline</td>\n",
       "      <td>volkswagen</td>\n",
       "      <td>no</td>\n",
       "    </tr>\n",
       "    <tr>\n",
       "      <td>354364</td>\n",
       "      <td>wagon</td>\n",
       "      <td>2002</td>\n",
       "      <td>manual</td>\n",
       "      <td>golf</td>\n",
       "      <td>150000</td>\n",
       "      <td>6</td>\n",
       "      <td>gasoline</td>\n",
       "      <td>volkswagen</td>\n",
       "      <td>NaN</td>\n",
       "    </tr>\n",
       "  </tbody>\n",
       "</table>\n",
       "<p>324598 rows × 9 columns</p>\n",
       "</div>"
      ],
      "text/plain": [
       "        VehicleType  RegistrationYear Gearbox        Model  Kilometer  \\\n",
       "0               NaN              1993  manual         golf     150000   \n",
       "1             coupe              2011  manual          NaN     125000   \n",
       "2               suv              2004    auto        grand     125000   \n",
       "3             small              2001  manual         golf     150000   \n",
       "4             small              2008  manual        fabia      90000   \n",
       "...             ...               ...     ...          ...        ...   \n",
       "354360          NaN              2005  manual         colt     150000   \n",
       "354361          NaN              2005     NaN          NaN      20000   \n",
       "354362  convertible              2000    auto       fortwo     125000   \n",
       "354363          bus              1996  manual  transporter     150000   \n",
       "354364        wagon              2002  manual         golf     150000   \n",
       "\n",
       "        RegistrationMonth  FuelType           Brand NotRepaired  \n",
       "0                       1    petrol      volkswagen         NaN  \n",
       "1                       5  gasoline            audi         yes  \n",
       "2                       8  gasoline            jeep         NaN  \n",
       "3                       6    petrol      volkswagen          no  \n",
       "4                       7  gasoline           skoda          no  \n",
       "...                   ...       ...             ...         ...  \n",
       "354360                  7    petrol      mitsubishi         yes  \n",
       "354361                  1       NaN  sonstige_autos         NaN  \n",
       "354362                  3    petrol           smart          no  \n",
       "354363                  3  gasoline      volkswagen          no  \n",
       "354364                  6  gasoline      volkswagen         NaN  \n",
       "\n",
       "[324598 rows x 9 columns]"
      ]
     },
     "execution_count": 19,
     "metadata": {},
     "output_type": "execute_result"
    }
   ],
   "source": [
    "categorial_features = df.drop(['Price', 'Power'], axis = 1).copy()\n",
    "categorial_features"
   ]
  },
  {
   "cell_type": "code",
   "execution_count": 20,
   "metadata": {},
   "outputs": [
    {
     "data": {
      "text/plain": [
       "VehicleType          0.064723\n",
       "RegistrationYear     0.000000\n",
       "Gearbox              0.048577\n",
       "Model                0.047419\n",
       "Kilometer            0.000000\n",
       "RegistrationMonth    0.000000\n",
       "FuelType             0.075866\n",
       "Brand                0.000000\n",
       "NotRepaired          0.184508\n",
       "dtype: float64"
      ]
     },
     "execution_count": 20,
     "metadata": {},
     "output_type": "execute_result"
    }
   ],
   "source": [
    "categorial_features.isna().mean()"
   ]
  },
  {
   "cell_type": "markdown",
   "metadata": {},
   "source": [
    "После отфильтровывания части аномалий, датасет уменьшился, а вместе с ним уменьшилось и количество отсутствующих данных. Посмотрим на распределение данных в очищенном датасете."
   ]
  },
  {
   "cell_type": "code",
   "execution_count": 21,
   "metadata": {},
   "outputs": [],
   "source": [
    "categorial_features_list.remove('Model')"
   ]
  },
  {
   "cell_type": "code",
   "execution_count": 22,
   "metadata": {
    "scrolled": true
   },
   "outputs": [
    {
     "name": "stdout",
     "output_type": "stream",
     "text": [
      "\u001b[1mVehicleType \u001b[0m\n",
      "count     303589\n",
      "unique         8\n",
      "top        sedan\n",
      "freq       85975\n",
      "Name: VehicleType, dtype: object\n"
     ]
    },
    {
     "data": {
      "image/png": "[encoded data removed]",
      "text/plain": [
       "<Figure size 864x360 with 1 Axes>"
      ]
     },
     "metadata": {},
     "output_type": "display_data"
    },
    {
     "name": "stdout",
     "output_type": "stream",
     "text": [
      "\n",
      "\n",
      "\u001b[1mNotRepaired \u001b[0m\n",
      "count     264707\n",
      "unique         2\n",
      "top           no\n",
      "freq      231487\n",
      "Name: NotRepaired, dtype: object\n"
     ]
    },
    {
     "data": {
      "image/png": "[encoded data removed]",
      "text/plain": [
       "<Figure size 864x360 with 1 Axes>"
      ]
     },
     "metadata": {},
     "output_type": "display_data"
    },
    {
     "name": "stdout",
     "output_type": "stream",
     "text": [
      "\n",
      "\n",
      "\u001b[1mKilometer \u001b[0m\n",
      "count    324598.000000\n",
      "mean     128707.031467\n",
      "std       37168.979224\n",
      "min        5000.000000\n",
      "0%         5000.000000\n",
      "5%        40000.000000\n",
      "10%       70000.000000\n",
      "15%       90000.000000\n",
      "20%      100000.000000\n",
      "25%      125000.000000\n",
      "50%      150000.000000\n",
      "75%      150000.000000\n",
      "80%      150000.000000\n",
      "85%      150000.000000\n",
      "90%      150000.000000\n",
      "95%      150000.000000\n",
      "max      150000.000000\n",
      "Name: Kilometer, dtype: float64\n"
     ]
    },
    {
     "data": {
      "image/png": "[encoded data removed]",
      "text/plain": [
       "<Figure size 864x360 with 1 Axes>"
      ]
     },
     "metadata": {},
     "output_type": "display_data"
    },
    {
     "name": "stdout",
     "output_type": "stream",
     "text": [
      "\n",
      "\n",
      "\u001b[1mFuelType \u001b[0m\n",
      "count     299972\n",
      "unique         7\n",
      "top       petrol\n",
      "freq      198976\n",
      "Name: FuelType, dtype: object\n"
     ]
    },
    {
     "data": {
      "image/png": "[encoded data removed]",
      "text/plain": [
       "<Figure size 864x360 with 1 Axes>"
      ]
     },
     "metadata": {},
     "output_type": "display_data"
    },
    {
     "name": "stdout",
     "output_type": "stream",
     "text": [
      "\n",
      "\n",
      "\u001b[1mRegistrationMonth \u001b[0m\n",
      "count    324598.000000\n",
      "mean          5.902633\n",
      "std           3.559990\n",
      "min           1.000000\n",
      "0%            1.000000\n",
      "5%            1.000000\n",
      "10%           1.000000\n",
      "15%           1.000000\n",
      "20%           2.000000\n",
      "25%           3.000000\n",
      "50%           6.000000\n",
      "75%           9.000000\n",
      "80%          10.000000\n",
      "85%          10.000000\n",
      "90%          11.000000\n",
      "95%          12.000000\n",
      "max          12.000000\n",
      "Name: RegistrationMonth, dtype: float64\n"
     ]
    },
    {
     "data": {
      "image/png": "[encoded data removed]",
      "text/plain": [
       "<Figure size 864x360 with 1 Axes>"
      ]
     },
     "metadata": {},
     "output_type": "display_data"
    },
    {
     "name": "stdout",
     "output_type": "stream",
     "text": [
      "\n",
      "\n",
      "\u001b[1mRegistrationYear \u001b[0m\n",
      "count    324598.000000\n",
      "mean       2003.370323\n",
      "std           5.438663\n",
      "min        1992.000000\n",
      "0%         1992.000000\n",
      "5%         1995.000000\n",
      "10%        1997.000000\n",
      "15%        1998.000000\n",
      "20%        1999.000000\n",
      "25%        1999.000000\n",
      "50%        2003.000000\n",
      "75%        2007.000000\n",
      "80%        2008.000000\n",
      "85%        2009.000000\n",
      "90%        2011.000000\n",
      "95%        2013.000000\n",
      "max        2016.000000\n",
      "Name: RegistrationYear, dtype: float64\n"
     ]
    },
    {
     "data": {
      "image/png": "[encoded data removed]",
      "text/plain": [
       "<Figure size 864x360 with 1 Axes>"
      ]
     },
     "metadata": {},
     "output_type": "display_data"
    },
    {
     "name": "stdout",
     "output_type": "stream",
     "text": [
      "\n",
      "\n",
      "\u001b[1mBrand \u001b[0m\n",
      "count         324598\n",
      "unique            40\n",
      "top       volkswagen\n",
      "freq           68898\n",
      "Name: Brand, dtype: object\n"
     ]
    },
    {
     "data": {
      "image/png": "[encoded data removed]",
      "text/plain": [
       "<Figure size 864x360 with 1 Axes>"
      ]
     },
     "metadata": {},
     "output_type": "display_data"
    },
    {
     "name": "stdout",
     "output_type": "stream",
     "text": [
      "\n",
      "\n",
      "\u001b[1mGearbox \u001b[0m\n",
      "count     308830\n",
      "unique         2\n",
      "top       manual\n",
      "freq      247165\n",
      "Name: Gearbox, dtype: object\n"
     ]
    },
    {
     "data": {
      "image/png": "[encoded data removed]",
      "text/plain": [
       "<Figure size 864x360 with 1 Axes>"
      ]
     },
     "metadata": {},
     "output_type": "display_data"
    },
    {
     "name": "stdout",
     "output_type": "stream",
     "text": [
      "\n",
      "\n"
     ]
    },
    {
     "data": {
      "text/plain": [
       "[None, None, None, None, None, None, None, None]"
      ]
     },
     "execution_count": 22,
     "metadata": {},
     "output_type": "execute_result"
    }
   ],
   "source": [
    "[distribution(feature) for feature in categorial_features_list]"
   ]
  },
  {
   "cell_type": "markdown",
   "metadata": {},
   "source": [
    "Теперь наблюдаемое больше похоже на правду. Кроме категориальных признаков, у нас есть и численные, посмотрим теперь на них."
   ]
  },
  {
   "cell_type": "code",
   "execution_count": 23,
   "metadata": {},
   "outputs": [],
   "source": [
    "def distribution_num(feature):\n",
    "    print('\\033[1m' + feature, '\\033[0m')\n",
    "    print(df[feature].describe(percentiles = [0, .05, .10, .15, .20, .25, .50, .75, .80, .85, .90, .95]))\n",
    "    fig, ax = plt.subplots(figsize=(12, 5))\n",
    "    sns.distplot(df[feature])\n",
    "    ax.set_title('Распределение по '+ feature)\n",
    "    plt.ylabel('Плотность частоты')\n",
    "    plt.show()\n",
    "    print('\\n')"
   ]
  },
  {
   "cell_type": "code",
   "execution_count": 24,
   "metadata": {},
   "outputs": [
    {
     "data": {
      "text/html": [
       "<div>\n",
       "<style scoped>\n",
       "    .dataframe tbody tr th:only-of-type {\n",
       "        vertical-align: middle;\n",
       "    }\n",
       "\n",
       "    .dataframe tbody tr th {\n",
       "        vertical-align: top;\n",
       "    }\n",
       "\n",
       "    .dataframe thead th {\n",
       "        text-align: right;\n",
       "    }\n",
       "</style>\n",
       "<table border=\"1\" class=\"dataframe\">\n",
       "  <thead>\n",
       "    <tr style=\"text-align: right;\">\n",
       "      <th></th>\n",
       "      <th>Price</th>\n",
       "      <th>Power</th>\n",
       "    </tr>\n",
       "  </thead>\n",
       "  <tbody>\n",
       "    <tr>\n",
       "      <td>0</td>\n",
       "      <td>480</td>\n",
       "      <td>0</td>\n",
       "    </tr>\n",
       "    <tr>\n",
       "      <td>1</td>\n",
       "      <td>18300</td>\n",
       "      <td>190</td>\n",
       "    </tr>\n",
       "    <tr>\n",
       "      <td>2</td>\n",
       "      <td>9800</td>\n",
       "      <td>163</td>\n",
       "    </tr>\n",
       "    <tr>\n",
       "      <td>3</td>\n",
       "      <td>1500</td>\n",
       "      <td>75</td>\n",
       "    </tr>\n",
       "    <tr>\n",
       "      <td>4</td>\n",
       "      <td>3600</td>\n",
       "      <td>69</td>\n",
       "    </tr>\n",
       "    <tr>\n",
       "      <td>...</td>\n",
       "      <td>...</td>\n",
       "      <td>...</td>\n",
       "    </tr>\n",
       "    <tr>\n",
       "      <td>354360</td>\n",
       "      <td>0</td>\n",
       "      <td>0</td>\n",
       "    </tr>\n",
       "    <tr>\n",
       "      <td>354361</td>\n",
       "      <td>2200</td>\n",
       "      <td>0</td>\n",
       "    </tr>\n",
       "    <tr>\n",
       "      <td>354362</td>\n",
       "      <td>1199</td>\n",
       "      <td>101</td>\n",
       "    </tr>\n",
       "    <tr>\n",
       "      <td>354363</td>\n",
       "      <td>9200</td>\n",
       "      <td>102</td>\n",
       "    </tr>\n",
       "    <tr>\n",
       "      <td>354364</td>\n",
       "      <td>3400</td>\n",
       "      <td>100</td>\n",
       "    </tr>\n",
       "  </tbody>\n",
       "</table>\n",
       "<p>324598 rows × 2 columns</p>\n",
       "</div>"
      ],
      "text/plain": [
       "        Price  Power\n",
       "0         480      0\n",
       "1       18300    190\n",
       "2        9800    163\n",
       "3        1500     75\n",
       "4        3600     69\n",
       "...       ...    ...\n",
       "354360      0      0\n",
       "354361   2200      0\n",
       "354362   1199    101\n",
       "354363   9200    102\n",
       "354364   3400    100\n",
       "\n",
       "[324598 rows x 2 columns]"
      ]
     },
     "execution_count": 24,
     "metadata": {},
     "output_type": "execute_result"
    }
   ],
   "source": [
    "numeric_features = df[['Price', 'Power']].copy()\n",
    "numeric_features"
   ]
  },
  {
   "cell_type": "code",
   "execution_count": 25,
   "metadata": {},
   "outputs": [
    {
     "name": "stdout",
     "output_type": "stream",
     "text": [
      "\u001b[1mPower \u001b[0m\n",
      "count    324598.000000\n",
      "mean        112.156754\n",
      "std         183.674678\n",
      "min           0.000000\n",
      "0%            0.000000\n",
      "5%            0.000000\n",
      "10%           0.000000\n",
      "15%          55.000000\n",
      "20%          60.000000\n",
      "25%          71.000000\n",
      "50%         105.000000\n",
      "75%         143.000000\n",
      "80%         150.000000\n",
      "85%         170.000000\n",
      "90%         184.000000\n",
      "95%         218.000000\n",
      "max       20000.000000\n",
      "Name: Power, dtype: float64\n"
     ]
    },
    {
     "data": {
      "image/png": "[encoded data removed]",
      "text/plain": [
       "<Figure size 864x360 with 1 Axes>"
      ]
     },
     "metadata": {},
     "output_type": "display_data"
    },
    {
     "name": "stdout",
     "output_type": "stream",
     "text": [
      "\n",
      "\n",
      "\u001b[1mPrice \u001b[0m\n",
      "count    324598.000000\n",
      "mean       4502.046522\n",
      "std        4548.886241\n",
      "min           0.000000\n",
      "0%            0.000000\n",
      "5%          200.000000\n",
      "10%         500.000000\n",
      "15%         699.000000\n",
      "20%         900.000000\n",
      "25%        1100.000000\n",
      "50%        2800.000000\n",
      "75%        6500.000000\n",
      "80%        7800.000000\n",
      "85%        9300.000000\n",
      "90%       11500.000000\n",
      "95%       14800.000000\n",
      "max       20000.000000\n",
      "Name: Price, dtype: float64\n"
     ]
    },
    {
     "data": {
      "image/png": "[encoded data removed]",
      "text/plain": [
       "<Figure size 864x360 with 1 Axes>"
      ]
     },
     "metadata": {},
     "output_type": "display_data"
    },
    {
     "name": "stdout",
     "output_type": "stream",
     "text": [
      "\n",
      "\n"
     ]
    },
    {
     "data": {
      "text/plain": [
       "[None, None]"
      ]
     },
     "execution_count": 25,
     "metadata": {},
     "output_type": "execute_result"
    }
   ],
   "source": [
    "[distribution_num(feature) for feature in set(numeric_features.columns)]"
   ]
  },
  {
   "cell_type": "markdown",
   "metadata": {},
   "source": [
    "И тут не обошлось без аномалий, выбросы есть как в цене, так и в мощности. Их придется отбросить."
   ]
  },
  {
   "cell_type": "code",
   "execution_count": 26,
   "metadata": {},
   "outputs": [
    {
     "data": {
      "text/html": [
       "<div>\n",
       "<style scoped>\n",
       "    .dataframe tbody tr th:only-of-type {\n",
       "        vertical-align: middle;\n",
       "    }\n",
       "\n",
       "    .dataframe tbody tr th {\n",
       "        vertical-align: top;\n",
       "    }\n",
       "\n",
       "    .dataframe thead th {\n",
       "        text-align: right;\n",
       "    }\n",
       "</style>\n",
       "<table border=\"1\" class=\"dataframe\">\n",
       "  <thead>\n",
       "    <tr style=\"text-align: right;\">\n",
       "      <th></th>\n",
       "      <th>Price</th>\n",
       "      <th>Power</th>\n",
       "    </tr>\n",
       "  </thead>\n",
       "  <tbody>\n",
       "    <tr>\n",
       "      <td>1</td>\n",
       "      <td>18300</td>\n",
       "      <td>190</td>\n",
       "    </tr>\n",
       "    <tr>\n",
       "      <td>2</td>\n",
       "      <td>9800</td>\n",
       "      <td>163</td>\n",
       "    </tr>\n",
       "    <tr>\n",
       "      <td>3</td>\n",
       "      <td>1500</td>\n",
       "      <td>75</td>\n",
       "    </tr>\n",
       "    <tr>\n",
       "      <td>4</td>\n",
       "      <td>3600</td>\n",
       "      <td>69</td>\n",
       "    </tr>\n",
       "    <tr>\n",
       "      <td>5</td>\n",
       "      <td>650</td>\n",
       "      <td>102</td>\n",
       "    </tr>\n",
       "    <tr>\n",
       "      <td>...</td>\n",
       "      <td>...</td>\n",
       "      <td>...</td>\n",
       "    </tr>\n",
       "    <tr>\n",
       "      <td>354355</td>\n",
       "      <td>7900</td>\n",
       "      <td>140</td>\n",
       "    </tr>\n",
       "    <tr>\n",
       "      <td>354357</td>\n",
       "      <td>5250</td>\n",
       "      <td>150</td>\n",
       "    </tr>\n",
       "    <tr>\n",
       "      <td>354362</td>\n",
       "      <td>1199</td>\n",
       "      <td>101</td>\n",
       "    </tr>\n",
       "    <tr>\n",
       "      <td>354363</td>\n",
       "      <td>9200</td>\n",
       "      <td>102</td>\n",
       "    </tr>\n",
       "    <tr>\n",
       "      <td>354364</td>\n",
       "      <td>3400</td>\n",
       "      <td>100</td>\n",
       "    </tr>\n",
       "  </tbody>\n",
       "</table>\n",
       "<p>248623 rows × 2 columns</p>\n",
       "</div>"
      ],
      "text/plain": [
       "        Price  Power\n",
       "1       18300    190\n",
       "2        9800    163\n",
       "3        1500     75\n",
       "4        3600     69\n",
       "5         650    102\n",
       "...       ...    ...\n",
       "354355   7900    140\n",
       "354357   5250    150\n",
       "354362   1199    101\n",
       "354363   9200    102\n",
       "354364   3400    100\n",
       "\n",
       "[248623 rows x 2 columns]"
      ]
     },
     "execution_count": 26,
     "metadata": {},
     "output_type": "execute_result"
    }
   ],
   "source": [
    "df = df.drop(df[(df.Price < df.Price.quantile(.05))].index)\n",
    "df = df.drop(df[(df.Power < df.Power.quantile(.15)) | (df.Power > df.Power.quantile(.95))].index)\n",
    "numeric_features = df[['Price', 'Power']].copy()\n",
    "numeric_features"
   ]
  },
  {
   "cell_type": "markdown",
   "metadata": {},
   "source": [
    "Взглянем на очищенные данные."
   ]
  },
  {
   "cell_type": "code",
   "execution_count": 27,
   "metadata": {
    "scrolled": true
   },
   "outputs": [
    {
     "name": "stdout",
     "output_type": "stream",
     "text": [
      "\u001b[1mPower \u001b[0m\n",
      "count    248623.000000\n",
      "mean        118.490075\n",
      "std          38.983691\n",
      "min          60.000000\n",
      "0%           60.000000\n",
      "5%           60.000000\n",
      "10%          69.000000\n",
      "15%          75.000000\n",
      "20%          77.000000\n",
      "25%          88.000000\n",
      "50%         115.000000\n",
      "75%         144.000000\n",
      "80%         150.000000\n",
      "85%         163.000000\n",
      "90%         170.000000\n",
      "95%         192.000000\n",
      "max         220.000000\n",
      "Name: Power, dtype: float64\n"
     ]
    },
    {
     "data": {
      "image/png": "[encoded data removed]",
      "text/plain": [
       "<Figure size 864x360 with 1 Axes>"
      ]
     },
     "metadata": {},
     "output_type": "display_data"
    },
    {
     "name": "stdout",
     "output_type": "stream",
     "text": [
      "\n",
      "\n",
      "\u001b[1mPrice \u001b[0m\n",
      "count    248623.000000\n",
      "mean       4850.691119\n",
      "std        4408.215215\n",
      "min         200.000000\n",
      "0%          200.000000\n",
      "5%          500.000000\n",
      "10%         750.000000\n",
      "15%         999.000000\n",
      "20%        1200.000000\n",
      "25%        1500.000000\n",
      "50%        3350.000000\n",
      "75%        6900.000000\n",
      "80%        7999.000000\n",
      "85%        9500.000000\n",
      "90%       11500.000000\n",
      "95%       14599.000000\n",
      "max       20000.000000\n",
      "Name: Price, dtype: float64\n"
     ]
    },
    {
     "data": {
      "image/png": "[encoded data removed]",
      "text/plain": [
       "<Figure size 864x360 with 1 Axes>"
      ]
     },
     "metadata": {},
     "output_type": "display_data"
    },
    {
     "name": "stdout",
     "output_type": "stream",
     "text": [
      "\n",
      "\n"
     ]
    },
    {
     "data": {
      "text/plain": [
       "[None, None]"
      ]
     },
     "execution_count": 27,
     "metadata": {},
     "output_type": "execute_result"
    }
   ],
   "source": [
    "[distribution_num(feature) for feature in set(numeric_features.columns)]"
   ]
  },
  {
   "cell_type": "markdown",
   "metadata": {},
   "source": [
    "Аномалии обработаны. С пропусками ситуация несколько сложнее, так как правильно заменить их нам попросту не удастся, любое замещение молжет привести к серьезным ошибкам. Поэтому оставим пропуски не тронутыми. Отбрасывать такой огромный пласт данных значит потерять большое количество важной информации, а модели сами учтут их в процессе работы."
   ]
  },
  {
   "cell_type": "markdown",
   "metadata": {},
   "source": [
    "В датасете большое количество категориальных признаков, имеющих строковый тип данных, с которым модели не смогут работать. Используем метод прямого кодирования для их преобразования."
   ]
  },
  {
   "cell_type": "code",
   "execution_count": 28,
   "metadata": {
    "scrolled": true
   },
   "outputs": [
    {
     "data": {
      "text/html": [
       "<div>\n",
       "<style scoped>\n",
       "    .dataframe tbody tr th:only-of-type {\n",
       "        vertical-align: middle;\n",
       "    }\n",
       "\n",
       "    .dataframe tbody tr th {\n",
       "        vertical-align: top;\n",
       "    }\n",
       "\n",
       "    .dataframe thead th {\n",
       "        text-align: right;\n",
       "    }\n",
       "</style>\n",
       "<table border=\"1\" class=\"dataframe\">\n",
       "  <thead>\n",
       "    <tr style=\"text-align: right;\">\n",
       "      <th></th>\n",
       "      <th>Price</th>\n",
       "      <th>RegistrationYear</th>\n",
       "      <th>Power</th>\n",
       "      <th>Kilometer</th>\n",
       "      <th>RegistrationMonth</th>\n",
       "      <th>VehicleType_convertible</th>\n",
       "      <th>VehicleType_coupe</th>\n",
       "      <th>VehicleType_other</th>\n",
       "      <th>VehicleType_sedan</th>\n",
       "      <th>VehicleType_small</th>\n",
       "      <th>...</th>\n",
       "      <th>Brand_skoda</th>\n",
       "      <th>Brand_smart</th>\n",
       "      <th>Brand_sonstige_autos</th>\n",
       "      <th>Brand_subaru</th>\n",
       "      <th>Brand_suzuki</th>\n",
       "      <th>Brand_toyota</th>\n",
       "      <th>Brand_trabant</th>\n",
       "      <th>Brand_volkswagen</th>\n",
       "      <th>Brand_volvo</th>\n",
       "      <th>NotRepaired_yes</th>\n",
       "    </tr>\n",
       "  </thead>\n",
       "  <tbody>\n",
       "    <tr>\n",
       "      <td>1</td>\n",
       "      <td>18300</td>\n",
       "      <td>2011</td>\n",
       "      <td>190</td>\n",
       "      <td>125000</td>\n",
       "      <td>5</td>\n",
       "      <td>0</td>\n",
       "      <td>1</td>\n",
       "      <td>0</td>\n",
       "      <td>0</td>\n",
       "      <td>0</td>\n",
       "      <td>...</td>\n",
       "      <td>0</td>\n",
       "      <td>0</td>\n",
       "      <td>0</td>\n",
       "      <td>0</td>\n",
       "      <td>0</td>\n",
       "      <td>0</td>\n",
       "      <td>0</td>\n",
       "      <td>0</td>\n",
       "      <td>0</td>\n",
       "      <td>1</td>\n",
       "    </tr>\n",
       "    <tr>\n",
       "      <td>2</td>\n",
       "      <td>9800</td>\n",
       "      <td>2004</td>\n",
       "      <td>163</td>\n",
       "      <td>125000</td>\n",
       "      <td>8</td>\n",
       "      <td>0</td>\n",
       "      <td>0</td>\n",
       "      <td>0</td>\n",
       "      <td>0</td>\n",
       "      <td>0</td>\n",
       "      <td>...</td>\n",
       "      <td>0</td>\n",
       "      <td>0</td>\n",
       "      <td>0</td>\n",
       "      <td>0</td>\n",
       "      <td>0</td>\n",
       "      <td>0</td>\n",
       "      <td>0</td>\n",
       "      <td>0</td>\n",
       "      <td>0</td>\n",
       "      <td>0</td>\n",
       "    </tr>\n",
       "    <tr>\n",
       "      <td>3</td>\n",
       "      <td>1500</td>\n",
       "      <td>2001</td>\n",
       "      <td>75</td>\n",
       "      <td>150000</td>\n",
       "      <td>6</td>\n",
       "      <td>0</td>\n",
       "      <td>0</td>\n",
       "      <td>0</td>\n",
       "      <td>0</td>\n",
       "      <td>1</td>\n",
       "      <td>...</td>\n",
       "      <td>0</td>\n",
       "      <td>0</td>\n",
       "      <td>0</td>\n",
       "      <td>0</td>\n",
       "      <td>0</td>\n",
       "      <td>0</td>\n",
       "      <td>0</td>\n",
       "      <td>1</td>\n",
       "      <td>0</td>\n",
       "      <td>0</td>\n",
       "    </tr>\n",
       "    <tr>\n",
       "      <td>4</td>\n",
       "      <td>3600</td>\n",
       "      <td>2008</td>\n",
       "      <td>69</td>\n",
       "      <td>90000</td>\n",
       "      <td>7</td>\n",
       "      <td>0</td>\n",
       "      <td>0</td>\n",
       "      <td>0</td>\n",
       "      <td>0</td>\n",
       "      <td>1</td>\n",
       "      <td>...</td>\n",
       "      <td>1</td>\n",
       "      <td>0</td>\n",
       "      <td>0</td>\n",
       "      <td>0</td>\n",
       "      <td>0</td>\n",
       "      <td>0</td>\n",
       "      <td>0</td>\n",
       "      <td>0</td>\n",
       "      <td>0</td>\n",
       "      <td>0</td>\n",
       "    </tr>\n",
       "    <tr>\n",
       "      <td>5</td>\n",
       "      <td>650</td>\n",
       "      <td>1995</td>\n",
       "      <td>102</td>\n",
       "      <td>150000</td>\n",
       "      <td>10</td>\n",
       "      <td>0</td>\n",
       "      <td>0</td>\n",
       "      <td>0</td>\n",
       "      <td>1</td>\n",
       "      <td>0</td>\n",
       "      <td>...</td>\n",
       "      <td>0</td>\n",
       "      <td>0</td>\n",
       "      <td>0</td>\n",
       "      <td>0</td>\n",
       "      <td>0</td>\n",
       "      <td>0</td>\n",
       "      <td>0</td>\n",
       "      <td>0</td>\n",
       "      <td>0</td>\n",
       "      <td>1</td>\n",
       "    </tr>\n",
       "    <tr>\n",
       "      <td>...</td>\n",
       "      <td>...</td>\n",
       "      <td>...</td>\n",
       "      <td>...</td>\n",
       "      <td>...</td>\n",
       "      <td>...</td>\n",
       "      <td>...</td>\n",
       "      <td>...</td>\n",
       "      <td>...</td>\n",
       "      <td>...</td>\n",
       "      <td>...</td>\n",
       "      <td>...</td>\n",
       "      <td>...</td>\n",
       "      <td>...</td>\n",
       "      <td>...</td>\n",
       "      <td>...</td>\n",
       "      <td>...</td>\n",
       "      <td>...</td>\n",
       "      <td>...</td>\n",
       "      <td>...</td>\n",
       "      <td>...</td>\n",
       "      <td>...</td>\n",
       "    </tr>\n",
       "    <tr>\n",
       "      <td>354355</td>\n",
       "      <td>7900</td>\n",
       "      <td>2010</td>\n",
       "      <td>140</td>\n",
       "      <td>150000</td>\n",
       "      <td>7</td>\n",
       "      <td>0</td>\n",
       "      <td>0</td>\n",
       "      <td>0</td>\n",
       "      <td>1</td>\n",
       "      <td>0</td>\n",
       "      <td>...</td>\n",
       "      <td>0</td>\n",
       "      <td>0</td>\n",
       "      <td>0</td>\n",
       "      <td>0</td>\n",
       "      <td>0</td>\n",
       "      <td>0</td>\n",
       "      <td>0</td>\n",
       "      <td>1</td>\n",
       "      <td>0</td>\n",
       "      <td>0</td>\n",
       "    </tr>\n",
       "    <tr>\n",
       "      <td>354357</td>\n",
       "      <td>5250</td>\n",
       "      <td>2016</td>\n",
       "      <td>150</td>\n",
       "      <td>150000</td>\n",
       "      <td>12</td>\n",
       "      <td>0</td>\n",
       "      <td>0</td>\n",
       "      <td>0</td>\n",
       "      <td>0</td>\n",
       "      <td>0</td>\n",
       "      <td>...</td>\n",
       "      <td>0</td>\n",
       "      <td>0</td>\n",
       "      <td>0</td>\n",
       "      <td>0</td>\n",
       "      <td>0</td>\n",
       "      <td>0</td>\n",
       "      <td>0</td>\n",
       "      <td>0</td>\n",
       "      <td>0</td>\n",
       "      <td>0</td>\n",
       "    </tr>\n",
       "    <tr>\n",
       "      <td>354362</td>\n",
       "      <td>1199</td>\n",
       "      <td>2000</td>\n",
       "      <td>101</td>\n",
       "      <td>125000</td>\n",
       "      <td>3</td>\n",
       "      <td>1</td>\n",
       "      <td>0</td>\n",
       "      <td>0</td>\n",
       "      <td>0</td>\n",
       "      <td>0</td>\n",
       "      <td>...</td>\n",
       "      <td>0</td>\n",
       "      <td>1</td>\n",
       "      <td>0</td>\n",
       "      <td>0</td>\n",
       "      <td>0</td>\n",
       "      <td>0</td>\n",
       "      <td>0</td>\n",
       "      <td>0</td>\n",
       "      <td>0</td>\n",
       "      <td>0</td>\n",
       "    </tr>\n",
       "    <tr>\n",
       "      <td>354363</td>\n",
       "      <td>9200</td>\n",
       "      <td>1996</td>\n",
       "      <td>102</td>\n",
       "      <td>150000</td>\n",
       "      <td>3</td>\n",
       "      <td>0</td>\n",
       "      <td>0</td>\n",
       "      <td>0</td>\n",
       "      <td>0</td>\n",
       "      <td>0</td>\n",
       "      <td>...</td>\n",
       "      <td>0</td>\n",
       "      <td>0</td>\n",
       "      <td>0</td>\n",
       "      <td>0</td>\n",
       "      <td>0</td>\n",
       "      <td>0</td>\n",
       "      <td>0</td>\n",
       "      <td>1</td>\n",
       "      <td>0</td>\n",
       "      <td>0</td>\n",
       "    </tr>\n",
       "    <tr>\n",
       "      <td>354364</td>\n",
       "      <td>3400</td>\n",
       "      <td>2002</td>\n",
       "      <td>100</td>\n",
       "      <td>150000</td>\n",
       "      <td>6</td>\n",
       "      <td>0</td>\n",
       "      <td>0</td>\n",
       "      <td>0</td>\n",
       "      <td>0</td>\n",
       "      <td>0</td>\n",
       "      <td>...</td>\n",
       "      <td>0</td>\n",
       "      <td>0</td>\n",
       "      <td>0</td>\n",
       "      <td>0</td>\n",
       "      <td>0</td>\n",
       "      <td>0</td>\n",
       "      <td>0</td>\n",
       "      <td>1</td>\n",
       "      <td>0</td>\n",
       "      <td>0</td>\n",
       "    </tr>\n",
       "  </tbody>\n",
       "</table>\n",
       "<p>248623 rows × 299 columns</p>\n",
       "</div>"
      ],
      "text/plain": [
       "        Price  RegistrationYear  Power  Kilometer  RegistrationMonth  \\\n",
       "1       18300              2011    190     125000                  5   \n",
       "2        9800              2004    163     125000                  8   \n",
       "3        1500              2001     75     150000                  6   \n",
       "4        3600              2008     69      90000                  7   \n",
       "5         650              1995    102     150000                 10   \n",
       "...       ...               ...    ...        ...                ...   \n",
       "354355   7900              2010    140     150000                  7   \n",
       "354357   5250              2016    150     150000                 12   \n",
       "354362   1199              2000    101     125000                  3   \n",
       "354363   9200              1996    102     150000                  3   \n",
       "354364   3400              2002    100     150000                  6   \n",
       "\n",
       "        VehicleType_convertible  VehicleType_coupe  VehicleType_other  \\\n",
       "1                             0                  1                  0   \n",
       "2                             0                  0                  0   \n",
       "3                             0                  0                  0   \n",
       "4                             0                  0                  0   \n",
       "5                             0                  0                  0   \n",
       "...                         ...                ...                ...   \n",
       "354355                        0                  0                  0   \n",
       "354357                        0                  0                  0   \n",
       "354362                        1                  0                  0   \n",
       "354363                        0                  0                  0   \n",
       "354364                        0                  0                  0   \n",
       "\n",
       "        VehicleType_sedan  VehicleType_small  ...  Brand_skoda  Brand_smart  \\\n",
       "1                       0                  0  ...            0            0   \n",
       "2                       0                  0  ...            0            0   \n",
       "3                       0                  1  ...            0            0   \n",
       "4                       0                  1  ...            1            0   \n",
       "5                       1                  0  ...            0            0   \n",
       "...                   ...                ...  ...          ...          ...   \n",
       "354355                  1                  0  ...            0            0   \n",
       "354357                  0                  0  ...            0            0   \n",
       "354362                  0                  0  ...            0            1   \n",
       "354363                  0                  0  ...            0            0   \n",
       "354364                  0                  0  ...            0            0   \n",
       "\n",
       "        Brand_sonstige_autos  Brand_subaru  Brand_suzuki  Brand_toyota  \\\n",
       "1                          0             0             0             0   \n",
       "2                          0             0             0             0   \n",
       "3                          0             0             0             0   \n",
       "4                          0             0             0             0   \n",
       "5                          0             0             0             0   \n",
       "...                      ...           ...           ...           ...   \n",
       "354355                     0             0             0             0   \n",
       "354357                     0             0             0             0   \n",
       "354362                     0             0             0             0   \n",
       "354363                     0             0             0             0   \n",
       "354364                     0             0             0             0   \n",
       "\n",
       "        Brand_trabant  Brand_volkswagen  Brand_volvo  NotRepaired_yes  \n",
       "1                   0                 0            0                1  \n",
       "2                   0                 0            0                0  \n",
       "3                   0                 1            0                0  \n",
       "4                   0                 0            0                0  \n",
       "5                   0                 0            0                1  \n",
       "...               ...               ...          ...              ...  \n",
       "354355              0                 1            0                0  \n",
       "354357              0                 0            0                0  \n",
       "354362              0                 0            0                0  \n",
       "354363              0                 1            0                0  \n",
       "354364              0                 1            0                0  \n",
       "\n",
       "[248623 rows x 299 columns]"
      ]
     },
     "execution_count": 28,
     "metadata": {},
     "output_type": "execute_result"
    }
   ],
   "source": [
    "df_ohe = pd.get_dummies(df, drop_first=True)\n",
    "df_ohe"
   ]
  },
  {
   "cell_type": "markdown",
   "metadata": {},
   "source": [
    "Разделим данные на датасет с признаками и целевой датасет, а затем вновь полученные датасеты разделим на обучающий и тестовый"
   ]
  },
  {
   "cell_type": "code",
   "execution_count": 29,
   "metadata": {},
   "outputs": [],
   "source": [
    "features = df_ohe.drop('Price', axis = 1)\n",
    "target = df_ohe['Price']\n",
    "features_train, features_test, target_train, target_test = train_test_split(features, target, test_size=0.25, random_state=42)"
   ]
  },
  {
   "cell_type": "markdown",
   "metadata": {},
   "source": [
    "Проверим правильность разбиения"
   ]
  },
  {
   "cell_type": "code",
   "execution_count": 30,
   "metadata": {},
   "outputs": [
    {
     "name": "stdout",
     "output_type": "stream",
     "text": [
      "(186467, 298) (62156, 298) (186467,) (62156,)\n"
     ]
    }
   ],
   "source": [
    "print(features_train.shape, features_test.shape, target_train.shape, target_test.shape)"
   ]
  },
  {
   "cell_type": "code",
   "execution_count": 31,
   "metadata": {},
   "outputs": [
    {
     "data": {
      "text/plain": [
       "Index(['RegistrationYear', 'Power', 'Kilometer', 'RegistrationMonth',\n",
       "       'VehicleType_convertible', 'VehicleType_coupe', 'VehicleType_other',\n",
       "       'VehicleType_sedan', 'VehicleType_small', 'VehicleType_suv',\n",
       "       ...\n",
       "       'Brand_skoda', 'Brand_smart', 'Brand_sonstige_autos', 'Brand_subaru',\n",
       "       'Brand_suzuki', 'Brand_toyota', 'Brand_trabant', 'Brand_volkswagen',\n",
       "       'Brand_volvo', 'NotRepaired_yes'],\n",
       "      dtype='object', length=298)"
      ]
     },
     "execution_count": 31,
     "metadata": {},
     "output_type": "execute_result"
    }
   ],
   "source": [
    "features.columns"
   ]
  },
  {
   "cell_type": "markdown",
   "metadata": {},
   "source": [
    "Во избежание влияния дисбаланса классов уравновесим их с помощью метода StandardScaler"
   ]
  },
  {
   "cell_type": "code",
   "execution_count": 32,
   "metadata": {},
   "outputs": [],
   "source": [
    "scaler = StandardScaler()\n",
    "scaler.fit(features_train[['Power', 'Kilometer']])\n",
    "features_train[['Power', 'Kilometer']] = scaler.transform(features_train[['Power', 'Kilometer']])\n",
    "features_test[['Power', 'Kilometer']] = scaler.transform(features_test[['Power', 'Kilometer']])"
   ]
  },
  {
   "cell_type": "markdown",
   "metadata": {},
   "source": [
    "На этом предобработка данных завершена и мы можем приступать к работе с моделями."
   ]
  },
  {
   "cell_type": "markdown",
   "metadata": {},
   "source": [
    "## Обучение моделей"
   ]
  },
  {
   "cell_type": "markdown",
   "metadata": {},
   "source": [
    "Для начала определим метрику, по которой будем оценивать качество наших моделей. Для задач регрессии подойдет среднеквадратичное отклонение."
   ]
  },
  {
   "cell_type": "code",
   "execution_count": 33,
   "metadata": {},
   "outputs": [],
   "source": [
    "def RMSE(target, predict):\n",
    "    return mean_squared_error(target,predict)**0.5"
   ]
  },
  {
   "cell_type": "code",
   "execution_count": 34,
   "metadata": {},
   "outputs": [],
   "source": [
    "score = make_scorer(RMSE, greater_is_better=False)"
   ]
  },
  {
   "cell_type": "markdown",
   "metadata": {},
   "source": [
    "Для наиболее эффективной работы модели прибегнем к кросс-валидации данных. ВАоспользуемся методом ShuffleSplit, будем делить данные на 10 подвыборок."
   ]
  },
  {
   "cell_type": "code",
   "execution_count": 35,
   "metadata": {},
   "outputs": [],
   "source": [
    "cross_val = ShuffleSplit(n_splits=10, test_size=0.25, random_state=42)"
   ]
  },
  {
   "cell_type": "markdown",
   "metadata": {},
   "source": [
    "### Модель линейной регрессии "
   ]
  },
  {
   "cell_type": "markdown",
   "metadata": {},
   "source": [
    "Первым делом проверим простейшую предсказательную модель - линейную регрессию. Она практически не настраивается, имеет не самое высокое качество предсказаний, однако работает крайне быстро и поможет нам провести сравнительный анализ моделей в дальнейшем."
   ]
  },
  {
   "cell_type": "code",
   "execution_count": 36,
   "metadata": {},
   "outputs": [],
   "source": [
    "LinearReg_model = LinearRegression()"
   ]
  },
  {
   "cell_type": "code",
   "execution_count": 37,
   "metadata": {},
   "outputs": [
    {
     "name": "stdout",
     "output_type": "stream",
     "text": [
      "CPU times: user 12.5 s, sys: 6.99 s, total: 19.4 s\n",
      "Wall time: 19.4 s\n"
     ]
    },
    {
     "data": {
      "text/plain": [
       "LinearRegression(copy_X=True, fit_intercept=True, n_jobs=None, normalize=False)"
      ]
     },
     "execution_count": 37,
     "metadata": {},
     "output_type": "execute_result"
    }
   ],
   "source": [
    "%%time\n",
    "LinearReg_model.fit(features_train, target_train)"
   ]
  },
  {
   "cell_type": "code",
   "execution_count": 38,
   "metadata": {},
   "outputs": [
    {
     "name": "stdout",
     "output_type": "stream",
     "text": [
      "CPU times: user 79.9 ms, sys: 105 ms, total: 185 ms\n",
      "Wall time: 180 ms\n"
     ]
    }
   ],
   "source": [
    "%%time\n",
    "LinReg_predictions = LinearReg_model.predict(features_test)"
   ]
  },
  {
   "cell_type": "code",
   "execution_count": 39,
   "metadata": {},
   "outputs": [
    {
     "name": "stdout",
     "output_type": "stream",
     "text": [
      "RMSE:  234257255737.21\n"
     ]
    }
   ],
   "source": [
    "print('RMSE: ', RMSE(target_test, LinReg_predictions).round(2))"
   ]
  },
  {
   "cell_type": "markdown",
   "metadata": {},
   "source": [
    "Высокая скорость работы компенсируется огромной ошибкой в предсказаниях, что делает невозможным применение этой модели на практике."
   ]
  },
  {
   "cell_type": "markdown",
   "metadata": {},
   "source": [
    "### Стохастический градиентный бустинг"
   ]
  },
  {
   "cell_type": "markdown",
   "metadata": {},
   "source": [
    "Следующий на очереди стохастический градиентный бустинг"
   ]
  },
  {
   "cell_type": "code",
   "execution_count": 40,
   "metadata": {},
   "outputs": [],
   "source": [
    "SGD_model = SGDRegressor(random_state=42)"
   ]
  },
  {
   "cell_type": "code",
   "execution_count": 41,
   "metadata": {},
   "outputs": [
    {
     "data": {
      "text/plain": [
       "SGDRegressor(alpha=0.0001, average=False, early_stopping=False, epsilon=0.1,\n",
       "             eta0=0.01, fit_intercept=True, l1_ratio=0.15,\n",
       "             learning_rate='invscaling', loss='squared_loss', max_iter=1000,\n",
       "             n_iter_no_change=5, penalty='l2', power_t=0.25, random_state=42,\n",
       "             shuffle=True, tol=0.001, validation_fraction=0.1, verbose=0,\n",
       "             warm_start=False)"
      ]
     },
     "execution_count": 41,
     "metadata": {},
     "output_type": "execute_result"
    }
   ],
   "source": [
    "SGD_model"
   ]
  },
  {
   "cell_type": "markdown",
   "metadata": {},
   "source": [
    "Эта модель уже имеет достаточное колчество настраиваемых параметров, однако чтобы избежать длительного подрбора гиперпараметров и обучения модели, с помощью метода GridSearchCV попробуем найти оптимальные значения лишь у двух гиперпараметров модели. Оценивать качество подобранных параметров будем как раз по метрике RMSE с помощью метода make_scorer, который мы задали выше"
   ]
  },
  {
   "cell_type": "code",
   "execution_count": 42,
   "metadata": {},
   "outputs": [],
   "source": [
    "param_grid = {'alpha' : [0.0001, 0.001], 'max_iter' : [1000, 10_000]}"
   ]
  },
  {
   "cell_type": "code",
   "execution_count": 43,
   "metadata": {},
   "outputs": [],
   "source": [
    "grid_cv = GridSearchCV(SGD_model, param_grid, scoring=score, cv=cross_val)"
   ]
  },
  {
   "cell_type": "code",
   "execution_count": 44,
   "metadata": {},
   "outputs": [
    {
     "name": "stdout",
     "output_type": "stream",
     "text": [
      "CPU times: user 7min 10s, sys: 13.1 s, total: 7min 23s\n",
      "Wall time: 7min 24s\n"
     ]
    },
    {
     "data": {
      "text/plain": [
       "GridSearchCV(cv=ShuffleSplit(n_splits=10, random_state=42, test_size=0.25, train_size=None),\n",
       "             error_score='raise-deprecating',\n",
       "             estimator=SGDRegressor(alpha=0.0001, average=False,\n",
       "                                    early_stopping=False, epsilon=0.1,\n",
       "                                    eta0=0.01, fit_intercept=True,\n",
       "                                    l1_ratio=0.15, learning_rate='invscaling',\n",
       "                                    loss='squared_loss', max_iter=1000,\n",
       "                                    n_iter_no_change=5, penalty='l2',\n",
       "                                    power_t=0.25, random_state=42, shuffle=True,\n",
       "                                    tol=0.001, validation_fraction=0.1,\n",
       "                                    verbose=0, warm_start=False),\n",
       "             iid='warn', n_jobs=None,\n",
       "             param_grid={'alpha': [0.0001, 0.001], 'max_iter': [1000, 10000]},\n",
       "             pre_dispatch='2*n_jobs', refit=True, return_train_score=False,\n",
       "             scoring=make_scorer(RMSE, greater_is_better=False), verbose=0)"
      ]
     },
     "execution_count": 44,
     "metadata": {},
     "output_type": "execute_result"
    }
   ],
   "source": [
    "%%time\n",
    "grid_cv.fit(features_train, target_train)"
   ]
  },
  {
   "cell_type": "code",
   "execution_count": 45,
   "metadata": {},
   "outputs": [
    {
     "name": "stdout",
     "output_type": "stream",
     "text": [
      "-309819008224415.56\n",
      "{'alpha': 0.0001, 'max_iter': 1000}\n"
     ]
    }
   ],
   "source": [
    "print(grid_cv.best_score_)\n",
    "print(grid_cv.best_params_)"
   ]
  },
  {
   "cell_type": "markdown",
   "metadata": {},
   "source": [
    "За почти 7 минут мы получили лучшие значения гиперпараметров модели, используем их для дальнейшеей работы."
   ]
  },
  {
   "cell_type": "code",
   "execution_count": 46,
   "metadata": {},
   "outputs": [],
   "source": [
    "SGD_model = SGDRegressor(alpha=0.0001, max_iter=1000, random_state=42)"
   ]
  },
  {
   "cell_type": "code",
   "execution_count": 47,
   "metadata": {},
   "outputs": [
    {
     "name": "stdout",
     "output_type": "stream",
     "text": [
      "CPU times: user 21.3 s, sys: 246 ms, total: 21.5 s\n",
      "Wall time: 21.5 s\n"
     ]
    },
    {
     "data": {
      "text/plain": [
       "SGDRegressor(alpha=0.0001, average=False, early_stopping=False, epsilon=0.1,\n",
       "             eta0=0.01, fit_intercept=True, l1_ratio=0.15,\n",
       "             learning_rate='invscaling', loss='squared_loss', max_iter=1000,\n",
       "             n_iter_no_change=5, penalty='l2', power_t=0.25, random_state=42,\n",
       "             shuffle=True, tol=0.001, validation_fraction=0.1, verbose=0,\n",
       "             warm_start=False)"
      ]
     },
     "execution_count": 47,
     "metadata": {},
     "output_type": "execute_result"
    }
   ],
   "source": [
    "%%time\n",
    "SGD_model.fit(features_train, target_train)"
   ]
  },
  {
   "cell_type": "code",
   "execution_count": 48,
   "metadata": {},
   "outputs": [
    {
     "name": "stdout",
     "output_type": "stream",
     "text": [
      "CPU times: user 53.3 ms, sys: 51.9 ms, total: 105 ms\n",
      "Wall time: 89.8 ms\n"
     ]
    }
   ],
   "source": [
    "%%time\n",
    "SGD_predictions = SGD_model.predict(features_test)"
   ]
  },
  {
   "cell_type": "code",
   "execution_count": 49,
   "metadata": {},
   "outputs": [
    {
     "name": "stdout",
     "output_type": "stream",
     "text": [
      "RMSE:  379317410593825.25\n"
     ]
    }
   ],
   "source": [
    "print('RMSE: ', RMSE(target_test, SGD_predictions).round(2))"
   ]
  },
  {
   "cell_type": "markdown",
   "metadata": {},
   "source": [
    "Высокая скорость обучения и предсказания, тем не менее, вновь невелируется крайне плохим результатом - значение ошибки непозволительно велико, что говорит нам о непригодности работы такой модели для решения поставленной задачи."
   ]
  },
  {
   "cell_type": "markdown",
   "metadata": {},
   "source": [
    "### Модель XGBoost"
   ]
  },
  {
   "cell_type": "markdown",
   "metadata": {},
   "source": [
    "Повторим аналогичные операции для модели XGBoost."
   ]
  },
  {
   "cell_type": "code",
   "execution_count": 50,
   "metadata": {},
   "outputs": [],
   "source": [
    "XGBRegressor_model = XGBRegressor(verbosity=0, random_state=42, n_job=-1)"
   ]
  },
  {
   "cell_type": "code",
   "execution_count": 51,
   "metadata": {},
   "outputs": [
    {
     "data": {
      "text/plain": [
       "XGBRegressor(base_score=0.5, booster='gbtree', colsample_bylevel=1,\n",
       "             colsample_bynode=1, colsample_bytree=1, gamma=0,\n",
       "             importance_type='gain', learning_rate=0.1, max_delta_step=0,\n",
       "             max_depth=3, min_child_weight=1, missing=None, n_estimators=100,\n",
       "             n_job=-1, n_jobs=1, nthread=None, objective='reg:linear',\n",
       "             random_state=42, reg_alpha=0, reg_lambda=1, scale_pos_weight=1,\n",
       "             seed=None, silent=None, subsample=1, verbosity=0)"
      ]
     },
     "execution_count": 51,
     "metadata": {},
     "output_type": "execute_result"
    }
   ],
   "source": [
    "XGBRegressor_model"
   ]
  },
  {
   "cell_type": "code",
   "execution_count": 52,
   "metadata": {},
   "outputs": [],
   "source": [
    "param_grid = {'max_depth': [2, 4, 6], 'n_estimators': [50, 100, 200]}"
   ]
  },
  {
   "cell_type": "code",
   "execution_count": 53,
   "metadata": {},
   "outputs": [],
   "source": [
    "grid_cv = GridSearchCV(XGBRegressor_model, param_grid, scoring=score, cv=cross_val)"
   ]
  },
  {
   "cell_type": "code",
   "execution_count": 54,
   "metadata": {},
   "outputs": [],
   "source": [
    "#%%time\n",
    "#grid_cv.fit(features_train, target_train, verbose=True)"
   ]
  },
  {
   "attachments": {
    "image.png": {
     "image/png": "[encoded data removed]"
    }
   },
   "cell_type": "markdown",
   "metadata": {},
   "source": [
    "![image.png](attachment:image.png)"
   ]
  },
  {
   "cell_type": "code",
   "execution_count": 55,
   "metadata": {},
   "outputs": [],
   "source": [
    "#print(grid_cv.best_score_)\n",
    "#print(grid_cv.best_params_)"
   ]
  },
  {
   "attachments": {
    "image.png": {
     "image/png": "[encoded data removed]"
    }
   },
   "cell_type": "markdown",
   "metadata": {},
   "source": [
    "![image.png](attachment:image.png)"
   ]
  },
  {
   "cell_type": "markdown",
   "metadata": {},
   "source": [
    "Данная модель подбирает параметры и обучается невероятно долго, поэтому, для облегчения задачи, я приложил скриншоту готовых вычислений подбора параметров. "
   ]
  },
  {
   "cell_type": "code",
   "execution_count": 56,
   "metadata": {},
   "outputs": [],
   "source": [
    "XGBRegressor_model = XGBRegressor(verbosity=0, max_depth=6, n_estimators=200, random_state=42, n_job=-1)"
   ]
  },
  {
   "cell_type": "code",
   "execution_count": 57,
   "metadata": {},
   "outputs": [
    {
     "name": "stdout",
     "output_type": "stream",
     "text": [
      "CPU times: user 5min 55s, sys: 1.49 s, total: 5min 57s\n",
      "Wall time: 5min 57s\n"
     ]
    },
    {
     "data": {
      "text/plain": [
       "XGBRegressor(base_score=0.5, booster='gbtree', colsample_bylevel=1,\n",
       "             colsample_bynode=1, colsample_bytree=1, gamma=0,\n",
       "             importance_type='gain', learning_rate=0.1, max_delta_step=0,\n",
       "             max_depth=6, min_child_weight=1, missing=None, n_estimators=200,\n",
       "             n_job=-1, n_jobs=1, nthread=None, objective='reg:linear',\n",
       "             random_state=42, reg_alpha=0, reg_lambda=1, scale_pos_weight=1,\n",
       "             seed=None, silent=None, subsample=1, verbosity=0)"
      ]
     },
     "execution_count": 57,
     "metadata": {},
     "output_type": "execute_result"
    }
   ],
   "source": [
    "%%time\n",
    "XGBRegressor_model.fit(features_train, target_train)"
   ]
  },
  {
   "cell_type": "code",
   "execution_count": 58,
   "metadata": {},
   "outputs": [
    {
     "name": "stdout",
     "output_type": "stream",
     "text": [
      "CPU times: user 724 ms, sys: 188 ms, total: 912 ms\n",
      "Wall time: 918 ms\n"
     ]
    }
   ],
   "source": [
    "%%time\n",
    "XGB_predictions = XGBRegressor_model.predict(features_test)"
   ]
  },
  {
   "cell_type": "code",
   "execution_count": 59,
   "metadata": {},
   "outputs": [
    {
     "name": "stdout",
     "output_type": "stream",
     "text": [
      "RMSE:  1489.28\n"
     ]
    }
   ],
   "source": [
    "print('RMSE: ', RMSE(target_test, XGB_predictions).round(2))"
   ]
  },
  {
   "cell_type": "markdown",
   "metadata": {},
   "source": [
    "Модель работала очень долго, но результат на несколько порядков лучше вышеописанных моделей. Тем не менее, крайне низкая скорость работы - существенный минус, который ставит под сомнение возможность работы такого алгоритма для решения поставленной задачи."
   ]
  },
  {
   "cell_type": "markdown",
   "metadata": {},
   "source": [
    "### Модель CatBoost"
   ]
  },
  {
   "cell_type": "markdown",
   "metadata": {},
   "source": [
    "На очереди CatBoost, проделаем все те же операции, что и ранее"
   ]
  },
  {
   "cell_type": "code",
   "execution_count": 60,
   "metadata": {},
   "outputs": [],
   "source": [
    "CBRegressor_model = CatBoostRegressor(verbose = 10, random_seed = 42)"
   ]
  },
  {
   "cell_type": "code",
   "execution_count": 61,
   "metadata": {},
   "outputs": [],
   "source": [
    "param_grid = {'iterations': [10, 50], 'max_depth': [5, 15]}"
   ]
  },
  {
   "cell_type": "code",
   "execution_count": 62,
   "metadata": {},
   "outputs": [],
   "source": [
    "grid_cv = GridSearchCV(CBRegressor_model, param_grid, scoring=score, cv=cross_val)"
   ]
  },
  {
   "cell_type": "code",
   "execution_count": 63,
   "metadata": {
    "scrolled": true
   },
   "outputs": [],
   "source": [
    "#%%time\n",
    "#grid_cv.fit(features_train, target_train, verbose=False)"
   ]
  },
  {
   "attachments": {
    "image-2.png": {
     "image/png": "[encoded data removed]"
    }
   },
   "cell_type": "markdown",
   "metadata": {},
   "source": [
    "![image-2.png](attachment:image-2.png)"
   ]
  },
  {
   "cell_type": "code",
   "execution_count": 64,
   "metadata": {},
   "outputs": [],
   "source": [
    "#print(grid_cv.best_score_)\n",
    "#print(grid_cv.best_params_)"
   ]
  },
  {
   "attachments": {
    "image.png": {
     "image/png": "[encoded data removed]"
    }
   },
   "cell_type": "markdown",
   "metadata": {},
   "source": [
    "![image.png](attachment:image.png)"
   ]
  },
  {
   "cell_type": "markdown",
   "metadata": {},
   "source": [
    "Аналогично XGBoost'у, подбор параметров задаял длительное время, хотя и существенно меньшее, нежели у XGBoost'а, поэтому прилагаю скриншот уже полученных оптимальных параметров модели."
   ]
  },
  {
   "cell_type": "code",
   "execution_count": 65,
   "metadata": {},
   "outputs": [],
   "source": [
    "CBRegressor_model = CatBoostRegressor(verbose = 10, iterations = 100, max_depth = 15)"
   ]
  },
  {
   "cell_type": "code",
   "execution_count": 66,
   "metadata": {},
   "outputs": [
    {
     "name": "stdout",
     "output_type": "stream",
     "text": [
      "0:\tlearn: 4301.5364394\ttotal: 1.36s\tremaining: 2m 14s\n",
      "10:\tlearn: 3445.1322669\ttotal: 9.65s\tremaining: 1m 18s\n",
      "20:\tlearn: 2839.3149644\ttotal: 18.4s\tremaining: 1m 9s\n",
      "30:\tlearn: 2414.9818807\ttotal: 27.2s\tremaining: 1m\n",
      "40:\tlearn: 2121.9770980\ttotal: 35.7s\tremaining: 51.3s\n",
      "50:\tlearn: 1927.3591220\ttotal: 44.3s\tremaining: 42.6s\n",
      "60:\tlearn: 1794.4468515\ttotal: 52.7s\tremaining: 33.7s\n",
      "70:\tlearn: 1703.0645685\ttotal: 1m 1s\tremaining: 25s\n",
      "80:\tlearn: 1642.7360960\ttotal: 1m 9s\tremaining: 16.4s\n",
      "90:\tlearn: 1601.7610944\ttotal: 1m 18s\tremaining: 7.72s\n",
      "99:\tlearn: 1574.9985274\ttotal: 1m 25s\tremaining: 0us\n",
      "CPU times: user 1min 16s, sys: 12 s, total: 1min 28s\n",
      "Wall time: 1min 29s\n"
     ]
    },
    {
     "data": {
      "text/plain": [
       "<catboost.core.CatBoostRegressor at 0x7f76d0b9fd50>"
      ]
     },
     "execution_count": 66,
     "metadata": {},
     "output_type": "execute_result"
    }
   ],
   "source": [
    "%%time\n",
    "CBRegressor_model.fit(features_train, target_train)"
   ]
  },
  {
   "cell_type": "code",
   "execution_count": 67,
   "metadata": {},
   "outputs": [
    {
     "name": "stdout",
     "output_type": "stream",
     "text": [
      "CPU times: user 106 ms, sys: 10 ms, total: 116 ms\n",
      "Wall time: 74.7 ms\n"
     ]
    }
   ],
   "source": [
    "%%time\n",
    "CB_predictions = CBRegressor_model.predict(features_test)"
   ]
  },
  {
   "cell_type": "code",
   "execution_count": 68,
   "metadata": {},
   "outputs": [
    {
     "name": "stdout",
     "output_type": "stream",
     "text": [
      "RMSE:  1612.07\n"
     ]
    }
   ],
   "source": [
    "print('RMSE: ', RMSE(target_test, CB_predictions).round(2))"
   ]
  },
  {
   "cell_type": "markdown",
   "metadata": {},
   "source": [
    "CatBoost ошибся сильнее предыдущей модели, но справился во много раз быстрее, что позволяет нам сделать вывод о его потенциальной пригодности для решения задачи прогнозирования стоимости автомобиля."
   ]
  },
  {
   "cell_type": "markdown",
   "metadata": {},
   "source": [
    "### Модель LGBMRegressor"
   ]
  },
  {
   "cell_type": "markdown",
   "metadata": {},
   "source": [
    "Последняя рассматриваемая нами модель - LGBMRegressor. Повторим операции, аналогичные предыдущим моделям"
   ]
  },
  {
   "cell_type": "code",
   "execution_count": 69,
   "metadata": {},
   "outputs": [],
   "source": [
    "LGBMRegressor_model = LGBMRegressor(random_state = 42, n_job=-1)"
   ]
  },
  {
   "cell_type": "code",
   "execution_count": 70,
   "metadata": {},
   "outputs": [
    {
     "data": {
      "text/plain": [
       "LGBMRegressor(boosting_type='gbdt', class_weight=None, colsample_bytree=1.0,\n",
       "              importance_type='split', learning_rate=0.1, max_depth=-1,\n",
       "              min_child_samples=20, min_child_weight=0.001, min_split_gain=0.0,\n",
       "              n_estimators=100, n_job=-1, n_jobs=-1, num_leaves=31,\n",
       "              objective=None, random_state=42, reg_alpha=0.0, reg_lambda=0.0,\n",
       "              silent=True, subsample=1.0, subsample_for_bin=200000,\n",
       "              subsample_freq=0)"
      ]
     },
     "execution_count": 70,
     "metadata": {},
     "output_type": "execute_result"
    }
   ],
   "source": [
    "LGBMRegressor_model"
   ]
  },
  {
   "cell_type": "code",
   "execution_count": 71,
   "metadata": {},
   "outputs": [],
   "source": [
    "param_grid = {'n_estimators': [100, 1000], 'max_depth': [5, 15]}"
   ]
  },
  {
   "cell_type": "code",
   "execution_count": 72,
   "metadata": {},
   "outputs": [],
   "source": [
    "grid_cv = GridSearchCV(LGBMRegressor_model, param_grid, scoring=score, cv=cross_val)"
   ]
  },
  {
   "cell_type": "code",
   "execution_count": 73,
   "metadata": {},
   "outputs": [
    {
     "name": "stdout",
     "output_type": "stream",
     "text": [
      "CPU times: user 5min 3s, sys: 13.5 s, total: 5min 17s\n",
      "Wall time: 5min 17s\n"
     ]
    },
    {
     "data": {
      "text/plain": [
       "GridSearchCV(cv=ShuffleSplit(n_splits=10, random_state=42, test_size=0.25, train_size=None),\n",
       "             error_score='raise-deprecating',\n",
       "             estimator=LGBMRegressor(boosting_type='gbdt', class_weight=None,\n",
       "                                     colsample_bytree=1.0,\n",
       "                                     importance_type='split', learning_rate=0.1,\n",
       "                                     max_depth=-1, min_child_samples=20,\n",
       "                                     min_child_weight=0.001, min_split_gain=0.0,\n",
       "                                     n_estimators=100, n_job=-1, n_jobs=-1,\n",
       "                                     num_leaves=31, objective=None,\n",
       "                                     random_state=42, reg_alpha=0.0,\n",
       "                                     reg_lambda=0.0, silent=True, subsample=1.0,\n",
       "                                     subsample_for_bin=200000,\n",
       "                                     subsample_freq=0),\n",
       "             iid='warn', n_jobs=None,\n",
       "             param_grid={'max_depth': [5, 15], 'n_estimators': [100, 1000]},\n",
       "             pre_dispatch='2*n_jobs', refit=True, return_train_score=False,\n",
       "             scoring=make_scorer(RMSE, greater_is_better=False), verbose=0)"
      ]
     },
     "execution_count": 73,
     "metadata": {},
     "output_type": "execute_result"
    }
   ],
   "source": [
    "%%time\n",
    "grid_cv.fit(features_train, target_train, verbose=True)"
   ]
  },
  {
   "cell_type": "code",
   "execution_count": 74,
   "metadata": {},
   "outputs": [
    {
     "name": "stdout",
     "output_type": "stream",
     "text": [
      "-1405.522834440478\n",
      "{'max_depth': 15, 'n_estimators': 1000}\n"
     ]
    }
   ],
   "source": [
    "print(grid_cv.best_score_)\n",
    "print(grid_cv.best_params_)"
   ]
  },
  {
   "cell_type": "code",
   "execution_count": 75,
   "metadata": {},
   "outputs": [],
   "source": [
    "LGBMRegressor_model = LGBMRegressor(random_state = 42,max_depth= 15, n_estimators= 1000, n_job=-1)"
   ]
  },
  {
   "cell_type": "code",
   "execution_count": 76,
   "metadata": {},
   "outputs": [
    {
     "name": "stdout",
     "output_type": "stream",
     "text": [
      "CPU times: user 11.7 s, sys: 391 ms, total: 12.1 s\n",
      "Wall time: 12.1 s\n"
     ]
    },
    {
     "data": {
      "text/plain": [
       "LGBMRegressor(boosting_type='gbdt', class_weight=None, colsample_bytree=1.0,\n",
       "              importance_type='split', learning_rate=0.1, max_depth=15,\n",
       "              min_child_samples=20, min_child_weight=0.001, min_split_gain=0.0,\n",
       "              n_estimators=1000, n_job=-1, n_jobs=-1, num_leaves=31,\n",
       "              objective=None, random_state=42, reg_alpha=0.0, reg_lambda=0.0,\n",
       "              silent=True, subsample=1.0, subsample_for_bin=200000,\n",
       "              subsample_freq=0)"
      ]
     },
     "execution_count": 76,
     "metadata": {},
     "output_type": "execute_result"
    }
   ],
   "source": [
    "%%time\n",
    "LGBMRegressor_model.fit(features_train, target_train)"
   ]
  },
  {
   "cell_type": "code",
   "execution_count": 77,
   "metadata": {},
   "outputs": [
    {
     "name": "stdout",
     "output_type": "stream",
     "text": [
      "CPU times: user 5.14 s, sys: 99 ms, total: 5.24 s\n",
      "Wall time: 5.43 s\n"
     ]
    }
   ],
   "source": [
    "%%time\n",
    "LGBM_predictions = LGBMRegressor_model.predict(features_test)"
   ]
  },
  {
   "cell_type": "code",
   "execution_count": 78,
   "metadata": {},
   "outputs": [
    {
     "name": "stdout",
     "output_type": "stream",
     "text": [
      "RMSE:  1385.94\n"
     ]
    }
   ],
   "source": [
    "print('RMSE: ', RMSE(target_test, LGBM_predictions).round(2))"
   ]
  },
  {
   "cell_type": "markdown",
   "metadata": {},
   "source": [
    "Данная модель является безусловным лидером среди всех рассмотренных. Самая маленькая ошибка и самая большая скорость как подбора параметров, так и обучения и предсказания."
   ]
  },
  {
   "cell_type": "markdown",
   "metadata": {},
   "source": [
    "## Анализ моделей"
   ]
  },
  {
   "cell_type": "markdown",
   "metadata": {},
   "source": [
    "Проанализируем, что же мы получили в процессе исследования. Для наглядности, все ключевые данные по моделям сведены в таблицу."
   ]
  },
  {
   "cell_type": "code",
   "execution_count": 79,
   "metadata": {},
   "outputs": [
    {
     "data": {
      "text/html": [
       "<div>\n",
       "<style scoped>\n",
       "    .dataframe tbody tr th:only-of-type {\n",
       "        vertical-align: middle;\n",
       "    }\n",
       "\n",
       "    .dataframe tbody tr th {\n",
       "        vertical-align: top;\n",
       "    }\n",
       "\n",
       "    .dataframe thead th {\n",
       "        text-align: right;\n",
       "    }\n",
       "</style>\n",
       "<table border=\"1\" class=\"dataframe\">\n",
       "  <thead>\n",
       "    <tr style=\"text-align: right;\">\n",
       "      <th></th>\n",
       "      <th>Модель</th>\n",
       "      <th>Скорость подбора гиперпараметров</th>\n",
       "      <th>Скорость обучения</th>\n",
       "      <th>Скорость предсказания</th>\n",
       "      <th>Качество предсказания(RMSE)</th>\n",
       "    </tr>\n",
       "  </thead>\n",
       "  <tbody>\n",
       "    <tr>\n",
       "      <td>0</td>\n",
       "      <td>LinearRegression</td>\n",
       "      <td>Гиперпараметры для подбора отсутствуют</td>\n",
       "      <td>18сек</td>\n",
       "      <td>190мсек</td>\n",
       "      <td>234257255737.21</td>\n",
       "    </tr>\n",
       "    <tr>\n",
       "      <td>1</td>\n",
       "      <td>SGDRegressor</td>\n",
       "      <td>6мин 53сек</td>\n",
       "      <td>19,4сек</td>\n",
       "      <td>111мсек</td>\n",
       "      <td>379317410593825.25</td>\n",
       "    </tr>\n",
       "    <tr>\n",
       "      <td>2</td>\n",
       "      <td>XGBRegressor</td>\n",
       "      <td>4ч 38мин 30сек</td>\n",
       "      <td>5мин 25сек</td>\n",
       "      <td>854мсек</td>\n",
       "      <td>1489.28</td>\n",
       "    </tr>\n",
       "    <tr>\n",
       "      <td>3</td>\n",
       "      <td>CatBoostRegressor</td>\n",
       "      <td>25мин 56сек</td>\n",
       "      <td>1мин 56сек</td>\n",
       "      <td>44.6мсек</td>\n",
       "      <td>1612.07</td>\n",
       "    </tr>\n",
       "    <tr>\n",
       "      <td>4</td>\n",
       "      <td>LGBMRegressor</td>\n",
       "      <td>4мин 59сек</td>\n",
       "      <td>11.1сек</td>\n",
       "      <td>4,65сек</td>\n",
       "      <td>1385.94</td>\n",
       "    </tr>\n",
       "  </tbody>\n",
       "</table>\n",
       "</div>"
      ],
      "text/plain": [
       "              Модель        Скорость подбора гиперпараметров  \\\n",
       "0   LinearRegression  Гиперпараметры для подбора отсутствуют   \n",
       "1       SGDRegressor                              6мин 53сек   \n",
       "2       XGBRegressor                          4ч 38мин 30сек   \n",
       "3  CatBoostRegressor                             25мин 56сек   \n",
       "4      LGBMRegressor                              4мин 59сек   \n",
       "\n",
       "  Скорость обучения Скорость предсказания Качество предсказания(RMSE)  \n",
       "0             18сек               190мсек             234257255737.21  \n",
       "1           19,4сек               111мсек          379317410593825.25  \n",
       "2        5мин 25сек               854мсек                     1489.28  \n",
       "3        1мин 56сек              44.6мсек                     1612.07  \n",
       "4           11.1сек               4,65сек                     1385.94  "
      ]
     },
     "execution_count": 79,
     "metadata": {},
     "output_type": "execute_result"
    }
   ],
   "source": [
    "pivot_result=pd.DataFrame({'Модель':['LinearRegression', 'SGDRegressor', 'XGBRegressor', 'CatBoostRegressor', 'LGBMRegressor'],\n",
    " 'Скорость подбора гиперпараметров':['Гиперпараметры для подбора отсутствуют', '6мин 53сек', '4ч 38мин 30сек', '25мин 56сек', '4мин 59сек'],\n",
    " 'Скорость обучения':['18сек', '19,4сек', '5мин 25сек', '1мин 56сек', '11.1сек'],\n",
    " 'Скорость предсказания': ['190мсек', '111мсек', '854мсек', '44.6мсек', '4,65сек'],\n",
    " 'Качество предсказания(RMSE)': ['234257255737.21', '379317410593825.25', '1489.28', '1612.07', '1385.94']})\n",
    "pivot_result"
   ]
  },
  {
   "cell_type": "markdown",
   "metadata": {},
   "source": [
    "Как видно из полученной таблицы, наиболее удачным вариантом для решения представленной задачи является алгоритм LGBMRegressor. Используя наименьшее время на подбор параметров, достаточно быстро обучаясь и предсказывая значения, он имеет наименьшую ошибку. В качестве альтернативы рекоментуется алгоритм CatBoost, который хуже справляется с задачей, однако всё еще имеет приемлимую скорость работы и достаточно небольшую ошибку. Остальные алгоритмы либо имеют неудовлетворительно высокую скорость работы, либо крайне низкое качество."
   ]
  },
  {
   "cell_type": "markdown",
   "metadata": {},
   "source": [
    "## Вывод"
   ]
  },
  {
   "cell_type": "markdown",
   "metadata": {},
   "source": [
    "По результатам проделанной работы можно сделать слудующие выводы:\n",
    "- данные поступили сырыми и требовали предобработки\n",
    "- аномалии и дубликаты удалены, заполнение пропусков не представляется возможным, модели сами их обработают в процессе обучения\n",
    "- исследовано 5 моделей\n",
    "- линейная регрессия и стохастический бустинг очень быстрые методы, однако ошибаются настолько сильно, что их использование становится невозможным\n",
    "- XGBRegressor имеет высокую точность предсказаний, но крайне низкую скорость работы, что также не позволяет использовать этот алгоритм для решения поставленной задачи\n",
    "- CatBoostRegressor имеет не плохую скорость работы и достаточно высокую точность, что делает его потенциальным кандидатом на использование в дальнейшем\n",
    "- LGBMRegressor имеет крайне высокую скорость обучения и предсказания, и кроме того дает наименьшую ошибку предсказания, что позволяет рекомендовать именно этот алгоритм для решения задачи предсказания стоимости автомобилей."
   ]
  }
 ],
 "metadata": {
  "ExecuteTimeLog": [
   {
    "duration": 3,
    "start_time": "2021-07-01T11:43:11.981Z"
   },
   {
    "duration": 1169,
    "start_time": "2021-07-01T11:43:52.924Z"
   },
   {
    "duration": 148,
    "start_time": "2021-07-01T11:44:14.626Z"
   },
   {
    "duration": 149,
    "start_time": "2021-07-01T11:44:29.396Z"
   },
   {
    "duration": 810,
    "start_time": "2021-07-01T12:15:54.977Z"
   },
   {
    "duration": 673,
    "start_time": "2021-07-01T12:16:00.419Z"
   },
   {
    "duration": 374,
    "start_time": "2021-07-01T12:16:16.569Z"
   },
   {
    "duration": 923,
    "start_time": "2021-07-01T12:16:40.223Z"
   },
   {
    "duration": 627,
    "start_time": "2021-07-01T12:16:47.535Z"
   },
   {
    "duration": 828,
    "start_time": "2021-07-01T12:17:40.226Z"
   },
   {
    "duration": 632,
    "start_time": "2021-07-01T12:18:09.316Z"
   },
   {
    "duration": 747,
    "start_time": "2021-07-01T12:18:16.148Z"
   },
   {
    "duration": 588,
    "start_time": "2021-07-01T12:18:18.719Z"
   },
   {
    "duration": 53,
    "start_time": "2021-07-01T12:19:42.454Z"
   },
   {
    "duration": 158,
    "start_time": "2021-07-01T12:23:03.534Z"
   },
   {
    "duration": 36,
    "start_time": "2021-07-01T12:23:17.045Z"
   },
   {
    "duration": 424,
    "start_time": "2021-07-01T12:23:31.379Z"
   },
   {
    "duration": 53,
    "start_time": "2021-07-01T12:23:38.048Z"
   },
   {
    "duration": 814,
    "start_time": "2021-07-01T12:24:28.461Z"
   },
   {
    "duration": 886,
    "start_time": "2021-07-01T12:25:18.778Z"
   },
   {
    "duration": 689,
    "start_time": "2021-07-01T12:25:25.287Z"
   },
   {
    "duration": 102,
    "start_time": "2021-07-01T12:50:29.685Z"
   },
   {
    "duration": 6,
    "start_time": "2021-07-01T12:54:49.610Z"
   },
   {
    "duration": 6,
    "start_time": "2021-07-01T12:55:51.153Z"
   },
   {
    "duration": 4,
    "start_time": "2021-07-01T12:56:29.673Z"
   },
   {
    "duration": 5,
    "start_time": "2021-07-01T12:56:37.634Z"
   },
   {
    "duration": 20973,
    "start_time": "2021-07-01T12:57:09.522Z"
   },
   {
    "duration": 5,
    "start_time": "2021-07-01T12:59:10.025Z"
   },
   {
    "duration": 20723,
    "start_time": "2021-07-01T12:59:13.242Z"
   },
   {
    "duration": 5,
    "start_time": "2021-07-01T13:00:07.922Z"
   },
   {
    "duration": 832,
    "start_time": "2021-07-01T13:00:10.425Z"
   },
   {
    "duration": 5,
    "start_time": "2021-07-01T13:01:45.042Z"
   },
   {
    "duration": 893,
    "start_time": "2021-07-01T13:01:47.419Z"
   },
   {
    "duration": 5,
    "start_time": "2021-07-01T13:02:27.449Z"
   },
   {
    "duration": 19761,
    "start_time": "2021-07-01T13:02:30.089Z"
   },
   {
    "duration": 4,
    "start_time": "2021-07-01T13:02:49.853Z"
   },
   {
    "duration": 4,
    "start_time": "2021-07-01T13:02:51.407Z"
   },
   {
    "duration": 15716,
    "start_time": "2021-07-01T13:02:53.488Z"
   },
   {
    "duration": 4,
    "start_time": "2021-07-01T13:03:09.207Z"
   },
   {
    "duration": 4,
    "start_time": "2021-07-01T13:03:10.556Z"
   },
   {
    "duration": 20561,
    "start_time": "2021-07-01T13:03:12.312Z"
   },
   {
    "duration": 5,
    "start_time": "2021-07-01T13:03:35.116Z"
   },
   {
    "duration": 20592,
    "start_time": "2021-07-01T13:03:37.244Z"
   },
   {
    "duration": 23,
    "start_time": "2021-07-01T13:06:26.465Z"
   },
   {
    "duration": 294,
    "start_time": "2021-07-01T13:08:11.371Z"
   },
   {
    "duration": 24,
    "start_time": "2021-07-01T13:08:22.911Z"
   },
   {
    "duration": 361,
    "start_time": "2021-07-01T13:12:48.860Z"
   },
   {
    "duration": 84,
    "start_time": "2021-07-01T13:13:22.343Z"
   },
   {
    "duration": 302,
    "start_time": "2021-07-01T13:13:40.351Z"
   },
   {
    "duration": 322,
    "start_time": "2021-07-01T13:13:59.025Z"
   },
   {
    "duration": 3,
    "start_time": "2021-07-01T13:14:21.410Z"
   },
   {
    "duration": 346,
    "start_time": "2021-07-01T13:14:31.457Z"
   },
   {
    "duration": 1480,
    "start_time": "2021-07-01T13:14:40.724Z"
   },
   {
    "duration": 1150,
    "start_time": "2021-07-01T13:14:42.207Z"
   },
   {
    "duration": 170,
    "start_time": "2021-07-01T13:14:43.360Z"
   },
   {
    "duration": 173,
    "start_time": "2021-07-01T13:14:43.533Z"
   },
   {
    "duration": 684,
    "start_time": "2021-07-01T13:14:43.708Z"
   },
   {
    "duration": 691,
    "start_time": "2021-07-01T13:14:44.394Z"
   },
   {
    "duration": 839,
    "start_time": "2021-07-01T13:14:45.087Z"
   },
   {
    "duration": 681,
    "start_time": "2021-07-01T13:14:45.930Z"
   },
   {
    "duration": 73,
    "start_time": "2021-07-01T13:14:46.614Z"
   },
   {
    "duration": 788,
    "start_time": "2021-07-01T13:14:46.689Z"
   },
   {
    "duration": 54,
    "start_time": "2021-07-01T13:14:47.480Z"
   },
   {
    "duration": 127,
    "start_time": "2021-07-01T13:14:47.536Z"
   },
   {
    "duration": 5,
    "start_time": "2021-07-01T13:14:47.666Z"
   },
   {
    "duration": 6,
    "start_time": "2021-07-01T13:14:47.686Z"
   },
   {
    "duration": 20863,
    "start_time": "2021-07-01T13:14:47.695Z"
   },
   {
    "duration": 43,
    "start_time": "2021-07-01T13:15:08.560Z"
   },
   {
    "duration": 88,
    "start_time": "2021-07-01T13:15:08.606Z"
   },
   {
    "duration": 25,
    "start_time": "2021-07-01T13:15:08.696Z"
   },
   {
    "duration": 99,
    "start_time": "2021-07-01T13:15:38.375Z"
   },
   {
    "duration": 33,
    "start_time": "2021-07-01T13:16:46.267Z"
   },
   {
    "duration": 1499,
    "start_time": "2021-07-01T13:17:03.398Z"
   },
   {
    "duration": 1232,
    "start_time": "2021-07-01T13:17:04.900Z"
   },
   {
    "duration": 178,
    "start_time": "2021-07-01T13:17:06.136Z"
   },
   {
    "duration": 170,
    "start_time": "2021-07-01T13:17:06.317Z"
   },
   {
    "duration": 667,
    "start_time": "2021-07-01T13:17:06.489Z"
   },
   {
    "duration": 802,
    "start_time": "2021-07-01T13:17:07.158Z"
   },
   {
    "duration": 815,
    "start_time": "2021-07-01T13:17:07.963Z"
   },
   {
    "duration": 690,
    "start_time": "2021-07-01T13:17:08.781Z"
   },
   {
    "duration": 64,
    "start_time": "2021-07-01T13:17:09.474Z"
   },
   {
    "duration": 831,
    "start_time": "2021-07-01T13:17:09.540Z"
   },
   {
    "duration": 56,
    "start_time": "2021-07-01T13:17:10.373Z"
   },
   {
    "duration": 114,
    "start_time": "2021-07-01T13:17:10.432Z"
   },
   {
    "duration": 5,
    "start_time": "2021-07-01T13:17:10.548Z"
   },
   {
    "duration": 17,
    "start_time": "2021-07-01T13:17:10.556Z"
   },
   {
    "duration": 20778,
    "start_time": "2021-07-01T13:17:10.586Z"
   },
   {
    "duration": 35,
    "start_time": "2021-07-01T13:17:31.367Z"
   },
   {
    "duration": 645,
    "start_time": "2021-07-01T13:17:31.404Z"
   },
   {
    "duration": 89,
    "start_time": "2021-07-01T13:17:32.051Z"
   },
   {
    "duration": 23,
    "start_time": "2021-07-01T13:17:32.143Z"
   },
   {
    "duration": 122,
    "start_time": "2021-07-01T13:17:32.169Z"
   },
   {
    "duration": 1500,
    "start_time": "2021-07-01T13:18:28.130Z"
   },
   {
    "duration": 1154,
    "start_time": "2021-07-01T13:18:29.632Z"
   },
   {
    "duration": 171,
    "start_time": "2021-07-01T13:18:30.793Z"
   },
   {
    "duration": 170,
    "start_time": "2021-07-01T13:18:30.967Z"
   },
   {
    "duration": 708,
    "start_time": "2021-07-01T13:18:31.139Z"
   },
   {
    "duration": 687,
    "start_time": "2021-07-01T13:18:31.850Z"
   },
   {
    "duration": 836,
    "start_time": "2021-07-01T13:18:32.543Z"
   },
   {
    "duration": 708,
    "start_time": "2021-07-01T13:18:33.382Z"
   },
   {
    "duration": 55,
    "start_time": "2021-07-01T13:18:34.092Z"
   },
   {
    "duration": 751,
    "start_time": "2021-07-01T13:18:34.150Z"
   },
   {
    "duration": 51,
    "start_time": "2021-07-01T13:18:34.904Z"
   },
   {
    "duration": 137,
    "start_time": "2021-07-01T13:18:34.958Z"
   },
   {
    "duration": 7,
    "start_time": "2021-07-01T13:18:35.098Z"
   },
   {
    "duration": 13,
    "start_time": "2021-07-01T13:18:35.108Z"
   },
   {
    "duration": 20813,
    "start_time": "2021-07-01T13:18:35.124Z"
   },
   {
    "duration": 26,
    "start_time": "2021-07-01T13:18:55.939Z"
   },
   {
    "duration": 43,
    "start_time": "2021-07-01T13:18:55.986Z"
   },
   {
    "duration": 100,
    "start_time": "2021-07-01T13:18:56.032Z"
   },
   {
    "duration": 234,
    "start_time": "2021-07-01T13:18:55.901Z"
   },
   {
    "duration": 235,
    "start_time": "2021-07-01T13:18:55.902Z"
   },
   {
    "duration": 30,
    "start_time": "2021-07-01T13:19:47.154Z"
   },
   {
    "duration": 77,
    "start_time": "2021-07-01T13:19:53.819Z"
   },
   {
    "duration": 25,
    "start_time": "2021-07-01T13:19:59.616Z"
   },
   {
    "duration": 94,
    "start_time": "2021-07-01T13:20:02.653Z"
   },
   {
    "duration": 491,
    "start_time": "2021-07-01T13:21:26.906Z"
   },
   {
    "duration": 327,
    "start_time": "2021-07-01T13:22:08.475Z"
   },
   {
    "duration": 6,
    "start_time": "2021-07-01T13:22:34.187Z"
   },
   {
    "duration": 1474,
    "start_time": "2021-07-01T13:22:48.006Z"
   },
   {
    "duration": 1129,
    "start_time": "2021-07-01T13:22:49.483Z"
   },
   {
    "duration": 180,
    "start_time": "2021-07-01T13:22:50.615Z"
   },
   {
    "duration": 162,
    "start_time": "2021-07-01T13:22:50.798Z"
   },
   {
    "duration": 605,
    "start_time": "2021-07-01T13:22:50.962Z"
   },
   {
    "duration": 624,
    "start_time": "2021-07-01T13:22:51.570Z"
   },
   {
    "duration": 737,
    "start_time": "2021-07-01T13:22:52.197Z"
   },
   {
    "duration": 624,
    "start_time": "2021-07-01T13:22:52.937Z"
   },
   {
    "duration": 65,
    "start_time": "2021-07-01T13:22:53.568Z"
   },
   {
    "duration": 739,
    "start_time": "2021-07-01T13:22:53.637Z"
   },
   {
    "duration": 55,
    "start_time": "2021-07-01T13:22:54.387Z"
   },
   {
    "duration": 124,
    "start_time": "2021-07-01T13:22:54.445Z"
   },
   {
    "duration": 18,
    "start_time": "2021-07-01T13:22:54.572Z"
   },
   {
    "duration": 11,
    "start_time": "2021-07-01T13:22:54.593Z"
   },
   {
    "duration": 21428,
    "start_time": "2021-07-01T13:22:54.608Z"
   },
   {
    "duration": 47,
    "start_time": "2021-07-01T13:23:16.038Z"
   },
   {
    "duration": 33,
    "start_time": "2021-07-01T13:23:16.088Z"
   },
   {
    "duration": 99,
    "start_time": "2021-07-01T13:23:16.124Z"
   },
   {
    "duration": 26,
    "start_time": "2021-07-01T13:23:16.226Z"
   },
   {
    "duration": 115,
    "start_time": "2021-07-01T13:23:16.255Z"
   },
   {
    "duration": 16,
    "start_time": "2021-07-01T13:23:16.372Z"
   },
   {
    "duration": 613,
    "start_time": "2021-07-01T13:23:16.391Z"
   },
   {
    "duration": 319,
    "start_time": "2021-07-01T13:23:38.729Z"
   },
   {
    "duration": 7,
    "start_time": "2021-07-01T13:23:53.212Z"
   },
   {
    "duration": 10439,
    "start_time": "2021-07-01T13:24:06.619Z"
   },
   {
    "duration": 338,
    "start_time": "2021-07-01T13:24:17.061Z"
   },
   {
    "duration": 1553,
    "start_time": "2021-07-01T13:24:35.248Z"
   },
   {
    "duration": 1153,
    "start_time": "2021-07-01T13:24:36.804Z"
   },
   {
    "duration": 174,
    "start_time": "2021-07-01T13:24:37.961Z"
   },
   {
    "duration": 161,
    "start_time": "2021-07-01T13:24:38.138Z"
   },
   {
    "duration": 615,
    "start_time": "2021-07-01T13:24:38.301Z"
   },
   {
    "duration": 650,
    "start_time": "2021-07-01T13:24:38.919Z"
   },
   {
    "duration": 858,
    "start_time": "2021-07-01T13:24:39.571Z"
   },
   {
    "duration": 712,
    "start_time": "2021-07-01T13:24:40.433Z"
   },
   {
    "duration": 65,
    "start_time": "2021-07-01T13:24:41.149Z"
   },
   {
    "duration": 714,
    "start_time": "2021-07-01T13:24:41.217Z"
   },
   {
    "duration": 64,
    "start_time": "2021-07-01T13:24:41.933Z"
   },
   {
    "duration": 109,
    "start_time": "2021-07-01T13:24:42.000Z"
   },
   {
    "duration": 5,
    "start_time": "2021-07-01T13:24:42.111Z"
   },
   {
    "duration": 16,
    "start_time": "2021-07-01T13:24:42.118Z"
   },
   {
    "duration": 20438,
    "start_time": "2021-07-01T13:24:42.137Z"
   },
   {
    "duration": 34,
    "start_time": "2021-07-01T13:25:02.577Z"
   },
   {
    "duration": 33,
    "start_time": "2021-07-01T13:25:02.614Z"
   },
   {
    "duration": 105,
    "start_time": "2021-07-01T13:25:02.649Z"
   },
   {
    "duration": 39,
    "start_time": "2021-07-01T13:25:02.757Z"
   },
   {
    "duration": 125,
    "start_time": "2021-07-01T13:25:02.799Z"
   },
   {
    "duration": 4,
    "start_time": "2021-07-01T13:25:02.926Z"
   },
   {
    "duration": 10666,
    "start_time": "2021-07-01T13:25:02.932Z"
   },
   {
    "duration": 1553,
    "start_time": "2021-07-01T13:30:45.367Z"
   },
   {
    "duration": 1143,
    "start_time": "2021-07-01T13:30:46.923Z"
   },
   {
    "duration": 168,
    "start_time": "2021-07-01T13:30:48.085Z"
   },
   {
    "duration": 174,
    "start_time": "2021-07-01T13:30:48.257Z"
   },
   {
    "duration": 670,
    "start_time": "2021-07-01T13:30:48.434Z"
   },
   {
    "duration": 643,
    "start_time": "2021-07-01T13:30:49.106Z"
   },
   {
    "duration": 807,
    "start_time": "2021-07-01T13:30:49.751Z"
   },
   {
    "duration": 667,
    "start_time": "2021-07-01T13:30:50.562Z"
   },
   {
    "duration": 72,
    "start_time": "2021-07-01T13:30:51.232Z"
   },
   {
    "duration": 734,
    "start_time": "2021-07-01T13:30:51.306Z"
   },
   {
    "duration": 104,
    "start_time": "2021-07-01T13:30:52.042Z"
   },
   {
    "duration": 100,
    "start_time": "2021-07-01T13:30:52.148Z"
   },
   {
    "duration": 5,
    "start_time": "2021-07-01T13:30:52.250Z"
   },
   {
    "duration": 30,
    "start_time": "2021-07-01T13:30:52.257Z"
   },
   {
    "duration": 21721,
    "start_time": "2021-07-01T13:30:52.289Z"
   },
   {
    "duration": 25,
    "start_time": "2021-07-01T13:31:14.012Z"
   },
   {
    "duration": 68,
    "start_time": "2021-07-01T13:31:14.040Z"
   },
   {
    "duration": 105,
    "start_time": "2021-07-01T13:31:14.110Z"
   },
   {
    "duration": 1687,
    "start_time": "2021-07-01T13:31:14.218Z"
   },
   {
    "duration": 212,
    "start_time": "2021-07-01T13:31:15.695Z"
   },
   {
    "duration": 211,
    "start_time": "2021-07-01T13:31:15.698Z"
   },
   {
    "duration": 210,
    "start_time": "2021-07-01T13:31:15.700Z"
   },
   {
    "duration": 210,
    "start_time": "2021-07-01T13:31:15.701Z"
   },
   {
    "duration": 339,
    "start_time": "2021-07-01T13:32:39.903Z"
   },
   {
    "duration": 114,
    "start_time": "2021-07-01T13:33:09.613Z"
   },
   {
    "duration": 315,
    "start_time": "2021-07-01T13:33:18.287Z"
   },
   {
    "duration": 316,
    "start_time": "2021-07-01T13:33:35.543Z"
   },
   {
    "duration": 433,
    "start_time": "2021-07-01T13:34:50.566Z"
   },
   {
    "duration": 951,
    "start_time": "2021-07-01T13:35:14.839Z"
   },
   {
    "duration": 81,
    "start_time": "2021-07-01T13:36:12.799Z"
   },
   {
    "duration": 90,
    "start_time": "2021-07-01T13:36:15.676Z"
   },
   {
    "duration": 4,
    "start_time": "2021-07-01T13:37:06.705Z"
   },
   {
    "duration": 10,
    "start_time": "2021-07-01T13:37:26.596Z"
   },
   {
    "duration": 4,
    "start_time": "2021-07-01T13:37:41.186Z"
   },
   {
    "duration": 4370,
    "start_time": "2021-07-01T13:37:43.060Z"
   },
   {
    "duration": 8,
    "start_time": "2021-07-01T13:38:05.143Z"
   },
   {
    "duration": 4415,
    "start_time": "2021-07-01T13:38:08.579Z"
   },
   {
    "duration": 307,
    "start_time": "2021-07-01T13:40:32.079Z"
   },
   {
    "duration": 8,
    "start_time": "2021-07-01T13:40:39.206Z"
   },
   {
    "duration": 1518,
    "start_time": "2021-07-01T13:40:54.483Z"
   },
   {
    "duration": 1186,
    "start_time": "2021-07-01T13:40:56.004Z"
   },
   {
    "duration": 170,
    "start_time": "2021-07-01T13:40:57.193Z"
   },
   {
    "duration": 176,
    "start_time": "2021-07-01T13:40:57.366Z"
   },
   {
    "duration": 667,
    "start_time": "2021-07-01T13:40:57.545Z"
   },
   {
    "duration": 640,
    "start_time": "2021-07-01T13:40:58.215Z"
   },
   {
    "duration": 799,
    "start_time": "2021-07-01T13:40:58.858Z"
   },
   {
    "duration": 683,
    "start_time": "2021-07-01T13:40:59.661Z"
   },
   {
    "duration": 66,
    "start_time": "2021-07-01T13:41:00.347Z"
   },
   {
    "duration": 723,
    "start_time": "2021-07-01T13:41:00.416Z"
   },
   {
    "duration": 109,
    "start_time": "2021-07-01T13:41:01.142Z"
   },
   {
    "duration": 110,
    "start_time": "2021-07-01T13:41:01.254Z"
   },
   {
    "duration": 20,
    "start_time": "2021-07-01T13:41:01.367Z"
   },
   {
    "duration": 21,
    "start_time": "2021-07-01T13:41:01.390Z"
   },
   {
    "duration": 20627,
    "start_time": "2021-07-01T13:41:01.413Z"
   },
   {
    "duration": 45,
    "start_time": "2021-07-01T13:41:22.043Z"
   },
   {
    "duration": 32,
    "start_time": "2021-07-01T13:41:22.091Z"
   },
   {
    "duration": 113,
    "start_time": "2021-07-01T13:41:22.126Z"
   },
   {
    "duration": 7,
    "start_time": "2021-07-01T13:41:22.242Z"
   },
   {
    "duration": 99,
    "start_time": "2021-07-01T13:41:22.252Z"
   },
   {
    "duration": 99,
    "start_time": "2021-07-01T13:41:22.353Z"
   },
   {
    "duration": 3,
    "start_time": "2021-07-01T13:41:22.455Z"
   },
   {
    "duration": 4384,
    "start_time": "2021-07-01T13:41:22.461Z"
   },
   {
    "duration": 5,
    "start_time": "2021-07-01T14:01:14.186Z"
   },
   {
    "duration": 8143,
    "start_time": "2021-07-01T14:05:26.208Z"
   },
   {
    "duration": 1660,
    "start_time": "2021-07-01T14:07:23.235Z"
   },
   {
    "duration": 1175,
    "start_time": "2021-07-01T14:07:24.898Z"
   },
   {
    "duration": 174,
    "start_time": "2021-07-01T14:07:26.087Z"
   },
   {
    "duration": 285,
    "start_time": "2021-07-01T14:07:26.264Z"
   },
   {
    "duration": 948,
    "start_time": "2021-07-01T14:07:26.552Z"
   },
   {
    "duration": 989,
    "start_time": "2021-07-01T14:07:27.503Z"
   },
   {
    "duration": 1129,
    "start_time": "2021-07-01T14:07:28.495Z"
   },
   {
    "duration": 999,
    "start_time": "2021-07-01T14:07:29.630Z"
   },
   {
    "duration": 79,
    "start_time": "2021-07-01T14:07:30.634Z"
   },
   {
    "duration": 1214,
    "start_time": "2021-07-01T14:07:30.716Z"
   },
   {
    "duration": 136,
    "start_time": "2021-07-01T14:07:31.934Z"
   },
   {
    "duration": 187,
    "start_time": "2021-07-01T14:07:32.073Z"
   },
   {
    "duration": 9,
    "start_time": "2021-07-01T14:07:32.262Z"
   },
   {
    "duration": 28,
    "start_time": "2021-07-01T14:07:32.287Z"
   },
   {
    "duration": 21974,
    "start_time": "2021-07-01T14:07:32.318Z"
   },
   {
    "duration": 26,
    "start_time": "2021-07-01T14:07:54.295Z"
   },
   {
    "duration": 31,
    "start_time": "2021-07-01T14:07:54.323Z"
   },
   {
    "duration": 108,
    "start_time": "2021-07-01T14:07:54.386Z"
   },
   {
    "duration": 8,
    "start_time": "2021-07-01T14:07:54.496Z"
   },
   {
    "duration": 98,
    "start_time": "2021-07-01T14:07:54.506Z"
   },
   {
    "duration": 97,
    "start_time": "2021-07-01T14:07:54.607Z"
   },
   {
    "duration": 10,
    "start_time": "2021-07-01T14:07:54.706Z"
   },
   {
    "duration": 4696,
    "start_time": "2021-07-01T14:07:54.718Z"
   },
   {
    "duration": 5,
    "start_time": "2021-07-01T14:07:59.416Z"
   },
   {
    "duration": 10317,
    "start_time": "2021-07-01T14:07:59.424Z"
   },
   {
    "duration": 7,
    "start_time": "2021-07-01T14:08:35.168Z"
   },
   {
    "duration": 16,
    "start_time": "2021-07-01T14:08:49.540Z"
   },
   {
    "duration": 5,
    "start_time": "2021-07-01T14:09:43.897Z"
   },
   {
    "duration": 916,
    "start_time": "2021-07-01T14:10:18.190Z"
   },
   {
    "duration": 5,
    "start_time": "2021-07-01T14:10:39.896Z"
   },
   {
    "duration": 1662,
    "start_time": "2021-07-01T14:10:42.974Z"
   },
   {
    "duration": 5,
    "start_time": "2021-07-01T14:11:13.699Z"
   },
   {
    "duration": 1490,
    "start_time": "2021-07-01T14:11:16.376Z"
   },
   {
    "duration": 6,
    "start_time": "2021-07-01T14:12:16.367Z"
   },
   {
    "duration": 1569,
    "start_time": "2021-07-01T14:12:18.565Z"
   },
   {
    "duration": 6,
    "start_time": "2021-07-01T14:12:46.700Z"
   },
   {
    "duration": 6,
    "start_time": "2021-07-01T14:12:51.322Z"
   },
   {
    "duration": 15964,
    "start_time": "2021-07-01T14:12:53.744Z"
   },
   {
    "duration": 1633,
    "start_time": "2021-07-01T14:14:03.776Z"
   },
   {
    "duration": 1186,
    "start_time": "2021-07-01T14:14:05.413Z"
   },
   {
    "duration": 183,
    "start_time": "2021-07-01T14:14:06.603Z"
   },
   {
    "duration": 168,
    "start_time": "2021-07-01T14:14:06.790Z"
   },
   {
    "duration": 724,
    "start_time": "2021-07-01T14:14:06.961Z"
   },
   {
    "duration": 756,
    "start_time": "2021-07-01T14:14:07.688Z"
   },
   {
    "duration": 885,
    "start_time": "2021-07-01T14:14:08.447Z"
   },
   {
    "duration": 698,
    "start_time": "2021-07-01T14:14:09.337Z"
   },
   {
    "duration": 73,
    "start_time": "2021-07-01T14:14:10.038Z"
   },
   {
    "duration": 774,
    "start_time": "2021-07-01T14:14:10.114Z"
   },
   {
    "duration": 99,
    "start_time": "2021-07-01T14:14:10.891Z"
   },
   {
    "duration": 106,
    "start_time": "2021-07-01T14:14:10.992Z"
   },
   {
    "duration": 6,
    "start_time": "2021-07-01T14:14:11.101Z"
   },
   {
    "duration": 11,
    "start_time": "2021-07-01T14:14:11.109Z"
   },
   {
    "duration": 20957,
    "start_time": "2021-07-01T14:14:11.122Z"
   },
   {
    "duration": 26,
    "start_time": "2021-07-01T14:14:32.086Z"
   },
   {
    "duration": 33,
    "start_time": "2021-07-01T14:14:32.115Z"
   },
   {
    "duration": 135,
    "start_time": "2021-07-01T14:14:32.150Z"
   },
   {
    "duration": 8,
    "start_time": "2021-07-01T14:14:32.288Z"
   },
   {
    "duration": 105,
    "start_time": "2021-07-01T14:14:32.299Z"
   },
   {
    "duration": 99,
    "start_time": "2021-07-01T14:14:32.407Z"
   },
   {
    "duration": 8,
    "start_time": "2021-07-01T14:14:32.509Z"
   },
   {
    "duration": 4706,
    "start_time": "2021-07-01T14:14:32.522Z"
   },
   {
    "duration": 7,
    "start_time": "2021-07-01T14:14:37.231Z"
   },
   {
    "duration": 21,
    "start_time": "2021-07-01T14:14:37.241Z"
   },
   {
    "duration": 1477,
    "start_time": "2021-07-01T14:14:37.285Z"
   },
   {
    "duration": 559,
    "start_time": "2021-07-01T14:20:33.322Z"
   },
   {
    "duration": 177,
    "start_time": "2021-07-01T14:20:38.952Z"
   },
   {
    "duration": 154,
    "start_time": "2021-07-01T14:20:57.031Z"
   },
   {
    "duration": 1446,
    "start_time": "2021-07-01T14:21:10.783Z"
   },
   {
    "duration": 150,
    "start_time": "2021-07-01T14:22:01.172Z"
   },
   {
    "duration": 1523,
    "start_time": "2021-07-01T14:22:04.051Z"
   },
   {
    "duration": 382,
    "start_time": "2021-07-01T14:31:30.082Z"
   },
   {
    "duration": 541,
    "start_time": "2021-07-01T14:33:34.181Z"
   },
   {
    "duration": 5,
    "start_time": "2021-07-01T14:34:06.238Z"
   },
   {
    "duration": 6,
    "start_time": "2021-07-01T14:39:49.791Z"
   },
   {
    "duration": 7,
    "start_time": "2021-07-01T14:40:00.384Z"
   },
   {
    "duration": 334,
    "start_time": "2021-07-01T14:42:31.825Z"
   },
   {
    "duration": 74,
    "start_time": "2021-07-01T14:43:29.871Z"
   },
   {
    "duration": 1533,
    "start_time": "2021-07-01T14:58:13.029Z"
   },
   {
    "duration": 1148,
    "start_time": "2021-07-01T14:58:14.565Z"
   },
   {
    "duration": 169,
    "start_time": "2021-07-01T14:58:15.716Z"
   },
   {
    "duration": 158,
    "start_time": "2021-07-01T14:58:15.888Z"
   },
   {
    "duration": 615,
    "start_time": "2021-07-01T14:58:16.048Z"
   },
   {
    "duration": 645,
    "start_time": "2021-07-01T14:58:16.665Z"
   },
   {
    "duration": 766,
    "start_time": "2021-07-01T14:58:17.312Z"
   },
   {
    "duration": 638,
    "start_time": "2021-07-01T14:58:18.081Z"
   },
   {
    "duration": 67,
    "start_time": "2021-07-01T14:58:18.723Z"
   },
   {
    "duration": 728,
    "start_time": "2021-07-01T14:58:18.792Z"
   },
   {
    "duration": 104,
    "start_time": "2021-07-01T14:58:19.522Z"
   },
   {
    "duration": 104,
    "start_time": "2021-07-01T14:58:19.629Z"
   },
   {
    "duration": 6,
    "start_time": "2021-07-01T14:58:19.735Z"
   },
   {
    "duration": 11,
    "start_time": "2021-07-01T14:58:19.743Z"
   },
   {
    "duration": 20931,
    "start_time": "2021-07-01T14:58:19.756Z"
   },
   {
    "duration": 30,
    "start_time": "2021-07-01T14:58:40.689Z"
   },
   {
    "duration": 116,
    "start_time": "2021-07-01T14:58:40.722Z"
   },
   {
    "duration": 7,
    "start_time": "2021-07-01T14:58:40.840Z"
   },
   {
    "duration": 77,
    "start_time": "2021-07-01T14:58:40.849Z"
   },
   {
    "duration": 92,
    "start_time": "2021-07-01T14:58:40.928Z"
   },
   {
    "duration": 11,
    "start_time": "2021-07-01T14:58:41.023Z"
   },
   {
    "duration": 4615,
    "start_time": "2021-07-01T14:58:41.036Z"
   },
   {
    "duration": 5,
    "start_time": "2021-07-01T14:58:45.656Z"
   },
   {
    "duration": 31,
    "start_time": "2021-07-01T14:58:45.664Z"
   },
   {
    "duration": 1449,
    "start_time": "2021-07-01T14:58:45.698Z"
   },
   {
    "duration": 196,
    "start_time": "2021-07-01T14:58:47.150Z"
   },
   {
    "duration": 1397,
    "start_time": "2021-07-01T14:58:47.349Z"
   },
   {
    "duration": 650,
    "start_time": "2021-07-01T14:58:48.748Z"
   },
   {
    "duration": 922,
    "start_time": "2021-07-01T14:58:49.401Z"
   },
   {
    "duration": 6,
    "start_time": "2021-07-01T14:58:50.325Z"
   },
   {
    "duration": 17,
    "start_time": "2021-07-01T14:58:50.334Z"
   },
   {
    "duration": 118,
    "start_time": "2021-07-01T14:58:50.354Z"
   },
   {
    "duration": 10,
    "start_time": "2021-07-01T14:58:50.475Z"
   },
   {
    "duration": 4,
    "start_time": "2021-07-01T14:58:50.487Z"
   },
   {
    "duration": 8,
    "start_time": "2021-07-01T14:58:50.494Z"
   },
   {
    "duration": 4,
    "start_time": "2021-07-01T14:59:26.933Z"
   },
   {
    "duration": 18740,
    "start_time": "2021-07-01T14:59:30.152Z"
   },
   {
    "duration": 127,
    "start_time": "2021-07-01T15:00:24.361Z"
   },
   {
    "duration": 469,
    "start_time": "2021-07-01T15:01:11.654Z"
   },
   {
    "duration": 3,
    "start_time": "2021-07-01T15:01:45.868Z"
   },
   {
    "duration": 4,
    "start_time": "2021-07-01T15:01:48.045Z"
   },
   {
    "duration": 7,
    "start_time": "2021-07-01T15:01:50.793Z"
   },
   {
    "duration": 4,
    "start_time": "2021-07-01T15:03:18.492Z"
   },
   {
    "duration": 333,
    "start_time": "2021-07-01T15:06:15.185Z"
   },
   {
    "duration": 7,
    "start_time": "2021-07-01T15:06:21.321Z"
   },
   {
    "duration": 4,
    "start_time": "2021-07-01T15:14:48.630Z"
   },
   {
    "duration": 313,
    "start_time": "2021-07-01T15:15:58.237Z"
   },
   {
    "duration": 327,
    "start_time": "2021-07-01T15:16:04.235Z"
   },
   {
    "duration": 4,
    "start_time": "2021-07-01T15:16:19.386Z"
   },
   {
    "duration": 632415,
    "start_time": "2021-07-01T15:16:42.084Z"
   },
   {
    "duration": 4,
    "start_time": "2021-07-01T15:27:14.502Z"
   },
   {
    "duration": 8,
    "start_time": "2021-07-01T15:27:14.510Z"
   },
   {
    "duration": 222,
    "start_time": "2021-07-01T15:27:14.521Z"
   },
   {
    "duration": 302,
    "start_time": "2021-07-01T15:27:14.745Z"
   },
   {
    "duration": 250,
    "start_time": "2021-07-01T15:27:14.800Z"
   },
   {
    "duration": 243,
    "start_time": "2021-07-01T15:27:14.808Z"
   },
   {
    "duration": 244,
    "start_time": "2021-07-01T15:27:14.810Z"
   },
   {
    "duration": 243,
    "start_time": "2021-07-01T15:27:14.812Z"
   },
   {
    "duration": 244,
    "start_time": "2021-07-01T15:27:14.813Z"
   },
   {
    "duration": 243,
    "start_time": "2021-07-01T15:27:14.815Z"
   },
   {
    "duration": 242,
    "start_time": "2021-07-01T15:27:14.821Z"
   },
   {
    "duration": 242,
    "start_time": "2021-07-01T15:27:14.823Z"
   },
   {
    "duration": 239,
    "start_time": "2021-07-01T15:27:14.827Z"
   },
   {
    "duration": 240,
    "start_time": "2021-07-01T15:27:14.828Z"
   },
   {
    "duration": 7,
    "start_time": "2021-07-01T15:28:18.501Z"
   },
   {
    "duration": 254,
    "start_time": "2021-07-01T15:28:22.200Z"
   },
   {
    "duration": 29429,
    "start_time": "2021-07-01T15:28:27.208Z"
   },
   {
    "duration": 135,
    "start_time": "2021-07-01T15:29:04.455Z"
   },
   {
    "duration": 7,
    "start_time": "2021-07-01T15:29:07.999Z"
   },
   {
    "duration": 8,
    "start_time": "2021-07-01T15:29:21.253Z"
   },
   {
    "duration": 8,
    "start_time": "2021-07-01T15:29:21.265Z"
   },
   {
    "duration": 14,
    "start_time": "2021-07-01T15:29:21.277Z"
   },
   {
    "duration": 11,
    "start_time": "2021-07-01T15:29:21.294Z"
   },
   {
    "duration": 7,
    "start_time": "2021-07-01T15:29:21.308Z"
   },
   {
    "duration": 224,
    "start_time": "2021-07-01T15:29:21.318Z"
   },
   {
    "duration": 317,
    "start_time": "2021-07-01T15:29:21.545Z"
   },
   {
    "duration": 254,
    "start_time": "2021-07-01T15:29:21.611Z"
   },
   {
    "duration": 251,
    "start_time": "2021-07-01T15:29:21.615Z"
   },
   {
    "duration": 246,
    "start_time": "2021-07-01T15:29:21.622Z"
   },
   {
    "duration": 246,
    "start_time": "2021-07-01T15:29:21.623Z"
   },
   {
    "duration": 16710301,
    "start_time": "2021-07-01T15:29:51.623Z"
   },
   {
    "duration": 4,
    "start_time": "2021-07-01T20:08:21.927Z"
   },
   {
    "duration": 6,
    "start_time": "2021-07-01T20:08:21.934Z"
   },
   {
    "duration": 571622,
    "start_time": "2021-07-01T20:08:21.943Z"
   },
   {
    "duration": 1312,
    "start_time": "2021-07-01T20:17:53.567Z"
   },
   {
    "duration": 8,
    "start_time": "2021-07-01T20:17:54.882Z"
   },
   {
    "duration": 1529,
    "start_time": "2021-07-01T20:56:14.428Z"
   },
   {
    "duration": 1143,
    "start_time": "2021-07-01T20:56:15.959Z"
   },
   {
    "duration": 179,
    "start_time": "2021-07-01T20:56:17.106Z"
   },
   {
    "duration": 160,
    "start_time": "2021-07-01T20:56:17.289Z"
   },
   {
    "duration": 666,
    "start_time": "2021-07-01T20:56:17.452Z"
   },
   {
    "duration": 642,
    "start_time": "2021-07-01T20:56:18.120Z"
   },
   {
    "duration": 879,
    "start_time": "2021-07-01T20:56:18.765Z"
   },
   {
    "duration": 671,
    "start_time": "2021-07-01T20:56:19.648Z"
   },
   {
    "duration": 65,
    "start_time": "2021-07-01T20:56:20.322Z"
   },
   {
    "duration": 714,
    "start_time": "2021-07-01T20:56:20.390Z"
   },
   {
    "duration": 80,
    "start_time": "2021-07-01T20:56:21.107Z"
   },
   {
    "duration": 105,
    "start_time": "2021-07-01T20:56:21.190Z"
   },
   {
    "duration": 6,
    "start_time": "2021-07-01T20:56:21.298Z"
   },
   {
    "duration": 13,
    "start_time": "2021-07-01T20:56:21.307Z"
   },
   {
    "duration": 21140,
    "start_time": "2021-07-01T20:56:21.323Z"
   },
   {
    "duration": 47,
    "start_time": "2021-07-01T20:56:42.466Z"
   },
   {
    "duration": 111,
    "start_time": "2021-07-01T20:56:42.515Z"
   },
   {
    "duration": 7,
    "start_time": "2021-07-01T20:56:42.629Z"
   },
   {
    "duration": 85,
    "start_time": "2021-07-01T20:56:42.639Z"
   },
   {
    "duration": 94,
    "start_time": "2021-07-01T20:56:42.727Z"
   },
   {
    "duration": 4,
    "start_time": "2021-07-01T20:56:42.824Z"
   },
   {
    "duration": 4779,
    "start_time": "2021-07-01T20:56:42.830Z"
   },
   {
    "duration": 6,
    "start_time": "2021-07-01T20:56:47.614Z"
   },
   {
    "duration": 19,
    "start_time": "2021-07-01T20:56:47.624Z"
   },
   {
    "duration": 1520,
    "start_time": "2021-07-01T20:56:47.645Z"
   },
   {
    "duration": 202,
    "start_time": "2021-07-01T20:56:49.168Z"
   },
   {
    "duration": 1426,
    "start_time": "2021-07-01T20:56:49.372Z"
   },
   {
    "duration": 552,
    "start_time": "2021-07-01T20:56:50.801Z"
   },
   {
    "duration": 897,
    "start_time": "2021-07-01T20:56:51.355Z"
   },
   {
    "duration": 5,
    "start_time": "2021-07-01T20:56:52.254Z"
   },
   {
    "duration": 26,
    "start_time": "2021-07-01T20:56:52.261Z"
   },
   {
    "duration": 119,
    "start_time": "2021-07-01T20:56:52.289Z"
   },
   {
    "duration": 4,
    "start_time": "2021-07-01T20:56:52.410Z"
   },
   {
    "duration": 15,
    "start_time": "2021-07-01T20:56:52.417Z"
   },
   {
    "duration": 22,
    "start_time": "2021-07-01T20:56:52.434Z"
   },
   {
    "duration": 11,
    "start_time": "2021-07-01T20:56:52.459Z"
   },
   {
    "duration": 19021,
    "start_time": "2021-07-01T20:56:52.473Z"
   },
   {
    "duration": 190,
    "start_time": "2021-07-01T20:57:11.497Z"
   },
   {
    "duration": 96,
    "start_time": "2021-07-01T20:57:11.691Z"
   },
   {
    "duration": 18,
    "start_time": "2021-07-01T20:57:11.790Z"
   },
   {
    "duration": 18,
    "start_time": "2021-07-01T20:57:11.811Z"
   },
   {
    "duration": 20,
    "start_time": "2021-07-01T20:57:11.832Z"
   },
   {
    "duration": 21,
    "start_time": "2021-07-01T20:57:11.854Z"
   },
   {
    "duration": 620724,
    "start_time": "2021-07-01T20:57:11.877Z"
   },
   {
    "duration": 5,
    "start_time": "2021-07-01T21:07:32.604Z"
   },
   {
    "duration": 13,
    "start_time": "2021-07-01T21:07:32.611Z"
   },
   {
    "duration": 29433,
    "start_time": "2021-07-01T21:07:32.626Z"
   },
   {
    "duration": 225,
    "start_time": "2021-07-01T21:08:02.061Z"
   },
   {
    "duration": 7,
    "start_time": "2021-07-01T21:08:02.290Z"
   },
   {
    "duration": 85,
    "start_time": "2021-07-01T21:08:02.301Z"
   },
   {
    "duration": 40,
    "start_time": "2021-07-01T21:08:02.388Z"
   },
   {
    "duration": 24,
    "start_time": "2021-07-01T21:08:02.430Z"
   },
   {
    "duration": 25,
    "start_time": "2021-07-01T21:08:02.457Z"
   },
   {
    "duration": 30,
    "start_time": "2021-07-01T21:08:02.484Z"
   },
   {
    "duration": 32,
    "start_time": "2021-07-01T21:08:02.517Z"
   },
   {
    "duration": 35,
    "start_time": "2021-07-01T21:08:02.552Z"
   },
   {
    "duration": 558211,
    "start_time": "2021-07-01T21:08:02.590Z"
   },
   {
    "duration": 1327,
    "start_time": "2021-07-01T21:17:20.803Z"
   },
   {
    "duration": 6,
    "start_time": "2021-07-01T21:17:22.132Z"
   },
   {
    "duration": 429,
    "start_time": "2021-07-01T21:19:30.908Z"
   },
   {
    "duration": 3,
    "start_time": "2021-07-01T21:20:08.792Z"
   },
   {
    "duration": 6,
    "start_time": "2021-07-01T21:20:20.907Z"
   },
   {
    "duration": 4,
    "start_time": "2021-07-01T21:20:43.353Z"
   },
   {
    "duration": 4,
    "start_time": "2021-07-01T21:26:21.510Z"
   },
   {
    "duration": 4,
    "start_time": "2021-07-01T21:26:59.122Z"
   },
   {
    "duration": 4,
    "start_time": "2021-07-01T21:27:26.152Z"
   },
   {
    "duration": 742,
    "start_time": "2021-07-01T21:28:10.651Z"
   },
   {
    "duration": 4,
    "start_time": "2021-07-01T21:28:56.138Z"
   },
   {
    "duration": 4,
    "start_time": "2021-07-01T21:28:58.979Z"
   },
   {
    "duration": 768,
    "start_time": "2021-07-01T21:29:01.556Z"
   },
   {
    "duration": 4,
    "start_time": "2021-07-01T21:29:26.871Z"
   },
   {
    "duration": 1077,
    "start_time": "2021-07-01T21:29:32.714Z"
   },
   {
    "duration": 4,
    "start_time": "2021-07-01T21:29:53.873Z"
   },
   {
    "duration": 4,
    "start_time": "2021-07-01T21:29:57.915Z"
   },
   {
    "duration": 80040,
    "start_time": "2021-07-01T21:30:00.458Z"
   },
   {
    "duration": 4,
    "start_time": "2021-07-01T21:32:30.981Z"
   },
   {
    "duration": 4,
    "start_time": "2021-07-01T21:32:33.627Z"
   },
   {
    "duration": 4,
    "start_time": "2021-07-01T21:33:39.202Z"
   },
   {
    "duration": 1556032,
    "start_time": "2021-07-01T21:33:41.986Z"
   },
   {
    "duration": 4,
    "start_time": "2021-07-01T22:01:57.373Z"
   },
   {
    "duration": 18752,
    "start_time": "2021-07-01T22:04:50.425Z"
   },
   {
    "duration": 4,
    "start_time": "2021-07-01T22:06:12.170Z"
   },
   {
    "duration": 110766,
    "start_time": "2021-07-01T22:06:15.538Z"
   },
   {
    "duration": 92,
    "start_time": "2021-07-01T22:10:34.709Z"
   },
   {
    "duration": 6,
    "start_time": "2021-07-01T22:10:59.488Z"
   },
   {
    "duration": 3,
    "start_time": "2021-07-01T22:13:09.674Z"
   },
   {
    "duration": 6,
    "start_time": "2021-07-01T22:13:21.550Z"
   },
   {
    "duration": 4,
    "start_time": "2021-07-01T22:14:40.795Z"
   },
   {
    "duration": 4,
    "start_time": "2021-07-01T22:16:52.730Z"
   },
   {
    "duration": 6,
    "start_time": "2021-07-01T22:16:56.185Z"
   },
   {
    "duration": 3,
    "start_time": "2021-07-01T22:17:02.135Z"
   },
   {
    "duration": 307,
    "start_time": "2021-07-01T22:30:01.327Z"
   },
   {
    "duration": 1688,
    "start_time": "2021-07-01T22:30:17.101Z"
   },
   {
    "duration": 5313,
    "start_time": "2021-07-01T22:30:18.791Z"
   },
   {
    "duration": 166,
    "start_time": "2021-07-01T22:30:24.107Z"
   },
   {
    "duration": 162,
    "start_time": "2021-07-01T22:30:24.275Z"
   },
   {
    "duration": 648,
    "start_time": "2021-07-01T22:30:24.439Z"
   },
   {
    "duration": 735,
    "start_time": "2021-07-01T22:30:25.089Z"
   },
   {
    "duration": 828,
    "start_time": "2021-07-01T22:30:25.827Z"
   },
   {
    "duration": 793,
    "start_time": "2021-07-01T22:30:26.659Z"
   },
   {
    "duration": 72,
    "start_time": "2021-07-01T22:30:27.457Z"
   },
   {
    "duration": 709,
    "start_time": "2021-07-01T22:30:27.531Z"
   },
   {
    "duration": 107,
    "start_time": "2021-07-01T22:30:28.242Z"
   },
   {
    "duration": 109,
    "start_time": "2021-07-01T22:30:28.352Z"
   },
   {
    "duration": 22,
    "start_time": "2021-07-01T22:30:28.464Z"
   },
   {
    "duration": 15,
    "start_time": "2021-07-01T22:30:28.489Z"
   },
   {
    "duration": 21445,
    "start_time": "2021-07-01T22:30:28.507Z"
   },
   {
    "duration": 51,
    "start_time": "2021-07-01T22:30:49.955Z"
   },
   {
    "duration": 107,
    "start_time": "2021-07-01T22:30:50.009Z"
   },
   {
    "duration": 7,
    "start_time": "2021-07-01T22:30:50.119Z"
   },
   {
    "duration": 83,
    "start_time": "2021-07-01T22:30:50.129Z"
   },
   {
    "duration": 99,
    "start_time": "2021-07-01T22:30:50.214Z"
   },
   {
    "duration": 4,
    "start_time": "2021-07-01T22:30:50.315Z"
   },
   {
    "duration": 4729,
    "start_time": "2021-07-01T22:30:50.322Z"
   },
   {
    "duration": 6,
    "start_time": "2021-07-01T22:30:55.059Z"
   },
   {
    "duration": 23,
    "start_time": "2021-07-01T22:30:55.088Z"
   },
   {
    "duration": 1473,
    "start_time": "2021-07-01T22:30:55.114Z"
   },
   {
    "duration": 198,
    "start_time": "2021-07-01T22:30:56.589Z"
   },
   {
    "duration": 1553,
    "start_time": "2021-07-01T22:30:56.789Z"
   },
   {
    "duration": 620,
    "start_time": "2021-07-01T22:30:58.344Z"
   },
   {
    "duration": 895,
    "start_time": "2021-07-01T22:30:58.967Z"
   },
   {
    "duration": 5,
    "start_time": "2021-07-01T22:30:59.864Z"
   },
   {
    "duration": 18,
    "start_time": "2021-07-01T22:30:59.871Z"
   },
   {
    "duration": 129,
    "start_time": "2021-07-01T22:30:59.891Z"
   },
   {
    "duration": 4,
    "start_time": "2021-07-01T22:31:00.022Z"
   },
   {
    "duration": 14,
    "start_time": "2021-07-01T22:31:00.028Z"
   },
   {
    "duration": 11,
    "start_time": "2021-07-01T22:31:00.045Z"
   },
   {
    "duration": 14,
    "start_time": "2021-07-01T22:31:00.059Z"
   },
   {
    "duration": 18818,
    "start_time": "2021-07-01T22:31:00.076Z"
   },
   {
    "duration": 197,
    "start_time": "2021-07-01T22:31:18.897Z"
   },
   {
    "duration": 8,
    "start_time": "2021-07-01T22:31:19.186Z"
   },
   {
    "duration": 7,
    "start_time": "2021-07-01T22:31:19.196Z"
   },
   {
    "duration": 7,
    "start_time": "2021-07-01T22:31:19.286Z"
   },
   {
    "duration": 11,
    "start_time": "2021-07-01T22:31:19.296Z"
   },
   {
    "duration": 12,
    "start_time": "2021-07-01T22:31:19.310Z"
   },
   {
    "duration": 630190,
    "start_time": "2021-07-01T22:31:19.325Z"
   },
   {
    "duration": 4,
    "start_time": "2021-07-01T22:41:49.518Z"
   },
   {
    "duration": 10,
    "start_time": "2021-07-01T22:41:49.525Z"
   },
   {
    "duration": 28962,
    "start_time": "2021-07-01T22:41:49.537Z"
   },
   {
    "duration": 95,
    "start_time": "2021-07-01T22:42:18.502Z"
   },
   {
    "duration": 101,
    "start_time": "2021-07-01T22:42:18.686Z"
   },
   {
    "duration": 12,
    "start_time": "2021-07-01T22:42:18.789Z"
   },
   {
    "duration": 19,
    "start_time": "2021-07-01T22:42:18.804Z"
   },
   {
    "duration": 17,
    "start_time": "2021-07-01T22:42:18.825Z"
   },
   {
    "duration": 12,
    "start_time": "2021-07-01T22:42:18.844Z"
   },
   {
    "duration": 15,
    "start_time": "2021-07-01T22:42:18.858Z"
   },
   {
    "duration": 20,
    "start_time": "2021-07-01T22:42:18.875Z"
   },
   {
    "duration": 19,
    "start_time": "2021-07-01T22:42:18.897Z"
   },
   {
    "duration": 564999,
    "start_time": "2021-07-01T22:42:18.919Z"
   },
   {
    "duration": 1354,
    "start_time": "2021-07-01T22:51:43.920Z"
   },
   {
    "duration": 9,
    "start_time": "2021-07-01T22:51:45.276Z"
   },
   {
    "duration": 5,
    "start_time": "2021-07-01T22:51:45.288Z"
   },
   {
    "duration": 11,
    "start_time": "2021-07-01T22:51:45.295Z"
   },
   {
    "duration": 13,
    "start_time": "2021-07-01T22:51:45.308Z"
   },
   {
    "duration": 14,
    "start_time": "2021-07-01T22:51:45.323Z"
   },
   {
    "duration": 10,
    "start_time": "2021-07-01T22:51:45.339Z"
   },
   {
    "duration": 22,
    "start_time": "2021-07-01T22:51:45.351Z"
   },
   {
    "duration": 113550,
    "start_time": "2021-07-01T22:51:45.375Z"
   },
   {
    "duration": 266,
    "start_time": "2021-07-01T22:53:38.927Z"
   },
   {
    "duration": 6,
    "start_time": "2021-07-01T22:53:39.201Z"
   },
   {
    "duration": 9,
    "start_time": "2021-07-01T22:53:39.210Z"
   },
   {
    "duration": 9,
    "start_time": "2021-07-01T22:53:39.221Z"
   },
   {
    "duration": 4,
    "start_time": "2021-07-01T22:53:39.233Z"
   },
   {
    "duration": 4,
    "start_time": "2021-07-01T22:53:39.286Z"
   },
   {
    "duration": 459879,
    "start_time": "2021-07-01T22:53:39.293Z"
   },
   {
    "duration": 5,
    "start_time": "2021-07-01T23:05:44.337Z"
   },
   {
    "duration": 4,
    "start_time": "2021-07-01T23:06:33.933Z"
   },
   {
    "duration": 15458,
    "start_time": "2021-07-01T23:07:09.279Z"
   },
   {
    "duration": 5385,
    "start_time": "2021-07-01T23:07:46.184Z"
   },
   {
    "duration": 6,
    "start_time": "2021-07-01T23:08:14.665Z"
   },
   {
    "duration": 4,
    "start_time": "2021-07-01T23:08:59.482Z"
   },
   {
    "duration": 1109,
    "start_time": "2021-07-02T08:29:39.219Z"
   },
   {
    "duration": 751,
    "start_time": "2021-07-02T08:29:40.330Z"
   },
   {
    "duration": 116,
    "start_time": "2021-07-02T08:29:41.085Z"
   },
   {
    "duration": 120,
    "start_time": "2021-07-02T08:29:41.203Z"
   },
   {
    "duration": 397,
    "start_time": "2021-07-02T08:29:41.324Z"
   },
   {
    "duration": 403,
    "start_time": "2021-07-02T08:29:41.722Z"
   },
   {
    "duration": 501,
    "start_time": "2021-07-02T08:29:42.127Z"
   },
   {
    "duration": 409,
    "start_time": "2021-07-02T08:29:42.630Z"
   },
   {
    "duration": 47,
    "start_time": "2021-07-02T08:29:43.042Z"
   },
   {
    "duration": 442,
    "start_time": "2021-07-02T08:29:43.091Z"
   },
   {
    "duration": 71,
    "start_time": "2021-07-02T08:29:43.535Z"
   },
   {
    "duration": 81,
    "start_time": "2021-07-02T08:29:43.608Z"
   },
   {
    "duration": 4,
    "start_time": "2021-07-02T08:29:43.690Z"
   },
   {
    "duration": 6,
    "start_time": "2021-07-02T08:29:43.696Z"
   },
   {
    "duration": 13041,
    "start_time": "2021-07-02T08:29:43.703Z"
   },
   {
    "duration": 22,
    "start_time": "2021-07-02T08:29:56.745Z"
   },
   {
    "duration": 65,
    "start_time": "2021-07-02T08:29:56.769Z"
   },
   {
    "duration": 5,
    "start_time": "2021-07-02T08:29:56.836Z"
   },
   {
    "duration": 67,
    "start_time": "2021-07-02T08:29:56.843Z"
   },
   {
    "duration": 74,
    "start_time": "2021-07-02T08:29:56.912Z"
   },
   {
    "duration": 3,
    "start_time": "2021-07-02T08:29:56.987Z"
   },
   {
    "duration": 2929,
    "start_time": "2021-07-02T08:29:56.991Z"
   },
   {
    "duration": 4,
    "start_time": "2021-07-02T08:29:59.924Z"
   },
   {
    "duration": 14,
    "start_time": "2021-07-02T08:29:59.930Z"
   },
   {
    "duration": 963,
    "start_time": "2021-07-02T08:29:59.946Z"
   },
   {
    "duration": 118,
    "start_time": "2021-07-02T08:30:00.910Z"
   },
   {
    "duration": 915,
    "start_time": "2021-07-02T08:30:01.030Z"
   },
   {
    "duration": 481,
    "start_time": "2021-07-02T08:30:01.946Z"
   },
   {
    "duration": 645,
    "start_time": "2021-07-02T08:30:02.428Z"
   },
   {
    "duration": 4,
    "start_time": "2021-07-02T08:30:03.074Z"
   },
   {
    "duration": 7,
    "start_time": "2021-07-02T08:30:03.079Z"
   },
   {
    "duration": 68,
    "start_time": "2021-07-02T08:30:03.088Z"
   },
   {
    "duration": 2,
    "start_time": "2021-07-02T08:30:03.158Z"
   },
   {
    "duration": 23,
    "start_time": "2021-07-02T08:30:03.162Z"
   },
   {
    "duration": 6,
    "start_time": "2021-07-02T08:30:03.186Z"
   },
   {
    "duration": 4,
    "start_time": "2021-07-02T08:30:03.194Z"
   },
   {
    "duration": 14696,
    "start_time": "2021-07-02T08:30:03.200Z"
   },
   {
    "duration": 186,
    "start_time": "2021-07-02T08:30:17.898Z"
   },
   {
    "duration": 98,
    "start_time": "2021-07-02T08:30:18.088Z"
   },
   {
    "duration": 3,
    "start_time": "2021-07-02T08:30:18.188Z"
   },
   {
    "duration": 6,
    "start_time": "2021-07-02T08:30:18.192Z"
   },
   {
    "duration": 4,
    "start_time": "2021-07-02T08:30:18.199Z"
   },
   {
    "duration": 6,
    "start_time": "2021-07-02T08:30:18.205Z"
   },
   {
    "duration": 399920,
    "start_time": "2021-07-02T08:30:18.213Z"
   },
   {
    "duration": 3,
    "start_time": "2021-07-02T08:36:58.134Z"
   },
   {
    "duration": 6,
    "start_time": "2021-07-02T08:36:58.138Z"
   },
   {
    "duration": 19003,
    "start_time": "2021-07-02T08:36:58.146Z"
   },
   {
    "duration": 133,
    "start_time": "2021-07-02T08:37:17.151Z"
   },
   {
    "duration": 97,
    "start_time": "2021-07-02T08:37:17.288Z"
   },
   {
    "duration": 3,
    "start_time": "2021-07-02T08:37:17.387Z"
   },
   {
    "duration": 6,
    "start_time": "2021-07-02T08:37:17.391Z"
   },
   {
    "duration": 6,
    "start_time": "2021-07-02T08:37:17.399Z"
   },
   {
    "duration": 8,
    "start_time": "2021-07-02T08:37:17.407Z"
   },
   {
    "duration": 7,
    "start_time": "2021-07-02T08:37:17.417Z"
   },
   {
    "duration": 17,
    "start_time": "2021-07-02T08:37:17.425Z"
   },
   {
    "duration": 19,
    "start_time": "2021-07-02T08:37:17.443Z"
   },
   {
    "duration": 318130,
    "start_time": "2021-07-02T08:37:17.463Z"
   },
   {
    "duration": 837,
    "start_time": "2021-07-02T08:42:35.594Z"
   },
   {
    "duration": 5,
    "start_time": "2021-07-02T08:42:36.432Z"
   },
   {
    "duration": 3,
    "start_time": "2021-07-02T08:42:36.438Z"
   },
   {
    "duration": 5,
    "start_time": "2021-07-02T08:42:36.443Z"
   },
   {
    "duration": 4,
    "start_time": "2021-07-02T08:42:36.450Z"
   },
   {
    "duration": 4,
    "start_time": "2021-07-02T08:42:36.455Z"
   },
   {
    "duration": 24,
    "start_time": "2021-07-02T08:42:36.461Z"
   },
   {
    "duration": 7,
    "start_time": "2021-07-02T08:42:36.486Z"
   },
   {
    "duration": 80486,
    "start_time": "2021-07-02T08:42:36.494Z"
   },
   {
    "duration": 110,
    "start_time": "2021-07-02T08:43:56.981Z"
   },
   {
    "duration": 4,
    "start_time": "2021-07-02T08:43:57.096Z"
   },
   {
    "duration": 5,
    "start_time": "2021-07-02T08:43:57.102Z"
   },
   {
    "duration": 10,
    "start_time": "2021-07-02T08:43:57.108Z"
   },
   {
    "duration": 7,
    "start_time": "2021-07-02T08:43:57.119Z"
   },
   {
    "duration": 5,
    "start_time": "2021-07-02T08:43:57.127Z"
   },
   {
    "duration": 288286,
    "start_time": "2021-07-02T08:43:57.133Z"
   },
   {
    "duration": 4,
    "start_time": "2021-07-02T08:48:45.420Z"
   },
   {
    "duration": 7,
    "start_time": "2021-07-02T08:48:45.425Z"
   },
   {
    "duration": 10451,
    "start_time": "2021-07-02T08:48:45.433Z"
   },
   {
    "duration": 4473,
    "start_time": "2021-07-02T08:48:55.886Z"
   },
   {
    "duration": 4,
    "start_time": "2021-07-02T08:49:00.361Z"
   },
   {
    "duration": 9,
    "start_time": "2021-07-02T08:49:00.367Z"
   },
   {
    "duration": 57,
    "start_time": "2021-07-02T09:06:27.037Z"
   },
   {
    "duration": 4,
    "start_time": "2021-07-02T09:06:31.757Z"
   },
   {
    "duration": 9,
    "start_time": "2021-07-02T09:06:52.642Z"
   },
   {
    "duration": 6,
    "start_time": "2021-07-02T09:45:06.125Z"
   },
   {
    "duration": 3138,
    "start_time": "2021-07-02T09:45:09.135Z"
   },
   {
    "duration": 4,
    "start_time": "2021-07-02T09:46:38.581Z"
   },
   {
    "duration": 4,
    "start_time": "2021-07-02T09:46:48.257Z"
   },
   {
    "duration": 2887,
    "start_time": "2021-07-02T09:46:50.933Z"
   },
   {
    "duration": 1150,
    "start_time": "2021-07-02T09:47:12.844Z"
   },
   {
    "duration": 808,
    "start_time": "2021-07-02T09:47:13.996Z"
   },
   {
    "duration": 123,
    "start_time": "2021-07-02T09:47:14.806Z"
   },
   {
    "duration": 133,
    "start_time": "2021-07-02T09:47:14.932Z"
   },
   {
    "duration": 427,
    "start_time": "2021-07-02T09:47:15.067Z"
   },
   {
    "duration": 410,
    "start_time": "2021-07-02T09:47:15.496Z"
   },
   {
    "duration": 526,
    "start_time": "2021-07-02T09:47:15.908Z"
   },
   {
    "duration": 401,
    "start_time": "2021-07-02T09:47:16.436Z"
   },
   {
    "duration": 46,
    "start_time": "2021-07-02T09:47:16.839Z"
   },
   {
    "duration": 463,
    "start_time": "2021-07-02T09:47:16.886Z"
   },
   {
    "duration": 72,
    "start_time": "2021-07-02T09:47:17.351Z"
   },
   {
    "duration": 87,
    "start_time": "2021-07-02T09:47:17.424Z"
   },
   {
    "duration": 4,
    "start_time": "2021-07-02T09:47:17.512Z"
   },
   {
    "duration": 6,
    "start_time": "2021-07-02T09:47:17.518Z"
   },
   {
    "duration": 13706,
    "start_time": "2021-07-02T09:47:17.525Z"
   },
   {
    "duration": 23,
    "start_time": "2021-07-02T09:47:31.233Z"
   },
   {
    "duration": 78,
    "start_time": "2021-07-02T09:47:31.258Z"
   },
   {
    "duration": 6,
    "start_time": "2021-07-02T09:47:31.338Z"
   },
   {
    "duration": 62,
    "start_time": "2021-07-02T09:47:31.345Z"
   },
   {
    "duration": 77,
    "start_time": "2021-07-02T09:47:31.409Z"
   },
   {
    "duration": 14,
    "start_time": "2021-07-02T09:47:31.487Z"
   },
   {
    "duration": 3018,
    "start_time": "2021-07-02T09:47:31.503Z"
   },
   {
    "duration": 4,
    "start_time": "2021-07-02T09:47:34.525Z"
   },
   {
    "duration": 16,
    "start_time": "2021-07-02T09:47:34.532Z"
   },
   {
    "duration": 963,
    "start_time": "2021-07-02T09:47:34.550Z"
   },
   {
    "duration": 127,
    "start_time": "2021-07-02T09:47:35.514Z"
   },
   {
    "duration": 943,
    "start_time": "2021-07-02T09:47:35.642Z"
   },
   {
    "duration": 516,
    "start_time": "2021-07-02T09:47:36.587Z"
   },
   {
    "duration": 639,
    "start_time": "2021-07-02T09:47:37.105Z"
   },
   {
    "duration": 3,
    "start_time": "2021-07-02T09:47:37.746Z"
   },
   {
    "duration": 7,
    "start_time": "2021-07-02T09:47:37.751Z"
   },
   {
    "duration": 82,
    "start_time": "2021-07-02T09:47:37.760Z"
   },
   {
    "duration": 4,
    "start_time": "2021-07-02T09:47:37.844Z"
   },
   {
    "duration": 5,
    "start_time": "2021-07-02T09:47:37.850Z"
   },
   {
    "duration": 4,
    "start_time": "2021-07-02T09:47:37.857Z"
   },
   {
    "duration": 22,
    "start_time": "2021-07-02T09:47:37.863Z"
   },
   {
    "duration": 18004,
    "start_time": "2021-07-02T09:47:37.887Z"
   },
   {
    "duration": 196,
    "start_time": "2021-07-02T09:47:55.893Z"
   },
   {
    "duration": 96,
    "start_time": "2021-07-02T09:47:56.091Z"
   },
   {
    "duration": 24,
    "start_time": "2021-07-02T09:47:56.189Z"
   },
   {
    "duration": 16,
    "start_time": "2021-07-02T09:47:56.215Z"
   },
   {
    "duration": 8,
    "start_time": "2021-07-02T09:47:56.233Z"
   },
   {
    "duration": 24,
    "start_time": "2021-07-02T09:47:56.286Z"
   },
   {
    "duration": 413357,
    "start_time": "2021-07-02T09:47:56.311Z"
   },
   {
    "duration": 4,
    "start_time": "2021-07-02T09:54:49.670Z"
   },
   {
    "duration": 12,
    "start_time": "2021-07-02T09:54:49.675Z"
   },
   {
    "duration": 19382,
    "start_time": "2021-07-02T09:54:49.688Z"
   },
   {
    "duration": 115,
    "start_time": "2021-07-02T09:55:09.071Z"
   },
   {
    "duration": 6,
    "start_time": "2021-07-02T09:55:09.188Z"
   },
   {
    "duration": 92,
    "start_time": "2021-07-02T09:55:09.197Z"
   },
   {
    "duration": 7,
    "start_time": "2021-07-02T09:55:09.291Z"
   },
   {
    "duration": 4,
    "start_time": "2021-07-02T09:55:09.300Z"
   },
   {
    "duration": 5,
    "start_time": "2021-07-02T09:55:09.306Z"
   },
   {
    "duration": 6,
    "start_time": "2021-07-02T09:55:09.312Z"
   },
   {
    "duration": 4,
    "start_time": "2021-07-02T09:55:09.319Z"
   },
   {
    "duration": 4,
    "start_time": "2021-07-02T09:55:09.325Z"
   },
   {
    "duration": 325596,
    "start_time": "2021-07-02T09:55:09.331Z"
   },
   {
    "duration": 868,
    "start_time": "2021-07-02T10:00:34.929Z"
   },
   {
    "duration": 4,
    "start_time": "2021-07-02T10:00:35.799Z"
   },
   {
    "duration": 7,
    "start_time": "2021-07-02T10:00:35.805Z"
   },
   {
    "duration": 8,
    "start_time": "2021-07-02T10:00:35.814Z"
   },
   {
    "duration": 5,
    "start_time": "2021-07-02T10:00:35.824Z"
   },
   {
    "duration": 7,
    "start_time": "2021-07-02T10:00:35.831Z"
   },
   {
    "duration": 7,
    "start_time": "2021-07-02T10:00:35.839Z"
   },
   {
    "duration": 5,
    "start_time": "2021-07-02T10:00:35.848Z"
   },
   {
    "duration": 86754,
    "start_time": "2021-07-02T10:00:35.855Z"
   },
   {
    "duration": 88,
    "start_time": "2021-07-02T10:02:02.611Z"
   },
   {
    "duration": 5,
    "start_time": "2021-07-02T10:02:02.704Z"
   },
   {
    "duration": 9,
    "start_time": "2021-07-02T10:02:02.711Z"
   },
   {
    "duration": 6,
    "start_time": "2021-07-02T10:02:02.722Z"
   },
   {
    "duration": 54,
    "start_time": "2021-07-02T10:02:02.730Z"
   },
   {
    "duration": 10,
    "start_time": "2021-07-02T10:02:02.787Z"
   },
   {
    "duration": 299920,
    "start_time": "2021-07-02T10:02:02.799Z"
   },
   {
    "duration": 3,
    "start_time": "2021-07-02T10:07:02.721Z"
   },
   {
    "duration": 6,
    "start_time": "2021-07-02T10:07:02.726Z"
   },
   {
    "duration": 11088,
    "start_time": "2021-07-02T10:07:02.734Z"
   },
   {
    "duration": 4704,
    "start_time": "2021-07-02T10:07:13.824Z"
   },
   {
    "duration": 5,
    "start_time": "2021-07-02T10:07:18.530Z"
   },
   {
    "duration": 13,
    "start_time": "2021-07-02T10:07:18.537Z"
   },
   {
    "duration": 12,
    "start_time": "2021-07-02T10:32:35.527Z"
   },
   {
    "duration": 11,
    "start_time": "2021-07-02T10:35:51.167Z"
   },
   {
    "duration": 861,
    "start_time": "2021-07-02T10:36:56.225Z"
   },
   {
    "duration": 48,
    "start_time": "2021-07-02T10:38:28.541Z"
   },
   {
    "duration": 12,
    "start_time": "2021-07-02T10:39:02.531Z"
   },
   {
    "duration": 4658,
    "start_time": "2021-07-02T10:40:02.066Z"
   },
   {
    "duration": 12,
    "start_time": "2021-07-02T10:40:23.351Z"
   },
   {
    "duration": 1149,
    "start_time": "2021-07-02T10:50:45.198Z"
   },
   {
    "duration": 781,
    "start_time": "2021-07-02T10:50:46.348Z"
   },
   {
    "duration": 122,
    "start_time": "2021-07-02T10:50:47.131Z"
   },
   {
    "duration": 122,
    "start_time": "2021-07-02T10:50:47.254Z"
   },
   {
    "duration": 419,
    "start_time": "2021-07-02T10:50:47.377Z"
   },
   {
    "duration": 424,
    "start_time": "2021-07-02T10:50:47.798Z"
   },
   {
    "duration": 516,
    "start_time": "2021-07-02T10:50:48.224Z"
   },
   {
    "duration": 408,
    "start_time": "2021-07-02T10:50:48.743Z"
   },
   {
    "duration": 45,
    "start_time": "2021-07-02T10:50:49.153Z"
   },
   {
    "duration": 450,
    "start_time": "2021-07-02T10:50:49.200Z"
   },
   {
    "duration": 78,
    "start_time": "2021-07-02T10:50:49.653Z"
   },
   {
    "duration": 77,
    "start_time": "2021-07-02T10:50:49.733Z"
   },
   {
    "duration": 4,
    "start_time": "2021-07-02T10:50:49.812Z"
   },
   {
    "duration": 6,
    "start_time": "2021-07-02T10:50:49.818Z"
   },
   {
    "duration": 13201,
    "start_time": "2021-07-02T10:50:49.825Z"
   },
   {
    "duration": 25,
    "start_time": "2021-07-02T10:51:03.028Z"
   },
   {
    "duration": 81,
    "start_time": "2021-07-02T10:51:03.055Z"
   },
   {
    "duration": 6,
    "start_time": "2021-07-02T10:51:03.137Z"
   },
   {
    "duration": 53,
    "start_time": "2021-07-02T10:51:03.145Z"
   },
   {
    "duration": 70,
    "start_time": "2021-07-02T10:51:03.200Z"
   },
   {
    "duration": 15,
    "start_time": "2021-07-02T10:51:03.271Z"
   },
   {
    "duration": 2944,
    "start_time": "2021-07-02T10:51:03.287Z"
   },
   {
    "duration": 4,
    "start_time": "2021-07-02T10:51:06.235Z"
   },
   {
    "duration": 13,
    "start_time": "2021-07-02T10:51:06.241Z"
   },
   {
    "duration": 944,
    "start_time": "2021-07-02T10:51:06.256Z"
   },
   {
    "duration": 118,
    "start_time": "2021-07-02T10:51:07.202Z"
   },
   {
    "duration": 929,
    "start_time": "2021-07-02T10:51:07.322Z"
   },
   {
    "duration": 506,
    "start_time": "2021-07-02T10:51:08.253Z"
   },
   {
    "duration": 643,
    "start_time": "2021-07-02T10:51:08.760Z"
   },
   {
    "duration": 4,
    "start_time": "2021-07-02T10:51:09.404Z"
   },
   {
    "duration": 8,
    "start_time": "2021-07-02T10:51:09.410Z"
   },
   {
    "duration": 83,
    "start_time": "2021-07-02T10:51:09.420Z"
   },
   {
    "duration": 3,
    "start_time": "2021-07-02T10:51:09.505Z"
   },
   {
    "duration": 9,
    "start_time": "2021-07-02T10:51:09.510Z"
   },
   {
    "duration": 8,
    "start_time": "2021-07-02T10:51:09.521Z"
   },
   {
    "duration": 11,
    "start_time": "2021-07-02T10:51:09.531Z"
   },
   {
    "duration": 19460,
    "start_time": "2021-07-02T10:51:09.543Z"
   },
   {
    "duration": 190,
    "start_time": "2021-07-02T10:51:29.005Z"
   },
   {
    "duration": 11,
    "start_time": "2021-07-02T10:51:29.285Z"
   },
   {
    "duration": 8,
    "start_time": "2021-07-02T10:51:29.298Z"
   },
   {
    "duration": 82,
    "start_time": "2021-07-02T10:51:29.308Z"
   },
   {
    "duration": 3,
    "start_time": "2021-07-02T10:51:29.398Z"
   },
   {
    "duration": 5,
    "start_time": "2021-07-02T10:51:29.403Z"
   },
   {
    "duration": 444124,
    "start_time": "2021-07-02T10:51:29.410Z"
   },
   {
    "duration": 4,
    "start_time": "2021-07-02T10:58:53.536Z"
   },
   {
    "duration": 5,
    "start_time": "2021-07-02T10:58:53.542Z"
   },
   {
    "duration": 21547,
    "start_time": "2021-07-02T10:58:53.549Z"
   },
   {
    "duration": 97,
    "start_time": "2021-07-02T10:59:15.098Z"
   },
   {
    "duration": 7,
    "start_time": "2021-07-02T10:59:15.197Z"
   },
   {
    "duration": 7,
    "start_time": "2021-07-02T10:59:15.290Z"
   },
   {
    "duration": 7,
    "start_time": "2021-07-02T10:59:15.300Z"
   },
   {
    "duration": 3,
    "start_time": "2021-07-02T10:59:15.309Z"
   },
   {
    "duration": 4,
    "start_time": "2021-07-02T10:59:15.314Z"
   },
   {
    "duration": 3,
    "start_time": "2021-07-02T10:59:15.385Z"
   },
   {
    "duration": 11,
    "start_time": "2021-07-02T10:59:15.390Z"
   },
   {
    "duration": 5,
    "start_time": "2021-07-02T10:59:15.403Z"
   },
   {
    "duration": 357658,
    "start_time": "2021-07-02T10:59:15.410Z"
   },
   {
    "duration": 925,
    "start_time": "2021-07-02T11:05:13.069Z"
   },
   {
    "duration": 5,
    "start_time": "2021-07-02T11:05:13.996Z"
   },
   {
    "duration": 4,
    "start_time": "2021-07-02T11:05:14.004Z"
   },
   {
    "duration": 5,
    "start_time": "2021-07-02T11:05:14.010Z"
   },
   {
    "duration": 4,
    "start_time": "2021-07-02T11:05:14.017Z"
   },
   {
    "duration": 5,
    "start_time": "2021-07-02T11:05:14.023Z"
   },
   {
    "duration": 5,
    "start_time": "2021-07-02T11:05:14.030Z"
   },
   {
    "duration": 4,
    "start_time": "2021-07-02T11:05:14.037Z"
   },
   {
    "duration": 89983,
    "start_time": "2021-07-02T11:05:14.043Z"
   },
   {
    "duration": 79,
    "start_time": "2021-07-02T11:06:44.028Z"
   },
   {
    "duration": 4,
    "start_time": "2021-07-02T11:06:44.111Z"
   },
   {
    "duration": 3,
    "start_time": "2021-07-02T11:06:44.117Z"
   },
   {
    "duration": 65,
    "start_time": "2021-07-02T11:06:44.122Z"
   },
   {
    "duration": 3,
    "start_time": "2021-07-02T11:06:44.190Z"
   },
   {
    "duration": 7,
    "start_time": "2021-07-02T11:06:44.195Z"
   },
   {
    "duration": 318000,
    "start_time": "2021-07-02T11:06:44.204Z"
   },
   {
    "duration": 5,
    "start_time": "2021-07-02T11:12:02.206Z"
   },
   {
    "duration": 8,
    "start_time": "2021-07-02T11:12:02.213Z"
   },
   {
    "duration": 12109,
    "start_time": "2021-07-02T11:12:02.222Z"
   },
   {
    "duration": 5435,
    "start_time": "2021-07-02T11:12:14.332Z"
   },
   {
    "duration": 5,
    "start_time": "2021-07-02T11:12:19.769Z"
   },
   {
    "duration": 22,
    "start_time": "2021-07-02T11:12:19.775Z"
   },
   {
    "duration": 7,
    "start_time": "2021-07-02T15:08:42.838Z"
   }
  ],
  "kernelspec": {
   "display_name": "Python 3",
   "language": "python",
   "name": "python3"
  },
  "language_info": {
   "codemirror_mode": {
    "name": "ipython",
    "version": 3
   },
   "file_extension": ".py",
   "mimetype": "text/x-python",
   "name": "python",
   "nbconvert_exporter": "python",
   "pygments_lexer": "ipython3",
   "version": "3.8.8"
  },
  "toc": {
   "base_numbering": 1,
   "nav_menu": {},
   "number_sections": true,
   "sideBar": true,
   "skip_h1_title": true,
   "title_cell": "Table of Contents",
   "title_sidebar": "Contents",
   "toc_cell": true,
   "toc_position": {},
   "toc_section_display": true,
   "toc_window_display": true
  }
 },
 "nbformat": 4,
 "nbformat_minor": 2
}
